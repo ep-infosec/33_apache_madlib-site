{
 "cells": [
  {
   "cell_type": "markdown",
   "metadata": {},
   "source": [
    "# k-Nearest Neighbors\n",
    "Finds k nearest data points to a given data point and outputs majority vote value of output classes in case of classification, and average value of target values in case of regression. KNN was first added in MADlib 1.10 with multiple updates in subsequent releases."
   ]
  },
  {
   "cell_type": "code",
   "execution_count": 1,
   "metadata": {},
   "outputs": [
    {
     "name": "stderr",
     "output_type": "stream",
     "text": [
      "/Users/fmcquillan/anaconda/lib/python2.7/site-packages/IPython/config.py:13: ShimWarning: The `IPython.config` package has been deprecated since IPython 4.0. You should import from traitlets.config instead.\n",
      "  \"You should import from traitlets.config instead.\", ShimWarning)\n",
      "/Users/fmcquillan/anaconda/lib/python2.7/site-packages/IPython/utils/traitlets.py:5: UserWarning: IPython.utils.traitlets has moved to a top-level traitlets package.\n",
      "  warn(\"IPython.utils.traitlets has moved to a top-level traitlets package.\")\n"
     ]
    }
   ],
   "source": [
    "%load_ext sql"
   ]
  },
  {
   "cell_type": "code",
   "execution_count": 2,
   "metadata": {},
   "outputs": [
    {
     "data": {
      "text/plain": [
       "u'Connected: gpadmin@madlib'"
      ]
     },
     "execution_count": 2,
     "metadata": {},
     "output_type": "execute_result"
    }
   ],
   "source": [
    "# Greenplum Database 5.x on GCP (PM demo machine) - direct external IP access\n",
    "#%sql postgresql://gpadmin@34.67.65.96:5432/madlib\n",
    "\n",
    "# Greenplum Database 5.x on GCP (PM demo machine) - via tunnel\n",
    "%sql postgresql://gpadmin@localhost:8000/madlib\n",
    "        \n",
    "# PostgreSQL local\n",
    "#%sql postgresql://fmcquillan@localhost:5432/madlib"
   ]
  },
  {
   "cell_type": "code",
   "execution_count": 3,
   "metadata": {},
   "outputs": [
    {
     "name": "stdout",
     "output_type": "stream",
     "text": [
      "1 rows affected.\n"
     ]
    },
    {
     "data": {
      "text/html": [
       "<table>\n",
       "    <tr>\n",
       "        <th>version</th>\n",
       "    </tr>\n",
       "    <tr>\n",
       "        <td>MADlib version: 1.17-dev, git revision: rel/v1.16-54-gec5614f, cmake configuration time: Wed Dec 18 17:08:05 UTC 2019, build type: release, build system: Linux-3.10.0-1062.4.3.el7.x86_64, C compiler: gcc 4.8.5, C++ compiler: g++ 4.8.5</td>\n",
       "    </tr>\n",
       "</table>"
      ],
      "text/plain": [
       "[(u'MADlib version: 1.17-dev, git revision: rel/v1.16-54-gec5614f, cmake configuration time: Wed Dec 18 17:08:05 UTC 2019, build type: release, build system: Linux-3.10.0-1062.4.3.el7.x86_64, C compiler: gcc 4.8.5, C++ compiler: g++ 4.8.5',)]"
      ]
     },
     "execution_count": 3,
     "metadata": {},
     "output_type": "execute_result"
    }
   ],
   "source": [
    "%sql select madlib.version();\n",
    "#%sql select version();"
   ]
  },
  {
   "cell_type": "markdown",
   "metadata": {},
   "source": [
    "# 1.  Load data for classification"
   ]
  },
  {
   "cell_type": "code",
   "execution_count": 4,
   "metadata": {},
   "outputs": [
    {
     "name": "stdout",
     "output_type": "stream",
     "text": [
      "Done.\n",
      "Done.\n",
      "9 rows affected.\n",
      "9 rows affected.\n"
     ]
    },
    {
     "data": {
      "text/html": [
       "<table>\n",
       "    <tr>\n",
       "        <th>id</th>\n",
       "        <th>data</th>\n",
       "        <th>label</th>\n",
       "    </tr>\n",
       "    <tr>\n",
       "        <td>1</td>\n",
       "        <td>[1, 1]</td>\n",
       "        <td>1</td>\n",
       "    </tr>\n",
       "    <tr>\n",
       "        <td>2</td>\n",
       "        <td>[2, 2]</td>\n",
       "        <td>1</td>\n",
       "    </tr>\n",
       "    <tr>\n",
       "        <td>3</td>\n",
       "        <td>[3, 3]</td>\n",
       "        <td>1</td>\n",
       "    </tr>\n",
       "    <tr>\n",
       "        <td>4</td>\n",
       "        <td>[4, 4]</td>\n",
       "        <td>1</td>\n",
       "    </tr>\n",
       "    <tr>\n",
       "        <td>5</td>\n",
       "        <td>[4, 5]</td>\n",
       "        <td>1</td>\n",
       "    </tr>\n",
       "    <tr>\n",
       "        <td>6</td>\n",
       "        <td>[20, 50]</td>\n",
       "        <td>0</td>\n",
       "    </tr>\n",
       "    <tr>\n",
       "        <td>7</td>\n",
       "        <td>[10, 31]</td>\n",
       "        <td>0</td>\n",
       "    </tr>\n",
       "    <tr>\n",
       "        <td>8</td>\n",
       "        <td>[81, 13]</td>\n",
       "        <td>0</td>\n",
       "    </tr>\n",
       "    <tr>\n",
       "        <td>9</td>\n",
       "        <td>[1, 111]</td>\n",
       "        <td>0</td>\n",
       "    </tr>\n",
       "</table>"
      ],
      "text/plain": [
       "[(1, [1, 1], 1),\n",
       " (2, [2, 2], 1),\n",
       " (3, [3, 3], 1),\n",
       " (4, [4, 4], 1),\n",
       " (5, [4, 5], 1),\n",
       " (6, [20, 50], 0),\n",
       " (7, [10, 31], 0),\n",
       " (8, [81, 13], 0),\n",
       " (9, [1, 111], 0)]"
      ]
     },
     "execution_count": 4,
     "metadata": {},
     "output_type": "execute_result"
    }
   ],
   "source": [
    "%%sql \n",
    "DROP TABLE IF EXISTS knn_train_data;\n",
    "\n",
    "CREATE TABLE knn_train_data (\n",
    "                    id integer, \n",
    "                    data integer[], \n",
    "                    label integer  -- Integer label means for classification\n",
    "                    );\n",
    "\n",
    "INSERT INTO knn_train_data VALUES\n",
    "(1, '{1,1}', 1),\n",
    "(2, '{2,2}', 1),\n",
    "(3, '{3,3}', 1),\n",
    "(4, '{4,4}', 1),\n",
    "(5, '{4,5}', 1),\n",
    "(6, '{20,50}', 0),\n",
    "(7, '{10,31}', 0),\n",
    "(8, '{81,13}', 0),\n",
    "(9, '{1,111}', 0);\n",
    "\n",
    "SELECT * FROM knn_train_data ORDER BY id;"
   ]
  },
  {
   "cell_type": "markdown",
   "metadata": {},
   "source": [
    "# 2. Load data for regression"
   ]
  },
  {
   "cell_type": "code",
   "execution_count": 5,
   "metadata": {},
   "outputs": [
    {
     "name": "stdout",
     "output_type": "stream",
     "text": [
      "Done.\n",
      "Done.\n",
      "9 rows affected.\n",
      "9 rows affected.\n"
     ]
    },
    {
     "data": {
      "text/html": [
       "<table>\n",
       "    <tr>\n",
       "        <th>id</th>\n",
       "        <th>data</th>\n",
       "        <th>label</th>\n",
       "    </tr>\n",
       "    <tr>\n",
       "        <td>1</td>\n",
       "        <td>[1, 1]</td>\n",
       "        <td>1.0</td>\n",
       "    </tr>\n",
       "    <tr>\n",
       "        <td>2</td>\n",
       "        <td>[2, 2]</td>\n",
       "        <td>1.0</td>\n",
       "    </tr>\n",
       "    <tr>\n",
       "        <td>3</td>\n",
       "        <td>[3, 3]</td>\n",
       "        <td>1.0</td>\n",
       "    </tr>\n",
       "    <tr>\n",
       "        <td>4</td>\n",
       "        <td>[4, 4]</td>\n",
       "        <td>1.0</td>\n",
       "    </tr>\n",
       "    <tr>\n",
       "        <td>5</td>\n",
       "        <td>[4, 5]</td>\n",
       "        <td>1.0</td>\n",
       "    </tr>\n",
       "    <tr>\n",
       "        <td>6</td>\n",
       "        <td>[20, 50]</td>\n",
       "        <td>0.0</td>\n",
       "    </tr>\n",
       "    <tr>\n",
       "        <td>7</td>\n",
       "        <td>[10, 31]</td>\n",
       "        <td>0.0</td>\n",
       "    </tr>\n",
       "    <tr>\n",
       "        <td>8</td>\n",
       "        <td>[81, 13]</td>\n",
       "        <td>0.0</td>\n",
       "    </tr>\n",
       "    <tr>\n",
       "        <td>9</td>\n",
       "        <td>[1, 111]</td>\n",
       "        <td>0.0</td>\n",
       "    </tr>\n",
       "</table>"
      ],
      "text/plain": [
       "[(1, [1, 1], 1.0),\n",
       " (2, [2, 2], 1.0),\n",
       " (3, [3, 3], 1.0),\n",
       " (4, [4, 4], 1.0),\n",
       " (5, [4, 5], 1.0),\n",
       " (6, [20, 50], 0.0),\n",
       " (7, [10, 31], 0.0),\n",
       " (8, [81, 13], 0.0),\n",
       " (9, [1, 111], 0.0)]"
      ]
     },
     "execution_count": 5,
     "metadata": {},
     "output_type": "execute_result"
    }
   ],
   "source": [
    "%%sql\n",
    "DROP TABLE IF EXISTS knn_train_data_reg;\n",
    "\n",
    "CREATE TABLE knn_train_data_reg (\n",
    "                    id integer, \n",
    "                    data integer[], \n",
    "                    label float  -- Float label means for regression\n",
    "                    );\n",
    "\n",
    "INSERT INTO knn_train_data_reg VALUES\n",
    "(1, '{1,1}', 1.0),\n",
    "(2, '{2,2}', 1.0),\n",
    "(3, '{3,3}', 1.0),\n",
    "(4, '{4,4}', 1.0),\n",
    "(5, '{4,5}', 1.0),\n",
    "(6, '{20,50}', 0.0),\n",
    "(7, '{10,31}', 0.0),\n",
    "(8, '{81,13}', 0.0),\n",
    "(9, '{1,111}', 0.0);\n",
    "\n",
    "SELECT * FROM knn_train_data_reg ORDER BY id;"
   ]
  },
  {
   "cell_type": "markdown",
   "metadata": {},
   "source": [
    "# 3. Load testing data"
   ]
  },
  {
   "cell_type": "code",
   "execution_count": 6,
   "metadata": {},
   "outputs": [
    {
     "name": "stdout",
     "output_type": "stream",
     "text": [
      "Done.\n",
      "Done.\n",
      "6 rows affected.\n",
      "6 rows affected.\n"
     ]
    },
    {
     "data": {
      "text/html": [
       "<table>\n",
       "    <tr>\n",
       "        <th>id</th>\n",
       "        <th>data</th>\n",
       "    </tr>\n",
       "    <tr>\n",
       "        <td>1</td>\n",
       "        <td>[2, 1]</td>\n",
       "    </tr>\n",
       "    <tr>\n",
       "        <td>2</td>\n",
       "        <td>[2, 6]</td>\n",
       "    </tr>\n",
       "    <tr>\n",
       "        <td>3</td>\n",
       "        <td>[15, 40]</td>\n",
       "    </tr>\n",
       "    <tr>\n",
       "        <td>4</td>\n",
       "        <td>[12, 1]</td>\n",
       "    </tr>\n",
       "    <tr>\n",
       "        <td>5</td>\n",
       "        <td>[2, 90]</td>\n",
       "    </tr>\n",
       "    <tr>\n",
       "        <td>6</td>\n",
       "        <td>[50, 45]</td>\n",
       "    </tr>\n",
       "</table>"
      ],
      "text/plain": [
       "[(1, [2, 1]),\n",
       " (2, [2, 6]),\n",
       " (3, [15, 40]),\n",
       " (4, [12, 1]),\n",
       " (5, [2, 90]),\n",
       " (6, [50, 45])]"
      ]
     },
     "execution_count": 6,
     "metadata": {},
     "output_type": "execute_result"
    }
   ],
   "source": [
    "%%sql \n",
    "DROP TABLE IF EXISTS knn_test_data;\n",
    "\n",
    "CREATE TABLE knn_test_data (\n",
    "                    id integer, \n",
    "                    data integer[]\n",
    "                    );\n",
    "\n",
    "INSERT INTO knn_test_data VALUES\n",
    "(1, '{2,1}'),\n",
    "(2, '{2,6}'),\n",
    "(3, '{15,40}'),\n",
    "(4, '{12,1}'),\n",
    "(5, '{2,90}'),\n",
    "(6, '{50,45}');\n",
    "\n",
    "SELECT * from knn_test_data ORDER BY id;"
   ]
  },
  {
   "cell_type": "markdown",
   "metadata": {},
   "source": [
    "# 4. Run KNN for classification\n",
    "Note that the nearest neighbors are sorted from closest to furthest from the corresponding test point.  Also note that the distance function is prepended with the schema where MADlib is installed (in this example 'madlib.squared_dist_norm2')."
   ]
  },
  {
   "cell_type": "code",
   "execution_count": 7,
   "metadata": {},
   "outputs": [
    {
     "name": "stdout",
     "output_type": "stream",
     "text": [
      "Done.\n",
      "1 rows affected.\n",
      "6 rows affected.\n"
     ]
    },
    {
     "data": {
      "text/html": [
       "<table>\n",
       "    <tr>\n",
       "        <th>id</th>\n",
       "        <th>data</th>\n",
       "        <th>prediction</th>\n",
       "        <th>k_nearest_neighbours</th>\n",
       "        <th>distance</th>\n",
       "    </tr>\n",
       "    <tr>\n",
       "        <td>1</td>\n",
       "        <td>[2, 1]</td>\n",
       "        <td>1.0</td>\n",
       "        <td>[1, 2, 3]</td>\n",
       "        <td>[1.0, 1.0, 5.0]</td>\n",
       "    </tr>\n",
       "    <tr>\n",
       "        <td>2</td>\n",
       "        <td>[2, 6]</td>\n",
       "        <td>1.0</td>\n",
       "        <td>[5, 4, 3]</td>\n",
       "        <td>[5.0, 8.0, 10.0]</td>\n",
       "    </tr>\n",
       "    <tr>\n",
       "        <td>3</td>\n",
       "        <td>[15, 40]</td>\n",
       "        <td>0.0</td>\n",
       "        <td>[7, 6, 5]</td>\n",
       "        <td>[106.0, 125.0, 1346.0]</td>\n",
       "    </tr>\n",
       "    <tr>\n",
       "        <td>4</td>\n",
       "        <td>[12, 1]</td>\n",
       "        <td>1.0</td>\n",
       "        <td>[4, 5, 3]</td>\n",
       "        <td>[73.0, 80.0, 85.0]</td>\n",
       "    </tr>\n",
       "    <tr>\n",
       "        <td>5</td>\n",
       "        <td>[2, 90]</td>\n",
       "        <td>0.0</td>\n",
       "        <td>[9, 6, 7]</td>\n",
       "        <td>[442.0, 1924.0, 3545.0]</td>\n",
       "    </tr>\n",
       "    <tr>\n",
       "        <td>6</td>\n",
       "        <td>[50, 45]</td>\n",
       "        <td>0.0</td>\n",
       "        <td>[6, 7, 8]</td>\n",
       "        <td>[925.0, 1796.0, 1985.0]</td>\n",
       "    </tr>\n",
       "</table>"
      ],
      "text/plain": [
       "[(1, [2, 1], 1.0, [1, 2, 3], [1.0, 1.0, 5.0]),\n",
       " (2, [2, 6], 1.0, [5, 4, 3], [5.0, 8.0, 10.0]),\n",
       " (3, [15, 40], 0.0, [7, 6, 5], [106.0, 125.0, 1346.0]),\n",
       " (4, [12, 1], 1.0, [4, 5, 3], [73.0, 80.0, 85.0]),\n",
       " (5, [2, 90], 0.0, [9, 6, 7], [442.0, 1924.0, 3545.0]),\n",
       " (6, [50, 45], 0.0, [6, 7, 8], [925.0, 1796.0, 1985.0])]"
      ]
     },
     "execution_count": 7,
     "metadata": {},
     "output_type": "execute_result"
    }
   ],
   "source": [
    "%%sql\n",
    "DROP TABLE IF EXISTS knn_result_classification;\n",
    "\n",
    "SELECT * FROM madlib.knn(\n",
    "                'knn_train_data',      -- Table of training data\n",
    "                'data',                -- Col name of training data\n",
    "                'id',                  -- Col name of id in train data\n",
    "                'label',               -- Training labels\n",
    "                'knn_test_data',       -- Table of test data\n",
    "                'data',                -- Col name of test data\n",
    "                'id',                  -- Col name of id in test data\n",
    "                'knn_result_classification',  -- Output table\n",
    "                 3,                    -- Number of nearest neighbors\n",
    "                 True,                 -- True to list nearest-neighbors by id\n",
    "                 'madlib.squared_dist_norm2' -- Distance function\n",
    "                );\n",
    "\n",
    "SELECT * from knn_result_classification ORDER BY id;"
   ]
  },
  {
   "cell_type": "markdown",
   "metadata": {},
   "source": [
    "# 5. Run KNN for regression"
   ]
  },
  {
   "cell_type": "code",
   "execution_count": 8,
   "metadata": {},
   "outputs": [
    {
     "name": "stdout",
     "output_type": "stream",
     "text": [
      "Done.\n",
      "1 rows affected.\n",
      "6 rows affected.\n"
     ]
    },
    {
     "data": {
      "text/html": [
       "<table>\n",
       "    <tr>\n",
       "        <th>id</th>\n",
       "        <th>data</th>\n",
       "        <th>prediction</th>\n",
       "        <th>k_nearest_neighbours</th>\n",
       "        <th>distance</th>\n",
       "    </tr>\n",
       "    <tr>\n",
       "        <td>1</td>\n",
       "        <td>[2, 1]</td>\n",
       "        <td>1.0</td>\n",
       "        <td>[2, 1, 3]</td>\n",
       "        <td>[1.0, 1.0, 2.23606797749979]</td>\n",
       "    </tr>\n",
       "    <tr>\n",
       "        <td>2</td>\n",
       "        <td>[2, 6]</td>\n",
       "        <td>1.0</td>\n",
       "        <td>[5, 4, 3]</td>\n",
       "        <td>[2.23606797749979, 2.82842712474619, 3.16227766016838]</td>\n",
       "    </tr>\n",
       "    <tr>\n",
       "        <td>3</td>\n",
       "        <td>[15, 40]</td>\n",
       "        <td>0.333333333333</td>\n",
       "        <td>[7, 6, 5]</td>\n",
       "        <td>[10.295630140987, 11.1803398874989, 36.6878726556883]</td>\n",
       "    </tr>\n",
       "    <tr>\n",
       "        <td>4</td>\n",
       "        <td>[12, 1]</td>\n",
       "        <td>1.0</td>\n",
       "        <td>[4, 5, 3]</td>\n",
       "        <td>[8.54400374531753, 8.94427190999916, 9.21954445729289]</td>\n",
       "    </tr>\n",
       "    <tr>\n",
       "        <td>5</td>\n",
       "        <td>[2, 90]</td>\n",
       "        <td>0.0</td>\n",
       "        <td>[9, 6, 7]</td>\n",
       "        <td>[21.0237960416286, 43.8634243989226, 59.5399025864168]</td>\n",
       "    </tr>\n",
       "    <tr>\n",
       "        <td>6</td>\n",
       "        <td>[50, 45]</td>\n",
       "        <td>0.0</td>\n",
       "        <td>[6, 7, 8]</td>\n",
       "        <td>[30.4138126514911, 42.3792402008342, 44.5533388198909]</td>\n",
       "    </tr>\n",
       "</table>"
      ],
      "text/plain": [
       "[(1, [2, 1], 1.0, [2, 1, 3], [1.0, 1.0, 2.23606797749979]),\n",
       " (2, [2, 6], 1.0, [5, 4, 3], [2.23606797749979, 2.82842712474619, 3.16227766016838]),\n",
       " (3, [15, 40], 0.333333333333333, [7, 6, 5], [10.295630140987, 11.1803398874989, 36.6878726556883]),\n",
       " (4, [12, 1], 1.0, [4, 5, 3], [8.54400374531753, 8.94427190999916, 9.21954445729289]),\n",
       " (5, [2, 90], 0.0, [9, 6, 7], [21.0237960416286, 43.8634243989226, 59.5399025864168]),\n",
       " (6, [50, 45], 0.0, [6, 7, 8], [30.4138126514911, 42.3792402008342, 44.5533388198909])]"
      ]
     },
     "execution_count": 8,
     "metadata": {},
     "output_type": "execute_result"
    }
   ],
   "source": [
    "%%sql\n",
    "DROP TABLE IF EXISTS knn_result_regression;\n",
    "\n",
    "SELECT * FROM madlib.knn(\n",
    "                'knn_train_data_reg',  -- Table of training data\n",
    "                'data',                -- Col name of training data\n",
    "                'id',                  -- Col Name of id in train data\n",
    "                'label',               -- Training labels\n",
    "                'knn_test_data',       -- Table of test data\n",
    "                'data',                -- Col name of test data\n",
    "                'id',                  -- Col name of id in test data\n",
    "                'knn_result_regression',  -- Output table\n",
    "                 3,                    -- Number of nearest neighbors\n",
    "                True,                  -- True to list nearest-neighbors by id\n",
    "                'madlib.dist_norm2'    -- Distance function\n",
    "                );\n",
    "\n",
    "SELECT * FROM knn_result_regression ORDER BY id;"
   ]
  },
  {
   "cell_type": "markdown",
   "metadata": {},
   "source": [
    "# 6. List nearest neighbors only\n",
    "(without doing classification or regression).  Note that the nearest neighbors are sorted from closest to furthest from the corresponding test point."
   ]
  },
  {
   "cell_type": "code",
   "execution_count": 9,
   "metadata": {},
   "outputs": [
    {
     "name": "stdout",
     "output_type": "stream",
     "text": [
      "Done.\n",
      "1 rows affected.\n",
      "6 rows affected.\n"
     ]
    },
    {
     "data": {
      "text/html": [
       "<table>\n",
       "    <tr>\n",
       "        <th>id</th>\n",
       "        <th>data</th>\n",
       "        <th>k_nearest_neighbours</th>\n",
       "        <th>distance</th>\n",
       "    </tr>\n",
       "    <tr>\n",
       "        <td>1</td>\n",
       "        <td>[2, 1]</td>\n",
       "        <td>[2, 1, 3]</td>\n",
       "        <td>[1.0, 1.0, 5.0]</td>\n",
       "    </tr>\n",
       "    <tr>\n",
       "        <td>2</td>\n",
       "        <td>[2, 6]</td>\n",
       "        <td>[5, 4, 3]</td>\n",
       "        <td>[5.0, 8.0, 10.0]</td>\n",
       "    </tr>\n",
       "    <tr>\n",
       "        <td>3</td>\n",
       "        <td>[15, 40]</td>\n",
       "        <td>[7, 6, 5]</td>\n",
       "        <td>[106.0, 125.0, 1346.0]</td>\n",
       "    </tr>\n",
       "    <tr>\n",
       "        <td>4</td>\n",
       "        <td>[12, 1]</td>\n",
       "        <td>[4, 5, 3]</td>\n",
       "        <td>[73.0, 80.0, 85.0]</td>\n",
       "    </tr>\n",
       "    <tr>\n",
       "        <td>5</td>\n",
       "        <td>[2, 90]</td>\n",
       "        <td>[9, 6, 7]</td>\n",
       "        <td>[442.0, 1924.0, 3545.0]</td>\n",
       "    </tr>\n",
       "    <tr>\n",
       "        <td>6</td>\n",
       "        <td>[50, 45]</td>\n",
       "        <td>[6, 7, 8]</td>\n",
       "        <td>[925.0, 1796.0, 1985.0]</td>\n",
       "    </tr>\n",
       "</table>"
      ],
      "text/plain": [
       "[(1, [2, 1], [2, 1, 3], [1.0, 1.0, 5.0]),\n",
       " (2, [2, 6], [5, 4, 3], [5.0, 8.0, 10.0]),\n",
       " (3, [15, 40], [7, 6, 5], [106.0, 125.0, 1346.0]),\n",
       " (4, [12, 1], [4, 5, 3], [73.0, 80.0, 85.0]),\n",
       " (5, [2, 90], [9, 6, 7], [442.0, 1924.0, 3545.0]),\n",
       " (6, [50, 45], [6, 7, 8], [925.0, 1796.0, 1985.0])]"
      ]
     },
     "execution_count": 9,
     "metadata": {},
     "output_type": "execute_result"
    }
   ],
   "source": [
    "%%sql\n",
    "DROP TABLE IF EXISTS knn_result_list_neighbors;\n",
    "\n",
    "SELECT * FROM madlib.knn(\n",
    "                'knn_train_data_reg',  -- Table of training data\n",
    "                'data',                -- Col name of training data\n",
    "                'id',                  -- Col Name of id in train data\n",
    "                NULL,                  -- NULL training labels means just list neighbors\n",
    "                'knn_test_data',       -- Table of test data\n",
    "                'data',                -- Col name of test data\n",
    "                'id',                  -- Col name of id in test data\n",
    "                'knn_result_list_neighbors', -- Output table\n",
    "                3                      -- Number of nearest neighbors\n",
    "                );\n",
    "\n",
    "SELECT * FROM knn_result_list_neighbors ORDER BY id;"
   ]
  },
  {
   "cell_type": "markdown",
   "metadata": {},
   "source": [
    "# 7.  Weighted average\n",
    "Run classification using weighted average"
   ]
  },
  {
   "cell_type": "code",
   "execution_count": 10,
   "metadata": {},
   "outputs": [
    {
     "name": "stdout",
     "output_type": "stream",
     "text": [
      "Done.\n",
      "1 rows affected.\n",
      "6 rows affected.\n"
     ]
    },
    {
     "data": {
      "text/html": [
       "<table>\n",
       "    <tr>\n",
       "        <th>id</th>\n",
       "        <th>data</th>\n",
       "        <th>prediction</th>\n",
       "        <th>k_nearest_neighbours</th>\n",
       "        <th>distance</th>\n",
       "    </tr>\n",
       "    <tr>\n",
       "        <td>1</td>\n",
       "        <td>[2, 1]</td>\n",
       "        <td>1</td>\n",
       "        <td>[2, 1, 3]</td>\n",
       "        <td>[1.0, 1.0, 5.0]</td>\n",
       "    </tr>\n",
       "    <tr>\n",
       "        <td>2</td>\n",
       "        <td>[2, 6]</td>\n",
       "        <td>1</td>\n",
       "        <td>[5, 4, 3]</td>\n",
       "        <td>[5.0, 8.0, 10.0]</td>\n",
       "    </tr>\n",
       "    <tr>\n",
       "        <td>3</td>\n",
       "        <td>[15, 40]</td>\n",
       "        <td>0</td>\n",
       "        <td>[7, 6, 5]</td>\n",
       "        <td>[106.0, 125.0, 1346.0]</td>\n",
       "    </tr>\n",
       "    <tr>\n",
       "        <td>4</td>\n",
       "        <td>[12, 1]</td>\n",
       "        <td>1</td>\n",
       "        <td>[4, 5, 3]</td>\n",
       "        <td>[73.0, 80.0, 85.0]</td>\n",
       "    </tr>\n",
       "    <tr>\n",
       "        <td>5</td>\n",
       "        <td>[2, 90]</td>\n",
       "        <td>0</td>\n",
       "        <td>[9, 6, 7]</td>\n",
       "        <td>[442.0, 1924.0, 3545.0]</td>\n",
       "    </tr>\n",
       "    <tr>\n",
       "        <td>6</td>\n",
       "        <td>[50, 45]</td>\n",
       "        <td>0</td>\n",
       "        <td>[6, 7, 8]</td>\n",
       "        <td>[925.0, 1796.0, 1985.0]</td>\n",
       "    </tr>\n",
       "</table>"
      ],
      "text/plain": [
       "[(1, [2, 1], 1, [2, 1, 3], [1.0, 1.0, 5.0]),\n",
       " (2, [2, 6], 1, [5, 4, 3], [5.0, 8.0, 10.0]),\n",
       " (3, [15, 40], 0, [7, 6, 5], [106.0, 125.0, 1346.0]),\n",
       " (4, [12, 1], 1, [4, 5, 3], [73.0, 80.0, 85.0]),\n",
       " (5, [2, 90], 0, [9, 6, 7], [442.0, 1924.0, 3545.0]),\n",
       " (6, [50, 45], 0, [6, 7, 8], [925.0, 1796.0, 1985.0])]"
      ]
     },
     "execution_count": 10,
     "metadata": {},
     "output_type": "execute_result"
    }
   ],
   "source": [
    "%%sql\n",
    "DROP TABLE IF EXISTS knn_result_classification;\n",
    "\n",
    "SELECT * FROM madlib.knn(\n",
    "                'knn_train_data',      -- Table of training data\n",
    "                'data',                -- Col name of training data\n",
    "                'id',                  -- Col name of id in train data\n",
    "                'label',               -- Training labels\n",
    "                'knn_test_data',       -- Table of test data\n",
    "                'data',                -- Col name of test data\n",
    "                'id',                  -- Col name of id in test data\n",
    "                'knn_result_classification',  -- Output table\n",
    "                 3,                    -- Number of nearest neighbors\n",
    "                 True,                 -- True to list nearest-neighbors by id\n",
    "                 'madlib.squared_dist_norm2', -- Distance function\n",
    "                 True                 -- For weighted average\n",
    "                );\n",
    "\n",
    "SELECT * FROM knn_result_classification ORDER BY id;"
   ]
  },
  {
   "cell_type": "markdown",
   "metadata": {},
   "source": [
    "# 8. Use kd-tree algorithm \n",
    "Here we build a kd-tree to depth 4 and search half (8) of the 16 leaf nodes (i.e., 2^4)"
   ]
  },
  {
   "cell_type": "code",
   "execution_count": 11,
   "metadata": {},
   "outputs": [
    {
     "name": "stdout",
     "output_type": "stream",
     "text": [
      "Done.\n",
      "1 rows affected.\n",
      "6 rows affected.\n"
     ]
    },
    {
     "data": {
      "text/html": [
       "<table>\n",
       "    <tr>\n",
       "        <th>id</th>\n",
       "        <th>data</th>\n",
       "        <th>k_nearest_neighbours</th>\n",
       "        <th>distance</th>\n",
       "    </tr>\n",
       "    <tr>\n",
       "        <td>1</td>\n",
       "        <td>[2, 1]</td>\n",
       "        <td>[2, 1, 3]</td>\n",
       "        <td>[1.0, 1.0, 5.0]</td>\n",
       "    </tr>\n",
       "    <tr>\n",
       "        <td>2</td>\n",
       "        <td>[2, 6]</td>\n",
       "        <td>[5, 4, 3]</td>\n",
       "        <td>[5.0, 8.0, 10.0]</td>\n",
       "    </tr>\n",
       "    <tr>\n",
       "        <td>3</td>\n",
       "        <td>[15, 40]</td>\n",
       "        <td>[7, 6, 5]</td>\n",
       "        <td>[106.0, 125.0, 1346.0]</td>\n",
       "    </tr>\n",
       "    <tr>\n",
       "        <td>4</td>\n",
       "        <td>[12, 1]</td>\n",
       "        <td>[4, 5, 3]</td>\n",
       "        <td>[73.0, 80.0, 85.0]</td>\n",
       "    </tr>\n",
       "    <tr>\n",
       "        <td>5</td>\n",
       "        <td>[2, 90]</td>\n",
       "        <td>[9, 6, 7]</td>\n",
       "        <td>[442.0, 1924.0, 3545.0]</td>\n",
       "    </tr>\n",
       "    <tr>\n",
       "        <td>6</td>\n",
       "        <td>[50, 45]</td>\n",
       "        <td>[6, 7, 8]</td>\n",
       "        <td>[925.0, 1796.0, 1985.0]</td>\n",
       "    </tr>\n",
       "</table>"
      ],
      "text/plain": [
       "[(1, [2, 1], [2, 1, 3], [1.0, 1.0, 5.0]),\n",
       " (2, [2, 6], [5, 4, 3], [5.0, 8.0, 10.0]),\n",
       " (3, [15, 40], [7, 6, 5], [106.0, 125.0, 1346.0]),\n",
       " (4, [12, 1], [4, 5, 3], [73.0, 80.0, 85.0]),\n",
       " (5, [2, 90], [9, 6, 7], [442.0, 1924.0, 3545.0]),\n",
       " (6, [50, 45], [6, 7, 8], [925.0, 1796.0, 1985.0])]"
      ]
     },
     "execution_count": 11,
     "metadata": {},
     "output_type": "execute_result"
    }
   ],
   "source": [
    "%%sql\n",
    "DROP TABLE IF EXISTS knn_result_classification_kd;\n",
    "\n",
    "SELECT madlib.knn(\n",
    "                'knn_train_data',        -- Table of training data\n",
    "                'data',                  -- Col name of training data\n",
    "                'id',                    -- Col name of id in train data\n",
    "                NULL,                    -- Training labels\n",
    "                'knn_test_data',         -- Table of test data\n",
    "                'data',                  -- Col name of test data\n",
    "                'id',                    -- Col name of id in test data\n",
    "                'knn_result_classification_kd',  -- Output table\n",
    "                 3,                      -- Number of nearest neighbors\n",
    "                 True,                   -- True to list nearest-neighbors by id\n",
    "                 'madlib.squared_dist_norm2', -- Distance function\n",
    "                 False,                  -- For weighted average\n",
    "                 'kd_tree',              -- Use kd-tree\n",
    "                 'depth=4, leaf_nodes=8' -- Kd-tree options\n",
    "    \n",
    "                 );\n",
    "SELECT * FROM knn_result_classification_kd ORDER BY id;"
   ]
  },
  {
   "cell_type": "markdown",
   "metadata": {},
   "source": [
    "The result above is the same as brute force.  If we search just 1 leaf node, run-time will be faster but accuracy will be lower.  This shows up in this very small data set by not being able to find 3 nearest neighbors for all test points:"
   ]
  },
  {
   "cell_type": "code",
   "execution_count": 12,
   "metadata": {},
   "outputs": [
    {
     "name": "stdout",
     "output_type": "stream",
     "text": [
      "Done.\n",
      "1 rows affected.\n",
      "5 rows affected.\n"
     ]
    },
    {
     "data": {
      "text/html": [
       "<table>\n",
       "    <tr>\n",
       "        <th>id</th>\n",
       "        <th>data</th>\n",
       "        <th>k_nearest_neighbours</th>\n",
       "        <th>distance</th>\n",
       "    </tr>\n",
       "    <tr>\n",
       "        <td>1</td>\n",
       "        <td>[2, 1]</td>\n",
       "        <td>[1]</td>\n",
       "        <td>[1.0]</td>\n",
       "    </tr>\n",
       "    <tr>\n",
       "        <td>2</td>\n",
       "        <td>[2, 6]</td>\n",
       "        <td>[3, 2]</td>\n",
       "        <td>[10.0, 16.0]</td>\n",
       "    </tr>\n",
       "    <tr>\n",
       "        <td>3</td>\n",
       "        <td>[15, 40]</td>\n",
       "        <td>[7]</td>\n",
       "        <td>[106.0]</td>\n",
       "    </tr>\n",
       "    <tr>\n",
       "        <td>5</td>\n",
       "        <td>[2, 90]</td>\n",
       "        <td>[3, 2]</td>\n",
       "        <td>[7570.0, 7744.0]</td>\n",
       "    </tr>\n",
       "    <tr>\n",
       "        <td>6</td>\n",
       "        <td>[50, 45]</td>\n",
       "        <td>[6, 8]</td>\n",
       "        <td>[925.0, 1985.0]</td>\n",
       "    </tr>\n",
       "</table>"
      ],
      "text/plain": [
       "[(1, [2, 1], [1], [1.0]),\n",
       " (2, [2, 6], [3, 2], [10.0, 16.0]),\n",
       " (3, [15, 40], [7], [106.0]),\n",
       " (5, [2, 90], [3, 2], [7570.0, 7744.0]),\n",
       " (6, [50, 45], [6, 8], [925.0, 1985.0])]"
      ]
     },
     "execution_count": 12,
     "metadata": {},
     "output_type": "execute_result"
    }
   ],
   "source": [
    "%%sql\n",
    "DROP TABLE IF EXISTS knn_result_classification_kd;\n",
    "\n",
    "SELECT madlib.knn(\n",
    "                'knn_train_data',        -- Table of training data\n",
    "                'data',                  -- Col name of training data\n",
    "                'id',                    -- Col name of id in train data\n",
    "                NULL,                    -- Training labels\n",
    "                'knn_test_data',         -- Table of test data\n",
    "                'data',                  -- Col name of test data\n",
    "                'id',                    -- Col name of id in test data\n",
    "                'knn_result_classification_kd',  -- Output table\n",
    "                 3,                      -- Number of nearest neighbors\n",
    "                 True,                   -- True to list nearest-neighbors by id\n",
    "                 'madlib.squared_dist_norm2', -- Distance function\n",
    "                 False,                  -- For weighted average\n",
    "                 'kd_tree',              -- Use kd-tree\n",
    "                 'depth=4, leaf_nodes=1' -- Kd-tree options\n",
    "    \n",
    "                 );\n",
    "SELECT * FROM knn_result_classification_kd ORDER BY id;"
   ]
  },
  {
   "cell_type": "markdown",
   "metadata": {},
   "source": [
    "# 9. Unsupervised nearest neighbors\n",
    "Here the training set matches the test set so the nearest neighbor of each point is the point itself, with a zero distance."
   ]
  },
  {
   "cell_type": "code",
   "execution_count": 13,
   "metadata": {},
   "outputs": [
    {
     "name": "stdout",
     "output_type": "stream",
     "text": [
      "Done.\n",
      "1 rows affected.\n",
      "9 rows affected.\n"
     ]
    },
    {
     "data": {
      "text/html": [
       "<table>\n",
       "    <tr>\n",
       "        <th>id</th>\n",
       "        <th>data</th>\n",
       "        <th>k_nearest_neighbours</th>\n",
       "        <th>distance</th>\n",
       "    </tr>\n",
       "    <tr>\n",
       "        <td>1</td>\n",
       "        <td>[1, 1]</td>\n",
       "        <td>[1, 2, 3]</td>\n",
       "        <td>[0.0, 2.0, 8.0]</td>\n",
       "    </tr>\n",
       "    <tr>\n",
       "        <td>2</td>\n",
       "        <td>[2, 2]</td>\n",
       "        <td>[2, 3, 1]</td>\n",
       "        <td>[0.0, 2.0, 2.0]</td>\n",
       "    </tr>\n",
       "    <tr>\n",
       "        <td>3</td>\n",
       "        <td>[3, 3]</td>\n",
       "        <td>[3, 2, 4]</td>\n",
       "        <td>[0.0, 2.0, 2.0]</td>\n",
       "    </tr>\n",
       "    <tr>\n",
       "        <td>4</td>\n",
       "        <td>[4, 4]</td>\n",
       "        <td>[4, 5, 3]</td>\n",
       "        <td>[0.0, 1.0, 2.0]</td>\n",
       "    </tr>\n",
       "    <tr>\n",
       "        <td>5</td>\n",
       "        <td>[4, 5]</td>\n",
       "        <td>[5, 4, 3]</td>\n",
       "        <td>[0.0, 1.0, 5.0]</td>\n",
       "    </tr>\n",
       "    <tr>\n",
       "        <td>6</td>\n",
       "        <td>[20, 50]</td>\n",
       "        <td>[6, 7, 5]</td>\n",
       "        <td>[0.0, 461.0, 2281.0]</td>\n",
       "    </tr>\n",
       "    <tr>\n",
       "        <td>7</td>\n",
       "        <td>[10, 31]</td>\n",
       "        <td>[7, 6, 5]</td>\n",
       "        <td>[0.0, 461.0, 712.0]</td>\n",
       "    </tr>\n",
       "    <tr>\n",
       "        <td>8</td>\n",
       "        <td>[81, 13]</td>\n",
       "        <td>[8, 6, 7]</td>\n",
       "        <td>[0.0, 5090.0, 5365.0]</td>\n",
       "    </tr>\n",
       "    <tr>\n",
       "        <td>9</td>\n",
       "        <td>[1, 111]</td>\n",
       "        <td>[9, 6, 7]</td>\n",
       "        <td>[0.0, 4082.0, 6481.0]</td>\n",
       "    </tr>\n",
       "</table>"
      ],
      "text/plain": [
       "[(1, [1, 1], [1, 2, 3], [0.0, 2.0, 8.0]),\n",
       " (2, [2, 2], [2, 3, 1], [0.0, 2.0, 2.0]),\n",
       " (3, [3, 3], [3, 2, 4], [0.0, 2.0, 2.0]),\n",
       " (4, [4, 4], [4, 5, 3], [0.0, 1.0, 2.0]),\n",
       " (5, [4, 5], [5, 4, 3], [0.0, 1.0, 5.0]),\n",
       " (6, [20, 50], [6, 7, 5], [0.0, 461.0, 2281.0]),\n",
       " (7, [10, 31], [7, 6, 5], [0.0, 461.0, 712.0]),\n",
       " (8, [81, 13], [8, 6, 7], [0.0, 5090.0, 5365.0]),\n",
       " (9, [1, 111], [9, 6, 7], [0.0, 4082.0, 6481.0])]"
      ]
     },
     "execution_count": 13,
     "metadata": {},
     "output_type": "execute_result"
    }
   ],
   "source": [
    "%%sql\n",
    "DROP TABLE IF EXISTS knn_result_classification_unsup;\n",
    "\n",
    "SELECT * FROM madlib.knn(\n",
    "                'knn_train_data',      -- Table of training data\n",
    "                'data',                -- Col name of training data\n",
    "                'id',                  -- Col name of id in train data\n",
    "                 NULL,                 -- NULL training labels means just list neighbors\n",
    "                'knn_train_data',      -- Table of test data (same as training data)\n",
    "                'data',                -- Col name of test data\n",
    "                'id',                  -- Col name of id in test data\n",
    "                'knn_result_classification_unsup',  -- Output table\n",
    "                 3,                    -- Number of nearest neighbors\n",
    "                 True,                 -- True to list nearest-neighbors by id\n",
    "                 'madlib.squared_dist_norm2' -- Distance function\n",
    "                );\n",
    "\n",
    "SELECT * from knn_result_classification_unsup ORDER BY id;"
   ]
  },
  {
   "cell_type": "markdown",
   "metadata": {},
   "source": [
    "# 10. User defined distance function\n",
    "The built-in distance functions are:\n",
    "- dist_norm1: 1-norm/Manhattan\n",
    "- dist_norm2: 2-norm/Euclidean\n",
    "- squared_dist_norm2: squared Euclidean distance\n",
    "- dist_angle: angle\n",
    "- dist_tanimoto: tanimoto\n",
    "\n",
    "You can create different distance functions via UDFs if desired.  For example, to create a Chebyshev distance function https://en.wikipedia.org/wiki/Chebyshev_distance :\n"
   ]
  },
  {
   "cell_type": "code",
   "execution_count": 14,
   "metadata": {},
   "outputs": [
    {
     "name": "stdout",
     "output_type": "stream",
     "text": [
      "Done.\n"
     ]
    },
    {
     "data": {
      "text/plain": [
       "[]"
      ]
     },
     "execution_count": 14,
     "metadata": {},
     "output_type": "execute_result"
    }
   ],
   "source": [
    "%%sql\n",
    "CREATE OR REPLACE FUNCTION chebychev_distance (x double precision[], y double precision[])\n",
    "  RETURNS double precision\n",
    "AS $$\n",
    "    from scipy.spatial import distance\n",
    "    return distance.chebyshev(x, y)\n",
    "$$ LANGUAGE plpythonu;"
   ]
  },
  {
   "cell_type": "code",
   "execution_count": 15,
   "metadata": {},
   "outputs": [
    {
     "name": "stdout",
     "output_type": "stream",
     "text": [
      "Done.\n",
      "1 rows affected.\n",
      "6 rows affected.\n"
     ]
    },
    {
     "data": {
      "text/html": [
       "<table>\n",
       "    <tr>\n",
       "        <th>id</th>\n",
       "        <th>data</th>\n",
       "        <th>prediction</th>\n",
       "        <th>k_nearest_neighbours</th>\n",
       "        <th>distance</th>\n",
       "    </tr>\n",
       "    <tr>\n",
       "        <td>1</td>\n",
       "        <td>[2, 1]</td>\n",
       "        <td>1.0</td>\n",
       "        <td>[1, 2, 3]</td>\n",
       "        <td>[1.0, 1.0, 2.0]</td>\n",
       "    </tr>\n",
       "    <tr>\n",
       "        <td>2</td>\n",
       "        <td>[2, 6]</td>\n",
       "        <td>1.0</td>\n",
       "        <td>[5, 4, 3]</td>\n",
       "        <td>[2.0, 2.0, 3.0]</td>\n",
       "    </tr>\n",
       "    <tr>\n",
       "        <td>3</td>\n",
       "        <td>[15, 40]</td>\n",
       "        <td>0.0</td>\n",
       "        <td>[7, 6, 5]</td>\n",
       "        <td>[9.0, 10.0, 35.0]</td>\n",
       "    </tr>\n",
       "    <tr>\n",
       "        <td>4</td>\n",
       "        <td>[12, 1]</td>\n",
       "        <td>1.0</td>\n",
       "        <td>[5, 4, 3]</td>\n",
       "        <td>[8.0, 8.0, 9.0]</td>\n",
       "    </tr>\n",
       "    <tr>\n",
       "        <td>5</td>\n",
       "        <td>[2, 90]</td>\n",
       "        <td>0.0</td>\n",
       "        <td>[9, 6, 7]</td>\n",
       "        <td>[21.0, 40.0, 59.0]</td>\n",
       "    </tr>\n",
       "    <tr>\n",
       "        <td>6</td>\n",
       "        <td>[50, 45]</td>\n",
       "        <td>0.0</td>\n",
       "        <td>[6, 8, 7]</td>\n",
       "        <td>[30.0, 32.0, 40.0]</td>\n",
       "    </tr>\n",
       "</table>"
      ],
      "text/plain": [
       "[(1, [2, 1], 1.0, [1, 2, 3], [1.0, 1.0, 2.0]),\n",
       " (2, [2, 6], 1.0, [5, 4, 3], [2.0, 2.0, 3.0]),\n",
       " (3, [15, 40], 0.0, [7, 6, 5], [9.0, 10.0, 35.0]),\n",
       " (4, [12, 1], 1.0, [5, 4, 3], [8.0, 8.0, 9.0]),\n",
       " (5, [2, 90], 0.0, [9, 6, 7], [21.0, 40.0, 59.0]),\n",
       " (6, [50, 45], 0.0, [6, 8, 7], [30.0, 32.0, 40.0])]"
      ]
     },
     "execution_count": 15,
     "metadata": {},
     "output_type": "execute_result"
    }
   ],
   "source": [
    "%%sql\n",
    "DROP TABLE IF EXISTS knn_result_classification_udf;\n",
    "\n",
    "SELECT * FROM madlib.knn(\n",
    "                'knn_train_data',      -- Table of training data\n",
    "                'data',                -- Col name of training data\n",
    "                'id',                  -- Col name of id in train data\n",
    "                'label',               -- Training labels\n",
    "                'knn_test_data',       -- Table of test data\n",
    "                'data',                -- Col name of test data\n",
    "                'id',                  -- Col name of id in test data\n",
    "                'knn_result_classification_udf',  -- Output table\n",
    "                 3,                    -- Number of nearest neighbors\n",
    "                 True,                 -- True to list nearest-neighbors by id\n",
    "                 'chebychev_distance'  -- Distance function\n",
    "                );\n",
    "\n",
    "SELECT * from knn_result_classification_udf ORDER BY id;"
   ]
  }
 ],
 "metadata": {
  "kernelspec": {
   "display_name": "Python 2",
   "language": "python",
   "name": "python2"
  },
  "language_info": {
   "codemirror_mode": {
    "name": "ipython",
    "version": 2
   },
   "file_extension": ".py",
   "mimetype": "text/x-python",
   "name": "python",
   "nbconvert_exporter": "python",
   "pygments_lexer": "ipython2",
   "version": "2.7.10"
  }
 },
 "nbformat": 4,
 "nbformat_minor": 1
}
