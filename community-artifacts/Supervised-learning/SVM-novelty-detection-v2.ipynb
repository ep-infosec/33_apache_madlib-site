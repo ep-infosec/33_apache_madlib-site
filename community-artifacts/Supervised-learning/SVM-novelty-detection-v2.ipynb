{
 "cells": [
  {
   "cell_type": "markdown",
   "metadata": {},
   "source": [
    "# Novelty detection using 1-class SVM\n",
    "\n",
    "Classifies new data as similar or different to the training set.  This method is an unsupervised method that builds a decision boundary between the data and origin in kernel space and can be used as a novelty detector."
   ]
  },
  {
   "cell_type": "code",
   "execution_count": 1,
   "metadata": {},
   "outputs": [],
   "source": [
    "%load_ext sql"
   ]
  },
  {
   "cell_type": "code",
   "execution_count": 2,
   "metadata": {},
   "outputs": [],
   "source": [
    "# Greenplum Database 5.x on GCP (PM demo machine) - via tunnel\n",
    "#%sql postgresql://gpadmin@localhost:8000/madlib\n",
    "        \n",
    "# PostgreSQL local\n",
    "%sql postgresql://fmcquillan@localhost:5432/madlib"
   ]
  },
  {
   "cell_type": "code",
   "execution_count": 3,
   "metadata": {},
   "outputs": [],
   "source": [
    "# Setup\n",
    "%matplotlib inline\n",
    "\n",
    "import pandas as pd\n",
    "import numpy as np\n",
    "import matplotlib.pyplot as plt\n",
    "import matplotlib.font_manager"
   ]
  },
  {
   "cell_type": "code",
   "execution_count": 4,
   "metadata": {},
   "outputs": [
    {
     "data": {
      "image/png": "[encoded data removed]",
      "text/plain": [
       "<Figure size 432x288 with 1 Axes>"
      ]
     },
     "metadata": {
      "needs_background": "light"
     },
     "output_type": "display_data"
    }
   ],
   "source": [
    "# Generate train data\n",
    "X = 0.3 * np.random.randn(100, 2)\n",
    "X_train = np.r_[X + 2, X - 2]\n",
    "X_train_D = pd.DataFrame(X_train, columns=['x1', 'x2'])\n",
    "\n",
    "# Generate some abnormal novel observations\n",
    "X_outliers = np.random.uniform(low=-7, high=7, size=(40, 2))\n",
    "X_outliers_D = pd.DataFrame(X_outliers, columns=['x1', 'x2'])\n",
    "\n",
    "b = plt.scatter(X_train[:, 0], X_train[:, 1], c='blue')\n",
    "c = plt.scatter(X_outliers[:, 0], X_outliers[:, 1], c='red')\n",
    "plt.axis('tight')\n",
    "plt.xlim((-5, 5))\n",
    "plt.ylim((-5, 5))\n",
    "plt.show();"
   ]
  },
  {
   "cell_type": "code",
   "execution_count": 5,
   "metadata": {},
   "outputs": [
    {
     "name": "stdout",
     "output_type": "stream",
     "text": [
      "Done.\n"
     ]
    },
    {
     "data": {
      "text/plain": [
       "[]"
      ]
     },
     "execution_count": 5,
     "metadata": {},
     "output_type": "execute_result"
    },
    {
     "data": {
      "text/plain": [
       "'Persisted x_train_d'"
      ]
     },
     "execution_count": 5,
     "metadata": {},
     "output_type": "execute_result"
    },
    {
     "name": "stdout",
     "output_type": "stream",
     "text": [
      "Done.\n"
     ]
    },
    {
     "data": {
      "text/plain": [
       "[]"
      ]
     },
     "execution_count": 5,
     "metadata": {},
     "output_type": "execute_result"
    },
    {
     "name": "stdout",
     "output_type": "stream",
     "text": [
      "200 rows affected.\n"
     ]
    },
    {
     "data": {
      "text/plain": [
       "[]"
      ]
     },
     "execution_count": 5,
     "metadata": {},
     "output_type": "execute_result"
    },
    {
     "name": "stdout",
     "output_type": "stream",
     "text": [
      "Done.\n"
     ]
    },
    {
     "data": {
      "text/plain": [
       "[]"
      ]
     },
     "execution_count": 5,
     "metadata": {},
     "output_type": "execute_result"
    },
    {
     "data": {
      "text/plain": [
       "'Persisted x_outliers_d'"
      ]
     },
     "execution_count": 5,
     "metadata": {},
     "output_type": "execute_result"
    },
    {
     "name": "stdout",
     "output_type": "stream",
     "text": [
      "Done.\n"
     ]
    },
    {
     "data": {
      "text/plain": [
       "[]"
      ]
     },
     "execution_count": 5,
     "metadata": {},
     "output_type": "execute_result"
    },
    {
     "name": "stdout",
     "output_type": "stream",
     "text": [
      "40 rows affected.\n"
     ]
    },
    {
     "data": {
      "text/plain": [
       "[]"
      ]
     },
     "execution_count": 5,
     "metadata": {},
     "output_type": "execute_result"
    }
   ],
   "source": [
    "# Build tables\n",
    "%sql DROP TABLE IF EXISTS X_train_D CASCADE;\n",
    "%sql --persist X_train_D;\n",
    "%sql ALTER TABLE X_train_D add column X float[];\n",
    "%sql update X_train_D set X = array[x1, x2]::float[];\n",
    "\n",
    "%sql DROP TABLE IF EXISTS X_outliers_D CASCADE;\n",
    "%sql --persist X_outliers_D;\n",
    "%sql ALTER TABLE X_outliers_D add column X float[];\n",
    "%sql update X_outliers_D set X = array[x1, x2]::float[];"
   ]
  },
  {
   "cell_type": "code",
   "execution_count": 6,
   "metadata": {},
   "outputs": [
    {
     "name": "stdout",
     "output_type": "stream",
     "text": [
      "Done.\n",
      "1 rows affected.\n",
      "1 rows affected.\n"
     ]
    },
    {
     "data": {
      "text/html": [
       "<table>\n",
       "    <tr>\n",
       "        <th>coef</th>\n",
       "        <th>loss</th>\n",
       "        <th>norm_of_gradient</th>\n",
       "        <th>num_iterations</th>\n",
       "        <th>num_rows_processed</th>\n",
       "        <th>num_rows_skipped</th>\n",
       "        <th>dep_var_mapping</th>\n",
       "    </tr>\n",
       "    <tr>\n",
       "        <td>[-0.0633722302015402, -0.141681716745453, -0.771677402196372, 0.0867141599679751, -0.259877419688898, 0.111563986083496, 0.349476985188587, -0.752482251523658, 0.358467020942135, -0.921428832420919, 0.459881978831494, -0.0323041562234537, -0.116487872509266, -0.0670811003202482, -0.0753190700606155, -0.745637979983973, -0.0236219363888805, -0.900940846704358, -0.696129912166835, -0.54111261957129, -0.12669690252016, -0.216710697335916, -0.671910263179922, -0.250662229174146, -0.32784291725979, -0.13818300357978, 0.36065876191331, 0.468635432850185, 0.576830871723013, -0.26809306654817, -0.130256365759965, 0.304327237596594, -0.0351794790535994, 0.523537943974513, 0.446162405351283, 0.359675328061845, 0.0195378131670849, -0.0863329268693825, -0.590248807799436, -0.1114277288906, 0.656112036145448, 0.173468340481775, 0.507965441963636, 0.569369433122324, 0.147070932256151, 0.345877051092934, -0.0444530313128801, 0.0958483939810158, 0.673061845880972, 0.730479842894107, -0.220198940867896, -0.160510847505651, 0.285530718822088, -0.261899085081425, -0.54628139896305, -1.00015520604516]</td>\n",
       "        <td>0.383390108058</td>\n",
       "        <td>112.763105293</td>\n",
       "        <td>100</td>\n",
       "        <td>201</td>\n",
       "        <td>-1</td>\n",
       "        <td>[-1.0, 1.0]</td>\n",
       "    </tr>\n",
       "</table>"
      ],
      "text/plain": [
       "[([-0.0633722302015402, -0.141681716745453, -0.771677402196372, 0.0867141599679751, -0.259877419688898, 0.111563986083496, 0.349476985188587, -0.7524822 ... (798 characters truncated) ... 3061845880972, 0.730479842894107, -0.220198940867896, -0.160510847505651, 0.285530718822088, -0.261899085081425, -0.54628139896305, -1.00015520604516], 0.383390108057587, 112.763105292939, 100, 201L, -1L, [-1.0, 1.0])]"
      ]
     },
     "execution_count": 6,
     "metadata": {},
     "output_type": "execute_result"
    }
   ],
   "source": [
    "%%sql \n",
    "-- Train the model\n",
    "DROP TABLE IF EXISTS svm_out1, svm_out1_summary, svm_out1_random CASCADE;\n",
    "SELECT madlib.svm_one_class(\n",
    "    'X_train_D',    -- source table\n",
    "    'svm_out1',     -- output table\n",
    "    'X',            -- features\n",
    "    'gaussian',     -- kernel\n",
    "    'gamma=1, n_components=55, random_state=3', \n",
    "    NULL,           -- grouping \n",
    "    'init_stepsize=0.1, lambda=10, max_iter=100, tolerance=0'  \n",
    "    );\n",
    "SELECT * FROM svm_out1; "
   ]
  },
  {
   "cell_type": "code",
   "execution_count": 7,
   "metadata": {},
   "outputs": [
    {
     "name": "stdout",
     "output_type": "stream",
     "text": [
      "Done.\n"
     ]
    },
    {
     "data": {
      "text/plain": [
       "[]"
      ]
     },
     "execution_count": 7,
     "metadata": {},
     "output_type": "execute_result"
    },
    {
     "name": "stdout",
     "output_type": "stream",
     "text": [
      "1 rows affected.\n"
     ]
    },
    {
     "data": {
      "text/html": [
       "<table>\n",
       "    <tr>\n",
       "        <th>svm_predict</th>\n",
       "    </tr>\n",
       "    <tr>\n",
       "        <td></td>\n",
       "    </tr>\n",
       "</table>"
      ],
      "text/plain": [
       "[('',)]"
      ]
     },
     "execution_count": 7,
     "metadata": {},
     "output_type": "execute_result"
    },
    {
     "name": "stdout",
     "output_type": "stream",
     "text": [
      "200 rows affected.\n",
      "Done.\n"
     ]
    },
    {
     "data": {
      "text/plain": [
       "[]"
      ]
     },
     "execution_count": 7,
     "metadata": {},
     "output_type": "execute_result"
    },
    {
     "name": "stdout",
     "output_type": "stream",
     "text": [
      "1 rows affected.\n"
     ]
    },
    {
     "data": {
      "text/html": [
       "<table>\n",
       "    <tr>\n",
       "        <th>svm_predict</th>\n",
       "    </tr>\n",
       "    <tr>\n",
       "        <td></td>\n",
       "    </tr>\n",
       "</table>"
      ],
      "text/plain": [
       "[('',)]"
      ]
     },
     "execution_count": 7,
     "metadata": {},
     "output_type": "execute_result"
    },
    {
     "name": "stdout",
     "output_type": "stream",
     "text": [
      "40 rows affected.\n",
      "20 rows affected.\n"
     ]
    },
    {
     "data": {
      "text/html": [
       "<table>\n",
       "    <tr>\n",
       "        <th>index</th>\n",
       "        <th>prediction</th>\n",
       "        <th>decision_function</th>\n",
       "    </tr>\n",
       "    <tr>\n",
       "        <td>0</td>\n",
       "        <td>1.0</td>\n",
       "        <td>0.989953304307</td>\n",
       "    </tr>\n",
       "    <tr>\n",
       "        <td>1</td>\n",
       "        <td>1.0</td>\n",
       "        <td>1.17330218011</td>\n",
       "    </tr>\n",
       "    <tr>\n",
       "        <td>2</td>\n",
       "        <td>1.0</td>\n",
       "        <td>1.12268476523</td>\n",
       "    </tr>\n",
       "    <tr>\n",
       "        <td>3</td>\n",
       "        <td>1.0</td>\n",
       "        <td>0.357431258508</td>\n",
       "    </tr>\n",
       "    <tr>\n",
       "        <td>4</td>\n",
       "        <td>1.0</td>\n",
       "        <td>1.1803515073</td>\n",
       "    </tr>\n",
       "    <tr>\n",
       "        <td>5</td>\n",
       "        <td>1.0</td>\n",
       "        <td>1.0249236495</td>\n",
       "    </tr>\n",
       "    <tr>\n",
       "        <td>6</td>\n",
       "        <td>1.0</td>\n",
       "        <td>0.930264148315</td>\n",
       "    </tr>\n",
       "    <tr>\n",
       "        <td>7</td>\n",
       "        <td>1.0</td>\n",
       "        <td>0.764912118961</td>\n",
       "    </tr>\n",
       "    <tr>\n",
       "        <td>8</td>\n",
       "        <td>1.0</td>\n",
       "        <td>0.980942316141</td>\n",
       "    </tr>\n",
       "    <tr>\n",
       "        <td>9</td>\n",
       "        <td>1.0</td>\n",
       "        <td>0.821454375458</td>\n",
       "    </tr>\n",
       "    <tr>\n",
       "        <td>10</td>\n",
       "        <td>1.0</td>\n",
       "        <td>0.758616096612</td>\n",
       "    </tr>\n",
       "    <tr>\n",
       "        <td>11</td>\n",
       "        <td>1.0</td>\n",
       "        <td>0.690363059545</td>\n",
       "    </tr>\n",
       "    <tr>\n",
       "        <td>12</td>\n",
       "        <td>1.0</td>\n",
       "        <td>0.810892169243</td>\n",
       "    </tr>\n",
       "    <tr>\n",
       "        <td>13</td>\n",
       "        <td>1.0</td>\n",
       "        <td>0.616160939308</td>\n",
       "    </tr>\n",
       "    <tr>\n",
       "        <td>14</td>\n",
       "        <td>1.0</td>\n",
       "        <td>1.17547157784</td>\n",
       "    </tr>\n",
       "    <tr>\n",
       "        <td>15</td>\n",
       "        <td>1.0</td>\n",
       "        <td>1.15177361328</td>\n",
       "    </tr>\n",
       "    <tr>\n",
       "        <td>16</td>\n",
       "        <td>1.0</td>\n",
       "        <td>0.678575716809</td>\n",
       "    </tr>\n",
       "    <tr>\n",
       "        <td>17</td>\n",
       "        <td>1.0</td>\n",
       "        <td>1.03767895175</td>\n",
       "    </tr>\n",
       "    <tr>\n",
       "        <td>18</td>\n",
       "        <td>1.0</td>\n",
       "        <td>1.16535285496</td>\n",
       "    </tr>\n",
       "    <tr>\n",
       "        <td>19</td>\n",
       "        <td>1.0</td>\n",
       "        <td>1.16257813021</td>\n",
       "    </tr>\n",
       "</table>"
      ],
      "text/plain": [
       "[(0L, 1.0, 0.989953304307116),\n",
       " (1L, 1.0, 1.17330218010835),\n",
       " (2L, 1.0, 1.1226847652336),\n",
       " (3L, 1.0, 0.357431258508133),\n",
       " (4L, 1.0, 1.18035150730363),\n",
       " (5L, 1.0, 1.02492364949532),\n",
       " (6L, 1.0, 0.930264148315294),\n",
       " (7L, 1.0, 0.764912118961237),\n",
       " (8L, 1.0, 0.980942316140755),\n",
       " (9L, 1.0, 0.8214543754579),\n",
       " (10L, 1.0, 0.758616096611838),\n",
       " (11L, 1.0, 0.690363059544837),\n",
       " (12L, 1.0, 0.810892169242508),\n",
       " (13L, 1.0, 0.616160939308037),\n",
       " (14L, 1.0, 1.17547157784048),\n",
       " (15L, 1.0, 1.15177361328385),\n",
       " (16L, 1.0, 0.678575716808824),\n",
       " (17L, 1.0, 1.03767895174722),\n",
       " (18L, 1.0, 1.16535285496235),\n",
       " (19L, 1.0, 1.16257813021285)]"
      ]
     },
     "execution_count": 7,
     "metadata": {},
     "output_type": "execute_result"
    }
   ],
   "source": [
    "# Prediction\n",
    "# First for the training data\n",
    "%sql drop table if exists y_pred_train;\n",
    "%sql SELECT madlib.svm_predict('svm_out1', 'X_train_D', 'index', 'y_pred_train');\n",
    "y_pred_train = %sql SELECT * from y_pred_train; \n",
    "\n",
    "# Next for the outliers\n",
    "%sql drop table if exists y_pred_outliers;\n",
    "%sql SELECT madlib.svm_predict('svm_out1', 'X_outliers_D', 'index', 'y_pred_outliers');\n",
    "y_pred_outliers = %sql SELECT * from y_pred_outliers; \n",
    "\n",
    "#%sql SELECT * FROM y_pred_outliers limit 20; -- Show the outliers\n",
    "%sql SELECT * FROM y_pred_train limit 20; "
   ]
  },
  {
   "cell_type": "code",
   "execution_count": 8,
   "metadata": {},
   "outputs": [
    {
     "name": "stdout",
     "output_type": "stream",
     "text": [
      "Done.\n"
     ]
    },
    {
     "data": {
      "text/plain": [
       "[]"
      ]
     },
     "execution_count": 8,
     "metadata": {},
     "output_type": "execute_result"
    },
    {
     "data": {
      "text/plain": [
       "'Persisted grid_points'"
      ]
     },
     "execution_count": 8,
     "metadata": {},
     "output_type": "execute_result"
    },
    {
     "name": "stdout",
     "output_type": "stream",
     "text": [
      "Done.\n"
     ]
    },
    {
     "data": {
      "text/plain": [
       "[]"
      ]
     },
     "execution_count": 8,
     "metadata": {},
     "output_type": "execute_result"
    },
    {
     "name": "stdout",
     "output_type": "stream",
     "text": [
      "10000 rows affected.\n"
     ]
    },
    {
     "data": {
      "text/plain": [
       "[]"
      ]
     },
     "execution_count": 8,
     "metadata": {},
     "output_type": "execute_result"
    }
   ],
   "source": [
    "# Predict over the decision grid for plotting\n",
    "# xx, yy = np.meshgrid(np.linspace(-7, 7, 500), np.linspace(-7, 7, 500))\n",
    "xx, yy = np.meshgrid(np.linspace(-7, 7, 100), np.linspace(-7, 7, 100))\n",
    "grid_points = pd.DataFrame(np.c_[xx.ravel(), yy.ravel()], columns=['x1', 'x2'])\n",
    "\n",
    "%sql DROP TABLE IF EXISTS grid_points CASCADE;\n",
    "%sql --persist grid_points\n",
    "%sql ALTER TABLE grid_points add column X float[]\n",
    "%sql update grid_points set X = array[x1, x2]::float[]"
   ]
  },
  {
   "cell_type": "code",
   "execution_count": 9,
   "metadata": {},
   "outputs": [
    {
     "name": "stdout",
     "output_type": "stream",
     "text": [
      "Done.\n",
      "1 rows affected.\n",
      "10000 rows affected.\n"
     ]
    },
    {
     "data": {
      "image/png": "[encoded data removed]",
      "text/plain": [
       "<Figure size 432x288 with 1 Axes>"
      ]
     },
     "metadata": {
      "needs_background": "light"
     },
     "output_type": "display_data"
    }
   ],
   "source": [
    "# Plot the decision grid\n",
    "%sql drop table if exists Z_D;\n",
    "%sql SELECT madlib.svm_predict('svm_out1', 'grid_points', 'index', 'Z_D');\n",
    "Z_D = %sql SELECT decision_function from Z_D order by index\n",
    "Z = np.array(Z_D)\n",
    "Z = Z.reshape(xx.shape)\n",
    "\n",
    "# Orange is not novel, green is novel\n",
    "plt.title(\"Novelty Detection\")\n",
    "plt.contourf(xx, yy, Z, levels=[0, Z.max()], colors='orange')\n",
    "plt.contourf(xx, yy, Z, levels=[Z.min(), 0], colors='green')\n",
    "#plt.contourf(xx, yy, Z, levels=np.linspace(Z.min(), Z.max(), 7), cmap=plt.cm.Blues_r)\n",
    "b1 = plt.scatter(X_train[:, 0], X_train[:, 1], c='blue')\n",
    "c = plt.scatter(X_outliers[:, 0], X_outliers[:, 1], c='red')\n",
    "plt.axis('tight')\n",
    "plt.xlim((-5, 5))\n",
    "plt.ylim((-5, 5))\n",
    "plt.show();"
   ]
  }
 ],
 "metadata": {
  "kernelspec": {
   "display_name": "Python 2",
   "language": "python",
   "name": "python2"
  },
  "language_info": {
   "codemirror_mode": {
    "name": "ipython",
    "version": 2
   },
   "file_extension": ".py",
   "mimetype": "text/x-python",
   "name": "python",
   "nbconvert_exporter": "python",
   "pygments_lexer": "ipython2",
   "version": "2.7.16"
  }
 },
 "nbformat": 4,
 "nbformat_minor": 1
}
