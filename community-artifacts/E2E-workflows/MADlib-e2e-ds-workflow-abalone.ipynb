{
 "cells": [
  {
   "cell_type": "markdown",
   "metadata": {},
   "source": [
    "<img src=\"https://s3.amazonaws.com/greenplum.org/wp-content/uploads/2018/11/14180216/logo-gpdb-light.svg\" alt=\"drawing\" width=\"200\"/>"
   ]
  },
  {
   "cell_type": "markdown",
   "metadata": {},
   "source": [
    "# Data Science Workshop"
   ]
  },
  {
   "cell_type": "markdown",
   "metadata": {},
   "source": [
    "This notebook serves as an hands-on introduction to the data science pipeline.  Using a single dataset throughout, it begins with loading the data into Greenplum Database (GPDB), then proceeds to data exploration, feature engineering, model development, and model evaluation.\n",
    "\n",
    "We’ll be using the publicly available [Abalone dataset from the University of California, Irvine Machine Learning Repository](https://archive.ics.uci.edu/ml/datasets/abalone).  The dataset contains nine attributes (including our target prediction column).\n",
    "\n",
    "| Column Name | Data Type | Description|\n",
    "| ---|:---:| ---:|\n",
    "|Sex | text | M,F,I[infant]|\n",
    "| Length | float | Longest shell measurement|\n",
    "|Diameter | float | Perpendicular to length|\n",
    "| Height | float | With meat in shell |\n",
    "| Whole weight | float | Whole abalone |\n",
    "| Shucked weight | float | Weight of meat only |\n",
    "| Viscera weight | float | Gut weight (after bleeding) |\n",
    "| Shell weight | float | Post-drying |\n",
    "| Rings | integer | +1.5 gives the age in years|\n"
   ]
  },
  {
   "cell_type": "markdown",
   "metadata": {},
   "source": [
    "# Table of contents\n",
    "\n",
    "<a href=\"#setup\">1. Setup</a>\n",
    "\n",
    "<a href=\"#load_data\">2. Load data</a>\n",
    "\n",
    "<a href=\"#data_review\">3. Review raw data</a>\n",
    "\n",
    "<a href=\"#explore\">4. Explore data</a>\n",
    "\n",
    "<a href=\"#classification\">5. Classification models</a>\n",
    "\n",
    "* <a href=\"#logistic\">5a. Logistic regression</a>\n",
    "\n",
    "* <a href=\"#forest\">5b. Random forest</a>\n",
    "\n",
    "<a href=\"#regression\">6. Regression models</a>\n",
    "\n",
    "* <a href=\"#logistic\">6a. Linear regression</a>\n",
    "\n",
    "* <a href=\"#elastic\">6b. Elastic net</a>"
   ]
  },
  {
   "cell_type": "markdown",
   "metadata": {},
   "source": [
    "<a id=\"setup\"></a>\n",
    "# 1. Set Up Your Notebook Environment and Connect to the Database"
   ]
  },
  {
   "cell_type": "code",
   "execution_count": 1,
   "metadata": {},
   "outputs": [],
   "source": [
    "# this command allows for visualizations to appear in the notebook\n",
    "%matplotlib inline\n",
    "%load_ext sql\n",
    "import math\n",
    "import six\n",
    "import pandas as pd\n",
    "from sqlalchemy import create_engine\n",
    "import numpy as np \n",
    "import matplotlib.pyplot as plt\n",
    "import seaborn as sns\n",
    "pd.set_option('display.max_columns', 200)"
   ]
  },
  {
   "cell_type": "markdown",
   "metadata": {},
   "source": [
    "Connect to Database"
   ]
  },
  {
   "cell_type": "code",
   "execution_count": 3,
   "metadata": {},
   "outputs": [],
   "source": [
    "# Greenplum Database 5.x on GCP (PM demo machine) - via tunnel\n",
    "%sql postgresql://gpadmin@localhost:8000/madlib\n",
    "        \n",
    "# PostgreSQL local\n",
    "#%sql postgresql://fmcquillan@localhost:5432/madlib"
   ]
  },
  {
   "cell_type": "markdown",
   "metadata": {},
   "source": [
    "<a id=\"load_data\"></a>\n",
    "# 2. Load Abalone Data"
   ]
  },
  {
   "cell_type": "markdown",
   "metadata": {},
   "source": [
    "An [abalone](https://simple.wikipedia.org/wiki/Abalone) is a salt water univalve mollusc.\n",
    "We'll load the data from ```web external table``` then start looking at the data."
   ]
  },
  {
   "cell_type": "code",
   "execution_count": 4,
   "metadata": {},
   "outputs": [
    {
     "name": "stdout",
     "output_type": "stream",
     "text": [
      "Done.\n",
      "Done.\n",
      "10 rows affected.\n"
     ]
    },
    {
     "data": {
      "text/html": [
       "<table>\n",
       "    <tr>\n",
       "        <th>sex</th>\n",
       "        <th>length</th>\n",
       "        <th>diameter</th>\n",
       "        <th>height</th>\n",
       "        <th>whole_weight</th>\n",
       "        <th>shucked_weight</th>\n",
       "        <th>viscera_weight</th>\n",
       "        <th>shell_weight</th>\n",
       "        <th>rings</th>\n",
       "    </tr>\n",
       "    <tr>\n",
       "        <td>M</td>\n",
       "        <td>0.455</td>\n",
       "        <td>0.365</td>\n",
       "        <td>0.095</td>\n",
       "        <td>0.514</td>\n",
       "        <td>0.2245</td>\n",
       "        <td>0.101</td>\n",
       "        <td>0.15</td>\n",
       "        <td>15</td>\n",
       "    </tr>\n",
       "    <tr>\n",
       "        <td>M</td>\n",
       "        <td>0.35</td>\n",
       "        <td>0.265</td>\n",
       "        <td>0.09</td>\n",
       "        <td>0.2255</td>\n",
       "        <td>0.0995</td>\n",
       "        <td>0.0485</td>\n",
       "        <td>0.07</td>\n",
       "        <td>7</td>\n",
       "    </tr>\n",
       "    <tr>\n",
       "        <td>F</td>\n",
       "        <td>0.53</td>\n",
       "        <td>0.42</td>\n",
       "        <td>0.135</td>\n",
       "        <td>0.677</td>\n",
       "        <td>0.2565</td>\n",
       "        <td>0.1415</td>\n",
       "        <td>0.21</td>\n",
       "        <td>9</td>\n",
       "    </tr>\n",
       "    <tr>\n",
       "        <td>M</td>\n",
       "        <td>0.44</td>\n",
       "        <td>0.365</td>\n",
       "        <td>0.125</td>\n",
       "        <td>0.516</td>\n",
       "        <td>0.2155</td>\n",
       "        <td>0.114</td>\n",
       "        <td>0.155</td>\n",
       "        <td>10</td>\n",
       "    </tr>\n",
       "    <tr>\n",
       "        <td>I</td>\n",
       "        <td>0.33</td>\n",
       "        <td>0.255</td>\n",
       "        <td>0.08</td>\n",
       "        <td>0.205</td>\n",
       "        <td>0.0895</td>\n",
       "        <td>0.0395</td>\n",
       "        <td>0.055</td>\n",
       "        <td>7</td>\n",
       "    </tr>\n",
       "    <tr>\n",
       "        <td>I</td>\n",
       "        <td>0.425</td>\n",
       "        <td>0.3</td>\n",
       "        <td>0.095</td>\n",
       "        <td>0.3515</td>\n",
       "        <td>0.141</td>\n",
       "        <td>0.0775</td>\n",
       "        <td>0.12</td>\n",
       "        <td>8</td>\n",
       "    </tr>\n",
       "    <tr>\n",
       "        <td>F</td>\n",
       "        <td>0.53</td>\n",
       "        <td>0.415</td>\n",
       "        <td>0.15</td>\n",
       "        <td>0.7775</td>\n",
       "        <td>0.237</td>\n",
       "        <td>0.1415</td>\n",
       "        <td>0.33</td>\n",
       "        <td>20</td>\n",
       "    </tr>\n",
       "    <tr>\n",
       "        <td>F</td>\n",
       "        <td>0.545</td>\n",
       "        <td>0.425</td>\n",
       "        <td>0.125</td>\n",
       "        <td>0.768</td>\n",
       "        <td>0.294</td>\n",
       "        <td>0.1495</td>\n",
       "        <td>0.26</td>\n",
       "        <td>16</td>\n",
       "    </tr>\n",
       "    <tr>\n",
       "        <td>M</td>\n",
       "        <td>0.475</td>\n",
       "        <td>0.37</td>\n",
       "        <td>0.125</td>\n",
       "        <td>0.5095</td>\n",
       "        <td>0.2165</td>\n",
       "        <td>0.1125</td>\n",
       "        <td>0.165</td>\n",
       "        <td>9</td>\n",
       "    </tr>\n",
       "    <tr>\n",
       "        <td>F</td>\n",
       "        <td>0.55</td>\n",
       "        <td>0.44</td>\n",
       "        <td>0.15</td>\n",
       "        <td>0.8945</td>\n",
       "        <td>0.3145</td>\n",
       "        <td>0.151</td>\n",
       "        <td>0.32</td>\n",
       "        <td>19</td>\n",
       "    </tr>\n",
       "</table>"
      ],
      "text/plain": [
       "[(u'M', 0.455, 0.365, 0.095, 0.514, 0.2245, 0.101, 0.15, 15),\n",
       " (u'M', 0.35, 0.265, 0.09, 0.2255, 0.0995, 0.0485, 0.07, 7),\n",
       " (u'F', 0.53, 0.42, 0.135, 0.677, 0.2565, 0.1415, 0.21, 9),\n",
       " (u'M', 0.44, 0.365, 0.125, 0.516, 0.2155, 0.114, 0.155, 10),\n",
       " (u'I', 0.33, 0.255, 0.08, 0.205, 0.0895, 0.0395, 0.055, 7),\n",
       " (u'I', 0.425, 0.3, 0.095, 0.3515, 0.141, 0.0775, 0.12, 8),\n",
       " (u'F', 0.53, 0.415, 0.15, 0.7775, 0.237, 0.1415, 0.33, 20),\n",
       " (u'F', 0.545, 0.425, 0.125, 0.768, 0.294, 0.1495, 0.26, 16),\n",
       " (u'M', 0.475, 0.37, 0.125, 0.5095, 0.2165, 0.1125, 0.165, 9),\n",
       " (u'F', 0.55, 0.44, 0.15, 0.8945, 0.3145, 0.151, 0.32, 19)]"
      ]
     },
     "execution_count": 4,
     "metadata": {},
     "output_type": "execute_result"
    }
   ],
   "source": [
    "%%sql\n",
    "---\n",
    "--- The below code will create an external table that points at the data available at IMS/UCI.\n",
    "---\n",
    "drop external table if exists abalone_web;\n",
    "create external web table\n",
    "        abalone_web (\n",
    "        sex char(1),\n",
    "        length float,\n",
    "        diameter float,\n",
    "        height float,\n",
    "        whole_weight float,\n",
    "        shucked_weight float,\n",
    "        viscera_weight float,\n",
    "        shell_weight float,\n",
    "        rings integer\n",
    "    )\n",
    "    location ( 'http://archive.ics.uci.edu/ml/machine-learning-databases/abalone/abalone.data' )\n",
    "    format 'TEXT' ( delimiter ',' null '' )\n",
    "    log errors\n",
    "    segment reject limit 100\n",
    ";\n",
    "select * from abalone_web limit 10\n",
    ";"
   ]
  },
  {
   "cell_type": "markdown",
   "metadata": {},
   "source": [
    "Create heap table"
   ]
  },
  {
   "cell_type": "code",
   "execution_count": 5,
   "metadata": {},
   "outputs": [
    {
     "name": "stdout",
     "output_type": "stream",
     "text": [
      "Done.\n",
      "Done.\n",
      "Done.\n",
      "Done.\n",
      "4177 rows affected.\n",
      "10 rows affected.\n"
     ]
    },
    {
     "data": {
      "text/html": [
       "<table>\n",
       "    <tr>\n",
       "        <th>id</th>\n",
       "        <th>sex</th>\n",
       "        <th>length</th>\n",
       "        <th>diameter</th>\n",
       "        <th>height</th>\n",
       "        <th>whole_weight</th>\n",
       "        <th>shucked_weight</th>\n",
       "        <th>viscera_weight</th>\n",
       "        <th>shell_weight</th>\n",
       "        <th>rings</th>\n",
       "    </tr>\n",
       "    <tr>\n",
       "        <td>0</td>\n",
       "        <td>M</td>\n",
       "        <td>0.455</td>\n",
       "        <td>0.365</td>\n",
       "        <td>0.095</td>\n",
       "        <td>0.514</td>\n",
       "        <td>0.2245</td>\n",
       "        <td>0.101</td>\n",
       "        <td>0.15</td>\n",
       "        <td>15</td>\n",
       "    </tr>\n",
       "    <tr>\n",
       "        <td>1</td>\n",
       "        <td>M</td>\n",
       "        <td>0.35</td>\n",
       "        <td>0.265</td>\n",
       "        <td>0.09</td>\n",
       "        <td>0.2255</td>\n",
       "        <td>0.0995</td>\n",
       "        <td>0.0485</td>\n",
       "        <td>0.07</td>\n",
       "        <td>7</td>\n",
       "    </tr>\n",
       "    <tr>\n",
       "        <td>2</td>\n",
       "        <td>F</td>\n",
       "        <td>0.53</td>\n",
       "        <td>0.42</td>\n",
       "        <td>0.135</td>\n",
       "        <td>0.677</td>\n",
       "        <td>0.2565</td>\n",
       "        <td>0.1415</td>\n",
       "        <td>0.21</td>\n",
       "        <td>9</td>\n",
       "    </tr>\n",
       "    <tr>\n",
       "        <td>3</td>\n",
       "        <td>M</td>\n",
       "        <td>0.44</td>\n",
       "        <td>0.365</td>\n",
       "        <td>0.125</td>\n",
       "        <td>0.516</td>\n",
       "        <td>0.2155</td>\n",
       "        <td>0.114</td>\n",
       "        <td>0.155</td>\n",
       "        <td>10</td>\n",
       "    </tr>\n",
       "    <tr>\n",
       "        <td>4</td>\n",
       "        <td>I</td>\n",
       "        <td>0.33</td>\n",
       "        <td>0.255</td>\n",
       "        <td>0.08</td>\n",
       "        <td>0.205</td>\n",
       "        <td>0.0895</td>\n",
       "        <td>0.0395</td>\n",
       "        <td>0.055</td>\n",
       "        <td>7</td>\n",
       "    </tr>\n",
       "    <tr>\n",
       "        <td>5</td>\n",
       "        <td>I</td>\n",
       "        <td>0.425</td>\n",
       "        <td>0.3</td>\n",
       "        <td>0.095</td>\n",
       "        <td>0.3515</td>\n",
       "        <td>0.141</td>\n",
       "        <td>0.0775</td>\n",
       "        <td>0.12</td>\n",
       "        <td>8</td>\n",
       "    </tr>\n",
       "    <tr>\n",
       "        <td>6</td>\n",
       "        <td>F</td>\n",
       "        <td>0.53</td>\n",
       "        <td>0.415</td>\n",
       "        <td>0.15</td>\n",
       "        <td>0.7775</td>\n",
       "        <td>0.237</td>\n",
       "        <td>0.1415</td>\n",
       "        <td>0.33</td>\n",
       "        <td>20</td>\n",
       "    </tr>\n",
       "    <tr>\n",
       "        <td>7</td>\n",
       "        <td>F</td>\n",
       "        <td>0.545</td>\n",
       "        <td>0.425</td>\n",
       "        <td>0.125</td>\n",
       "        <td>0.768</td>\n",
       "        <td>0.294</td>\n",
       "        <td>0.1495</td>\n",
       "        <td>0.26</td>\n",
       "        <td>16</td>\n",
       "    </tr>\n",
       "    <tr>\n",
       "        <td>8</td>\n",
       "        <td>M</td>\n",
       "        <td>0.475</td>\n",
       "        <td>0.37</td>\n",
       "        <td>0.125</td>\n",
       "        <td>0.5095</td>\n",
       "        <td>0.2165</td>\n",
       "        <td>0.1125</td>\n",
       "        <td>0.165</td>\n",
       "        <td>9</td>\n",
       "    </tr>\n",
       "    <tr>\n",
       "        <td>9</td>\n",
       "        <td>F</td>\n",
       "        <td>0.55</td>\n",
       "        <td>0.44</td>\n",
       "        <td>0.15</td>\n",
       "        <td>0.8945</td>\n",
       "        <td>0.3145</td>\n",
       "        <td>0.151</td>\n",
       "        <td>0.32</td>\n",
       "        <td>19</td>\n",
       "    </tr>\n",
       "</table>"
      ],
      "text/plain": [
       "[(0, u'M', 0.455, 0.365, 0.095, 0.514, 0.2245, 0.101, 0.15, 15),\n",
       " (1, u'M', 0.35, 0.265, 0.09, 0.2255, 0.0995, 0.0485, 0.07, 7),\n",
       " (2, u'F', 0.53, 0.42, 0.135, 0.677, 0.2565, 0.1415, 0.21, 9),\n",
       " (3, u'M', 0.44, 0.365, 0.125, 0.516, 0.2155, 0.114, 0.155, 10),\n",
       " (4, u'I', 0.33, 0.255, 0.08, 0.205, 0.0895, 0.0395, 0.055, 7),\n",
       " (5, u'I', 0.425, 0.3, 0.095, 0.3515, 0.141, 0.0775, 0.12, 8),\n",
       " (6, u'F', 0.53, 0.415, 0.15, 0.7775, 0.237, 0.1415, 0.33, 20),\n",
       " (7, u'F', 0.545, 0.425, 0.125, 0.768, 0.294, 0.1495, 0.26, 16),\n",
       " (8, u'M', 0.475, 0.37, 0.125, 0.5095, 0.2165, 0.1125, 0.165, 9),\n",
       " (9, u'F', 0.55, 0.44, 0.15, 0.8945, 0.3145, 0.151, 0.32, 19)]"
      ]
     },
     "execution_count": 5,
     "metadata": {},
     "output_type": "execute_result"
    }
   ],
   "source": [
    "%%sql\n",
    "DROP TABLE IF EXISTS abalone;\n",
    "CREATE TABLE abalone (\n",
    "        id integer,\n",
    "        sex char(1),\n",
    "        length float,\n",
    "        diameter float,\n",
    "        height float,\n",
    "        whole_weight float,\n",
    "        shucked_weight float,\n",
    "        viscera_weight float,\n",
    "        shell_weight float,\n",
    "        rings integer\n",
    "    )\n",
    ";\n",
    "    \n",
    "DROP SEQUENCE IF EXISTS abalone_id ;\n",
    "CREATE TEMPORARY SEQUENCE abalone_id MINVALUE 0 START 0;\n",
    "\n",
    "insert into \n",
    "     abalone \n",
    "select \n",
    "      nextval('abalone_id') as id, *\n",
    "FROM \n",
    "      abalone_web\n",
    ";\n",
    "\n",
    "\n",
    "SELECT * FROM abalone ORDER BY id LIMIT 10;"
   ]
  },
  {
   "cell_type": "markdown",
   "metadata": {},
   "source": [
    "<a id=\"data_review\"></a>\n",
    "# 3. Review raw data\n",
    "\n",
    "Load some data into a local variable ```abalone```"
   ]
  },
  {
   "cell_type": "code",
   "execution_count": 6,
   "metadata": {},
   "outputs": [
    {
     "name": "stdout",
     "output_type": "stream",
     "text": [
      "4177 rows affected.\n"
     ]
    }
   ],
   "source": [
    "abalone = %sql select * from abalone where random() < 1.0 order by id limit 5000;\n",
    "abalone = abalone.DataFrame()"
   ]
  },
  {
   "cell_type": "code",
   "execution_count": 7,
   "metadata": {},
   "outputs": [
    {
     "name": "stdout",
     "output_type": "stream",
     "text": [
      "<class 'pandas.core.frame.DataFrame'>\n",
      "RangeIndex: 4177 entries, 0 to 4176\n",
      "Data columns (total 10 columns):\n",
      "id                4177 non-null int64\n",
      "sex               4177 non-null object\n",
      "length            4177 non-null float64\n",
      "diameter          4177 non-null float64\n",
      "height            4177 non-null float64\n",
      "whole_weight      4177 non-null float64\n",
      "shucked_weight    4177 non-null float64\n",
      "viscera_weight    4177 non-null float64\n",
      "shell_weight      4177 non-null float64\n",
      "rings             4177 non-null int64\n",
      "dtypes: float64(7), int64(2), object(1)\n",
      "memory usage: 326.4+ KB\n"
     ]
    }
   ],
   "source": [
    "abalone.info();"
   ]
  },
  {
   "cell_type": "markdown",
   "metadata": {},
   "source": [
    "We're interested in estimating the age of the abalone in the data.  To get age, add 1.5 to the number of rings.  A good place to begin is to create a histogram of the target variable."
   ]
  },
  {
   "cell_type": "code",
   "execution_count": 8,
   "metadata": {},
   "outputs": [
    {
     "data": {
      "image/png": "[encoded data removed]",
      "text/plain": [
       "<Figure size 432x288 with 1 Axes>"
      ]
     },
     "metadata": {
      "needs_background": "light"
     },
     "output_type": "display_data"
    }
   ],
   "source": [
    "(abalone.rings + 1.5 ).hist(bins=20);"
   ]
  },
  {
   "cell_type": "code",
   "execution_count": 9,
   "metadata": {},
   "outputs": [
    {
     "data": {
      "text/plain": [
       "True     2770\n",
       "False    1407\n",
       "Name: rings, dtype: int64"
      ]
     },
     "execution_count": 9,
     "metadata": {},
     "output_type": "execute_result"
    }
   ],
   "source": [
    "((abalone.rings + 1.5) >= 10).value_counts()"
   ]
  },
  {
   "cell_type": "markdown",
   "metadata": {},
   "source": [
    "### Look at the cumulative distribution"
   ]
  },
  {
   "cell_type": "code",
   "execution_count": 10,
   "metadata": {},
   "outputs": [
    {
     "data": {
      "image/png": "[encoded data removed]",
      "text/plain": [
       "<Figure size 432x288 with 1 Axes>"
      ]
     },
     "metadata": {
      "needs_background": "light"
     },
     "output_type": "display_data"
    }
   ],
   "source": [
    "n_cumsum_df = pd.DataFrame({'Cumulative Sum':((abalone.rings + 1.5).value_counts().sort_index().cumsum())/abalone.shape[0]})\n",
    "ax = n_cumsum_df.plot();\n",
    "ax.set_xlabel('Age');\n",
    "ax.set_ylabel('Normalized Cumulative Sum');"
   ]
  },
  {
   "cell_type": "markdown",
   "metadata": {},
   "source": [
    "<a id=\"explore\"></a>\n",
    "# 4. Process and explore data\n",
    "\n",
    "Create a column for maturity"
   ]
  },
  {
   "cell_type": "code",
   "execution_count": 11,
   "metadata": {},
   "outputs": [
    {
     "name": "stdout",
     "output_type": "stream",
     "text": [
      "Done.\n",
      "4177 rows affected.\n",
      "10 rows affected.\n"
     ]
    },
    {
     "data": {
      "text/html": [
       "<table>\n",
       "    <tr>\n",
       "        <th>id</th>\n",
       "        <th>sex</th>\n",
       "        <th>length</th>\n",
       "        <th>diameter</th>\n",
       "        <th>height</th>\n",
       "        <th>whole_weight</th>\n",
       "        <th>shucked_weight</th>\n",
       "        <th>viscera_weight</th>\n",
       "        <th>shell_weight</th>\n",
       "        <th>rings</th>\n",
       "        <th>age</th>\n",
       "        <th>mature</th>\n",
       "    </tr>\n",
       "    <tr>\n",
       "        <td>3</td>\n",
       "        <td>m</td>\n",
       "        <td>0.44</td>\n",
       "        <td>0.365</td>\n",
       "        <td>0.125</td>\n",
       "        <td>0.516</td>\n",
       "        <td>0.2155</td>\n",
       "        <td>0.114</td>\n",
       "        <td>0.155</td>\n",
       "        <td>10</td>\n",
       "        <td>11.5</td>\n",
       "        <td>1</td>\n",
       "    </tr>\n",
       "    <tr>\n",
       "        <td>7</td>\n",
       "        <td>f</td>\n",
       "        <td>0.545</td>\n",
       "        <td>0.425</td>\n",
       "        <td>0.125</td>\n",
       "        <td>0.768</td>\n",
       "        <td>0.294</td>\n",
       "        <td>0.1495</td>\n",
       "        <td>0.26</td>\n",
       "        <td>16</td>\n",
       "        <td>17.5</td>\n",
       "        <td>1</td>\n",
       "    </tr>\n",
       "    <tr>\n",
       "        <td>11</td>\n",
       "        <td>m</td>\n",
       "        <td>0.43</td>\n",
       "        <td>0.35</td>\n",
       "        <td>0.11</td>\n",
       "        <td>0.406</td>\n",
       "        <td>0.1675</td>\n",
       "        <td>0.081</td>\n",
       "        <td>0.135</td>\n",
       "        <td>10</td>\n",
       "        <td>11.5</td>\n",
       "        <td>1</td>\n",
       "    </tr>\n",
       "    <tr>\n",
       "        <td>15</td>\n",
       "        <td>m</td>\n",
       "        <td>0.5</td>\n",
       "        <td>0.4</td>\n",
       "        <td>0.13</td>\n",
       "        <td>0.6645</td>\n",
       "        <td>0.258</td>\n",
       "        <td>0.133</td>\n",
       "        <td>0.24</td>\n",
       "        <td>12</td>\n",
       "        <td>13.5</td>\n",
       "        <td>1</td>\n",
       "    </tr>\n",
       "    <tr>\n",
       "        <td>19</td>\n",
       "        <td>m</td>\n",
       "        <td>0.45</td>\n",
       "        <td>0.32</td>\n",
       "        <td>0.1</td>\n",
       "        <td>0.381</td>\n",
       "        <td>0.1705</td>\n",
       "        <td>0.075</td>\n",
       "        <td>0.115</td>\n",
       "        <td>9</td>\n",
       "        <td>10.5</td>\n",
       "        <td>1</td>\n",
       "    </tr>\n",
       "    <tr>\n",
       "        <td>23</td>\n",
       "        <td>f</td>\n",
       "        <td>0.55</td>\n",
       "        <td>0.415</td>\n",
       "        <td>0.135</td>\n",
       "        <td>0.7635</td>\n",
       "        <td>0.318</td>\n",
       "        <td>0.21</td>\n",
       "        <td>0.2</td>\n",
       "        <td>9</td>\n",
       "        <td>10.5</td>\n",
       "        <td>1</td>\n",
       "    </tr>\n",
       "    <tr>\n",
       "        <td>27</td>\n",
       "        <td>m</td>\n",
       "        <td>0.59</td>\n",
       "        <td>0.445</td>\n",
       "        <td>0.14</td>\n",
       "        <td>0.931</td>\n",
       "        <td>0.356</td>\n",
       "        <td>0.234</td>\n",
       "        <td>0.28</td>\n",
       "        <td>12</td>\n",
       "        <td>13.5</td>\n",
       "        <td>1</td>\n",
       "    </tr>\n",
       "    <tr>\n",
       "        <td>31</td>\n",
       "        <td>f</td>\n",
       "        <td>0.68</td>\n",
       "        <td>0.56</td>\n",
       "        <td>0.165</td>\n",
       "        <td>1.639</td>\n",
       "        <td>0.6055</td>\n",
       "        <td>0.2805</td>\n",
       "        <td>0.46</td>\n",
       "        <td>15</td>\n",
       "        <td>16.5</td>\n",
       "        <td>1</td>\n",
       "    </tr>\n",
       "    <tr>\n",
       "        <td>35</td>\n",
       "        <td>m</td>\n",
       "        <td>0.465</td>\n",
       "        <td>0.355</td>\n",
       "        <td>0.105</td>\n",
       "        <td>0.4795</td>\n",
       "        <td>0.227</td>\n",
       "        <td>0.124</td>\n",
       "        <td>0.125</td>\n",
       "        <td>8</td>\n",
       "        <td>9.5</td>\n",
       "        <td>0</td>\n",
       "    </tr>\n",
       "    <tr>\n",
       "        <td>39</td>\n",
       "        <td>m</td>\n",
       "        <td>0.355</td>\n",
       "        <td>0.29</td>\n",
       "        <td>0.09</td>\n",
       "        <td>0.3275</td>\n",
       "        <td>0.134</td>\n",
       "        <td>0.086</td>\n",
       "        <td>0.09</td>\n",
       "        <td>9</td>\n",
       "        <td>10.5</td>\n",
       "        <td>1</td>\n",
       "    </tr>\n",
       "</table>"
      ],
      "text/plain": [
       "[(3, u'm', 0.44, 0.365, 0.125, 0.516, 0.2155, 0.114, 0.155, 10, Decimal('11.5'), 1),\n",
       " (7, u'f', 0.545, 0.425, 0.125, 0.768, 0.294, 0.1495, 0.26, 16, Decimal('17.5'), 1),\n",
       " (11, u'm', 0.43, 0.35, 0.11, 0.406, 0.1675, 0.081, 0.135, 10, Decimal('11.5'), 1),\n",
       " (15, u'm', 0.5, 0.4, 0.13, 0.6645, 0.258, 0.133, 0.24, 12, Decimal('13.5'), 1),\n",
       " (19, u'm', 0.45, 0.32, 0.1, 0.381, 0.1705, 0.075, 0.115, 9, Decimal('10.5'), 1),\n",
       " (23, u'f', 0.55, 0.415, 0.135, 0.7635, 0.318, 0.21, 0.2, 9, Decimal('10.5'), 1),\n",
       " (27, u'm', 0.59, 0.445, 0.14, 0.931, 0.356, 0.234, 0.28, 12, Decimal('13.5'), 1),\n",
       " (31, u'f', 0.68, 0.56, 0.165, 1.639, 0.6055, 0.2805, 0.46, 15, Decimal('16.5'), 1),\n",
       " (35, u'm', 0.465, 0.355, 0.105, 0.4795, 0.227, 0.124, 0.125, 8, Decimal('9.5'), 0),\n",
       " (39, u'm', 0.355, 0.29, 0.09, 0.3275, 0.134, 0.086, 0.09, 9, Decimal('10.5'), 1)]"
      ]
     },
     "execution_count": 11,
     "metadata": {},
     "output_type": "execute_result"
    }
   ],
   "source": [
    "%%sql\n",
    "DROP TABLE IF EXISTS abalone_target;\n",
    "CREATE TABLE abalone_target\n",
    "AS\n",
    "SELECT \n",
    "    id,\n",
    "    lower(sex) as sex,                     --- ensure that sex is indicated in lower case  (m, f, i)\n",
    "    \"length\",\n",
    "    diameter,\n",
    "    height,\n",
    "    whole_weight,\n",
    "    shucked_weight,\n",
    "    viscera_weight,\n",
    "    shell_weight,\n",
    "    rings,\n",
    "    rings + 1.5 as age,                    --- Define the age\n",
    "    CASE WHEN                              --- Identifies whether the abalone is mature or not (1/0)\n",
    "            (rings + 1.5) >= 10.0\n",
    "        THEN 1\n",
    "        ELSE 0\n",
    "    END as mature\n",
    "FROM abalone\n",
    ";\n",
    "SELECT * FROM abalone_target LIMIT 10;  --- show a sample"
   ]
  },
  {
   "cell_type": "markdown",
   "metadata": {},
   "source": [
    "## Encode categorical variables\n",
    "\n",
    "Next use [MADlib to one-hot encode](http://madlib.apache.org/docs/latest/group__grp__encode__categorical.html) the “sex” column which is a categorical variable.  In order to create a predictive model, we need all our columns to be numerical values.  Making sure all our model inputs conform to this standard is an important part of the data science modeling pipeline and is considered part of the preprocessing/data cleaning step of the process."
   ]
  },
  {
   "cell_type": "code",
   "execution_count": 12,
   "metadata": {},
   "outputs": [
    {
     "name": "stdout",
     "output_type": "stream",
     "text": [
      "Done.\n",
      "1 rows affected.\n",
      "10 rows affected.\n"
     ]
    },
    {
     "data": {
      "text/html": [
       "<table>\n",
       "    <tr>\n",
       "        <th>id</th>\n",
       "        <th>length</th>\n",
       "        <th>diameter</th>\n",
       "        <th>height</th>\n",
       "        <th>whole_weight</th>\n",
       "        <th>shucked_weight</th>\n",
       "        <th>viscera_weight</th>\n",
       "        <th>shell_weight</th>\n",
       "        <th>rings</th>\n",
       "        <th>age</th>\n",
       "        <th>mature</th>\n",
       "        <th>sex_f</th>\n",
       "        <th>sex_i</th>\n",
       "        <th>sex_m</th>\n",
       "    </tr>\n",
       "    <tr>\n",
       "        <td>5</td>\n",
       "        <td>0.425</td>\n",
       "        <td>0.3</td>\n",
       "        <td>0.095</td>\n",
       "        <td>0.3515</td>\n",
       "        <td>0.141</td>\n",
       "        <td>0.0775</td>\n",
       "        <td>0.12</td>\n",
       "        <td>8</td>\n",
       "        <td>9.5</td>\n",
       "        <td>0</td>\n",
       "        <td>0</td>\n",
       "        <td>1</td>\n",
       "        <td>0</td>\n",
       "    </tr>\n",
       "    <tr>\n",
       "        <td>13</td>\n",
       "        <td>0.535</td>\n",
       "        <td>0.405</td>\n",
       "        <td>0.145</td>\n",
       "        <td>0.6845</td>\n",
       "        <td>0.2725</td>\n",
       "        <td>0.171</td>\n",
       "        <td>0.205</td>\n",
       "        <td>10</td>\n",
       "        <td>11.5</td>\n",
       "        <td>1</td>\n",
       "        <td>1</td>\n",
       "        <td>0</td>\n",
       "        <td>0</td>\n",
       "    </tr>\n",
       "    <tr>\n",
       "        <td>21</td>\n",
       "        <td>0.38</td>\n",
       "        <td>0.275</td>\n",
       "        <td>0.1</td>\n",
       "        <td>0.2255</td>\n",
       "        <td>0.08</td>\n",
       "        <td>0.049</td>\n",
       "        <td>0.085</td>\n",
       "        <td>10</td>\n",
       "        <td>11.5</td>\n",
       "        <td>1</td>\n",
       "        <td>0</td>\n",
       "        <td>1</td>\n",
       "        <td>0</td>\n",
       "    </tr>\n",
       "    <tr>\n",
       "        <td>29</td>\n",
       "        <td>0.575</td>\n",
       "        <td>0.425</td>\n",
       "        <td>0.14</td>\n",
       "        <td>0.8635</td>\n",
       "        <td>0.393</td>\n",
       "        <td>0.227</td>\n",
       "        <td>0.2</td>\n",
       "        <td>11</td>\n",
       "        <td>12.5</td>\n",
       "        <td>1</td>\n",
       "        <td>0</td>\n",
       "        <td>0</td>\n",
       "        <td>1</td>\n",
       "    </tr>\n",
       "    <tr>\n",
       "        <td>37</td>\n",
       "        <td>0.45</td>\n",
       "        <td>0.355</td>\n",
       "        <td>0.105</td>\n",
       "        <td>0.5225</td>\n",
       "        <td>0.237</td>\n",
       "        <td>0.1165</td>\n",
       "        <td>0.145</td>\n",
       "        <td>8</td>\n",
       "        <td>9.5</td>\n",
       "        <td>0</td>\n",
       "        <td>1</td>\n",
       "        <td>0</td>\n",
       "        <td>0</td>\n",
       "    </tr>\n",
       "    <tr>\n",
       "        <td>45</td>\n",
       "        <td>0.39</td>\n",
       "        <td>0.295</td>\n",
       "        <td>0.095</td>\n",
       "        <td>0.203</td>\n",
       "        <td>0.0875</td>\n",
       "        <td>0.045</td>\n",
       "        <td>0.075</td>\n",
       "        <td>7</td>\n",
       "        <td>8.5</td>\n",
       "        <td>0</td>\n",
       "        <td>0</td>\n",
       "        <td>1</td>\n",
       "        <td>0</td>\n",
       "    </tr>\n",
       "    <tr>\n",
       "        <td>53</td>\n",
       "        <td>0.47</td>\n",
       "        <td>0.36</td>\n",
       "        <td>0.12</td>\n",
       "        <td>0.4775</td>\n",
       "        <td>0.2105</td>\n",
       "        <td>0.1055</td>\n",
       "        <td>0.15</td>\n",
       "        <td>10</td>\n",
       "        <td>11.5</td>\n",
       "        <td>1</td>\n",
       "        <td>1</td>\n",
       "        <td>0</td>\n",
       "        <td>0</td>\n",
       "    </tr>\n",
       "    <tr>\n",
       "        <td>59</td>\n",
       "        <td>0.505</td>\n",
       "        <td>0.4</td>\n",
       "        <td>0.125</td>\n",
       "        <td>0.583</td>\n",
       "        <td>0.246</td>\n",
       "        <td>0.13</td>\n",
       "        <td>0.175</td>\n",
       "        <td>7</td>\n",
       "        <td>8.5</td>\n",
       "        <td>0</td>\n",
       "        <td>1</td>\n",
       "        <td>0</td>\n",
       "        <td>0</td>\n",
       "    </tr>\n",
       "    <tr>\n",
       "        <td>67</td>\n",
       "        <td>0.595</td>\n",
       "        <td>0.495</td>\n",
       "        <td>0.185</td>\n",
       "        <td>1.285</td>\n",
       "        <td>0.416</td>\n",
       "        <td>0.224</td>\n",
       "        <td>0.485</td>\n",
       "        <td>13</td>\n",
       "        <td>14.5</td>\n",
       "        <td>1</td>\n",
       "        <td>1</td>\n",
       "        <td>0</td>\n",
       "        <td>0</td>\n",
       "    </tr>\n",
       "    <tr>\n",
       "        <td>75</td>\n",
       "        <td>0.6</td>\n",
       "        <td>0.475</td>\n",
       "        <td>0.15</td>\n",
       "        <td>1.0075</td>\n",
       "        <td>0.4425</td>\n",
       "        <td>0.221</td>\n",
       "        <td>0.28</td>\n",
       "        <td>15</td>\n",
       "        <td>16.5</td>\n",
       "        <td>1</td>\n",
       "        <td>1</td>\n",
       "        <td>0</td>\n",
       "        <td>0</td>\n",
       "    </tr>\n",
       "</table>"
      ],
      "text/plain": [
       "[(5, 0.425, 0.3, 0.095, 0.3515, 0.141, 0.0775, 0.12, 8, Decimal('9.5'), 0, 0, 1, 0),\n",
       " (13, 0.535, 0.405, 0.145, 0.6845, 0.2725, 0.171, 0.205, 10, Decimal('11.5'), 1, 1, 0, 0),\n",
       " (21, 0.38, 0.275, 0.1, 0.2255, 0.08, 0.049, 0.085, 10, Decimal('11.5'), 1, 0, 1, 0),\n",
       " (29, 0.575, 0.425, 0.14, 0.8635, 0.393, 0.227, 0.2, 11, Decimal('12.5'), 1, 0, 0, 1),\n",
       " (37, 0.45, 0.355, 0.105, 0.5225, 0.237, 0.1165, 0.145, 8, Decimal('9.5'), 0, 1, 0, 0),\n",
       " (45, 0.39, 0.295, 0.095, 0.203, 0.0875, 0.045, 0.075, 7, Decimal('8.5'), 0, 0, 1, 0),\n",
       " (53, 0.47, 0.36, 0.12, 0.4775, 0.2105, 0.1055, 0.15, 10, Decimal('11.5'), 1, 1, 0, 0),\n",
       " (59, 0.505, 0.4, 0.125, 0.583, 0.246, 0.13, 0.175, 7, Decimal('8.5'), 0, 1, 0, 0),\n",
       " (67, 0.595, 0.495, 0.185, 1.285, 0.416, 0.224, 0.485, 13, Decimal('14.5'), 1, 1, 0, 0),\n",
       " (75, 0.6, 0.475, 0.15, 1.0075, 0.4425, 0.221, 0.28, 15, Decimal('16.5'), 1, 1, 0, 0)]"
      ]
     },
     "execution_count": 12,
     "metadata": {},
     "output_type": "execute_result"
    }
   ],
   "source": [
    "%%sql\n",
    "DROP TABLE IF EXISTS abalone_encoded;\n",
    "SELECT\n",
    "madlib.encode_categorical_variables (\n",
    "        'abalone_target',  -- input table\n",
    "        'abalone_encoded',  -- output table\n",
    "        'sex',   -- categorical_cols\n",
    "        NULL,  --categorical_cols_to_exclude    -- Optional\n",
    "        NULL,  --row_id,                         -- Optional\n",
    "        NULL,  --top,                            -- Optional\n",
    "        NULL,  --value_to_drop,                  -- Optional\n",
    "        NULL,  --encode_null,                    -- Optional\n",
    "        NULL,  --output_type,                    -- Optional\n",
    "        NULL,  --output_dictionary,              -- Optional\n",
    "        NULL  --distributed_by                  -- Optional\n",
    "    )\n",
    ";\n",
    "SELECT *\n",
    "FROM abalone_encoded\n",
    "LIMIT 10"
   ]
  },
  {
   "cell_type": "markdown",
   "metadata": {},
   "source": [
    "##  Statistics\n",
    "\n",
    "The next step through the modeling process is to explore our data.  We’ll again use some of MADLib’s built in functionality to generate [descriptive statistics](http://madlib.apache.org/docs/latest/group__grp__summary.html) of our data.  This will generate important information about the data including count, number of missing values, the mean, median, maximum, minimum, interquartile range, mode, and variance.\n",
    "\n",
    "Note that you only want to do this after converting categorical data to numeric data because otherwise the statistics will not be compute correctly."
   ]
  },
  {
   "cell_type": "code",
   "execution_count": 13,
   "metadata": {},
   "outputs": [
    {
     "name": "stdout",
     "output_type": "stream",
     "text": [
      "Done.\n",
      "1 rows affected.\n",
      "14 rows affected.\n"
     ]
    },
    {
     "data": {
      "text/html": [
       "<table>\n",
       "    <tr>\n",
       "        <th>group_by</th>\n",
       "        <th>group_by_value</th>\n",
       "        <th>target_column</th>\n",
       "        <th>column_number</th>\n",
       "        <th>data_type</th>\n",
       "        <th>row_count</th>\n",
       "        <th>distinct_values</th>\n",
       "        <th>missing_values</th>\n",
       "        <th>blank_values</th>\n",
       "        <th>fraction_missing</th>\n",
       "        <th>fraction_blank</th>\n",
       "        <th>positive_values</th>\n",
       "        <th>negative_values</th>\n",
       "        <th>zero_values</th>\n",
       "        <th>mean</th>\n",
       "        <th>variance</th>\n",
       "        <th>confidence_interval</th>\n",
       "        <th>min</th>\n",
       "        <th>max</th>\n",
       "        <th>first_quartile</th>\n",
       "        <th>median</th>\n",
       "        <th>third_quartile</th>\n",
       "        <th>most_frequent_values</th>\n",
       "        <th>mfv_frequencies</th>\n",
       "    </tr>\n",
       "    <tr>\n",
       "        <td>None</td>\n",
       "        <td>None</td>\n",
       "        <td>id</td>\n",
       "        <td>1</td>\n",
       "        <td>int4</td>\n",
       "        <td>4177</td>\n",
       "        <td>4177</td>\n",
       "        <td>0</td>\n",
       "        <td>None</td>\n",
       "        <td>0.0</td>\n",
       "        <td>None</td>\n",
       "        <td>4176</td>\n",
       "        <td>0</td>\n",
       "        <td>1</td>\n",
       "        <td>2088.0</td>\n",
       "        <td>1454292.16667</td>\n",
       "        <td>[2051.42791957426, 2124.57208042574]</td>\n",
       "        <td>0.0</td>\n",
       "        <td>4176.0</td>\n",
       "        <td>1044.0</td>\n",
       "        <td>2088.0</td>\n",
       "        <td>3132.0</td>\n",
       "        <td>[u'4117', u'4114', u'2700', u'3093', u'3595', u'3529', u'3114', u'3451', u'3185', u'3049']</td>\n",
       "        <td>[5L, 5L, 4L, 4L, 4L, 4L, 4L, 4L, 4L, 4L]</td>\n",
       "    </tr>\n",
       "    <tr>\n",
       "        <td>None</td>\n",
       "        <td>None</td>\n",
       "        <td>length</td>\n",
       "        <td>2</td>\n",
       "        <td>float8</td>\n",
       "        <td>4177</td>\n",
       "        <td>134</td>\n",
       "        <td>0</td>\n",
       "        <td>None</td>\n",
       "        <td>0.0</td>\n",
       "        <td>None</td>\n",
       "        <td>4177</td>\n",
       "        <td>0</td>\n",
       "        <td>0</td>\n",
       "        <td>0.523992099593</td>\n",
       "        <td>0.0144223076483</td>\n",
       "        <td>[0.520350088942874, 0.527634110243145]</td>\n",
       "        <td>0.075</td>\n",
       "        <td>0.815</td>\n",
       "        <td>0.45</td>\n",
       "        <td>0.545</td>\n",
       "        <td>0.615</td>\n",
       "        <td>[u'0.55', u'0.625', u'0.575', u'0.58', u'0.6', u'0.62', u'0.5', u'0.57', u'0.63', u'0.61']</td>\n",
       "        <td>[94L, 94L, 93L, 92L, 87L, 87L, 81L, 79L, 78L, 75L]</td>\n",
       "    </tr>\n",
       "    <tr>\n",
       "        <td>None</td>\n",
       "        <td>None</td>\n",
       "        <td>diameter</td>\n",
       "        <td>3</td>\n",
       "        <td>float8</td>\n",
       "        <td>4177</td>\n",
       "        <td>111</td>\n",
       "        <td>0</td>\n",
       "        <td>None</td>\n",
       "        <td>0.0</td>\n",
       "        <td>None</td>\n",
       "        <td>4177</td>\n",
       "        <td>0</td>\n",
       "        <td>0</td>\n",
       "        <td>0.407881254489</td>\n",
       "        <td>0.00984855103022</td>\n",
       "        <td>[0.404871645997763, 0.410890862979976]</td>\n",
       "        <td>0.055</td>\n",
       "        <td>0.65</td>\n",
       "        <td>0.35</td>\n",
       "        <td>0.425</td>\n",
       "        <td>0.48</td>\n",
       "        <td>[u'0.45', u'0.475', u'0.4', u'0.5', u'0.47', u'0.48', u'0.455', u'0.46', u'0.44', u'0.485']</td>\n",
       "        <td>[139L, 120L, 111L, 110L, 100L, 91L, 90L, 89L, 87L, 83L]</td>\n",
       "    </tr>\n",
       "    <tr>\n",
       "        <td>None</td>\n",
       "        <td>None</td>\n",
       "        <td>height</td>\n",
       "        <td>4</td>\n",
       "        <td>float8</td>\n",
       "        <td>4177</td>\n",
       "        <td>51</td>\n",
       "        <td>0</td>\n",
       "        <td>None</td>\n",
       "        <td>0.0</td>\n",
       "        <td>None</td>\n",
       "        <td>4175</td>\n",
       "        <td>0</td>\n",
       "        <td>2</td>\n",
       "        <td>0.13951639933</td>\n",
       "        <td>0.00174950266443</td>\n",
       "        <td>[0.138247926591562, 0.140784872067761]</td>\n",
       "        <td>0.0</td>\n",
       "        <td>1.13</td>\n",
       "        <td>0.115</td>\n",
       "        <td>0.14</td>\n",
       "        <td>0.165</td>\n",
       "        <td>[u'0.15', u'0.14', u'0.155', u'0.175', u'0.16', u'0.125', u'0.165', u'0.135', u'0.145', u'0.13']</td>\n",
       "        <td>[267L, 220L, 217L, 211L, 205L, 202L, 193L, 189L, 182L, 169L]</td>\n",
       "    </tr>\n",
       "    <tr>\n",
       "        <td>None</td>\n",
       "        <td>None</td>\n",
       "        <td>whole_weight</td>\n",
       "        <td>5</td>\n",
       "        <td>float8</td>\n",
       "        <td>4177</td>\n",
       "        <td>2429</td>\n",
       "        <td>0</td>\n",
       "        <td>None</td>\n",
       "        <td>0.0</td>\n",
       "        <td>None</td>\n",
       "        <td>4177</td>\n",
       "        <td>0</td>\n",
       "        <td>0</td>\n",
       "        <td>0.828742159445</td>\n",
       "        <td>0.240481389202</td>\n",
       "        <td>[0.813870324055101, 0.843613994834058]</td>\n",
       "        <td>0.002</td>\n",
       "        <td>2.8255</td>\n",
       "        <td>0.4415</td>\n",
       "        <td>0.7995</td>\n",
       "        <td>1.153</td>\n",
       "        <td>[u'1.1345', u'0.196', u'0.2225', u'0.97', u'0.858', u'1.0835', u'0.4775', u'0.872', u'1.1155', u'1.229']</td>\n",
       "        <td>[11L, 8L, 8L, 7L, 7L, 7L, 7L, 7L, 7L, 7L]</td>\n",
       "    </tr>\n",
       "    <tr>\n",
       "        <td>None</td>\n",
       "        <td>None</td>\n",
       "        <td>shucked_weight</td>\n",
       "        <td>6</td>\n",
       "        <td>float8</td>\n",
       "        <td>4177</td>\n",
       "        <td>1515</td>\n",
       "        <td>0</td>\n",
       "        <td>None</td>\n",
       "        <td>0.0</td>\n",
       "        <td>None</td>\n",
       "        <td>4177</td>\n",
       "        <td>0</td>\n",
       "        <td>0</td>\n",
       "        <td>0.359367488628</td>\n",
       "        <td>0.0492675507435</td>\n",
       "        <td>[0.352636105342962, 0.366098871913441]</td>\n",
       "        <td>0.001</td>\n",
       "        <td>1.488</td>\n",
       "        <td>0.186</td>\n",
       "        <td>0.336</td>\n",
       "        <td>0.502</td>\n",
       "        <td>[u'0.175', u'0.2505', u'0.2', u'0.302', u'0.2945', u'0.419', u'0.2025', u'0.165', u'0.096', u'0.097']</td>\n",
       "        <td>[11L, 10L, 9L, 9L, 9L, 9L, 9L, 9L, 9L, 9L]</td>\n",
       "    </tr>\n",
       "    <tr>\n",
       "        <td>None</td>\n",
       "        <td>None</td>\n",
       "        <td>viscera_weight</td>\n",
       "        <td>7</td>\n",
       "        <td>float8</td>\n",
       "        <td>4177</td>\n",
       "        <td>880</td>\n",
       "        <td>0</td>\n",
       "        <td>None</td>\n",
       "        <td>0.0</td>\n",
       "        <td>None</td>\n",
       "        <td>4177</td>\n",
       "        <td>0</td>\n",
       "        <td>0</td>\n",
       "        <td>0.180593607853</td>\n",
       "        <td>0.01201528386</td>\n",
       "        <td>[0.177269379483621, 0.183917836221432]</td>\n",
       "        <td>0.0005</td>\n",
       "        <td>0.76</td>\n",
       "        <td>0.0935</td>\n",
       "        <td>0.171</td>\n",
       "        <td>0.253</td>\n",
       "        <td>[u'0.1715', u'0.196', u'0.037', u'0.2195', u'0.0575', u'0.061', u'0.096', u'0.1905', u'0.207', u'0.0265']</td>\n",
       "        <td>[15L, 14L, 13L, 13L, 13L, 13L, 12L, 12L, 12L, 12L]</td>\n",
       "    </tr>\n",
       "    <tr>\n",
       "        <td>None</td>\n",
       "        <td>None</td>\n",
       "        <td>shell_weight</td>\n",
       "        <td>8</td>\n",
       "        <td>float8</td>\n",
       "        <td>4177</td>\n",
       "        <td>926</td>\n",
       "        <td>0</td>\n",
       "        <td>None</td>\n",
       "        <td>0.0</td>\n",
       "        <td>None</td>\n",
       "        <td>4177</td>\n",
       "        <td>0</td>\n",
       "        <td>0</td>\n",
       "        <td>0.238830859469</td>\n",
       "        <td>0.0193773832022</td>\n",
       "        <td>[0.234609314715373, 0.243052404221663]</td>\n",
       "        <td>0.0015</td>\n",
       "        <td>1.005</td>\n",
       "        <td>0.13</td>\n",
       "        <td>0.234</td>\n",
       "        <td>0.329</td>\n",
       "        <td>[u'0.275', u'0.25', u'0.315', u'0.185', u'0.265', u'0.17', u'0.285', u'0.3', u'0.22', u'0.175']</td>\n",
       "        <td>[43L, 42L, 40L, 40L, 40L, 37L, 37L, 37L, 36L, 36L]</td>\n",
       "    </tr>\n",
       "    <tr>\n",
       "        <td>None</td>\n",
       "        <td>None</td>\n",
       "        <td>rings</td>\n",
       "        <td>9</td>\n",
       "        <td>int4</td>\n",
       "        <td>4177</td>\n",
       "        <td>28</td>\n",
       "        <td>0</td>\n",
       "        <td>None</td>\n",
       "        <td>0.0</td>\n",
       "        <td>None</td>\n",
       "        <td>4177</td>\n",
       "        <td>0</td>\n",
       "        <td>0</td>\n",
       "        <td>9.93368446253</td>\n",
       "        <td>10.3952659473</td>\n",
       "        <td>[9.83590635305212, 10.0314625720137]</td>\n",
       "        <td>1.0</td>\n",
       "        <td>29.0</td>\n",
       "        <td>8.0</td>\n",
       "        <td>9.0</td>\n",
       "        <td>11.0</td>\n",
       "        <td>[u'9', u'10', u'8', u'11', u'7', u'12', u'6', u'13', u'14', u'5']</td>\n",
       "        <td>[689L, 634L, 568L, 487L, 391L, 267L, 259L, 203L, 126L, 115L]</td>\n",
       "    </tr>\n",
       "    <tr>\n",
       "        <td>None</td>\n",
       "        <td>None</td>\n",
       "        <td>age</td>\n",
       "        <td>10</td>\n",
       "        <td>numeric</td>\n",
       "        <td>4177</td>\n",
       "        <td>28</td>\n",
       "        <td>0</td>\n",
       "        <td>None</td>\n",
       "        <td>0.0</td>\n",
       "        <td>None</td>\n",
       "        <td>4177</td>\n",
       "        <td>0</td>\n",
       "        <td>0</td>\n",
       "        <td>11.4336844625</td>\n",
       "        <td>10.3952659473</td>\n",
       "        <td>[11.3359063530521, 11.5314625720137]</td>\n",
       "        <td>2.5</td>\n",
       "        <td>30.5</td>\n",
       "        <td>9.5</td>\n",
       "        <td>10.5</td>\n",
       "        <td>12.5</td>\n",
       "        <td>[u'10.5', u'11.5', u'9.5', u'12.5', u'8.5', u'13.5', u'7.5', u'14.5', u'15.5', u'6.5']</td>\n",
       "        <td>[689L, 634L, 568L, 487L, 391L, 267L, 259L, 203L, 126L, 115L]</td>\n",
       "    </tr>\n",
       "    <tr>\n",
       "        <td>None</td>\n",
       "        <td>None</td>\n",
       "        <td>mature</td>\n",
       "        <td>11</td>\n",
       "        <td>int4</td>\n",
       "        <td>4177</td>\n",
       "        <td>2</td>\n",
       "        <td>0</td>\n",
       "        <td>None</td>\n",
       "        <td>0.0</td>\n",
       "        <td>None</td>\n",
       "        <td>2770</td>\n",
       "        <td>0</td>\n",
       "        <td>1407</td>\n",
       "        <td>0.663155374671</td>\n",
       "        <td>0.223433815173</td>\n",
       "        <td>[0.648820355293342, 0.67749039404829]</td>\n",
       "        <td>0.0</td>\n",
       "        <td>1.0</td>\n",
       "        <td>0.0</td>\n",
       "        <td>1.0</td>\n",
       "        <td>1.0</td>\n",
       "        <td>[u'1', u'0']</td>\n",
       "        <td>[2770L, 1407L]</td>\n",
       "    </tr>\n",
       "    <tr>\n",
       "        <td>None</td>\n",
       "        <td>None</td>\n",
       "        <td>sex_f</td>\n",
       "        <td>12</td>\n",
       "        <td>int4</td>\n",
       "        <td>4177</td>\n",
       "        <td>2</td>\n",
       "        <td>0</td>\n",
       "        <td>None</td>\n",
       "        <td>0.0</td>\n",
       "        <td>None</td>\n",
       "        <td>1307</td>\n",
       "        <td>0</td>\n",
       "        <td>2870</td>\n",
       "        <td>0.312903998085</td>\n",
       "        <td>0.215046569565</td>\n",
       "        <td>[0.298840605732167, 0.326967390437333]</td>\n",
       "        <td>0.0</td>\n",
       "        <td>1.0</td>\n",
       "        <td>0.0</td>\n",
       "        <td>0.0</td>\n",
       "        <td>1.0</td>\n",
       "        <td>[u'0', u'1']</td>\n",
       "        <td>[2870L, 1307L]</td>\n",
       "    </tr>\n",
       "    <tr>\n",
       "        <td>None</td>\n",
       "        <td>None</td>\n",
       "        <td>sex_i</td>\n",
       "        <td>13</td>\n",
       "        <td>int4</td>\n",
       "        <td>4177</td>\n",
       "        <td>2</td>\n",
       "        <td>0</td>\n",
       "        <td>None</td>\n",
       "        <td>0.0</td>\n",
       "        <td>None</td>\n",
       "        <td>1342</td>\n",
       "        <td>0</td>\n",
       "        <td>2835</td>\n",
       "        <td>0.32128321762</td>\n",
       "        <td>0.218112529203</td>\n",
       "        <td>[0.30711992784858, 0.335446507392023]</td>\n",
       "        <td>0.0</td>\n",
       "        <td>1.0</td>\n",
       "        <td>0.0</td>\n",
       "        <td>0.0</td>\n",
       "        <td>1.0</td>\n",
       "        <td>[u'0', u'1']</td>\n",
       "        <td>[2835L, 1342L]</td>\n",
       "    </tr>\n",
       "    <tr>\n",
       "        <td>None</td>\n",
       "        <td>None</td>\n",
       "        <td>sex_m</td>\n",
       "        <td>14</td>\n",
       "        <td>int4</td>\n",
       "        <td>4177</td>\n",
       "        <td>2</td>\n",
       "        <td>0</td>\n",
       "        <td>None</td>\n",
       "        <td>0.0</td>\n",
       "        <td>None</td>\n",
       "        <td>1528</td>\n",
       "        <td>0</td>\n",
       "        <td>2649</td>\n",
       "        <td>0.365812784295</td>\n",
       "        <td>0.23204934521</td>\n",
       "        <td>[0.351204002328337, 0.380421566261561]</td>\n",
       "        <td>0.0</td>\n",
       "        <td>1.0</td>\n",
       "        <td>0.0</td>\n",
       "        <td>0.0</td>\n",
       "        <td>1.0</td>\n",
       "        <td>[u'0', u'1']</td>\n",
       "        <td>[2649L, 1528L]</td>\n",
       "    </tr>\n",
       "</table>"
      ],
      "text/plain": [
       "[(None, None, u'id', 1, u'int4', 4177L, 4177L, 0L, None, 0.0, None, 4176L, 0L, 1L, 2088.0, 1454292.16666667, [2051.42791957426, 2124.57208042574], 0.0, 4176.0, 1044.0, 2088.0, 3132.0, [u'4117', u'4114', u'2700', u'3093', u'3595', u'3529', u'3114', u'3451', u'3185', u'3049'], [5L, 5L, 4L, 4L, 4L, 4L, 4L, 4L, 4L, 4L]),\n",
       " (None, None, u'length', 2, u'float8', 4177L, 134L, 0L, None, 0.0, None, 4177L, 0L, 0L, 0.523992099593009, 0.014422307648297, [0.520350088942874, 0.527634110243145], 0.075, 0.815, 0.45, 0.545, 0.615, [u'0.55', u'0.625', u'0.575', u'0.58', u'0.6', u'0.62', u'0.5', u'0.57', u'0.63', u'0.61'], [94L, 94L, 93L, 92L, 87L, 87L, 81L, 79L, 78L, 75L]),\n",
       " (None, None, u'diameter', 3, u'float8', 4177L, 111L, 0L, None, 0.0, None, 4177L, 0L, 0L, 0.407881254488869, 0.00984855103022453, [0.404871645997763, 0.410890862979976], 0.055, 0.65, 0.35, 0.425, 0.48, [u'0.45', u'0.475', u'0.4', u'0.5', u'0.47', u'0.48', u'0.455', u'0.46', u'0.44', u'0.485'], [139L, 120L, 111L, 110L, 100L, 91L, 90L, 89L, 87L, 83L]),\n",
       " (None, None, u'height', 4, u'float8', 4177L, 51L, 0L, None, 0.0, None, 4175L, 0L, 2L, 0.139516399329662, 0.00174950266442682, [0.138247926591562, 0.140784872067761], 0.0, 1.13, 0.115, 0.14, 0.165, [u'0.15', u'0.14', u'0.155', u'0.175', u'0.16', u'0.125', u'0.165', u'0.135', u'0.145', u'0.13'], [267L, 220L, 217L, 211L, 205L, 202L, 193L, 189L, 182L, 169L]),\n",
       " (None, None, u'whole_weight', 5, u'float8', 4177L, 2429L, 0L, None, 0.0, None, 4177L, 0L, 0L, 0.82874215944458, 0.240481389201558, [0.813870324055101, 0.843613994834058], 0.002, 2.8255, 0.4415, 0.7995, 1.153, [u'1.1345', u'0.196', u'0.2225', u'0.97', u'0.858', u'1.0835', u'0.4775', u'0.872', u'1.1155', u'1.229'], [11L, 8L, 8L, 7L, 7L, 7L, 7L, 7L, 7L, 7L]),\n",
       " (None, None, u'shucked_weight', 6, u'float8', 4177L, 1515L, 0L, None, 0.0, None, 4177L, 0L, 0L, 0.359367488628202, 0.0492675507435241, [0.352636105342962, 0.366098871913441], 0.001, 1.488, 0.186, 0.336, 0.502, [u'0.175', u'0.2505', u'0.2', u'0.302', u'0.2945', u'0.419', u'0.2025', u'0.165', u'0.096', u'0.097'], [11L, 10L, 9L, 9L, 9L, 9L, 9L, 9L, 9L, 9L]),\n",
       " (None, None, u'viscera_weight', 7, u'float8', 4177L, 880L, 0L, None, 0.0, None, 4177L, 0L, 0L, 0.180593607852526, 0.0120152838599927, [0.177269379483621, 0.183917836221432], 0.0005, 0.76, 0.0935, 0.171, 0.253, [u'0.1715', u'0.196', u'0.037', u'0.2195', u'0.0575', u'0.061', u'0.096', u'0.1905', u'0.207', u'0.0265'], [15L, 14L, 13L, 13L, 13L, 13L, 12L, 12L, 12L, 12L]),\n",
       " (None, None, u'shell_weight', 8, u'float8', 4177L, 926L, 0L, None, 0.0, None, 4177L, 0L, 0L, 0.238830859468518, 0.0193773832021586, [0.234609314715373, 0.243052404221663], 0.0015, 1.005, 0.13, 0.234, 0.329, [u'0.275', u'0.25', u'0.315', u'0.185', u'0.265', u'0.17', u'0.285', u'0.3', u'0.22', u'0.175'], [43L, 42L, 40L, 40L, 40L, 37L, 37L, 37L, 36L, 36L]),\n",
       " (None, None, u'rings', 9, u'int4', 4177L, 28L, 0L, None, 0.0, None, 4177L, 0L, 0L, 9.93368446253292, 10.3952659473471, [9.83590635305212, 10.0314625720137], 1.0, 29.0, 8.0, 9.0, 11.0, [u'9', u'10', u'8', u'11', u'7', u'12', u'6', u'13', u'14', u'5'], [689L, 634L, 568L, 487L, 391L, 267L, 259L, 203L, 126L, 115L]),\n",
       " (None, None, u'age', 10, u'numeric', 4177L, 28L, 0L, None, 0.0, None, 4177L, 0L, 0L, 11.4336844625329, 10.3952659473471, [11.3359063530521, 11.5314625720137], 2.5, 30.5, 9.5, 10.5, 12.5, [u'10.5', u'11.5', u'9.5', u'12.5', u'8.5', u'13.5', u'7.5', u'14.5', u'15.5', u'6.5'], [689L, 634L, 568L, 487L, 391L, 267L, 259L, 203L, 126L, 115L]),\n",
       " (None, None, u'mature', 11, u'int4', 4177L, 2L, 0L, None, 0.0, None, 2770L, 0L, 1407L, 0.663155374670816, 0.223433815172854, [0.648820355293342, 0.67749039404829], 0.0, 1.0, 0.0, 1.0, 1.0, [u'1', u'0'], [2770L, 1407L]),\n",
       " (None, None, u'sex_f', 12, u'int4', 4177L, 2L, 0L, None, 0.0, None, 1307L, 0L, 2870L, 0.31290399808475, 0.21504656956495, [0.298840605732167, 0.326967390437333], 0.0, 1.0, 0.0, 0.0, 1.0, [u'0', u'1'], [2870L, 1307L]),\n",
       " (None, None, u'sex_i', 13, u'int4', 4177L, 2L, 0L, None, 0.0, None, 1342L, 0L, 2835L, 0.321283217620302, 0.218112529203438, [0.30711992784858, 0.335446507392023], 0.0, 1.0, 0.0, 0.0, 1.0, [u'0', u'1'], [2835L, 1342L]),\n",
       " (None, None, u'sex_m', 14, u'int4', 4177L, 2L, 0L, None, 0.0, None, 1528L, 0L, 2649L, 0.365812784294949, 0.232049345210086, [0.351204002328337, 0.380421566261561], 0.0, 1.0, 0.0, 0.0, 1.0, [u'0', u'1'], [2649L, 1528L])]"
      ]
     },
     "execution_count": 13,
     "metadata": {},
     "output_type": "execute_result"
    }
   ],
   "source": [
    "%%sql\n",
    "DROP TABLE IF EXISTS abalone_summary ;\n",
    "SELECT madlib.summary (\n",
    "    'abalone_encoded',  -- source_table\n",
    "    'abalone_summary',  -- output_table\n",
    "    NULL,  -- target_cols\n",
    "    NULL,  -- grouping_cols\n",
    "    TRUE,  -- get_distinct\n",
    "    TRUE,  -- get_quartiles\n",
    "    NULL,  -- quantile_array\n",
    "    10,    -- how_many_mfv\n",
    "    FALSE  -- get_estimate\n",
    ")\n",
    ";\n",
    "\n",
    "SELECT * FROM abalone_summary LIMIT 15\n",
    ";"
   ]
  },
  {
   "cell_type": "markdown",
   "metadata": {},
   "source": [
    "## Correlation\n",
    "Another aspect of the data that we might want to know about is the correlation between different columns.  We turn again to MADlib to provide a ready made function: [correlation()](http://madlib.apache.org/docs/latest/group__grp__correlation.html)."
   ]
  },
  {
   "cell_type": "code",
   "execution_count": 14,
   "metadata": {},
   "outputs": [
    {
     "name": "stdout",
     "output_type": "stream",
     "text": [
      "Done.\n",
      "Done.\n",
      "1 rows affected.\n"
     ]
    },
    {
     "data": {
      "text/html": [
       "<table>\n",
       "    <tr>\n",
       "        <th>correlation</th>\n",
       "    </tr>\n",
       "    <tr>\n",
       "        <td>Summary for 'Correlation' function<br>Output table = abalone_correlations<br>Grouping columns: sex_f,sex_i,sex_m<br>Producing correlation for columns: length,diameter,height,whole_weight,shucked_weight,viscera_weight,shell_weight,rings<br>Total run time = ('abalone_correlations', 8, 0.2650470733642578)</td>\n",
       "    </tr>\n",
       "</table>"
      ],
      "text/plain": [
       "[(u\"Summary for 'Correlation' function\\nOutput table = abalone_correlations\\nGrouping columns: sex_f,sex_i,sex_m\\nProducing correlation for columns: length,diameter,height,whole_weight,shucked_weight,viscera_weight,shell_weight,rings\\nTotal run time = ('abalone_correlations', 8, 0.2650470733642578)\",)]"
      ]
     },
     "execution_count": 14,
     "metadata": {},
     "output_type": "execute_result"
    }
   ],
   "source": [
    "%%sql\n",
    "DROP TABLE IF EXISTS abalone_correlations;\n",
    "DROP TABLE IF EXISTS abalone_correlations_summary;\n",
    "\n",
    "SELECT\n",
    "madlib.correlation(\n",
    "    'abalone_encoded', -- source_table,\n",
    "    'abalone_correlations', -- output_table,\n",
    "    'length,diameter,height,whole_weight,shucked_weight,viscera_weight,shell_weight,rings', -- target_cols,\n",
    "    TRUE, -- verbose,\n",
    "    'sex_f,sex_i,sex_m'  -- grouping_columns\n",
    ");"
   ]
  },
  {
   "cell_type": "code",
   "execution_count": 15,
   "metadata": {},
   "outputs": [
    {
     "name": "stdout",
     "output_type": "stream",
     "text": [
      "8 rows affected.\n"
     ]
    }
   ],
   "source": [
    "Index = %sql SELECT variable FROM abalone_correlations WHERE sex_m = '1' ORDER BY column_position;\n",
    "Index = Index.DataFrame();"
   ]
  },
  {
   "cell_type": "code",
   "execution_count": 16,
   "metadata": {},
   "outputs": [
    {
     "name": "stdout",
     "output_type": "stream",
     "text": [
      "length,diameter,height,whole_weight,shucked_weight,viscera_weight,shell_weight,rings\n"
     ]
    }
   ],
   "source": [
    "columns =  ','.join(','.join('%s' %x for x in y) for y in Index.values)\n",
    "print(columns)"
   ]
  },
  {
   "cell_type": "code",
   "execution_count": 17,
   "metadata": {},
   "outputs": [
    {
     "name": "stdout",
     "output_type": "stream",
     "text": [
      "8 rows affected.\n"
     ]
    }
   ],
   "source": [
    "correlations_male = %sql select variable,{columns} from abalone_correlations where sex_m = '1' ORDER BY column_position;\n",
    "correlations_male = correlations_male.DataFrame()"
   ]
  },
  {
   "cell_type": "code",
   "execution_count": 18,
   "metadata": {},
   "outputs": [
    {
     "data": {
      "image/png": "[encoded data removed]",
      "text/plain": [
       "<Figure size 432x288 with 2 Axes>"
      ]
     },
     "metadata": {
      "needs_background": "light"
     },
     "output_type": "display_data"
    }
   ],
   "source": [
    "corm = correlations_male.set_index('variable')\n",
    "ax = sns.heatmap(corm)\n",
    "ax.set_title('Correlations for Male Abalone')\n",
    "plt.show();"
   ]
  },
  {
   "cell_type": "markdown",
   "metadata": {},
   "source": [
    "## Sampling for Training and Testing\n",
    "Ensuring predictive power in large part is the result of creating a hold-out data set that we don’t train our model with.  By creating this subset of the data, we can test any model we develop against “unseen” data to prevent overfitting by our model.  This has the benefit of generating a predictive model that will generalize better.\n",
    "\n",
    "There’s no right answer as to how much data to set aside in the test table; a 70&-30% split, weighted towards the training data, is a good rule of thumb.  This process is referred to as the [train-test split](http://madlib.apache.org/docs/latest/group__grp__train__test__split.html).\n"
   ]
  },
  {
   "cell_type": "code",
   "execution_count": 19,
   "metadata": {},
   "outputs": [
    {
     "name": "stdout",
     "output_type": "stream",
     "text": [
      "Done.\n",
      "Done.\n",
      "Done.\n",
      "1 rows affected.\n",
      "1 rows affected.\n"
     ]
    },
    {
     "data": {
      "text/html": [
       "<table>\n",
       "    <tr>\n",
       "        <th>Number of abalone in the Training Set</th>\n",
       "    </tr>\n",
       "    <tr>\n",
       "        <td>2924</td>\n",
       "    </tr>\n",
       "</table>"
      ],
      "text/plain": [
       "[(2924L,)]"
      ]
     },
     "execution_count": 19,
     "metadata": {},
     "output_type": "execute_result"
    }
   ],
   "source": [
    "%%sql\n",
    "DROP TABLE IF EXISTS abalone_classif CASCADE;\n",
    "DROP TABLE IF EXISTS abalone_classif_train CASCADE;\n",
    "DROP TABLE IF EXISTS abalone_classif_test CASCADE;\n",
    "SELECT madlib.train_test_split(\n",
    "    'abalone_encoded', -- source_table,\n",
    "    'abalone_classif', -- output_table,\n",
    "    0.7, -- train_proportion,\n",
    "    NULL, -- test_proportion,\n",
    "    NULL, -- grouping_cols,\n",
    "    'id,length,diameter,height,whole_weight,shucked_weight,viscera_weight,shell_weight,sex_f,sex_i,sex_m,rings,age,mature', -- target_cols,\n",
    "    FALSE, -- with_replacement,\n",
    "    TRUE -- separate_output_tables\n",
    ")\n",
    ";\n",
    "SELECT count(*) as \"Number of abalone in the Training Set\" FROM abalone_classif_train\n",
    ";"
   ]
  },
  {
   "cell_type": "markdown",
   "metadata": {},
   "source": [
    "<a id=\"classification\"></a>\n",
    "# 5. Classification models\n",
    "\n",
    "<a id=\"logistic\"></a>\n",
    "## 5a. Logistic Regression\n",
    "\n",
    "We’re now ready to create our first predictive model.  We’ll start with a classic [logistic regression](http://madlib.apache.org/docs/latest/group__grp__logreg.html).\n",
    "\n",
    "Note: we drop one of the 1-hot-encoded variables to remove perfect colinearity"
   ]
  },
  {
   "cell_type": "code",
   "execution_count": 20,
   "metadata": {},
   "outputs": [
    {
     "name": "stdout",
     "output_type": "stream",
     "text": [
      "Done.\n",
      "Done.\n",
      "1 rows affected.\n",
      "1 rows affected.\n"
     ]
    },
    {
     "data": {
      "text/html": [
       "<table>\n",
       "    <tr>\n",
       "        <th>method</th>\n",
       "        <th>source_table</th>\n",
       "        <th>out_table</th>\n",
       "        <th>dependent_varname</th>\n",
       "        <th>independent_varname</th>\n",
       "        <th>optimizer_params</th>\n",
       "        <th>num_all_groups</th>\n",
       "        <th>num_failed_groups</th>\n",
       "        <th>num_rows_processed</th>\n",
       "        <th>num_missing_rows_skipped</th>\n",
       "        <th>grouping_col</th>\n",
       "    </tr>\n",
       "    <tr>\n",
       "        <td>logregr</td>\n",
       "        <td>abalone_classif_train</td>\n",
       "        <td>abalone_logreg_model</td>\n",
       "        <td>mature</td>\n",
       "        <td>ARRAY[<br>            1,<br>            length,<br>            diameter,<br>            height,<br>            whole_weight,<br>            shucked_weight,<br>            viscera_weight,<br>            shell_weight,<br>            sex_f,<br>            sex_m<br>        ]</td>\n",
       "        <td>optimizer=irls, max_iter=20, tolerance=0.0001</td>\n",
       "        <td>1</td>\n",
       "        <td>0</td>\n",
       "        <td>2924</td>\n",
       "        <td>0</td>\n",
       "        <td>None</td>\n",
       "    </tr>\n",
       "</table>"
      ],
      "text/plain": [
       "[(u'logregr', u'abalone_classif_train', u'abalone_logreg_model', u'mature', u'ARRAY[\\n            1,\\n            length,\\n            diameter,\\n            height,\\n            whole_weight,\\n            shucked_weight,\\n            viscera_weight,\\n            shell_weight,\\n            sex_f,\\n            sex_m\\n        ]', u'optimizer=irls, max_iter=20, tolerance=0.0001', 1, 0, 2924, 0, None)]"
      ]
     },
     "execution_count": 20,
     "metadata": {},
     "output_type": "execute_result"
    }
   ],
   "source": [
    "%%sql\n",
    "DROP TABLE IF EXISTS abalone_logreg_model;\n",
    "DROP TABLE IF EXISTS abalone_logreg_model_summary;\n",
    "\n",
    "SELECT\n",
    "    madlib.logregr_train(                 --- Train the Logistic Regression Model\n",
    "        'abalone_classif_train', -- source_table,\n",
    "        'abalone_logreg_model',  -- out_table,\n",
    "        'mature',                         -- dependent_varname,\n",
    "        'ARRAY[\n",
    "            1,\n",
    "            length,\n",
    "            diameter,\n",
    "            height,\n",
    "            whole_weight,\n",
    "            shucked_weight,\n",
    "            viscera_weight,\n",
    "            shell_weight,\n",
    "            sex_f,\n",
    "            sex_m\n",
    "        ]'                               -- independent_varname,\n",
    "        --, -- grouping_cols,\n",
    "        --, -- max_iter,\n",
    "        --, -- optimizer,\n",
    "        --, -- tolerance,\n",
    "        -- verbose\n",
    "    )\n",
    ";\n",
    "SELECT * FROM abalone_logreg_model_summary ;           --- Get the summary table"
   ]
  },
  {
   "cell_type": "markdown",
   "metadata": {},
   "source": [
    "### Review model weights"
   ]
  },
  {
   "cell_type": "code",
   "execution_count": 21,
   "metadata": {
    "scrolled": true
   },
   "outputs": [
    {
     "name": "stdout",
     "output_type": "stream",
     "text": [
      "1 rows affected.\n"
     ]
    },
    {
     "data": {
      "text/html": [
       "<table>\n",
       "    <tr>\n",
       "        <th>coef</th>\n",
       "        <th>log_likelihood</th>\n",
       "        <th>std_err</th>\n",
       "        <th>z_stats</th>\n",
       "        <th>p_values</th>\n",
       "        <th>odds_ratios</th>\n",
       "        <th>condition_no</th>\n",
       "        <th>num_rows_processed</th>\n",
       "        <th>num_missing_rows_skipped</th>\n",
       "        <th>num_iterations</th>\n",
       "        <th>variance_covariance</th>\n",
       "    </tr>\n",
       "    <tr>\n",
       "        <td>[-4.05784038511939, -3.62328869369282, 8.55818901312571, 2.3733575038103, 5.89366234938041, -14.5809268846204, -0.83965986440594, 14.9221884676909, 0.888113766564006, 0.848744890485021]</td>\n",
       "        <td>-1046.57223389</td>\n",
       "        <td>[0.564717420593037, 3.24087632641859, 3.91946176964484, 2.15175240516033, 1.67142108880738, 1.90735829359554, 2.75043999028889, 2.60184088552192, 0.149323323315725, 0.136327386783195]</td>\n",
       "        <td>[-7.18561219673029, -1.11799659374748, 2.18351128703603, 1.10298819609474, 3.52613855888688, -7.6445662745063, -0.305282015739506, 5.73524251645295, 5.94758907612982, 6.22578419870105]</td>\n",
       "        <td>[6.69067049744631e-13, 0.263568448155912, 0.0289981786733622, 0.27003229123174, 0.000421666297028331, 2.0965080520499e-14, 0.760151371941268, 9.73729156506926e-09, 2.72120689051791e-09, 4.79153223523576e-10]</td>\n",
       "        <td>[0.0172863106068398, 0.0266947411488406, 5209.23876196897, 10.7333691819543, 362.731303482082, 4.65140240376941e-07, 0.431857388520035, 3024294.70742143, 2.4305407575436, 2.33671218095243]</td>\n",
       "        <td>133.151687225</td>\n",
       "        <td>2924</td>\n",
       "        <td>0</td>\n",
       "        <td>7</td>\n",
       "        <td>[[0.318905765121253, -0.773880756388411, -0.148425130548394, -0.212962995977276, 0.147124898439516, -0.0059678292447954, 0.0793733577772294, 0.290640803033562, -0.00848213277272192, -0.0132695143230618], [-0.773880756388412, 10.5032793631405, -10.8450536351098, -0.065352511565441, -0.379260487944994, 0.115359274386607, -0.695572148171167, 0.0661722900163907, 0.0479683606457261, 0.0518480382948647], [-0.148425130548394, -10.8450536351098, 15.3621805637075, -0.532070275834464, -0.115038424926361, -0.0148346925154307, 0.739742640409678, -1.63384353907477, -0.0363792354548059, -0.030302937293815], [-0.212962995977276, -0.065352511565441, -0.532070275834464, 4.63003841311326, -0.147475204124208, 0.154261272553688, -0.205334564214196, -0.331885157675788, -0.0202805065965652, -0.00482846073312355], [0.147124898439516, -0.379260487944994, -0.115038424926361, -0.147475204124208, 2.79364845611006, -2.78954859556526, -2.71413799091265, -2.70422929299964, -0.0244641928225955, -0.0166449556760013], [-0.00596782924479522, 0.115359274386607, -0.0148346925154308, 0.154261272553688, -2.78954859556526, 3.6380156601477, 1.69176478837567, 2.32499354323252, 0.0299799840419785, 0.00932452525357895], [0.0793733577772295, -0.695572148171167, 0.739742640409678, -0.205334564214196, -2.71413799091265, 1.69176478837567, 7.56492014018035, 1.21738451933247, -0.0376135374474958, -0.0271600174605648], [0.290640803033562, 0.0661722900163907, -1.63384353907477, -0.331885157675788, -2.70422929299964, 2.32499354323252, 1.21738451933247, 6.76957599357349, 0.0255595927423807, 0.0162171662951054], [-0.00848213277272192, 0.0479683606457261, -0.0363792354548059, -0.0202805065965652, -0.0244641928225955, 0.0299799840419784, -0.0376135374474958, 0.0255595927423807, 0.0222974548860525, 0.00974956517302877], [-0.0132695143230618, 0.0518480382948647, -0.030302937293815, -0.00482846073312355, -0.0166449556760013, 0.00932452525357894, -0.0271600174605649, 0.0162171662951054, 0.00974956517302877, 0.0185851563871348]]</td>\n",
       "    </tr>\n",
       "</table>"
      ],
      "text/plain": [
       "[([-4.05784038511939, -3.62328869369282, 8.55818901312571, 2.3733575038103, 5.89366234938041, -14.5809268846204, -0.83965986440594, 14.9221884676909, 0.888113766564006, 0.848744890485021], -1046.57223388599, [0.564717420593037, 3.24087632641859, 3.91946176964484, 2.15175240516033, 1.67142108880738, 1.90735829359554, 2.75043999028889, 2.60184088552192, 0.149323323315725, 0.136327386783195], [-7.18561219673029, -1.11799659374748, 2.18351128703603, 1.10298819609474, 3.52613855888688, -7.6445662745063, -0.305282015739506, 5.73524251645295, 5.94758907612982, 6.22578419870105], [6.69067049744631e-13, 0.263568448155912, 0.0289981786733622, 0.27003229123174, 0.000421666297028331, 2.0965080520499e-14, 0.760151371941268, 9.73729156506926e-09, 2.72120689051791e-09, 4.79153223523576e-10], [0.0172863106068398, 0.0266947411488406, 5209.23876196897, 10.7333691819543, 362.731303482082, 4.65140240376941e-07, 0.431857388520035, 3024294.70742143, 2.4305407575436, 2.33671218095243], 133.151687225203, 2924L, 0L, 7, [[0.318905765121253, -0.773880756388411, -0.148425130548394, -0.212962995977276, 0.147124898439516, -0.0059678292447954, 0.0793733577772294, 0.2906408 ... (1703 characters truncated) ... 15, -0.00482846073312355, -0.0166449556760013, 0.00932452525357894, -0.0271600174605649, 0.0162171662951054, 0.00974956517302877, 0.0185851563871348]])]"
      ]
     },
     "execution_count": 21,
     "metadata": {},
     "output_type": "execute_result"
    }
   ],
   "source": [
    "%%sql\n",
    "SELECT * FROM abalone_logreg_model ;"
   ]
  },
  {
   "cell_type": "markdown",
   "metadata": {},
   "source": [
    "### Show coefficients from model"
   ]
  },
  {
   "cell_type": "code",
   "execution_count": 22,
   "metadata": {},
   "outputs": [
    {
     "name": "stdout",
     "output_type": "stream",
     "text": [
      "1 rows affected.\n"
     ]
    }
   ],
   "source": [
    "logreg_coefs = %sql SELECT coef FROM abalone_logreg_model ;\n",
    "logreg_coefs = logreg_coefs.DataFrame();"
   ]
  },
  {
   "cell_type": "code",
   "execution_count": 23,
   "metadata": {},
   "outputs": [
    {
     "data": {
      "text/plain": [
       "(('intercept', -4.05784038511939),\n",
       " ('length', -3.62328869369282),\n",
       " ('diameter', 8.55818901312571),\n",
       " ('height', 2.3733575038103),\n",
       " ('whole_weight', 5.89366234938041),\n",
       " ('shucked_weight', -14.5809268846204),\n",
       " ('viscera_weight', -0.83965986440594),\n",
       " ('shell_weight', 14.9221884676909),\n",
       " ('sex_f', 0.888113766564006),\n",
       " ('sex_m', 0.848744890485021))"
      ]
     },
     "execution_count": 23,
     "metadata": {},
     "output_type": "execute_result"
    }
   ],
   "source": [
    "logreg_coef_names = (\n",
    "    'intercept',\n",
    "    'length',\n",
    "    'diameter',\n",
    "    'height',\n",
    "    'whole_weight',\n",
    "    'shucked_weight',\n",
    "    'viscera_weight',\n",
    "    'shell_weight',\n",
    "    'sex_f',\n",
    "    'sex_m'\n",
    ")\n",
    "tuple(zip(logreg_coef_names, logreg_coefs.iloc[0, 0]))"
   ]
  },
  {
   "cell_type": "markdown",
   "metadata": {},
   "source": [
    "### Score the model against test data and join with the test data\n",
    "\n",
    "Now that we have a model with coefficients, we can make predictions on records previously unseen by the model. In the current version of MADlib (1.16), the way to predict probability using a logistic regression model is to `CROSS JOIN` the test set records with the single-row model table. A `CROSS JOIN` produces the cartesian product between all records in both tables, meaning it pairs every record from one table with every record in the other table. In Postgres/Greenplum this can be done be explicitly using the `CROSS JOIN` statement, or you can simply list the two tables in the `FROM` clause separated by a comma. "
   ]
  },
  {
   "cell_type": "code",
   "execution_count": 24,
   "metadata": {},
   "outputs": [
    {
     "name": "stdout",
     "output_type": "stream",
     "text": [
      "Done.\n",
      "1253 rows affected.\n",
      "10 rows affected.\n"
     ]
    },
    {
     "data": {
      "text/html": [
       "<table>\n",
       "    <tr>\n",
       "        <th>proba</th>\n",
       "        <th>mature</th>\n",
       "    </tr>\n",
       "    <tr>\n",
       "        <td>0.729460887544</td>\n",
       "        <td>0</td>\n",
       "    </tr>\n",
       "    <tr>\n",
       "        <td>0.519030274502</td>\n",
       "        <td>0</td>\n",
       "    </tr>\n",
       "    <tr>\n",
       "        <td>0.988936746274</td>\n",
       "        <td>1</td>\n",
       "    </tr>\n",
       "    <tr>\n",
       "        <td>0.418889963058</td>\n",
       "        <td>1</td>\n",
       "    </tr>\n",
       "    <tr>\n",
       "        <td>0.57689078439</td>\n",
       "        <td>0</td>\n",
       "    </tr>\n",
       "    <tr>\n",
       "        <td>0.612402565835</td>\n",
       "        <td>1</td>\n",
       "    </tr>\n",
       "    <tr>\n",
       "        <td>0.997554872286</td>\n",
       "        <td>1</td>\n",
       "    </tr>\n",
       "    <tr>\n",
       "        <td>0.998395195488</td>\n",
       "        <td>1</td>\n",
       "    </tr>\n",
       "    <tr>\n",
       "        <td>0.561654937481</td>\n",
       "        <td>1</td>\n",
       "    </tr>\n",
       "    <tr>\n",
       "        <td>0.940089737771</td>\n",
       "        <td>1</td>\n",
       "    </tr>\n",
       "</table>"
      ],
      "text/plain": [
       "[(0.729460887544012, 0),\n",
       " (0.51903027450154, 0),\n",
       " (0.98893674627403, 1),\n",
       " (0.418889963058477, 1),\n",
       " (0.576890784389551, 0),\n",
       " (0.612402565835252, 1),\n",
       " (0.997554872285647, 1),\n",
       " (0.99839519548848, 1),\n",
       " (0.561654937480862, 1),\n",
       " (0.940089737770757, 1)]"
      ]
     },
     "execution_count": 24,
     "metadata": {},
     "output_type": "execute_result"
    }
   ],
   "source": [
    "%%sql\n",
    "DROP TABLE IF EXISTS abalone_logreg_test_proba;\n",
    "CREATE TABLE abalone_logreg_test_proba\n",
    "AS\n",
    "SELECT madlib.logregr_predict_prob(   --- Use the logistic regression model to estimate probability of mature\n",
    "        coef, \n",
    "        ARRAY[\n",
    "            1,\n",
    "            length,\n",
    "            diameter,\n",
    "            height,\n",
    "            whole_weight,\n",
    "            shucked_weight,\n",
    "            viscera_weight,\n",
    "            shell_weight,\n",
    "            sex_f,\n",
    "            sex_m\n",
    "        ] \n",
    "    ) as proba,\n",
    "    test.mature\n",
    "FROM abalone_classif_test test, abalone_logreg_model model\n",
    ";\n",
    "\n",
    "SELECT *                                   --- take a look at a few of the values\n",
    "FROM abalone_logreg_test_proba\n",
    "LIMIT 10\n",
    ";"
   ]
  },
  {
   "cell_type": "markdown",
   "metadata": {},
   "source": [
    "### Look at the top model calculated probability vs the actual maturity"
   ]
  },
  {
   "cell_type": "code",
   "execution_count": 25,
   "metadata": {},
   "outputs": [
    {
     "name": "stdout",
     "output_type": "stream",
     "text": [
      "10 rows affected.\n"
     ]
    },
    {
     "data": {
      "text/html": [
       "<table>\n",
       "    <tr>\n",
       "        <th>probability</th>\n",
       "        <th>mature</th>\n",
       "    </tr>\n",
       "    <tr>\n",
       "        <td>0.999999354969</td>\n",
       "        <td>1</td>\n",
       "    </tr>\n",
       "    <tr>\n",
       "        <td>0.999987994065</td>\n",
       "        <td>1</td>\n",
       "    </tr>\n",
       "    <tr>\n",
       "        <td>0.99998775577</td>\n",
       "        <td>1</td>\n",
       "    </tr>\n",
       "    <tr>\n",
       "        <td>0.999981105349</td>\n",
       "        <td>1</td>\n",
       "    </tr>\n",
       "    <tr>\n",
       "        <td>0.999967766619</td>\n",
       "        <td>1</td>\n",
       "    </tr>\n",
       "    <tr>\n",
       "        <td>0.999963256328</td>\n",
       "        <td>1</td>\n",
       "    </tr>\n",
       "    <tr>\n",
       "        <td>0.99994644311</td>\n",
       "        <td>1</td>\n",
       "    </tr>\n",
       "    <tr>\n",
       "        <td>0.99994059283</td>\n",
       "        <td>1</td>\n",
       "    </tr>\n",
       "    <tr>\n",
       "        <td>0.999937901702</td>\n",
       "        <td>1</td>\n",
       "    </tr>\n",
       "    <tr>\n",
       "        <td>0.999913406187</td>\n",
       "        <td>1</td>\n",
       "    </tr>\n",
       "</table>"
      ],
      "text/plain": [
       "[(0.999999354969251, 1),\n",
       " (0.99998799406468, 1),\n",
       " (0.999987755770104, 1),\n",
       " (0.999981105348838, 1),\n",
       " (0.999967766618701, 1),\n",
       " (0.99996325632793, 1),\n",
       " (0.999946443109876, 1),\n",
       " (0.999940592830348, 1),\n",
       " (0.999937901702321, 1),\n",
       " (0.999913406187263, 1)]"
      ]
     },
     "execution_count": 25,
     "metadata": {},
     "output_type": "execute_result"
    }
   ],
   "source": [
    "%%sql\n",
    "SELECT proba as probability, mature\n",
    "    FROM abalone_logreg_test_proba\n",
    "    ORDER BY probability DESC\n",
    "    LIMIT 10;"
   ]
  },
  {
   "cell_type": "markdown",
   "metadata": {},
   "source": [
    "### Calculate the area under the ROC"
   ]
  },
  {
   "cell_type": "code",
   "execution_count": 26,
   "metadata": {},
   "outputs": [
    {
     "name": "stdout",
     "output_type": "stream",
     "text": [
      "Done.\n",
      "1 rows affected.\n",
      "1 rows affected.\n"
     ]
    },
    {
     "data": {
      "text/html": [
       "<table>\n",
       "    <tr>\n",
       "        <th>area_under_roc</th>\n",
       "    </tr>\n",
       "    <tr>\n",
       "        <td>0.91611932129173508483766283524904214559400</td>\n",
       "    </tr>\n",
       "</table>"
      ],
      "text/plain": [
       "[(Decimal('0.91611932129173508483766283524904214559400'),)]"
      ]
     },
     "execution_count": 26,
     "metadata": {},
     "output_type": "execute_result"
    }
   ],
   "source": [
    "%%sql\n",
    "drop table if exists abalone_logreg_test_auc;\n",
    "SELECT\n",
    "madlib.area_under_roc(\n",
    "    'abalone_logreg_test_proba', -- table_in, \n",
    "    'abalone_logreg_test_auc',  --table_out,\n",
    "    'proba',  -- prediction_col, \n",
    "    'mature'  --observed_col, \n",
    ") as result\n",
    ";\n",
    "SELECT *\n",
    "FROM abalone_logreg_test_auc\n",
    ";"
   ]
  },
  {
   "cell_type": "markdown",
   "metadata": {},
   "source": [
    "### Confusion matrix"
   ]
  },
  {
   "cell_type": "code",
   "execution_count": 27,
   "metadata": {},
   "outputs": [
    {
     "name": "stdout",
     "output_type": "stream",
     "text": [
      "Done.\n",
      "1253 rows affected.\n",
      "10 rows affected.\n"
     ]
    },
    {
     "data": {
      "text/html": [
       "<table>\n",
       "    <tr>\n",
       "        <th>predicted</th>\n",
       "        <th>mature</th>\n",
       "    </tr>\n",
       "    <tr>\n",
       "        <td>1</td>\n",
       "        <td>0</td>\n",
       "    </tr>\n",
       "    <tr>\n",
       "        <td>0</td>\n",
       "        <td>1</td>\n",
       "    </tr>\n",
       "    <tr>\n",
       "        <td>1</td>\n",
       "        <td>1</td>\n",
       "    </tr>\n",
       "    <tr>\n",
       "        <td>1</td>\n",
       "        <td>1</td>\n",
       "    </tr>\n",
       "    <tr>\n",
       "        <td>1</td>\n",
       "        <td>1</td>\n",
       "    </tr>\n",
       "    <tr>\n",
       "        <td>1</td>\n",
       "        <td>0</td>\n",
       "    </tr>\n",
       "    <tr>\n",
       "        <td>1</td>\n",
       "        <td>1</td>\n",
       "    </tr>\n",
       "    <tr>\n",
       "        <td>1</td>\n",
       "        <td>1</td>\n",
       "    </tr>\n",
       "    <tr>\n",
       "        <td>1</td>\n",
       "        <td>1</td>\n",
       "    </tr>\n",
       "    <tr>\n",
       "        <td>1</td>\n",
       "        <td>1</td>\n",
       "    </tr>\n",
       "</table>"
      ],
      "text/plain": [
       "[(1, 0),\n",
       " (0, 1),\n",
       " (1, 1),\n",
       " (1, 1),\n",
       " (1, 1),\n",
       " (1, 0),\n",
       " (1, 1),\n",
       " (1, 1),\n",
       " (1, 1),\n",
       " (1, 1)]"
      ]
     },
     "execution_count": 27,
     "metadata": {},
     "output_type": "execute_result"
    }
   ],
   "source": [
    "%%sql\n",
    "DROP TABLE IF EXISTS abalone_logreg_test_predict ;\n",
    "CREATE TABLE abalone_logreg_test_predict\n",
    "AS\n",
    "SELECT\n",
    "    (proba >= 0.5)::integer as predicted,\n",
    "    mature\n",
    "FROM abalone_logreg_test_proba\n",
    ";\n",
    "SELECT * \n",
    "    FROM abalone_logreg_test_predict\n",
    "    LIMIT 10\n",
    ";"
   ]
  },
  {
   "cell_type": "code",
   "execution_count": 28,
   "metadata": {},
   "outputs": [
    {
     "name": "stdout",
     "output_type": "stream",
     "text": [
      "Done.\n",
      "1 rows affected.\n",
      "2 rows affected.\n"
     ]
    },
    {
     "data": {
      "text/html": [
       "<table>\n",
       "    <tr>\n",
       "        <th>row_id</th>\n",
       "        <th>Mature</th>\n",
       "        <th>Predicted: Not Mature</th>\n",
       "        <th>Mature_1</th>\n",
       "    </tr>\n",
       "    <tr>\n",
       "        <td>1</td>\n",
       "        <td>0</td>\n",
       "        <td>329</td>\n",
       "        <td>112</td>\n",
       "    </tr>\n",
       "    <tr>\n",
       "        <td>2</td>\n",
       "        <td>1</td>\n",
       "        <td>75</td>\n",
       "        <td>737</td>\n",
       "    </tr>\n",
       "</table>"
      ],
      "text/plain": [
       "[(1L, 0, Decimal('329'), Decimal('112')),\n",
       " (2L, 1, Decimal('75'), Decimal('737'))]"
      ]
     },
     "execution_count": 28,
     "metadata": {},
     "output_type": "execute_result"
    }
   ],
   "source": [
    "%%sql\n",
    "DROP TABLE IF EXISTS abalone_logreg_test_conf_matrix;\n",
    "SELECT\n",
    "madlib.confusion_matrix(\n",
    "    'abalone_logreg_test_predict', -- table_in\n",
    "    'abalone_logreg_test_conf_matrix', -- table_out\n",
    "    'predicted',  --prediction_col\n",
    "    'mature' --observation_col\n",
    ")\n",
    ";\n",
    "SELECT                                 --- display the confusion matrix\n",
    "    row_id,\n",
    "    class as \"Mature\",\n",
    "    confusion_arr[1] as \"Predicted: Not Mature\",\n",
    "    confusion_arr[2] as \"Mature\"\n",
    "FROM abalone_logreg_test_conf_matrix\n",
    "ORDER BY row_id\n",
    ";"
   ]
  },
  {
   "cell_type": "markdown",
   "metadata": {},
   "source": [
    "### Get ROC values (thresholds, true-positives, false-positives)"
   ]
  },
  {
   "cell_type": "code",
   "execution_count": 29,
   "metadata": {},
   "outputs": [
    {
     "name": "stdout",
     "output_type": "stream",
     "text": [
      "Done.\n",
      "1 rows affected.\n",
      "1 rows affected.\n"
     ]
    },
    {
     "data": {
      "text/html": [
       "<table>\n",
       "    <tr>\n",
       "        <th>count</th>\n",
       "    </tr>\n",
       "    <tr>\n",
       "        <td>1253</td>\n",
       "    </tr>\n",
       "</table>"
      ],
      "text/plain": [
       "[(1253L,)]"
      ]
     },
     "execution_count": 29,
     "metadata": {},
     "output_type": "execute_result"
    }
   ],
   "source": [
    "%%sql\n",
    "DROP TABLE IF EXISTS abalone_logreg_test_binary_metrics ;\n",
    "SELECT\n",
    "madlib.binary_classifier(\n",
    "    'abalone_logreg_test_proba', -- table_in\n",
    "    'abalone_logreg_test_binary_metrics', -- table_out\n",
    "    'proba',  --prediction_col\n",
    "    'mature' --observation_col\n",
    ")\n",
    ";\n",
    "select count(*) from abalone_logreg_test_binary_metrics\n",
    ";"
   ]
  },
  {
   "cell_type": "code",
   "execution_count": 30,
   "metadata": {},
   "outputs": [
    {
     "name": "stdout",
     "output_type": "stream",
     "text": [
      "32 rows affected.\n"
     ]
    },
    {
     "data": {
      "text/html": [
       "<table>\n",
       "    <tr>\n",
       "        <th>threshold</th>\n",
       "        <th>tp</th>\n",
       "        <th>fp</th>\n",
       "        <th>fn</th>\n",
       "        <th>tn</th>\n",
       "        <th>tpr</th>\n",
       "        <th>tnr</th>\n",
       "        <th>ppv</th>\n",
       "        <th>npv</th>\n",
       "        <th>fpr</th>\n",
       "        <th>fdr</th>\n",
       "        <th>fnr</th>\n",
       "        <th>acc</th>\n",
       "        <th>f1</th>\n",
       "    </tr>\n",
       "    <tr>\n",
       "        <td>0.480813540438</td>\n",
       "        <td>750</td>\n",
       "        <td>122</td>\n",
       "        <td>62</td>\n",
       "        <td>319</td>\n",
       "        <td>0.923645320197</td>\n",
       "        <td>0.72335600907</td>\n",
       "        <td>0.860091743119</td>\n",
       "        <td>0.837270341207</td>\n",
       "        <td>0.27664399093</td>\n",
       "        <td>0.139908256881</td>\n",
       "        <td>0.076354679803</td>\n",
       "        <td>0.853152434158</td>\n",
       "        <td>0.89073634204275534442</td>\n",
       "    </tr>\n",
       "    <tr>\n",
       "        <td>0.480960568056</td>\n",
       "        <td>749</td>\n",
       "        <td>122</td>\n",
       "        <td>63</td>\n",
       "        <td>319</td>\n",
       "        <td>0.922413793103</td>\n",
       "        <td>0.72335600907</td>\n",
       "        <td>0.859931113662</td>\n",
       "        <td>0.835078534031</td>\n",
       "        <td>0.27664399093</td>\n",
       "        <td>0.140068886338</td>\n",
       "        <td>0.0775862068966</td>\n",
       "        <td>0.852354349561</td>\n",
       "        <td>0.89007724301841948901</td>\n",
       "    </tr>\n",
       "    <tr>\n",
       "        <td>0.481340339905</td>\n",
       "        <td>749</td>\n",
       "        <td>121</td>\n",
       "        <td>63</td>\n",
       "        <td>320</td>\n",
       "        <td>0.922413793103</td>\n",
       "        <td>0.725623582766</td>\n",
       "        <td>0.86091954023</td>\n",
       "        <td>0.835509138381</td>\n",
       "        <td>0.274376417234</td>\n",
       "        <td>0.13908045977</td>\n",
       "        <td>0.0775862068966</td>\n",
       "        <td>0.853152434158</td>\n",
       "        <td>0.89060642092746730083</td>\n",
       "    </tr>\n",
       "    <tr>\n",
       "        <td>0.48298187437</td>\n",
       "        <td>748</td>\n",
       "        <td>121</td>\n",
       "        <td>64</td>\n",
       "        <td>320</td>\n",
       "        <td>0.92118226601</td>\n",
       "        <td>0.725623582766</td>\n",
       "        <td>0.860759493671</td>\n",
       "        <td>0.833333333333</td>\n",
       "        <td>0.274376417234</td>\n",
       "        <td>0.139240506329</td>\n",
       "        <td>0.0788177339901</td>\n",
       "        <td>0.852354349561</td>\n",
       "        <td>0.88994646044021415824</td>\n",
       "    </tr>\n",
       "    <tr>\n",
       "        <td>0.484306593506</td>\n",
       "        <td>748</td>\n",
       "        <td>120</td>\n",
       "        <td>64</td>\n",
       "        <td>321</td>\n",
       "        <td>0.92118226601</td>\n",
       "        <td>0.727891156463</td>\n",
       "        <td>0.861751152074</td>\n",
       "        <td>0.833766233766</td>\n",
       "        <td>0.272108843537</td>\n",
       "        <td>0.138248847926</td>\n",
       "        <td>0.0788177339901</td>\n",
       "        <td>0.853152434158</td>\n",
       "        <td>0.89047619047619047619</td>\n",
       "    </tr>\n",
       "    <tr>\n",
       "        <td>0.487331142196</td>\n",
       "        <td>747</td>\n",
       "        <td>120</td>\n",
       "        <td>65</td>\n",
       "        <td>321</td>\n",
       "        <td>0.919950738916</td>\n",
       "        <td>0.727891156463</td>\n",
       "        <td>0.861591695502</td>\n",
       "        <td>0.831606217617</td>\n",
       "        <td>0.272108843537</td>\n",
       "        <td>0.138408304498</td>\n",
       "        <td>0.0800492610837</td>\n",
       "        <td>0.852354349561</td>\n",
       "        <td>0.88981536628945801072</td>\n",
       "    </tr>\n",
       "    <tr>\n",
       "        <td>0.487774653422</td>\n",
       "        <td>747</td>\n",
       "        <td>119</td>\n",
       "        <td>65</td>\n",
       "        <td>322</td>\n",
       "        <td>0.919950738916</td>\n",
       "        <td>0.730158730159</td>\n",
       "        <td>0.862586605081</td>\n",
       "        <td>0.832041343669</td>\n",
       "        <td>0.269841269841</td>\n",
       "        <td>0.137413394919</td>\n",
       "        <td>0.0800492610837</td>\n",
       "        <td>0.853152434158</td>\n",
       "        <td>0.89034564958283671037</td>\n",
       "    </tr>\n",
       "    <tr>\n",
       "        <td>0.488000947327</td>\n",
       "        <td>747</td>\n",
       "        <td>118</td>\n",
       "        <td>65</td>\n",
       "        <td>323</td>\n",
       "        <td>0.919950738916</td>\n",
       "        <td>0.732426303855</td>\n",
       "        <td>0.863583815029</td>\n",
       "        <td>0.832474226804</td>\n",
       "        <td>0.267573696145</td>\n",
       "        <td>0.136416184971</td>\n",
       "        <td>0.0800492610837</td>\n",
       "        <td>0.853950518755</td>\n",
       "        <td>0.89087656529516994633</td>\n",
       "    </tr>\n",
       "    <tr>\n",
       "        <td>0.488230774976</td>\n",
       "        <td>746</td>\n",
       "        <td>118</td>\n",
       "        <td>66</td>\n",
       "        <td>323</td>\n",
       "        <td>0.918719211823</td>\n",
       "        <td>0.732426303855</td>\n",
       "        <td>0.863425925926</td>\n",
       "        <td>0.830334190231</td>\n",
       "        <td>0.267573696145</td>\n",
       "        <td>0.136574074074</td>\n",
       "        <td>0.0812807881773</td>\n",
       "        <td>0.853152434158</td>\n",
       "        <td>0.89021479713603818616</td>\n",
       "    </tr>\n",
       "    <tr>\n",
       "        <td>0.490427907343</td>\n",
       "        <td>745</td>\n",
       "        <td>118</td>\n",
       "        <td>67</td>\n",
       "        <td>323</td>\n",
       "        <td>0.917487684729</td>\n",
       "        <td>0.732426303855</td>\n",
       "        <td>0.863267670915</td>\n",
       "        <td>0.828205128205</td>\n",
       "        <td>0.267573696145</td>\n",
       "        <td>0.136732329085</td>\n",
       "        <td>0.0825123152709</td>\n",
       "        <td>0.852354349561</td>\n",
       "        <td>0.88955223880597014925</td>\n",
       "    </tr>\n",
       "    <tr>\n",
       "        <td>0.491019863232</td>\n",
       "        <td>744</td>\n",
       "        <td>118</td>\n",
       "        <td>68</td>\n",
       "        <td>323</td>\n",
       "        <td>0.916256157635</td>\n",
       "        <td>0.732426303855</td>\n",
       "        <td>0.863109048724</td>\n",
       "        <td>0.826086956522</td>\n",
       "        <td>0.267573696145</td>\n",
       "        <td>0.136890951276</td>\n",
       "        <td>0.0837438423645</td>\n",
       "        <td>0.851556264964</td>\n",
       "        <td>0.88888888888888888889</td>\n",
       "    </tr>\n",
       "    <tr>\n",
       "        <td>0.492232884267</td>\n",
       "        <td>744</td>\n",
       "        <td>117</td>\n",
       "        <td>68</td>\n",
       "        <td>324</td>\n",
       "        <td>0.916256157635</td>\n",
       "        <td>0.734693877551</td>\n",
       "        <td>0.864111498258</td>\n",
       "        <td>0.826530612245</td>\n",
       "        <td>0.265306122449</td>\n",
       "        <td>0.135888501742</td>\n",
       "        <td>0.0837438423645</td>\n",
       "        <td>0.852354349561</td>\n",
       "        <td>0.88942020322773460849</td>\n",
       "    </tr>\n",
       "    <tr>\n",
       "        <td>0.493501130728</td>\n",
       "        <td>743</td>\n",
       "        <td>117</td>\n",
       "        <td>69</td>\n",
       "        <td>324</td>\n",
       "        <td>0.915024630542</td>\n",
       "        <td>0.734693877551</td>\n",
       "        <td>0.863953488372</td>\n",
       "        <td>0.824427480916</td>\n",
       "        <td>0.265306122449</td>\n",
       "        <td>0.136046511628</td>\n",
       "        <td>0.0849753694581</td>\n",
       "        <td>0.851556264964</td>\n",
       "        <td>0.88875598086124401914</td>\n",
       "    </tr>\n",
       "    <tr>\n",
       "        <td>0.493584643433</td>\n",
       "        <td>743</td>\n",
       "        <td>116</td>\n",
       "        <td>69</td>\n",
       "        <td>325</td>\n",
       "        <td>0.915024630542</td>\n",
       "        <td>0.736961451247</td>\n",
       "        <td>0.864959254948</td>\n",
       "        <td>0.824873096447</td>\n",
       "        <td>0.263038548753</td>\n",
       "        <td>0.135040745052</td>\n",
       "        <td>0.0849753694581</td>\n",
       "        <td>0.852354349561</td>\n",
       "        <td>0.88928785158587672053</td>\n",
       "    </tr>\n",
       "    <tr>\n",
       "        <td>0.493748917388</td>\n",
       "        <td>742</td>\n",
       "        <td>116</td>\n",
       "        <td>70</td>\n",
       "        <td>325</td>\n",
       "        <td>0.913793103448</td>\n",
       "        <td>0.736961451247</td>\n",
       "        <td>0.864801864802</td>\n",
       "        <td>0.822784810127</td>\n",
       "        <td>0.263038548753</td>\n",
       "        <td>0.135198135198</td>\n",
       "        <td>0.0862068965517</td>\n",
       "        <td>0.851556264964</td>\n",
       "        <td>0.88862275449101796407</td>\n",
       "    </tr>\n",
       "    <tr>\n",
       "        <td>0.494077424296</td>\n",
       "        <td>742</td>\n",
       "        <td>115</td>\n",
       "        <td>70</td>\n",
       "        <td>326</td>\n",
       "        <td>0.913793103448</td>\n",
       "        <td>0.739229024943</td>\n",
       "        <td>0.865810968495</td>\n",
       "        <td>0.823232323232</td>\n",
       "        <td>0.260770975057</td>\n",
       "        <td>0.134189031505</td>\n",
       "        <td>0.0862068965517</td>\n",
       "        <td>0.852354349561</td>\n",
       "        <td>0.88915518274415817855</td>\n",
       "    </tr>\n",
       "    <tr>\n",
       "        <td>0.494576932583</td>\n",
       "        <td>741</td>\n",
       "        <td>115</td>\n",
       "        <td>71</td>\n",
       "        <td>326</td>\n",
       "        <td>0.912561576355</td>\n",
       "        <td>0.739229024943</td>\n",
       "        <td>0.865654205607</td>\n",
       "        <td>0.821158690176</td>\n",
       "        <td>0.260770975057</td>\n",
       "        <td>0.134345794393</td>\n",
       "        <td>0.0874384236453</td>\n",
       "        <td>0.851556264964</td>\n",
       "        <td>0.88848920863309352518</td>\n",
       "    </tr>\n",
       "    <tr>\n",
       "        <td>0.495493689667</td>\n",
       "        <td>740</td>\n",
       "        <td>115</td>\n",
       "        <td>72</td>\n",
       "        <td>326</td>\n",
       "        <td>0.911330049261</td>\n",
       "        <td>0.739229024943</td>\n",
       "        <td>0.865497076023</td>\n",
       "        <td>0.819095477387</td>\n",
       "        <td>0.260770975057</td>\n",
       "        <td>0.134502923977</td>\n",
       "        <td>0.0886699507389</td>\n",
       "        <td>0.850758180367</td>\n",
       "        <td>0.88782243551289742052</td>\n",
       "    </tr>\n",
       "    <tr>\n",
       "        <td>0.496196268759</td>\n",
       "        <td>740</td>\n",
       "        <td>114</td>\n",
       "        <td>72</td>\n",
       "        <td>327</td>\n",
       "        <td>0.911330049261</td>\n",
       "        <td>0.741496598639</td>\n",
       "        <td>0.866510538642</td>\n",
       "        <td>0.81954887218</td>\n",
       "        <td>0.258503401361</td>\n",
       "        <td>0.133489461358</td>\n",
       "        <td>0.0886699507389</td>\n",
       "        <td>0.851556264964</td>\n",
       "        <td>0.88835534213685474190</td>\n",
       "    </tr>\n",
       "    <tr>\n",
       "        <td>0.497619293744</td>\n",
       "        <td>740</td>\n",
       "        <td>113</td>\n",
       "        <td>72</td>\n",
       "        <td>328</td>\n",
       "        <td>0.911330049261</td>\n",
       "        <td>0.743764172336</td>\n",
       "        <td>0.867526377491</td>\n",
       "        <td>0.82</td>\n",
       "        <td>0.256235827664</td>\n",
       "        <td>0.132473622509</td>\n",
       "        <td>0.0886699507389</td>\n",
       "        <td>0.852354349561</td>\n",
       "        <td>0.88888888888888888889</td>\n",
       "    </tr>\n",
       "    <tr>\n",
       "        <td>0.497949186519</td>\n",
       "        <td>739</td>\n",
       "        <td>113</td>\n",
       "        <td>73</td>\n",
       "        <td>328</td>\n",
       "        <td>0.910098522167</td>\n",
       "        <td>0.743764172336</td>\n",
       "        <td>0.867370892019</td>\n",
       "        <td>0.817955112219</td>\n",
       "        <td>0.256235827664</td>\n",
       "        <td>0.132629107981</td>\n",
       "        <td>0.0899014778325</td>\n",
       "        <td>0.851556264964</td>\n",
       "        <td>0.88822115384615384615</td>\n",
       "    </tr>\n",
       "    <tr>\n",
       "        <td>0.49884003613</td>\n",
       "        <td>738</td>\n",
       "        <td>113</td>\n",
       "        <td>74</td>\n",
       "        <td>328</td>\n",
       "        <td>0.908866995074</td>\n",
       "        <td>0.743764172336</td>\n",
       "        <td>0.867215041128</td>\n",
       "        <td>0.81592039801</td>\n",
       "        <td>0.256235827664</td>\n",
       "        <td>0.132784958872</td>\n",
       "        <td>0.0911330049261</td>\n",
       "        <td>0.850758180367</td>\n",
       "        <td>0.88755261575466025256</td>\n",
       "    </tr>\n",
       "    <tr>\n",
       "        <td>0.499712871697</td>\n",
       "        <td>738</td>\n",
       "        <td>112</td>\n",
       "        <td>74</td>\n",
       "        <td>329</td>\n",
       "        <td>0.908866995074</td>\n",
       "        <td>0.746031746032</td>\n",
       "        <td>0.868235294118</td>\n",
       "        <td>0.816377171216</td>\n",
       "        <td>0.253968253968</td>\n",
       "        <td>0.131764705882</td>\n",
       "        <td>0.0911330049261</td>\n",
       "        <td>0.851556264964</td>\n",
       "        <td>0.88808664259927797834</td>\n",
       "    </tr>\n",
       "    <tr>\n",
       "        <td>0.50087770307</td>\n",
       "        <td>737</td>\n",
       "        <td>112</td>\n",
       "        <td>75</td>\n",
       "        <td>329</td>\n",
       "        <td>0.90763546798</td>\n",
       "        <td>0.746031746032</td>\n",
       "        <td>0.868080094229</td>\n",
       "        <td>0.814356435644</td>\n",
       "        <td>0.253968253968</td>\n",
       "        <td>0.131919905771</td>\n",
       "        <td>0.0923645320197</td>\n",
       "        <td>0.850758180367</td>\n",
       "        <td>0.88741721854304635762</td>\n",
       "    </tr>\n",
       "    <tr>\n",
       "        <td>0.506796588394</td>\n",
       "        <td>737</td>\n",
       "        <td>111</td>\n",
       "        <td>75</td>\n",
       "        <td>330</td>\n",
       "        <td>0.90763546798</td>\n",
       "        <td>0.748299319728</td>\n",
       "        <td>0.869103773585</td>\n",
       "        <td>0.814814814815</td>\n",
       "        <td>0.251700680272</td>\n",
       "        <td>0.130896226415</td>\n",
       "        <td>0.0923645320197</td>\n",
       "        <td>0.851556264964</td>\n",
       "        <td>0.88795180722891566265</td>\n",
       "    </tr>\n",
       "    <tr>\n",
       "        <td>0.508934372804</td>\n",
       "        <td>737</td>\n",
       "        <td>110</td>\n",
       "        <td>75</td>\n",
       "        <td>331</td>\n",
       "        <td>0.90763546798</td>\n",
       "        <td>0.750566893424</td>\n",
       "        <td>0.87012987013</td>\n",
       "        <td>0.815270935961</td>\n",
       "        <td>0.249433106576</td>\n",
       "        <td>0.12987012987</td>\n",
       "        <td>0.0923645320197</td>\n",
       "        <td>0.852354349561</td>\n",
       "        <td>0.88848704038577456299</td>\n",
       "    </tr>\n",
       "    <tr>\n",
       "        <td>0.509579182757</td>\n",
       "        <td>736</td>\n",
       "        <td>110</td>\n",
       "        <td>76</td>\n",
       "        <td>331</td>\n",
       "        <td>0.906403940887</td>\n",
       "        <td>0.750566893424</td>\n",
       "        <td>0.869976359338</td>\n",
       "        <td>0.813267813268</td>\n",
       "        <td>0.249433106576</td>\n",
       "        <td>0.130023640662</td>\n",
       "        <td>0.0935960591133</td>\n",
       "        <td>0.851556264964</td>\n",
       "        <td>0.88781664656212303981</td>\n",
       "    </tr>\n",
       "    <tr>\n",
       "        <td>0.510595338082</td>\n",
       "        <td>735</td>\n",
       "        <td>110</td>\n",
       "        <td>77</td>\n",
       "        <td>331</td>\n",
       "        <td>0.905172413793</td>\n",
       "        <td>0.750566893424</td>\n",
       "        <td>0.869822485207</td>\n",
       "        <td>0.811274509804</td>\n",
       "        <td>0.249433106576</td>\n",
       "        <td>0.130177514793</td>\n",
       "        <td>0.0948275862069</td>\n",
       "        <td>0.850758180367</td>\n",
       "        <td>0.88714544357272178636</td>\n",
       "    </tr>\n",
       "    <tr>\n",
       "        <td>0.513324120805</td>\n",
       "        <td>734</td>\n",
       "        <td>110</td>\n",
       "        <td>78</td>\n",
       "        <td>331</td>\n",
       "        <td>0.9039408867</td>\n",
       "        <td>0.750566893424</td>\n",
       "        <td>0.869668246445</td>\n",
       "        <td>0.809290953545</td>\n",
       "        <td>0.249433106576</td>\n",
       "        <td>0.130331753555</td>\n",
       "        <td>0.0960591133005</td>\n",
       "        <td>0.84996009577</td>\n",
       "        <td>0.88647342995169082126</td>\n",
       "    </tr>\n",
       "    <tr>\n",
       "        <td>0.513653874352</td>\n",
       "        <td>734</td>\n",
       "        <td>109</td>\n",
       "        <td>78</td>\n",
       "        <td>332</td>\n",
       "        <td>0.9039408867</td>\n",
       "        <td>0.75283446712</td>\n",
       "        <td>0.870699881376</td>\n",
       "        <td>0.809756097561</td>\n",
       "        <td>0.24716553288</td>\n",
       "        <td>0.129300118624</td>\n",
       "        <td>0.0960591133005</td>\n",
       "        <td>0.850758180367</td>\n",
       "        <td>0.88700906344410876133</td>\n",
       "    </tr>\n",
       "    <tr>\n",
       "        <td>0.518047576593</td>\n",
       "        <td>733</td>\n",
       "        <td>109</td>\n",
       "        <td>79</td>\n",
       "        <td>332</td>\n",
       "        <td>0.902709359606</td>\n",
       "        <td>0.75283446712</td>\n",
       "        <td>0.87054631829</td>\n",
       "        <td>0.807785888078</td>\n",
       "        <td>0.24716553288</td>\n",
       "        <td>0.12945368171</td>\n",
       "        <td>0.0972906403941</td>\n",
       "        <td>0.84996009577</td>\n",
       "        <td>0.88633615477629987908</td>\n",
       "    </tr>\n",
       "    <tr>\n",
       "        <td>0.519030274502</td>\n",
       "        <td>732</td>\n",
       "        <td>109</td>\n",
       "        <td>80</td>\n",
       "        <td>332</td>\n",
       "        <td>0.901477832512</td>\n",
       "        <td>0.75283446712</td>\n",
       "        <td>0.870392390012</td>\n",
       "        <td>0.805825242718</td>\n",
       "        <td>0.24716553288</td>\n",
       "        <td>0.129607609988</td>\n",
       "        <td>0.0985221674877</td>\n",
       "        <td>0.849162011173</td>\n",
       "        <td>0.88566243194192377495</td>\n",
       "    </tr>\n",
       "</table>"
      ],
      "text/plain": [
       "[(0.480813540437995, Decimal('750'), Decimal('122'), Decimal('62'), Decimal('319'), 0.923645320197044, 0.723356009070295, 0.860091743119266, 0.837270341207349, 0.276643990929705, 0.139908256880734, 0.0763546798029557, 0.853152434158021, Decimal('0.89073634204275534442')),\n",
       " (0.480960568056433, Decimal('749'), Decimal('122'), Decimal('63'), Decimal('319'), 0.922413793103448, 0.723356009070295, 0.859931113662457, 0.835078534031414, 0.276643990929705, 0.140068886337543, 0.0775862068965517, 0.852354349561053, Decimal('0.89007724301841948901')),\n",
       " (0.481340339905486, Decimal('749'), Decimal('121'), Decimal('63'), Decimal('320'), 0.922413793103448, 0.72562358276644, 0.860919540229885, 0.835509138381201, 0.27437641723356, 0.139080459770115, 0.0775862068965517, 0.853152434158021, Decimal('0.89060642092746730083')),\n",
       " (0.482981874370299, Decimal('748'), Decimal('121'), Decimal('64'), Decimal('320'), 0.921182266009852, 0.72562358276644, 0.860759493670886, 0.833333333333333, 0.27437641723356, 0.139240506329114, 0.0788177339901478, 0.852354349561053, Decimal('0.88994646044021415824')),\n",
       " (0.484306593505777, Decimal('748'), Decimal('120'), Decimal('64'), Decimal('321'), 0.921182266009852, 0.727891156462585, 0.861751152073733, 0.833766233766234, 0.272108843537415, 0.138248847926267, 0.0788177339901478, 0.853152434158021, Decimal('0.89047619047619047619')),\n",
       " (0.487331142196112, Decimal('747'), Decimal('120'), Decimal('65'), Decimal('321'), 0.919950738916256, 0.727891156462585, 0.86159169550173, 0.83160621761658, 0.272108843537415, 0.13840830449827, 0.0800492610837438, 0.852354349561053, Decimal('0.88981536628945801072')),\n",
       " (0.487774653422381, Decimal('747'), Decimal('119'), Decimal('65'), Decimal('322'), 0.919950738916256, 0.73015873015873, 0.862586605080831, 0.832041343669251, 0.26984126984127, 0.137413394919169, 0.0800492610837438, 0.853152434158021, Decimal('0.89034564958283671037')),\n",
       " (0.488000947327315, Decimal('747'), Decimal('118'), Decimal('65'), Decimal('323'), 0.919950738916256, 0.732426303854875, 0.863583815028902, 0.832474226804124, 0.267573696145125, 0.136416184971098, 0.0800492610837438, 0.853950518754988, Decimal('0.89087656529516994633')),\n",
       " (0.488230774975546, Decimal('746'), Decimal('118'), Decimal('66'), Decimal('323'), 0.91871921182266, 0.732426303854875, 0.863425925925926, 0.830334190231362, 0.267573696145125, 0.136574074074074, 0.0812807881773399, 0.853152434158021, Decimal('0.89021479713603818616')),\n",
       " (0.490427907343439, Decimal('745'), Decimal('118'), Decimal('67'), Decimal('323'), 0.917487684729064, 0.732426303854875, 0.863267670915411, 0.828205128205128, 0.267573696145125, 0.136732329084589, 0.082512315270936, 0.852354349561053, Decimal('0.88955223880597014925')),\n",
       " (0.49101986323237, Decimal('744'), Decimal('118'), Decimal('68'), Decimal('323'), 0.916256157635468, 0.732426303854875, 0.863109048723898, 0.826086956521739, 0.267573696145125, 0.136890951276102, 0.083743842364532, 0.851556264964086, Decimal('0.88888888888888888889')),\n",
       " (0.492232884267404, Decimal('744'), Decimal('117'), Decimal('68'), Decimal('324'), 0.916256157635468, 0.73469387755102, 0.86411149825784, 0.826530612244898, 0.26530612244898, 0.13588850174216, 0.083743842364532, 0.852354349561053, Decimal('0.88942020322773460849')),\n",
       " (0.493501130728478, Decimal('743'), Decimal('117'), Decimal('69'), Decimal('324'), 0.915024630541872, 0.73469387755102, 0.863953488372093, 0.824427480916031, 0.26530612244898, 0.136046511627907, 0.0849753694581281, 0.851556264964086, Decimal('0.88875598086124401914')),\n",
       " (0.493584643433406, Decimal('743'), Decimal('116'), Decimal('69'), Decimal('325'), 0.915024630541872, 0.736961451247165, 0.864959254947613, 0.8248730964467, 0.263038548752834, 0.135040745052387, 0.0849753694581281, 0.852354349561053, Decimal('0.88928785158587672053')),\n",
       " (0.493748917388013, Decimal('742'), Decimal('116'), Decimal('70'), Decimal('325'), 0.913793103448276, 0.736961451247165, 0.864801864801865, 0.822784810126582, 0.263038548752834, 0.135198135198135, 0.0862068965517241, 0.851556264964086, Decimal('0.88862275449101796407')),\n",
       " (0.494077424295624, Decimal('742'), Decimal('115'), Decimal('70'), Decimal('326'), 0.913793103448276, 0.739229024943311, 0.865810968494749, 0.823232323232323, 0.260770975056689, 0.134189031505251, 0.0862068965517241, 0.852354349561053, Decimal('0.88915518274415817855')),\n",
       " (0.494576932583354, Decimal('741'), Decimal('115'), Decimal('71'), Decimal('326'), 0.91256157635468, 0.739229024943311, 0.865654205607477, 0.821158690176322, 0.260770975056689, 0.134345794392523, 0.0874384236453202, 0.851556264964086, Decimal('0.88848920863309352518')),\n",
       " (0.495493689667348, Decimal('740'), Decimal('115'), Decimal('72'), Decimal('326'), 0.911330049261084, 0.739229024943311, 0.865497076023392, 0.819095477386935, 0.260770975056689, 0.134502923976608, 0.0886699507389163, 0.850758180367119, Decimal('0.88782243551289742052')),\n",
       " (0.496196268758971, Decimal('740'), Decimal('114'), Decimal('72'), Decimal('327'), 0.911330049261084, 0.741496598639456, 0.866510538641686, 0.819548872180451, 0.258503401360544, 0.133489461358314, 0.0886699507389163, 0.851556264964086, Decimal('0.88835534213685474190')),\n",
       " (0.497619293744468, Decimal('740'), Decimal('113'), Decimal('72'), Decimal('328'), 0.911330049261084, 0.743764172335601, 0.867526377491208, 0.82, 0.256235827664399, 0.132473622508792, 0.0886699507389163, 0.852354349561053, Decimal('0.88888888888888888889')),\n",
       " (0.497949186518962, Decimal('739'), Decimal('113'), Decimal('73'), Decimal('328'), 0.910098522167488, 0.743764172335601, 0.867370892018779, 0.817955112219451, 0.256235827664399, 0.132629107981221, 0.0899014778325123, 0.851556264964086, Decimal('0.88822115384615384615')),\n",
       " (0.498840036130481, Decimal('738'), Decimal('113'), Decimal('74'), Decimal('328'), 0.908866995073892, 0.743764172335601, 0.867215041128085, 0.81592039800995, 0.256235827664399, 0.132784958871915, 0.0911330049261084, 0.850758180367119, Decimal('0.88755261575466025256')),\n",
       " (0.499712871696899, Decimal('738'), Decimal('112'), Decimal('74'), Decimal('329'), 0.908866995073892, 0.746031746031746, 0.868235294117647, 0.816377171215881, 0.253968253968254, 0.131764705882353, 0.0911330049261084, 0.851556264964086, Decimal('0.88808664259927797834')),\n",
       " (0.500877703069986, Decimal('737'), Decimal('112'), Decimal('75'), Decimal('329'), 0.907635467980296, 0.746031746031746, 0.868080094228504, 0.814356435643564, 0.253968253968254, 0.131919905771496, 0.0923645320197044, 0.850758180367119, Decimal('0.88741721854304635762')),\n",
       " (0.506796588394201, Decimal('737'), Decimal('111'), Decimal('75'), Decimal('330'), 0.907635467980296, 0.748299319727891, 0.869103773584906, 0.814814814814815, 0.251700680272109, 0.130896226415094, 0.0923645320197044, 0.851556264964086, Decimal('0.88795180722891566265')),\n",
       " (0.508934372803905, Decimal('737'), Decimal('110'), Decimal('75'), Decimal('331'), 0.907635467980296, 0.750566893424036, 0.87012987012987, 0.815270935960591, 0.249433106575964, 0.12987012987013, 0.0923645320197044, 0.852354349561053, Decimal('0.88848704038577456299')),\n",
       " (0.509579182757293, Decimal('736'), Decimal('110'), Decimal('76'), Decimal('331'), 0.9064039408867, 0.750566893424036, 0.869976359338062, 0.813267813267813, 0.249433106575964, 0.130023640661939, 0.0935960591133005, 0.851556264964086, Decimal('0.88781664656212303981')),\n",
       " (0.510595338082324, Decimal('735'), Decimal('110'), Decimal('77'), Decimal('331'), 0.905172413793103, 0.750566893424036, 0.869822485207101, 0.811274509803922, 0.249433106575964, 0.130177514792899, 0.0948275862068965, 0.850758180367119, Decimal('0.88714544357272178636')),\n",
       " (0.513324120805451, Decimal('734'), Decimal('110'), Decimal('78'), Decimal('331'), 0.903940886699507, 0.750566893424036, 0.869668246445498, 0.809290953545232, 0.249433106575964, 0.130331753554502, 0.0960591133004926, 0.849960095770152, Decimal('0.88647342995169082126')),\n",
       " (0.513653874352143, Decimal('734'), Decimal('109'), Decimal('78'), Decimal('332'), 0.903940886699507, 0.752834467120181, 0.870699881376038, 0.809756097560976, 0.247165532879819, 0.129300118623962, 0.0960591133004926, 0.850758180367119, Decimal('0.88700906344410876133')),\n",
       " (0.518047576592981, Decimal('733'), Decimal('109'), Decimal('79'), Decimal('332'), 0.902709359605911, 0.752834467120181, 0.870546318289786, 0.807785888077859, 0.247165532879819, 0.129453681710214, 0.0972906403940887, 0.849960095770152, Decimal('0.88633615477629987908')),\n",
       " (0.51903027450154, Decimal('732'), Decimal('109'), Decimal('80'), Decimal('332'), 0.901477832512315, 0.752834467120181, 0.870392390011891, 0.805825242718447, 0.247165532879819, 0.129607609988109, 0.0985221674876847, 0.849162011173184, Decimal('0.88566243194192377495'))]"
      ]
     },
     "execution_count": 30,
     "metadata": {},
     "output_type": "execute_result"
    }
   ],
   "source": [
    "%%sql\n",
    "SELECT *\n",
    "FROM abalone_logreg_test_binary_metrics\n",
    "WHERE \n",
    "    --round(threshold::numeric, 1) = 0.5\n",
    "    threshold >= 0.48 AND\n",
    "    threshold <= 0.52\n",
    "ORDER BY threshold;"
   ]
  },
  {
   "cell_type": "code",
   "execution_count": 31,
   "metadata": {},
   "outputs": [
    {
     "name": "stdout",
     "output_type": "stream",
     "text": [
      "1253 rows affected.\n"
     ]
    }
   ],
   "source": [
    "logreg_metrics = %sql SELECT * FROM abalone_logreg_test_binary_metrics ORDER BY threshold;\n",
    "logreg_metrics = logreg_metrics.DataFrame();"
   ]
  },
  {
   "cell_type": "code",
   "execution_count": 32,
   "metadata": {},
   "outputs": [
    {
     "data": {
      "image/png": "[encoded data removed]",
      "text/plain": [
       "<Figure size 432x288 with 1 Axes>"
      ]
     },
     "metadata": {
      "needs_background": "light"
     },
     "output_type": "display_data"
    }
   ],
   "source": [
    "logreg_metrics.plot('fpr', 'tpr',xlim=(0.,1.),ylim=(0.,1.));"
   ]
  },
  {
   "cell_type": "markdown",
   "metadata": {},
   "source": [
    "<a id=\"forest\"></a>\n",
    "## 5b. Random Forest "
   ]
  },
  {
   "cell_type": "code",
   "execution_count": 33,
   "metadata": {},
   "outputs": [
    {
     "name": "stdout",
     "output_type": "stream",
     "text": [
      "Done.\n",
      "Done.\n",
      "Done.\n",
      "1 rows affected.\n"
     ]
    },
    {
     "data": {
      "text/html": [
       "<table>\n",
       "    <tr>\n",
       "        <th>forest_train</th>\n",
       "    </tr>\n",
       "    <tr>\n",
       "        <td></td>\n",
       "    </tr>\n",
       "</table>"
      ],
      "text/plain": [
       "[('',)]"
      ]
     },
     "execution_count": 33,
     "metadata": {},
     "output_type": "execute_result"
    }
   ],
   "source": [
    "%%sql\n",
    "DROP TABLE IF EXISTS abalone_rf_model;\n",
    "DROP TABLE IF EXISTS abalone_rf_model_group;\n",
    "DROP TABLE IF EXISTS abalone_rf_model_summary;\n",
    "SELECT\n",
    "madlib.forest_train(\n",
    "    'abalone_classif_train',  -- training_table_name\n",
    "    'abalone_rf_model',  -- output_table_name\n",
    "    'id',  -- id_col_name\n",
    "    'mature',  -- dependent_variable\n",
    "    'length,diameter,height,whole_weight,shucked_weight,viscera_weight,shell_weight,sex_f,sex_m',  -- list_of_features\n",
    "    NULL,  -- list_of_features_to_exclude\n",
    "    NULL,  -- grouping_columns\n",
    "    10  -- number of trees\n",
    ");"
   ]
  },
  {
   "cell_type": "markdown",
   "metadata": {},
   "source": [
    "View one of the trees in the forest.  You could also view the tree in dot format, though for random forest tree visualization is less relevant."
   ]
  },
  {
   "cell_type": "code",
   "execution_count": 34,
   "metadata": {},
   "outputs": [
    {
     "name": "stdout",
     "output_type": "stream",
     "text": [
      "1 rows affected.\n"
     ]
    },
    {
     "data": {
      "text/html": [
       "<table>\n",
       "    <tr>\n",
       "        <th>get_tree</th>\n",
       "    </tr>\n",
       "    <tr>\n",
       "        <td>digraph \"Classification tree for abalone_classif_train\" {<br>\"0\" [label=\"diameter &lt;= 0.365\\n impurity = 0.445362\\n samples = 2895\\n value = [ 969 1926]\\n class = 1\", shape=ellipse];<br>\"0\" -&gt; \"1\"[label=\"yes\"];<br>\"0\" -&gt; \"2\"[label=\"no\"];<br>\"1\" [label=\"height &lt;= 0.095\\n impurity = 0.378198\\n samples = 932\\n value = [696 236]\\n class = 0\", shape=ellipse];<br>\"1\" -&gt; \"3\"[label=\"yes\"];<br>\"1\" -&gt; \"4\"[label=\"no\"];<br>\"2\" [label=\"shell_weight &lt;= 0.24\\n impurity = 0.239463\\n samples = 1963\\n value = [ 273 1690]\\n class = 1\", shape=ellipse];<br>\"2\" -&gt; \"5\"[label=\"yes\"];<br>\"2\" -&gt; \"6\"[label=\"no\"];<br>\"3\" [label=\"sex_m &lt;= 0\\n impurity = 0.139694\\n samples = 450\\n value = [416  34]\\n class = 0\", shape=ellipse];<br>\"3\" -&gt; \"7\"[label=\"yes\"];<br>\"3\" -&gt; \"8\"[label=\"no\"];<br>\"4\" [label=\"shell_weight &lt;= 0.135\\n impurity = 0.486906\\n samples = 482\\n value = [280 202]\\n class = 0\", shape=ellipse];<br>\"4\" -&gt; \"9\"[label=\"yes\"];<br>\"4\" -&gt; \"10\"[label=\"no\"];<br>\"5\" [label=\"length &lt;= 0.495\\n impurity = 0.438989\\n samples = 584\\n value = [190 394]\\n class = 1\", shape=ellipse];<br>\"5\" -&gt; \"11\"[label=\"yes\"];<br>\"5\" -&gt; \"12\"[label=\"no\"];<br>\"6\" [label=\"height &lt;= 0.16\\n impurity = 0.113132\\n samples = 1379\\n value = [  83 1296]\\n class = 1\", shape=ellipse];<br>\"6\" -&gt; \"13\"[label=\"yes\"];<br>\"6\" -&gt; \"14\"[label=\"no\"];<br>\"7\" [label=\"length &lt;= 0.43\\n impurity = 0.0610081\\n samples = 381\\n value = [369  12]\\n class = 0\", shape=ellipse];<br>\"7\" -&gt; \"15\"[label=\"yes\"];<br>\"7\" -&gt; \"16\"[label=\"no\"];<br>\"16\" [label=\"0\\n impurity = 0.444444\\n samples = 9\\n value = [6 3]\",shape=box];<br>\"8\" [label=\"shucked_weight &lt;= 0.0545\\n impurity = 0.434363\\n samples = 69\\n value = [47 22]\\n class = 0\", shape=ellipse];<br>\"8\" -&gt; \"17\"[label=\"yes\"];<br>\"17\" [label=\"0\\n impurity = 0.0739645\\n samples = 26\\n value = [25  1]\",shape=box];<br>\"8\" -&gt; \"18\"[label=\"no\"];<br>\"9\" [label=\"shucked_weight &lt;= 0.1255\\n impurity = 0.440547\\n samples = 348\\n value = [234 114]\\n class = 0\", shape=ellipse];<br>\"9\" -&gt; \"19\"[label=\"yes\"];<br>\"9\" -&gt; \"20\"[label=\"no\"];<br>\"10\" [label=\"length &lt;= 0.475\\n impurity = 0.45088\\n samples = 134\\n value = [46 88]\\n class = 1\", shape=ellipse];<br>\"10\" -&gt; \"21\"[label=\"yes\"];<br>\"21\" [label=\"1\\n impurity = 0.340265\\n samples = 92\\n value = [20 72]\",shape=box];<br>\"10\" -&gt; \"22\"[label=\"no\"];<br>\"11\" [label=\"height &lt;= 0.135\\n impurity = 0.481135\\n samples = 139\\n value = [56 83]\\n class = 1\", shape=ellipse];<br>\"11\" -&gt; \"23\"[label=\"yes\"];<br>\"11\" -&gt; \"24\"[label=\"no\"];<br>\"24\" [label=\"1\\n impurity = 0.244898\\n samples = 35\\n value = [ 5 30]\",shape=box];<br>\"12\" [label=\"viscera_weight &lt;= 0.1255\\n impurity = 0.420896\\n samples = 445\\n value = [134 311]\\n class = 1\", shape=ellipse];<br>\"12\" -&gt; \"25\"[label=\"yes\"];<br>\"12\" -&gt; \"26\"[label=\"no\"];<br>\"13\" [label=\"shucked_weight &lt;= 0.396\\n impurity = 0.19002\\n samples = 602\\n value = [ 64 538]\\n class = 1\", shape=ellipse];<br>\"13\" -&gt; \"27\"[label=\"yes\"];<br>\"27\" [label=\"1\\n impurity = 0.0774598\\n samples = 223\\n value = [  9 214]\",shape=box];<br>\"13\" -&gt; \"28\"[label=\"no\"];<br>\"14\" [label=\"diameter &lt;= 0.465\\n impurity = 0.0477101\\n samples = 777\\n value = [ 19 758]\\n class = 1\", shape=ellipse];<br>\"14\" -&gt; \"29\"[label=\"yes\"];<br>\"29\" [label=\"1\\n impurity = 0.152778\\n samples = 120\\n value = [ 10 110]\",shape=box];<br>\"14\" -&gt; \"30\"[label=\"no\"];<br>\"15\" [label=\"viscera_weight &lt;= 0.032\\n impurity = 0.0472164\\n samples = 372\\n value = [363   9]\\n class = 0\", shape=ellipse];<br>\"15\" -&gt; \"31\"[label=\"yes\"];<br>\"31\" [label=\"0\\n impurity = 0\\n samples = 168\\n value = [168   0]\",shape=box];<br>\"15\" -&gt; \"32\"[label=\"no\"];<br>\"18\" [label=\"shucked_weight &lt;= 0.1125\\n impurity = 0.49973\\n samples = 43\\n value = [22 21]\\n class = 0\", shape=ellipse];<br>\"18\" -&gt; \"37\"[label=\"yes\"];<br>\"18\" -&gt; \"38\"[label=\"no\"];<br>\"38\" [label=\"0\\n impurity = 0.244898\\n samples = 7\\n value = [6 1]\",shape=box];<br>\"19\" [label=\"sex_f &lt;= 0\\n impurity = 0.498555\\n samples = 93\\n value = [44 49]\\n class = 1\", shape=ellipse];<br>\"19\" -&gt; \"39\"[label=\"yes\"];<br>\"19\" -&gt; \"40\"[label=\"no\"];<br>\"40\" [label=\"1\\n impurity = 0.124444\\n samples = 15\\n value = [ 1 14]\",shape=box];<br>\"20\" [label=\"viscera_weight &lt;= 0.1405\\n impurity = 0.379854\\n samples = 255\\n value = [190  65]\\n class = 0\", shape=ellipse];<br>\"20\" -&gt; \"41\"[label=\"yes\"];<br>\"20\" -&gt; \"42\"[label=\"no\"];<br>\"42\" [label=\"1\\n impurity = 0.277778\\n samples = 6\\n value = [1 5]\",shape=box];<br>\"22\" [label=\"viscera_weight &lt;= 0.108\\n impurity = 0.471655\\n samples = 42\\n value = [26 16]\\n class = 0\", shape=ellipse];<br>\"22\" -&gt; \"45\"[label=\"yes\"];<br>\"45\" [label=\"0\\n impurity = 0.188366\\n samples = 19\\n value = [17  2]\",shape=box];<br>\"22\" -&gt; \"46\"[label=\"no\"];<br>\"23\" [label=\"shell_weight &lt;= 0.1535\\n impurity = 0.499815\\n samples = 104\\n value = [51 53]\\n class = 1\", shape=ellipse];<br>\"23\" -&gt; \"47\"[label=\"yes\"];<br>\"23\" -&gt; \"48\"[label=\"no\"];<br>\"25\" [label=\"diameter &lt;= 0.375\\n impurity = 0.491493\\n samples = 46\\n value = [26 20]\\n class = 0\", shape=ellipse];<br>\"25\" -&gt; \"51\"[label=\"yes\"];<br>\"51\" [label=\"0\\n impurity = 0\\n samples = 7\\n value = [7 0]\",shape=box];<br>\"25\" -&gt; \"52\"[label=\"no\"];<br>\"52\" [label=\"1\\n impurity = 0.499671\\n samples = 39\\n value = [19 20]\",shape=box];<br>\"26\" [label=\"length &lt;= 0.52\\n impurity = 0.394822\\n samples = 399\\n value = [108 291]\\n class = 1\", shape=ellipse];<br>\"26\" -&gt; \"53\"[label=\"yes\"];<br>\"26\" -&gt; \"54\"[label=\"no\"];<br>\"54\" [label=\"1\\n impurity = 0.447971\\n samples = 248\\n value = [ 84 164]\",shape=box];<br>\"28\" [label=\"viscera_weight &lt;= 0.2105\\n impurity = 0.248119\\n samples = 379\\n value = [ 55 324]\\n class = 1\", shape=ellipse];<br>\"28\" -&gt; \"57\"[label=\"yes\"];<br>\"57\" [label=\"1\\n impurity = 0.408163\\n samples = 84\\n value = [24 60]\",shape=box];<br>\"28\" -&gt; \"58\"[label=\"no\"];<br>\"30\" [label=\"whole_weight &lt;= 1.415\\n impurity = 0.027022\\n samples = 657\\n value = [  9 648]\\n class = 1\", shape=ellipse];<br>\"30\" -&gt; \"61\"[label=\"yes\"];<br>\"30\" -&gt; \"62\"[label=\"no\"];<br>\"62\" [label=\"1\\n impurity = 0\\n samples = 320\\n value = [  0 320]\",shape=box];<br>\"32\" [label=\"shell_weight &lt;= 0.081\\n impurity = 0.0843426\\n samples = 204\\n value = [195   9]\\n class = 0\", shape=ellipse];<br>\"32\" -&gt; \"65\"[label=\"yes\"];<br>\"32\" -&gt; \"66\"[label=\"no\"];<br>\"66\" [label=\"0\\n impurity = 0\\n samples = 32\\n value = [32  0]\",shape=box];<br>\"37\" [label=\"shucked_weight &lt;= 0.086\\n impurity = 0.493827\\n samples = 36\\n value = [16 20]\\n class = 1\", shape=ellipse];<br>\"37\" -&gt; \"75\"[label=\"yes\"];<br>\"37\" -&gt; \"76\"[label=\"no\"];<br>\"76\" [label=\"1\\n impurity = 0.18\\n samples = 10\\n value = [1 9]\",shape=box];<br>\"39\" [label=\"diameter &lt;= 0.255\\n impurity = 0.49474\\n samples = 78\\n value = [43 35]\\n class = 0\", shape=ellipse];<br>\"39\" -&gt; \"79\"[label=\"yes\"];<br>\"79\" [label=\"0\\n impurity = 0\\n samples = 8\\n value = [8 0]\",shape=box];<br>\"39\" -&gt; \"80\"[label=\"no\"];<br>\"41\" [label=\"shell_weight &lt;= 0.11\\n impurity = 0.365801\\n samples = 249\\n value = [189  60]\\n class = 0\", shape=ellipse];<br>\"41\" -&gt; \"83\"[label=\"yes\"];<br>\"41\" -&gt; \"84\"[label=\"no\"];<br>\"46\" [label=\"whole_weight &lt;= 0.875\\n impurity = 0.476371\\n samples = 23\\n value = [ 9 14]\\n class = 1\", shape=ellipse];<br>\"46\" -&gt; \"93\"[label=\"yes\"];<br>\"93\" [label=\"1\\n impurity = 0.152778\\n samples = 12\\n value = [ 1 11]\",shape=box];<br>\"46\" -&gt; \"94\"[label=\"no\"];<br>\"94\" [label=\"0\\n impurity = 0.396694\\n samples = 11\\n value = [8 3]\",shape=box];<br>\"47\" [label=\"sex_f &lt;= 0\\n impurity = 0.32699\\n samples = 34\\n value = [27  7]\\n class = 0\", shape=ellipse];<br>\"47\" -&gt; \"95\"[label=\"yes\"];<br>\"95\" [label=\"0\\n impurity = 0.204142\\n samples = 26\\n value = [23  3]\",shape=box];<br>\"47\" -&gt; \"96\"[label=\"no\"];<br>\"96\" [label=\"0\\n impurity = 0.5\\n samples = 8\\n value = [4 4]\",shape=box];<br>\"48\" [label=\"whole_weight &lt;= 0.599\\n impurity = 0.450612\\n samples = 70\\n value = [24 46]\\n class = 1\", shape=ellipse];<br>\"48\" -&gt; \"97\"[label=\"yes\"];<br>\"48\" -&gt; \"98\"[label=\"no\"];<br>\"98\" [label=\"0\\n impurity = 0.429688\\n samples = 16\\n value = [11  5]\",shape=box];<br>\"53\" [label=\"height &lt;= 0.125\\n impurity = 0.267357\\n samples = 151\\n value = [ 24 127]\\n class = 1\", shape=ellipse];<br>\"53\" -&gt; \"107\"[label=\"yes\"];<br>\"53\" -&gt; \"108\"[label=\"no\"];<br>\"58\" [label=\"shell_weight &lt;= 0.32\\n impurity = 0.188084\\n samples = 295\\n value = [ 31 264]\\n class = 1\", shape=ellipse];<br>\"58\" -&gt; \"117\"[label=\"yes\"];<br>\"58\" -&gt; \"118\"[label=\"no\"];<br>\"61\" [label=\"shucked_weight &lt;= 0.585\\n impurity = 0.051986\\n samples = 337\\n value = [  9 328]\\n class = 1\", shape=ellipse];<br>\"61\" -&gt; \"123\"[label=\"yes\"];<br>\"123\" [label=\"1\\n impurity = 0.0239965\\n samples = 247\\n value = [  3 244]\",shape=box];<br>\"61\" -&gt; \"124\"[label=\"no\"];<br>\"65\" [label=\"shucked_weight &lt;= 0.08\\n impurity = 0.0991752\\n samples = 172\\n value = [163   9]\\n class = 0\", shape=ellipse];<br>\"65\" -&gt; \"131\"[label=\"yes\"];<br>\"131\" [label=\"0\\n impurity = 0.21875\\n samples = 64\\n value = [56  8]\",shape=box];<br>\"65\" -&gt; \"132\"[label=\"no\"];<br>\"75\" [label=\"shucked_weight &lt;= 0.0675\\n impurity = 0.488166\\n samples = 26\\n value = [15 11]\\n class = 0\", shape=ellipse];<br>\"75\" -&gt; \"151\"[label=\"yes\"];<br>\"151\" [label=\"1\\n impurity = 0.396694\\n samples = 11\\n value = [3 8]\",shape=box];<br>\"75\" -&gt; \"152\"[label=\"no\"];<br>\"152\" [label=\"0\\n impurity = 0.32\\n samples = 15\\n value = [12  3]\",shape=box];<br>\"80\" [label=\"height &lt;= 0.105\\n impurity = 0.5\\n samples = 70\\n value = [35 35]\\n class = 0\", shape=ellipse];<br>\"80\" -&gt; \"161\"[label=\"yes\"];<br>\"80\" -&gt; \"162\"[label=\"no\"];<br>\"83\" [label=\"sex_f &lt;= 0\\n impurity = 0.21491\\n samples = 98\\n value = [86 12]\\n class = 0\", shape=ellipse];<br>\"83\" -&gt; \"167\"[label=\"yes\"];<br>\"167\" [label=\"0\\n impurity = 0.1298\\n samples = 86\\n value = [80  6]\",shape=box];<br>\"83\" -&gt; \"168\"[label=\"no\"];<br>\"168\" [label=\"0\\n impurity = 0.5\\n samples = 12\\n value = [6 6]\",shape=box];<br>\"84\" [label=\"viscera_weight &lt;= 0.092\\n impurity = 0.433665\\n samples = 151\\n value = [103  48]\\n class = 0\", shape=ellipse];<br>\"84\" -&gt; \"169\"[label=\"yes\"];<br>\"84\" -&gt; \"170\"[label=\"no\"];<br>\"97\" [label=\"whole_weight &lt;= 0.5305\\n impurity = 0.365569\\n samples = 54\\n value = [13 41]\\n class = 1\", shape=ellipse];<br>\"97\" -&gt; \"195\"[label=\"yes\"];<br>\"97\" -&gt; \"196\"[label=\"no\"];<br>\"107\" [label=\"whole_weight &lt;= 0.599\\n impurity = 0.389838\\n samples = 49\\n value = [13 36]\\n class = 1\", shape=ellipse];<br>\"107\" -&gt; \"215\"[label=\"yes\"];<br>\"215\" [label=\"0\\n impurity = 0.489796\\n samples = 14\\n value = [8 6]\",shape=box];<br>\"107\" -&gt; \"216\"[label=\"no\"];<br>\"216\" [label=\"1\\n impurity = 0.244898\\n samples = 35\\n value = [ 5 30]\",shape=box];<br>\"108\" [label=\"shucked_weight &lt;= 0.31\\n impurity = 0.192426\\n samples = 102\\n value = [11 91]\\n class = 1\", shape=ellipse];<br>\"108\" -&gt; \"217\"[label=\"yes\"];<br>\"108\" -&gt; \"218\"[label=\"no\"];<br>\"218\" [label=\"1\\n impurity = 0.46875\\n samples = 24\\n value = [ 9 15]\",shape=box];<br>\"117\" [label=\"viscera_weight &lt;= 0.227\\n impurity = 0.263672\\n samples = 192\\n value = [ 30 162]\\n class = 1\", shape=ellipse];<br>\"117\" -&gt; \"235\"[label=\"yes\"];<br>\"117\" -&gt; \"236\"[label=\"no\"];<br>\"118\" [label=\"diameter &lt;= 0.48\\n impurity = 0.019229\\n samples = 103\\n value = [  1 102]\\n class = 1\", shape=ellipse];<br>\"118\" -&gt; \"237\"[label=\"yes\"];<br>\"118\" -&gt; \"238\"[label=\"no\"];<br>\"238\" [label=\"1\\n impurity = 0\\n samples = 79\\n value = [ 0 79]\",shape=box];<br>\"124\" [label=\"length &lt;= 0.66\\n impurity = 0.124444\\n samples = 90\\n value = [ 6 84]\\n class = 1\", shape=ellipse];<br>\"124\" -&gt; \"249\"[label=\"yes\"];<br>\"124\" -&gt; \"250\"[label=\"no\"];<br>\"250\" [label=\"1\\n impurity = 0.304688\\n samples = 16\\n value = [ 3 13]\",shape=box];<br>\"132\" [label=\"sex_f &lt;= 0\\n impurity = 0.0183471\\n samples = 108\\n value = [107   1]\\n class = 0\", shape=ellipse];<br>\"132\" -&gt; \"265\"[label=\"yes\"];<br>\"265\" [label=\"0\\n impurity = 0\\n samples = 97\\n value = [97  0]\",shape=box];<br>\"132\" -&gt; \"266\"[label=\"no\"];<br>\"266\" [label=\"0\\n impurity = 0.165289\\n samples = 11\\n value = [10  1]\",shape=box];<br>\"161\" [label=\"diameter &lt;= 0.3\\n impurity = 0.491493\\n samples = 46\\n value = [26 20]\\n class = 0\", shape=ellipse];<br>\"161\" -&gt; \"323\"[label=\"yes\"];<br>\"323\" [label=\"1\\n impurity = 0.497449\\n samples = 28\\n value = [13 15]\",shape=box];<br>\"161\" -&gt; \"324\"[label=\"no\"];<br>\"324\" [label=\"0\\n impurity = 0.401235\\n samples = 18\\n value = [13  5]\",shape=box];<br>\"162\" [label=\"shell_weight &lt;= 0.098\\n impurity = 0.46875\\n samples = 24\\n value = [ 9 15]\\n class = 1\", shape=ellipse];<br>\"162\" -&gt; \"325\"[label=\"yes\"];<br>\"325\" [label=\"0\\n impurity = 0.49827\\n samples = 17\\n value = [9 8]\",shape=box];<br>\"162\" -&gt; \"326\"[label=\"no\"];<br>\"326\" [label=\"1\\n impurity = 0\\n samples = 7\\n value = [0 7]\",shape=box];<br>\"169\" [label=\"height &lt;= 0.105\\n impurity = 0.491966\\n samples = 71\\n value = [40 31]\\n class = 0\", shape=ellipse];<br>\"169\" -&gt; \"339\"[label=\"yes\"];<br>\"339\" [label=\"1\\n impurity = 0.396694\\n samples = 22\\n value = [ 6 16]\",shape=box];<br>\"169\" -&gt; \"340\"[label=\"no\"];<br>\"170\" [label=\"shucked_weight &lt;= 0.1595\\n impurity = 0.334688\\n samples = 80\\n value = [63 17]\\n class = 0\", shape=ellipse];<br>\"170\" -&gt; \"341\"[label=\"yes\"];<br>\"341\" [label=\"1\\n impurity = 0.497778\\n samples = 15\\n value = [7 8]\",shape=box];<br>\"170\" -&gt; \"342\"[label=\"no\"];<br>\"195\" [label=\"height &lt;= 0.12\\n impurity = 0.483471\\n samples = 22\\n value = [ 9 13]\\n class = 1\", shape=ellipse];<br>\"195\" -&gt; \"391\"[label=\"yes\"];<br>\"391\" [label=\"1\\n impurity = 0.197531\\n samples = 9\\n value = [1 8]\",shape=box];<br>\"195\" -&gt; \"392\"[label=\"no\"];<br>\"392\" [label=\"0\\n impurity = 0.473373\\n samples = 13\\n value = [8 5]\",shape=box];<br>\"196\" [label=\"height &lt;= 0.125\\n impurity = 0.21875\\n samples = 32\\n value = [ 4 28]\\n class = 1\", shape=ellipse];<br>\"196\" -&gt; \"393\"[label=\"yes\"];<br>\"196\" -&gt; \"394\"[label=\"no\"];<br>\"394\" [label=\"1\\n impurity = 0\\n samples = 12\\n value = [ 0 12]\",shape=box];<br>\"217\" [label=\"length &lt;= 0.515\\n impurity = 0.0499671\\n samples = 78\\n value = [ 2 76]\\n class = 1\", shape=ellipse];<br>\"217\" -&gt; \"435\"[label=\"yes\"];<br>\"217\" -&gt; \"436\"[label=\"no\"];<br>\"436\" [label=\"1\\n impurity = 0.197531\\n samples = 9\\n value = [1 8]\",shape=box];<br>\"235\" [label=\"shell_weight &lt;= 0.265\\n impurity = 0.0407986\\n samples = 48\\n value = [ 1 47]\\n class = 1\", shape=ellipse];<br>\"235\" -&gt; \"471\"[label=\"yes\"];<br>\"471\" [label=\"1\\n impurity = 0.104938\\n samples = 18\\n value = [ 1 17]\",shape=box];<br>\"235\" -&gt; \"472\"[label=\"no\"];<br>\"472\" [label=\"1\\n impurity = 0\\n samples = 30\\n value = [ 0 30]\",shape=box];<br>\"236\" [label=\"viscera_weight &lt;= 0.231\\n impurity = 0.321663\\n samples = 144\\n value = [ 29 115]\\n class = 1\", shape=ellipse];<br>\"236\" -&gt; \"473\"[label=\"yes\"];<br>\"473\" [label=\"0\\n impurity = 0.408163\\n samples = 7\\n value = [5 2]\",shape=box];<br>\"236\" -&gt; \"474\"[label=\"no\"];<br>\"474\" [label=\"1\\n impurity = 0.288987\\n samples = 137\\n value = [ 24 113]\",shape=box];<br>\"237\" [label=\"viscera_weight &lt;= 0.2475\\n impurity = 0.0798611\\n samples = 24\\n value = [ 1 23]\\n class = 1\", shape=ellipse];<br>\"237\" -&gt; \"475\"[label=\"yes\"];<br>\"475\" [label=\"1\\n impurity = 0\\n samples = 15\\n value = [ 0 15]\",shape=box];<br>\"237\" -&gt; \"476\"[label=\"no\"];<br>\"476\" [label=\"1\\n impurity = 0.197531\\n samples = 9\\n value = [1 8]\",shape=box];<br>\"249\" [label=\"shucked_weight &lt;= 0.5935\\n impurity = 0.077794\\n samples = 74\\n value = [ 3 71]\\n class = 1\", shape=ellipse];<br>\"249\" -&gt; \"499\"[label=\"yes\"];<br>\"499\" [label=\"1\\n impurity = 0.277778\\n samples = 12\\n value = [ 2 10]\",shape=box];<br>\"249\" -&gt; \"500\"[label=\"no\"];<br>\"340\" [label=\"sex_m &lt;= 0\\n impurity = 0.424823\\n samples = 49\\n value = [34 15]\\n class = 0\", shape=ellipse];<br>\"340\" -&gt; \"681\"[label=\"yes\"];<br>\"681\" [label=\"0\\n impurity = 0.460224\\n samples = 39\\n value = [25 14]\",shape=box];<br>\"340\" -&gt; \"682\"[label=\"no\"];<br>\"682\" [label=\"0\\n impurity = 0.18\\n samples = 10\\n value = [9 1]\",shape=box];<br>\"342\" [label=\"viscera_weight &lt;= 0.102\\n impurity = 0.23858\\n samples = 65\\n value = [56  9]\\n class = 0\", shape=ellipse];<br>\"342\" -&gt; \"685\"[label=\"yes\"];<br>\"685\" [label=\"0\\n impurity = 0\\n samples = 31\\n value = [31  0]\",shape=box];<br>\"342\" -&gt; \"686\"[label=\"no\"];<br>\"686\" [label=\"0\\n impurity = 0.389273\\n samples = 34\\n value = [25  9]\",shape=box];<br>\"393\" [label=\"sex_f &lt;= 0\\n impurity = 0.32\\n samples = 20\\n value = [ 4 16]\\n class = 1\", shape=ellipse];<br>\"393\" -&gt; \"787\"[label=\"yes\"];<br>\"787\" [label=\"1\\n impurity = 0.408163\\n samples = 14\\n value = [ 4 10]\",shape=box];<br>\"393\" -&gt; \"788\"[label=\"no\"];<br>\"788\" [label=\"1\\n impurity = 0\\n samples = 6\\n value = [0 6]\",shape=box];<br>\"435\" [label=\"shucked_weight &lt;= 0.2815\\n impurity = 0.0285654\\n samples = 69\\n value = [ 1 68]\\n class = 1\", shape=ellipse];<br>\"435\" -&gt; \"871\"[label=\"yes\"];<br>\"871\" [label=\"1\\n impurity = 0\\n samples = 52\\n value = [ 0 52]\",shape=box];<br>\"435\" -&gt; \"872\"[label=\"no\"];<br>\"872\" [label=\"1\\n impurity = 0.110727\\n samples = 17\\n value = [ 1 16]\",shape=box];<br>\"500\" [label=\"shucked_weight &lt;= 0.665\\n impurity = 0.0317378\\n samples = 62\\n value = [ 1 61]\\n class = 1\", shape=ellipse];<br>\"500\" -&gt; \"1001\"[label=\"yes\"];<br>\"1001\" [label=\"1\\n impurity = 0\\n samples = 51\\n value = [ 0 51]\",shape=box];<br>\"500\" -&gt; \"1002\"[label=\"no\"];<br>\"1002\" [label=\"1\\n impurity = 0.165289\\n samples = 11\\n value = [ 1 10]\",shape=box];<br><br>} //---end of digraph--------- </td>\n",
       "    </tr>\n",
       "</table>"
      ],
      "text/plain": [
       "[(u'digraph \"Classification tree for abalone_classif_train\" {\\n\"0\" [label=\"diameter <= 0.365\\\\n impurity = 0.445362\\\\n samples = 2895\\\\n value = [ 969 1 ... (16625 characters truncated) ... 0\" -> \"1002\"[label=\"no\"];\\n\"1002\" [label=\"1\\\\n impurity = 0.165289\\\\n samples = 11\\\\n value = [ 1 10]\",shape=box];\\n\\n} //---end of digraph--------- ',)]"
      ]
     },
     "execution_count": 34,
     "metadata": {},
     "output_type": "execute_result"
    }
   ],
   "source": [
    "%%sql \n",
    "SELECT madlib.get_tree('abalone_rf_model', 1, 1, TRUE, TRUE);        "
   ]
  },
  {
   "cell_type": "markdown",
   "metadata": {},
   "source": [
    "Get variable importance:"
   ]
  },
  {
   "cell_type": "code",
   "execution_count": 35,
   "metadata": {},
   "outputs": [
    {
     "name": "stdout",
     "output_type": "stream",
     "text": [
      "Done.\n",
      "1 rows affected.\n",
      "9 rows affected.\n"
     ]
    },
    {
     "data": {
      "text/html": [
       "<table>\n",
       "    <tr>\n",
       "        <th>feature</th>\n",
       "        <th>oob_var_importance</th>\n",
       "        <th>impurity_var_importance</th>\n",
       "    </tr>\n",
       "    <tr>\n",
       "        <td>shell_weight</td>\n",
       "        <td>24.0017517253</td>\n",
       "        <td>17.642923945</td>\n",
       "    </tr>\n",
       "    <tr>\n",
       "        <td>shucked_weight</td>\n",
       "        <td>11.2097740558</td>\n",
       "        <td>15.1628653464</td>\n",
       "    </tr>\n",
       "    <tr>\n",
       "        <td>whole_weight</td>\n",
       "        <td>8.46230650442</td>\n",
       "        <td>14.5878704374</td>\n",
       "    </tr>\n",
       "    <tr>\n",
       "        <td>length</td>\n",
       "        <td>26.5982102015</td>\n",
       "        <td>13.2047421128</td>\n",
       "    </tr>\n",
       "    <tr>\n",
       "        <td>viscera_weight</td>\n",
       "        <td>6.12782403239</td>\n",
       "        <td>12.834102126</td>\n",
       "    </tr>\n",
       "    <tr>\n",
       "        <td>height</td>\n",
       "        <td>2.41261514408</td>\n",
       "        <td>12.5441452907</td>\n",
       "    </tr>\n",
       "    <tr>\n",
       "        <td>diameter</td>\n",
       "        <td>20.1648004008</td>\n",
       "        <td>8.54486297237</td>\n",
       "    </tr>\n",
       "    <tr>\n",
       "        <td>sex_f</td>\n",
       "        <td>0.0</td>\n",
       "        <td>3.08539525197</td>\n",
       "    </tr>\n",
       "    <tr>\n",
       "        <td>sex_m</td>\n",
       "        <td>1.02271793567</td>\n",
       "        <td>2.39309251727</td>\n",
       "    </tr>\n",
       "</table>"
      ],
      "text/plain": [
       "[(u'shell_weight', 24.0017517253058, 17.6429239449908),\n",
       " (u'shucked_weight', 11.2097740558388, 15.1628653463997),\n",
       " (u'whole_weight', 8.4623065044228, 14.5878704374295),\n",
       " (u'length', 26.5982102014748, 13.2047421128126),\n",
       " (u'viscera_weight', 6.12782403238892, 12.8341021260091),\n",
       " (u'height', 2.41261514407632, 12.5441452907451),\n",
       " (u'diameter', 20.164800400827, 8.54486297236967),\n",
       " (u'sex_f', 0.0, 3.0853952519707),\n",
       " (u'sex_m', 1.02271793566559, 2.39309251727284)]"
      ]
     },
     "execution_count": 35,
     "metadata": {},
     "output_type": "execute_result"
    }
   ],
   "source": [
    "%%sql\n",
    "DROP TABLE IF EXISTS abalone_rf_importances;\n",
    "SELECT madlib.get_var_importance(\n",
    "    'abalone_rf_model',  -- model_table\n",
    "    'abalone_rf_importances'  -- output_table\n",
    ")\n",
    ";\n",
    "SELECT *\n",
    "FROM abalone_rf_importances\n",
    "ORDER BY impurity_var_importance DESC\n",
    ";"
   ]
  },
  {
   "cell_type": "markdown",
   "metadata": {},
   "source": [
    "## Look at some of the predictions"
   ]
  },
  {
   "cell_type": "code",
   "execution_count": 36,
   "metadata": {},
   "outputs": [
    {
     "name": "stdout",
     "output_type": "stream",
     "text": [
      "Done.\n",
      "1 rows affected.\n"
     ]
    },
    {
     "data": {
      "text/html": [
       "<table>\n",
       "    <tr>\n",
       "        <th>forest_predict</th>\n",
       "    </tr>\n",
       "    <tr>\n",
       "        <td></td>\n",
       "    </tr>\n",
       "</table>"
      ],
      "text/plain": [
       "[('',)]"
      ]
     },
     "execution_count": 36,
     "metadata": {},
     "output_type": "execute_result"
    }
   ],
   "source": [
    "%%sql\n",
    "DROP TABLE IF EXISTS abalone_rf_test_proba;\n",
    "SELECT\n",
    "madlib.forest_predict(\n",
    "    'abalone_rf_model',  -- random_forest_model\n",
    "    'abalone_classif_test',  -- new_data_table\n",
    "    'abalone_rf_test_proba',  -- output_table\n",
    "    'prob'  -- type\n",
    ")\n",
    ";"
   ]
  },
  {
   "cell_type": "code",
   "execution_count": 37,
   "metadata": {},
   "outputs": [
    {
     "name": "stdout",
     "output_type": "stream",
     "text": [
      "5 rows affected.\n"
     ]
    },
    {
     "data": {
      "text/html": [
       "<table>\n",
       "    <tr>\n",
       "        <th>id</th>\n",
       "        <th>estimated_prob_0</th>\n",
       "        <th>estimated_prob_1</th>\n",
       "    </tr>\n",
       "    <tr>\n",
       "        <td>5</td>\n",
       "        <td>1.0</td>\n",
       "        <td>0.0</td>\n",
       "    </tr>\n",
       "    <tr>\n",
       "        <td>7</td>\n",
       "        <td>0.0</td>\n",
       "        <td>1.0</td>\n",
       "    </tr>\n",
       "    <tr>\n",
       "        <td>13</td>\n",
       "        <td>0.1</td>\n",
       "        <td>0.9</td>\n",
       "    </tr>\n",
       "    <tr>\n",
       "        <td>15</td>\n",
       "        <td>0.0</td>\n",
       "        <td>1.0</td>\n",
       "    </tr>\n",
       "    <tr>\n",
       "        <td>17</td>\n",
       "        <td>0.6</td>\n",
       "        <td>0.4</td>\n",
       "    </tr>\n",
       "</table>"
      ],
      "text/plain": [
       "[(5, 1.0, 0.0), (7, 0.0, 1.0), (13, 0.1, 0.9), (15, 0.0, 1.0), (17, 0.6, 0.4)]"
      ]
     },
     "execution_count": 37,
     "metadata": {},
     "output_type": "execute_result"
    }
   ],
   "source": [
    "%%sql\n",
    "SELECT * \n",
    "FROM abalone_rf_test_proba\n",
    "LIMIT 5"
   ]
  },
  {
   "cell_type": "code",
   "execution_count": 38,
   "metadata": {},
   "outputs": [
    {
     "name": "stdout",
     "output_type": "stream",
     "text": [
      "Done.\n",
      "1253 rows affected.\n"
     ]
    },
    {
     "data": {
      "text/plain": [
       "[]"
      ]
     },
     "execution_count": 38,
     "metadata": {},
     "output_type": "execute_result"
    }
   ],
   "source": [
    "%%sql\n",
    "DROP TABLE IF EXISTS abalone_rf_test_predict_actual;\n",
    "CREATE TABLE abalone_rf_test_predict_actual\n",
    "AS\n",
    "SELECT \n",
    "    test.id,\n",
    "    prob.estimated_prob_1,\n",
    "    prob.estimated_prob_1 >= 0.5 as predicted_class,\n",
    "    test.mature as actual_class\n",
    "FROM \n",
    "    abalone_rf_test_proba prob\n",
    "INNER JOIN\n",
    "    abalone_classif_test test\n",
    "ON\n",
    "    prob.id = test.id"
   ]
  },
  {
   "cell_type": "code",
   "execution_count": 39,
   "metadata": {},
   "outputs": [
    {
     "name": "stdout",
     "output_type": "stream",
     "text": [
      "Done.\n",
      "1 rows affected.\n",
      "11 rows affected.\n"
     ]
    },
    {
     "data": {
      "text/html": [
       "<table>\n",
       "    <tr>\n",
       "        <th>threshold</th>\n",
       "        <th>tp</th>\n",
       "        <th>fp</th>\n",
       "        <th>fn</th>\n",
       "        <th>tn</th>\n",
       "        <th>tpr</th>\n",
       "        <th>tnr</th>\n",
       "        <th>ppv</th>\n",
       "        <th>npv</th>\n",
       "        <th>fpr</th>\n",
       "        <th>fdr</th>\n",
       "        <th>fnr</th>\n",
       "        <th>acc</th>\n",
       "        <th>f1</th>\n",
       "    </tr>\n",
       "    <tr>\n",
       "        <td>0.0</td>\n",
       "        <td>812</td>\n",
       "        <td>441</td>\n",
       "        <td>0</td>\n",
       "        <td>0</td>\n",
       "        <td>1.0</td>\n",
       "        <td>0.0</td>\n",
       "        <td>0.648044692737</td>\n",
       "        <td>None</td>\n",
       "        <td>1.0</td>\n",
       "        <td>0.351955307263</td>\n",
       "        <td>0.0</td>\n",
       "        <td>0.648044692737</td>\n",
       "        <td>0.78644067796610169492</td>\n",
       "    </tr>\n",
       "    <tr>\n",
       "        <td>0.1</td>\n",
       "        <td>807</td>\n",
       "        <td>254</td>\n",
       "        <td>5</td>\n",
       "        <td>187</td>\n",
       "        <td>0.993842364532</td>\n",
       "        <td>0.424036281179</td>\n",
       "        <td>0.760603204524</td>\n",
       "        <td>0.973958333333</td>\n",
       "        <td>0.575963718821</td>\n",
       "        <td>0.239396795476</td>\n",
       "        <td>0.00615763546798</td>\n",
       "        <td>0.793296089385</td>\n",
       "        <td>0.86171916711158569140</td>\n",
       "    </tr>\n",
       "    <tr>\n",
       "        <td>0.2</td>\n",
       "        <td>794</td>\n",
       "        <td>221</td>\n",
       "        <td>18</td>\n",
       "        <td>220</td>\n",
       "        <td>0.977832512315</td>\n",
       "        <td>0.498866213152</td>\n",
       "        <td>0.782266009852</td>\n",
       "        <td>0.924369747899</td>\n",
       "        <td>0.501133786848</td>\n",
       "        <td>0.217733990148</td>\n",
       "        <td>0.0221674876847</td>\n",
       "        <td>0.809257781325</td>\n",
       "        <td>0.86918445539135194308</td>\n",
       "    </tr>\n",
       "    <tr>\n",
       "        <td>0.3</td>\n",
       "        <td>783</td>\n",
       "        <td>190</td>\n",
       "        <td>29</td>\n",
       "        <td>251</td>\n",
       "        <td>0.964285714286</td>\n",
       "        <td>0.569160997732</td>\n",
       "        <td>0.804727646454</td>\n",
       "        <td>0.896428571429</td>\n",
       "        <td>0.430839002268</td>\n",
       "        <td>0.195272353546</td>\n",
       "        <td>0.0357142857143</td>\n",
       "        <td>0.825219473264</td>\n",
       "        <td>0.87731092436974789916</td>\n",
       "    </tr>\n",
       "    <tr>\n",
       "        <td>0.4</td>\n",
       "        <td>774</td>\n",
       "        <td>159</td>\n",
       "        <td>38</td>\n",
       "        <td>282</td>\n",
       "        <td>0.953201970443</td>\n",
       "        <td>0.639455782313</td>\n",
       "        <td>0.829581993569</td>\n",
       "        <td>0.88125</td>\n",
       "        <td>0.360544217687</td>\n",
       "        <td>0.170418006431</td>\n",
       "        <td>0.0467980295567</td>\n",
       "        <td>0.842777334397</td>\n",
       "        <td>0.88710601719197707736</td>\n",
       "    </tr>\n",
       "    <tr>\n",
       "        <td>0.5</td>\n",
       "        <td>756</td>\n",
       "        <td>136</td>\n",
       "        <td>56</td>\n",
       "        <td>305</td>\n",
       "        <td>0.931034482759</td>\n",
       "        <td>0.691609977324</td>\n",
       "        <td>0.847533632287</td>\n",
       "        <td>0.84487534626</td>\n",
       "        <td>0.308390022676</td>\n",
       "        <td>0.152466367713</td>\n",
       "        <td>0.0689655172414</td>\n",
       "        <td>0.846767757382</td>\n",
       "        <td>0.88732394366197183099</td>\n",
       "    </tr>\n",
       "    <tr>\n",
       "        <td>0.6</td>\n",
       "        <td>744</td>\n",
       "        <td>122</td>\n",
       "        <td>68</td>\n",
       "        <td>319</td>\n",
       "        <td>0.916256157635</td>\n",
       "        <td>0.72335600907</td>\n",
       "        <td>0.859122401848</td>\n",
       "        <td>0.824289405685</td>\n",
       "        <td>0.27664399093</td>\n",
       "        <td>0.140877598152</td>\n",
       "        <td>0.0837438423645</td>\n",
       "        <td>0.848363926576</td>\n",
       "        <td>0.88676996424314660310</td>\n",
       "    </tr>\n",
       "    <tr>\n",
       "        <td>0.7</td>\n",
       "        <td>726</td>\n",
       "        <td>110</td>\n",
       "        <td>86</td>\n",
       "        <td>331</td>\n",
       "        <td>0.894088669951</td>\n",
       "        <td>0.750566893424</td>\n",
       "        <td>0.868421052632</td>\n",
       "        <td>0.79376498801</td>\n",
       "        <td>0.249433106576</td>\n",
       "        <td>0.131578947368</td>\n",
       "        <td>0.105911330049</td>\n",
       "        <td>0.843575418994</td>\n",
       "        <td>0.88106796116504854369</td>\n",
       "    </tr>\n",
       "    <tr>\n",
       "        <td>0.8</td>\n",
       "        <td>697</td>\n",
       "        <td>91</td>\n",
       "        <td>115</td>\n",
       "        <td>350</td>\n",
       "        <td>0.858374384236</td>\n",
       "        <td>0.793650793651</td>\n",
       "        <td>0.884517766497</td>\n",
       "        <td>0.752688172043</td>\n",
       "        <td>0.206349206349</td>\n",
       "        <td>0.115482233503</td>\n",
       "        <td>0.141625615764</td>\n",
       "        <td>0.835594573025</td>\n",
       "        <td>0.87125000000000000000</td>\n",
       "    </tr>\n",
       "    <tr>\n",
       "        <td>0.9</td>\n",
       "        <td>650</td>\n",
       "        <td>62</td>\n",
       "        <td>162</td>\n",
       "        <td>379</td>\n",
       "        <td>0.800492610837</td>\n",
       "        <td>0.859410430839</td>\n",
       "        <td>0.912921348315</td>\n",
       "        <td>0.700554528651</td>\n",
       "        <td>0.140589569161</td>\n",
       "        <td>0.0870786516854</td>\n",
       "        <td>0.199507389163</td>\n",
       "        <td>0.821229050279</td>\n",
       "        <td>0.85301837270341207349</td>\n",
       "    </tr>\n",
       "    <tr>\n",
       "        <td>1.0</td>\n",
       "        <td>529</td>\n",
       "        <td>40</td>\n",
       "        <td>283</td>\n",
       "        <td>401</td>\n",
       "        <td>0.651477832512</td>\n",
       "        <td>0.909297052154</td>\n",
       "        <td>0.929701230228</td>\n",
       "        <td>0.586257309942</td>\n",
       "        <td>0.0907029478458</td>\n",
       "        <td>0.0702987697715</td>\n",
       "        <td>0.348522167488</td>\n",
       "        <td>0.74221867518</td>\n",
       "        <td>0.76611151339608979001</td>\n",
       "    </tr>\n",
       "</table>"
      ],
      "text/plain": [
       "[(0.0, Decimal('812'), Decimal('441'), Decimal('0'), Decimal('0'), 1.0, 0.0, 0.64804469273743, None, 1.0, 0.35195530726257, 0.0, 0.64804469273743, Decimal('0.78644067796610169492')),\n",
       " (0.1, Decimal('807'), Decimal('254'), Decimal('5'), Decimal('187'), 0.99384236453202, 0.424036281179138, 0.760603204524034, 0.973958333333333, 0.575963718820862, 0.239396795475966, 0.0061576354679803, 0.793296089385475, Decimal('0.86171916711158569140')),\n",
       " (0.2, Decimal('794'), Decimal('221'), Decimal('18'), Decimal('220'), 0.977832512315271, 0.498866213151927, 0.782266009852217, 0.92436974789916, 0.501133786848073, 0.217733990147783, 0.0221674876847291, 0.80925778132482, Decimal('0.86918445539135194308')),\n",
       " (0.3, Decimal('783'), Decimal('190'), Decimal('29'), Decimal('251'), 0.964285714285714, 0.569160997732426, 0.804727646454265, 0.896428571428571, 0.430839002267574, 0.195272353545735, 0.0357142857142857, 0.825219473264166, Decimal('0.87731092436974789916')),\n",
       " (0.4, Decimal('774'), Decimal('159'), Decimal('38'), Decimal('282'), 0.95320197044335, 0.639455782312925, 0.829581993569132, 0.88125, 0.360544217687075, 0.170418006430868, 0.0467980295566502, 0.842777334397446, Decimal('0.88710601719197707736')),\n",
       " (0.5, Decimal('756'), Decimal('136'), Decimal('56'), Decimal('305'), 0.931034482758621, 0.691609977324263, 0.847533632286996, 0.844875346260388, 0.308390022675737, 0.152466367713004, 0.0689655172413793, 0.846767757382282, Decimal('0.88732394366197183099')),\n",
       " (0.6, Decimal('744'), Decimal('122'), Decimal('68'), Decimal('319'), 0.916256157635468, 0.723356009070295, 0.859122401847575, 0.824289405684755, 0.276643990929705, 0.140877598152425, 0.083743842364532, 0.848363926576217, Decimal('0.88676996424314660310')),\n",
       " (0.7, Decimal('726'), Decimal('110'), Decimal('86'), Decimal('331'), 0.894088669950739, 0.750566893424036, 0.868421052631579, 0.793764988009592, 0.249433106575964, 0.131578947368421, 0.105911330049261, 0.843575418994413, Decimal('0.88106796116504854369')),\n",
       " (0.8, Decimal('697'), Decimal('91'), Decimal('115'), Decimal('350'), 0.858374384236453, 0.793650793650794, 0.884517766497462, 0.752688172043011, 0.206349206349206, 0.115482233502538, 0.141625615763547, 0.835594573024741, Decimal('0.87125000000000000000')),\n",
       " (0.9, Decimal('650'), Decimal('62'), Decimal('162'), Decimal('379'), 0.800492610837438, 0.859410430839002, 0.912921348314607, 0.700554528650647, 0.140589569160998, 0.0870786516853933, 0.199507389162562, 0.82122905027933, Decimal('0.85301837270341207349')),\n",
       " (1.0, Decimal('529'), Decimal('40'), Decimal('283'), Decimal('401'), 0.651477832512315, 0.909297052154195, 0.929701230228471, 0.58625730994152, 0.090702947845805, 0.070298769771529, 0.348522167487685, 0.742218675179569, Decimal('0.76611151339608979001'))]"
      ]
     },
     "execution_count": 39,
     "metadata": {},
     "output_type": "execute_result"
    }
   ],
   "source": [
    "%%sql\n",
    "DROP TABLE IF EXISTS abalone_rf_test_binary_metrics;\n",
    "SELECT\n",
    "madlib.binary_classifier(\n",
    "    'abalone_rf_test_predict_actual', -- table_in\n",
    "    'abalone_rf_test_binary_metrics', -- table_out\n",
    "    'estimated_prob_1',  --prediction_col\n",
    "    'actual_class' --observation_col\n",
    ")\n",
    ";\n",
    "SELECT * \n",
    "FROM abalone_rf_test_binary_metrics\n",
    "ORDER BY threshold\n",
    "LIMIT 15\n",
    ";"
   ]
  },
  {
   "cell_type": "code",
   "execution_count": 40,
   "metadata": {},
   "outputs": [
    {
     "name": "stdout",
     "output_type": "stream",
     "text": [
      "11 rows affected.\n"
     ]
    }
   ],
   "source": [
    "#collect the false positive and true positive rates\n",
    "rf_metrics = %sql SELECT fpr, tpr FROM abalone_rf_test_binary_metrics ORDER BY threshold;\n",
    "rf_metrics = rf_metrics.DataFrame();"
   ]
  },
  {
   "cell_type": "code",
   "execution_count": 41,
   "metadata": {},
   "outputs": [
    {
     "data": {
      "text/plain": [
       "<matplotlib.axes._subplots.AxesSubplot at 0x12665c490>"
      ]
     },
     "execution_count": 41,
     "metadata": {},
     "output_type": "execute_result"
    },
    {
     "data": {
      "image/png": "[encoded data removed]",
      "text/plain": [
       "<Figure size 432x288 with 1 Axes>"
      ]
     },
     "metadata": {
      "needs_background": "light"
     },
     "output_type": "display_data"
    }
   ],
   "source": [
    "rf_metrics.plot('fpr', 'tpr',xlim=(0.,1.), ylim=(0.,1.))"
   ]
  },
  {
   "cell_type": "code",
   "execution_count": 42,
   "metadata": {},
   "outputs": [
    {
     "name": "stdout",
     "output_type": "stream",
     "text": [
      "Done.\n",
      "1 rows affected.\n",
      "1 rows affected.\n"
     ]
    },
    {
     "data": {
      "text/html": [
       "<table>\n",
       "    <tr>\n",
       "        <th>area_under_roc</th>\n",
       "    </tr>\n",
       "    <tr>\n",
       "        <td>0.89330116282966388525837478916032751359985</td>\n",
       "    </tr>\n",
       "</table>"
      ],
      "text/plain": [
       "[(Decimal('0.89330116282966388525837478916032751359985'),)]"
      ]
     },
     "execution_count": 42,
     "metadata": {},
     "output_type": "execute_result"
    }
   ],
   "source": [
    "%%sql\n",
    "DROP TABLE IF EXISTS abalone_rf_test_auc CASCADE;\n",
    "SELECT\n",
    "madlib.area_under_roc(\n",
    "    'abalone_rf_test_predict_actual', -- table_in\n",
    "    'abalone_rf_test_auc', -- table_out\n",
    "    'estimated_prob_1',  --prediction_col\n",
    "    'actual_class' --observation_col\n",
    ") as result\n",
    ";\n",
    "\n",
    "SELECT * FROM abalone_rf_test_auc ;   -- look at the AUC for the random forest model"
   ]
  },
  {
   "cell_type": "markdown",
   "metadata": {},
   "source": [
    "<a id=\"regression\"></a>\n",
    "# 6. Regression\n",
    "\n",
    "Before our target variable was a binary one that we constructed to represent maturity. An abalone was either mature or not mature. Now let's predict its age instead of the binary target. "
   ]
  },
  {
   "cell_type": "markdown",
   "metadata": {},
   "source": [
    "<a id=\"linear\"></a>\n",
    "## 6a. Linear Regression"
   ]
  },
  {
   "cell_type": "code",
   "execution_count": 43,
   "metadata": {},
   "outputs": [
    {
     "name": "stdout",
     "output_type": "stream",
     "text": [
      "2 rows affected.\n"
     ]
    },
    {
     "data": {
      "text/html": [
       "<table>\n",
       "    <tr>\n",
       "        <th>id</th>\n",
       "        <th>length</th>\n",
       "        <th>diameter</th>\n",
       "        <th>height</th>\n",
       "        <th>whole_weight</th>\n",
       "        <th>shucked_weight</th>\n",
       "        <th>viscera_weight</th>\n",
       "        <th>shell_weight</th>\n",
       "        <th>sex_f</th>\n",
       "        <th>sex_i</th>\n",
       "        <th>sex_m</th>\n",
       "        <th>rings</th>\n",
       "        <th>age</th>\n",
       "        <th>mature</th>\n",
       "    </tr>\n",
       "    <tr>\n",
       "        <td>1</td>\n",
       "        <td>0.35</td>\n",
       "        <td>0.265</td>\n",
       "        <td>0.09</td>\n",
       "        <td>0.2255</td>\n",
       "        <td>0.0995</td>\n",
       "        <td>0.0485</td>\n",
       "        <td>0.07</td>\n",
       "        <td>0</td>\n",
       "        <td>0</td>\n",
       "        <td>1</td>\n",
       "        <td>7</td>\n",
       "        <td>8.5</td>\n",
       "        <td>0</td>\n",
       "    </tr>\n",
       "    <tr>\n",
       "        <td>9</td>\n",
       "        <td>0.55</td>\n",
       "        <td>0.44</td>\n",
       "        <td>0.15</td>\n",
       "        <td>0.8945</td>\n",
       "        <td>0.3145</td>\n",
       "        <td>0.151</td>\n",
       "        <td>0.32</td>\n",
       "        <td>1</td>\n",
       "        <td>0</td>\n",
       "        <td>0</td>\n",
       "        <td>19</td>\n",
       "        <td>20.5</td>\n",
       "        <td>1</td>\n",
       "    </tr>\n",
       "</table>"
      ],
      "text/plain": [
       "[(1, 0.35, 0.265, 0.09, 0.2255, 0.0995, 0.0485, 0.07, 0, 0, 1, 7, Decimal('8.5'), 0),\n",
       " (9, 0.55, 0.44, 0.15, 0.8945, 0.3145, 0.151, 0.32, 1, 0, 0, 19, Decimal('20.5'), 1)]"
      ]
     },
     "execution_count": 43,
     "metadata": {},
     "output_type": "execute_result"
    }
   ],
   "source": [
    "%%sql\n",
    "SELECT * \n",
    "FROM abalone_classif_train\n",
    "LIMIT 2"
   ]
  },
  {
   "cell_type": "code",
   "execution_count": 44,
   "metadata": {},
   "outputs": [
    {
     "name": "stdout",
     "output_type": "stream",
     "text": [
      "Done.\n",
      "Done.\n",
      "1 rows affected.\n",
      "1 rows affected.\n"
     ]
    },
    {
     "data": {
      "text/html": [
       "<table>\n",
       "    <tr>\n",
       "        <th>coef</th>\n",
       "        <th>r2</th>\n",
       "        <th>std_err</th>\n",
       "        <th>t_stats</th>\n",
       "        <th>p_values</th>\n",
       "        <th>condition_no</th>\n",
       "        <th>bp_stats</th>\n",
       "        <th>bp_p_value</th>\n",
       "        <th>num_rows_processed</th>\n",
       "        <th>num_missing_rows_skipped</th>\n",
       "        <th>variance_covariance</th>\n",
       "    </tr>\n",
       "    <tr>\n",
       "        <td>[4.68130687790161, -1.86032692402494, 13.1337133646984, 9.36556248253984, 9.15490233796625, -19.8355744128492, -9.45078918839029, 7.28175512507301, 0.82552533889907, 0.851845802967165]</td>\n",
       "        <td>0.524226908127</td>\n",
       "        <td>[0.325501686813575, 2.21450278665342, 2.69481453648041, 1.67685708658124, 0.846912057199183, 0.975099282125397, 1.53333189633054, 1.32122333145544, 0.123253358534541, 0.115179060509793]</td>\n",
       "        <td>[14.3818206404034, -0.840065289254517, 4.87369842595988, 5.58518824143461, 10.809743774628, -20.3421074924947, -6.16356394268405, 5.51137340047691, 6.69779183881402, 7.39583913253694]</td>\n",
       "        <td>[2.31896345659929e-45, 0.400940696068839, 1.15390387709793e-06, 2.54960021405737e-08, 9.88008208055196e-27, 3.97564395495313e-86, 8.09318445456783e-10, 3.87139941463432e-08, 2.52935540568213e-11, 1.82743538026922e-13]</td>\n",
       "        <td>139.647947137</td>\n",
       "        <td>303.441716007</td>\n",
       "        <td>4.8590409809e-60</td>\n",
       "        <td>2924</td>\n",
       "        <td>0</td>\n",
       "        <td>[[0.105951348118483, -0.292329098226724, 0.0194603449925006, -0.0871355644604966, 0.0146423904770704, 0.0390601332305124, 0.0589660004544375, 0.0656130962684031, 0.00222975556481855, 0.000152924021689542], [-0.292329098226724, 4.90402259209574, -5.36636267929686, -0.0786225408257424, 0.0220697166917959, -0.169874156804451, -0.337971118818921, 0.0657973228862898, 0.0167393243815521, 0.0136965714655914], [0.0194603449925005, -5.36636267929686, 7.2620253860261, -0.437146854612175, -0.053808296838563, 0.0181406050801768, 0.227114374073945, -0.375033629840268, -0.0374784317066128, -0.0274059586165004], [-0.0871355644604966, -0.0786225408257424, -0.437146854612175, 2.81184968881772, -0.0299439811129126, 0.0445862732437427, -0.128425515936003, -0.190501468163422, -0.0149539942784054, -0.0107792271561558], [0.0146423904770705, 0.0220697166917958, -0.0538082968385629, -0.0299439811129126, 0.717260032629352, -0.671693721463654, -0.771338497709632, -0.883172823008288, -0.00421870870335176, -0.00363929394666502], [0.0390601332305124, -0.169874156804451, 0.0181406050801768, 0.0445862732437427, -0.671693721463655, 0.950818610001464, 0.331613424031253, 0.782013976696468, 0.0102411355006135, 0.00420242508277869], [0.0589660004544376, -0.337971118818921, 0.227114374073946, -0.128425515936003, -0.771338497709632, 0.331613424031252, 2.35110670430461, 0.61385954457365, -0.0150418231892282, -0.00922276580850259], [0.0656130962684031, 0.0657973228862898, -0.375033629840268, -0.190501468163422, -0.883172823008288, 0.782013976696468, 0.61385954457365, 1.74563109158222, 0.00308257049568346, 0.00310841801699227], [0.00222975556481855, 0.0167393243815521, -0.0374784317066128, -0.0149539942784054, -0.00421870870335176, 0.0102411355006135, -0.0150418231892282, 0.00308257049568346, 0.0151913903900442, 0.00919494968673803], [0.000152924021689539, 0.0136965714655914, -0.0274059586165004, -0.0107792271561558, -0.00363929394666502, 0.00420242508277869, -0.00922276580850259, 0.00310841801699227, 0.00919494968673804, 0.0132662159799185]]</td>\n",
       "    </tr>\n",
       "</table>"
      ],
      "text/plain": [
       "[([4.68130687790161, -1.86032692402494, 13.1337133646984, 9.36556248253984, 9.15490233796625, -19.8355744128492, -9.45078918839029, 7.28175512507301, 0.82552533889907, 0.851845802967165], 0.524226908126896, [0.325501686813575, 2.21450278665342, 2.69481453648041, 1.67685708658124, 0.846912057199183, 0.975099282125397, 1.53333189633054, 1.32122333145544, 0.123253358534541, 0.115179060509793], [14.3818206404034, -0.840065289254517, 4.87369842595988, 5.58518824143461, 10.809743774628, -20.3421074924947, -6.16356394268405, 5.51137340047691, 6.69779183881402, 7.39583913253694], [2.31896345659929e-45, 0.400940696068839, 1.15390387709793e-06, 2.54960021405737e-08, 9.88008208055196e-27, 3.97564395495313e-86, 8.09318445456783e-10, 3.87139941463432e-08, 2.52935540568213e-11, 1.82743538026922e-13], 139.647947137047, 303.441716007005, 4.8590409808993e-60, 2924L, 0L, [[0.105951348118483, -0.292329098226724, 0.0194603449925006, -0.0871355644604966, 0.0146423904770704, 0.0390601332305124, 0.0589660004544375, 0.065613 ... (1737 characters truncated) ... , -0.0107792271561558, -0.00363929394666502, 0.00420242508277869, -0.00922276580850259, 0.00310841801699227, 0.00919494968673804, 0.0132662159799185]])]"
      ]
     },
     "execution_count": 44,
     "metadata": {},
     "output_type": "execute_result"
    }
   ],
   "source": [
    "%%sql\n",
    "DROP TABLE IF EXISTS abalone_linreg_model;\n",
    "DROP TABLE IF EXISTS abalone_linreg_model_summary;\n",
    "SELECT madlib.linregr_train(\n",
    "    'abalone_classif_train',  -- source_table\n",
    "    'abalone_linreg_model',  -- out_table\n",
    "    'age',  -- dependent_varname\n",
    "    'ARRAY[\n",
    "        1,\n",
    "        length,\n",
    "        diameter,\n",
    "        height,\n",
    "        whole_weight,\n",
    "        shucked_weight,\n",
    "        viscera_weight,\n",
    "        shell_weight,\n",
    "        sex_f,\n",
    "        sex_m\n",
    "    ]',  -- independent_varname\n",
    "    NULL,  -- grouping_cols\n",
    "    TRUE  -- heteroskedasticity_option\n",
    ")\n",
    ";\n",
    "SELECT * FROM abalone_linreg_model\n",
    "LIMIT 10\n",
    ";"
   ]
  },
  {
   "cell_type": "markdown",
   "metadata": {},
   "source": [
    "### Look at the predictions from the Linear Regression Model"
   ]
  },
  {
   "cell_type": "code",
   "execution_count": 45,
   "metadata": {},
   "outputs": [
    {
     "name": "stdout",
     "output_type": "stream",
     "text": [
      "Done.\n",
      "1253 rows affected.\n",
      "5 rows affected.\n"
     ]
    },
    {
     "data": {
      "text/html": [
       "<table>\n",
       "    <tr>\n",
       "        <th>id</th>\n",
       "        <th>predicted_age</th>\n",
       "        <th>actual_age</th>\n",
       "    </tr>\n",
       "    <tr>\n",
       "        <td>1132</td>\n",
       "        <td>12.0617258993</td>\n",
       "        <td>10.5</td>\n",
       "    </tr>\n",
       "    <tr>\n",
       "        <td>4053</td>\n",
       "        <td>13.2360737267</td>\n",
       "        <td>11.5</td>\n",
       "    </tr>\n",
       "    <tr>\n",
       "        <td>2487</td>\n",
       "        <td>12.8595897242</td>\n",
       "        <td>12.5</td>\n",
       "    </tr>\n",
       "    <tr>\n",
       "        <td>2547</td>\n",
       "        <td>7.26327656336</td>\n",
       "        <td>6.5</td>\n",
       "    </tr>\n",
       "    <tr>\n",
       "        <td>1723</td>\n",
       "        <td>13.7737768871</td>\n",
       "        <td>13.5</td>\n",
       "    </tr>\n",
       "</table>"
      ],
      "text/plain": [
       "[(1132, 12.0617258992578, Decimal('10.5')),\n",
       " (4053, 13.2360737267023, Decimal('11.5')),\n",
       " (2487, 12.8595897242336, Decimal('12.5')),\n",
       " (2547, 7.26327656336034, Decimal('6.5')),\n",
       " (1723, 13.773776887084, Decimal('13.5'))]"
      ]
     },
     "execution_count": 45,
     "metadata": {},
     "output_type": "execute_result"
    }
   ],
   "source": [
    "%%sql\n",
    "DROP TABLE IF EXISTS abalone_linreg_test_predict;\n",
    "CREATE TABLE abalone_linreg_test_predict\n",
    "AS\n",
    "SELECT \n",
    "    test.id,\n",
    "    madlib.linregr_predict(\n",
    "        coef, \n",
    "        ARRAY[\n",
    "            1,\n",
    "            length,\n",
    "            diameter,\n",
    "            height,\n",
    "            whole_weight,\n",
    "            shucked_weight,\n",
    "            viscera_weight,\n",
    "            shell_weight,\n",
    "            sex_f,\n",
    "            sex_m\n",
    "        ] \n",
    "    ) as predicted_age,\n",
    "    test.age as actual_age\n",
    "FROM abalone_classif_test test, abalone_linreg_model model\n",
    ";\n",
    "SELECT * FROM abalone_linreg_test_predict\n",
    "LIMIT 5\n",
    ";"
   ]
  },
  {
   "cell_type": "code",
   "execution_count": 46,
   "metadata": {},
   "outputs": [
    {
     "name": "stdout",
     "output_type": "stream",
     "text": [
      "Done.\n",
      "1 rows affected.\n",
      "1 rows affected.\n"
     ]
    },
    {
     "data": {
      "text/html": [
       "<table>\n",
       "    <tr>\n",
       "        <th>mean_squared_error</th>\n",
       "    </tr>\n",
       "    <tr>\n",
       "        <td>4.58151398735</td>\n",
       "    </tr>\n",
       "</table>"
      ],
      "text/plain": [
       "[(4.58151398734849,)]"
      ]
     },
     "execution_count": 46,
     "metadata": {},
     "output_type": "execute_result"
    }
   ],
   "source": [
    "%%sql\n",
    "drop table if exists abalone_linreg_test_predict_mse;\n",
    "SELECT madlib.mean_squared_error(\n",
    "    'abalone_linreg_test_predict',  -- table_in\n",
    "    'abalone_linreg_test_predict_mse',  -- table_out\n",
    "    'predicted_age',  -- prediction_col\n",
    "    'actual_age'  -- observed_col\n",
    ") as result\n",
    ";\n",
    "SELECT * FROM abalone_linreg_test_predict_mse;"
   ]
  },
  {
   "cell_type": "markdown",
   "metadata": {},
   "source": [
    "<a id=\"elastic\"></a>\n",
    "## 6b. Elastic Net Regression\n",
    "\n",
    "Elastic Net Regression is linear regression with penalties assigned to the size of the coefficients. Note that   \n",
    "\n",
    "MADlib's elastic net automatically fits an intercept, so you shouldn't include an explicit intercept column of 1's in your independent variable array."
   ]
  },
  {
   "cell_type": "code",
   "execution_count": 47,
   "metadata": {},
   "outputs": [
    {
     "name": "stdout",
     "output_type": "stream",
     "text": [
      "Done.\n",
      "Done.\n",
      "1 rows affected.\n"
     ]
    },
    {
     "data": {
      "text/html": [
       "<table>\n",
       "    <tr>\n",
       "        <th>elastic_net_train</th>\n",
       "    </tr>\n",
       "    <tr>\n",
       "        <td></td>\n",
       "    </tr>\n",
       "</table>"
      ],
      "text/plain": [
       "[('',)]"
      ]
     },
     "execution_count": 47,
     "metadata": {},
     "output_type": "execute_result"
    }
   ],
   "source": [
    "%%sql\n",
    "DROP TABLE IF EXISTS abalone_elasticnet_model CASCADE;\n",
    "DROP TABLE IF EXISTS abalone_elasticnet_model_summary CASCADE;\n",
    "SELECT madlib.elastic_net_train( \n",
    "    'abalone_classif_train',  -- tbl_source\n",
    "    'abalone_elasticnet_model',  -- tbl_result\n",
    "    'age',  -- col_dep_var\n",
    "    'ARRAY[\n",
    "        length,\n",
    "        diameter,\n",
    "        height,\n",
    "        whole_weight,\n",
    "        shucked_weight,\n",
    "        viscera_weight,\n",
    "        shell_weight,\n",
    "        sex_f,\n",
    "        sex_m\n",
    "    ]',  -- col_ind_var\n",
    "    'gaussian',  -- regress_family\n",
    "    0.5,  -- alpha\n",
    "    0.5,  -- lambda_value\n",
    "    TRUE  -- standardize\n",
    "    --,  -- grouping_col\n",
    "    --,  -- optimizer\n",
    "    --,  -- optimizer_params\n",
    "    --,  -- excluded\n",
    "    --,  -- max_iter\n",
    "      -- tolerance\n",
    ")"
   ]
  },
  {
   "cell_type": "code",
   "execution_count": 48,
   "metadata": {},
   "outputs": [
    {
     "name": "stdout",
     "output_type": "stream",
     "text": [
      "1 rows affected.\n"
     ]
    },
    {
     "data": {
      "text/html": [
       "<table>\n",
       "    <tr>\n",
       "        <th>family</th>\n",
       "        <th>features</th>\n",
       "        <th>features_selected</th>\n",
       "        <th>coef_nonzero</th>\n",
       "        <th>coef_all</th>\n",
       "        <th>intercept</th>\n",
       "        <th>log_likelihood</th>\n",
       "        <th>standardize</th>\n",
       "        <th>iteration_run</th>\n",
       "    </tr>\n",
       "    <tr>\n",
       "        <td>gaussian</td>\n",
       "        <td>[u'[1]', u'[2]', u'[3]', u'[4]', u'[5]', u'[6]', u'[7]', u'[8]', u'[9]']</td>\n",
       "        <td>[u'[1]', u'[2]', u'[3]', u'[7]', u'[8]']</td>\n",
       "        <td>[1.21459288235, 3.33557620239, 8.12688807296, 5.89517432659, 0.10448485871]</td>\n",
       "        <td>[1.21459288235, 3.33557620239, 8.12688807296, 0.0, 0.0, 0.0, 5.89517432659, 0.10448485871, 0.0]</td>\n",
       "        <td>6.87900865574</td>\n",
       "        <td>-3.78542947405</td>\n",
       "        <td>True</td>\n",
       "        <td>107</td>\n",
       "    </tr>\n",
       "</table>"
      ],
      "text/plain": [
       "[(u'gaussian', [u'[1]', u'[2]', u'[3]', u'[4]', u'[5]', u'[6]', u'[7]', u'[8]', u'[9]'], [u'[1]', u'[2]', u'[3]', u'[7]', u'[8]'], [1.21459288235, 3.33557620239, 8.12688807296, 5.89517432659, 0.10448485871], [1.21459288235, 3.33557620239, 8.12688807296, 0.0, 0.0, 0.0, 5.89517432659, 0.10448485871, 0.0], 6.87900865574, -3.78542947405, True, 107)]"
      ]
     },
     "execution_count": 48,
     "metadata": {},
     "output_type": "execute_result"
    }
   ],
   "source": [
    "%%sql\n",
    "SELECT * FROM abalone_elasticnet_model"
   ]
  },
  {
   "cell_type": "code",
   "execution_count": 49,
   "metadata": {},
   "outputs": [
    {
     "name": "stdout",
     "output_type": "stream",
     "text": [
      "1 rows affected.\n"
     ]
    },
    {
     "data": {
      "text/html": [
       "<table>\n",
       "    <tr>\n",
       "        <th>method</th>\n",
       "        <th>source_table</th>\n",
       "        <th>out_table</th>\n",
       "        <th>dependent_varname</th>\n",
       "        <th>independent_varname</th>\n",
       "        <th>family</th>\n",
       "        <th>alpha</th>\n",
       "        <th>lambda_value</th>\n",
       "        <th>grouping_col</th>\n",
       "        <th>num_all_groups</th>\n",
       "        <th>num_failed_groups</th>\n",
       "    </tr>\n",
       "    <tr>\n",
       "        <td>elastic_net</td>\n",
       "        <td>abalone_classif_train</td>\n",
       "        <td>abalone_elasticnet_model</td>\n",
       "        <td>age</td>\n",
       "        <td>ARRAY[<br>        length,<br>        diameter,<br>        height,<br>        whole_weight,<br>        shucked_weight,<br>        viscera_weight,<br>        shell_weight,<br>        sex_f,<br>        sex_m<br>    ]</td>\n",
       "        <td>gaussian</td>\n",
       "        <td>0.5</td>\n",
       "        <td>0.5</td>\n",
       "        <td>NULL</td>\n",
       "        <td>1</td>\n",
       "        <td>0</td>\n",
       "    </tr>\n",
       "</table>"
      ],
      "text/plain": [
       "[(u'elastic_net', u'abalone_classif_train', u'abalone_elasticnet_model', u'age', u'ARRAY[\\n        length,\\n        diameter,\\n        height,\\n        whole_weight,\\n        shucked_weight,\\n        viscera_weight,\\n        shell_weight,\\n        sex_f,\\n        sex_m\\n    ]', u'gaussian', 0.5, 0.5, u'NULL', 1, 0)]"
      ]
     },
     "execution_count": 49,
     "metadata": {},
     "output_type": "execute_result"
    }
   ],
   "source": [
    "%%sql\n",
    "SELECT * FROM abalone_elasticnet_model_summary"
   ]
  },
  {
   "cell_type": "code",
   "execution_count": 50,
   "metadata": {},
   "outputs": [
    {
     "name": "stdout",
     "output_type": "stream",
     "text": [
      "Done.\n",
      "1253 rows affected.\n"
     ]
    },
    {
     "data": {
      "text/plain": [
       "[]"
      ]
     },
     "execution_count": 50,
     "metadata": {},
     "output_type": "execute_result"
    }
   ],
   "source": [
    "%%sql\n",
    "DROP TABLE IF EXISTS abalone_elasticnet_test_predict;\n",
    "CREATE TABLE abalone_elasticnet_test_predict\n",
    "AS\n",
    "SELECT \n",
    "    test.id,\n",
    "    madlib.elastic_net_gaussian_predict(\n",
    "        model.coef_all, \n",
    "        model.intercept,\n",
    "        ARRAY[\n",
    "            length,\n",
    "            diameter,\n",
    "            height,\n",
    "            whole_weight,\n",
    "            shucked_weight,\n",
    "            viscera_weight,\n",
    "            shell_weight,\n",
    "            sex_f,\n",
    "            sex_m\n",
    "        ] \n",
    "    ) as predicted_age,\n",
    "    test.age as actual_age\n",
    "FROM abalone_classif_test test, abalone_elasticnet_model model\n",
    ";"
   ]
  },
  {
   "cell_type": "code",
   "execution_count": 51,
   "metadata": {},
   "outputs": [
    {
     "name": "stdout",
     "output_type": "stream",
     "text": [
      "10 rows affected.\n"
     ]
    },
    {
     "data": {
      "text/html": [
       "<table>\n",
       "    <tr>\n",
       "        <th>id</th>\n",
       "        <th>predicted_age</th>\n",
       "        <th>actual_age</th>\n",
       "    </tr>\n",
       "    <tr>\n",
       "        <td>2979</td>\n",
       "        <td>11.3946975401</td>\n",
       "        <td>9.5</td>\n",
       "    </tr>\n",
       "    <tr>\n",
       "        <td>1148</td>\n",
       "        <td>11.6158230971</td>\n",
       "        <td>9.5</td>\n",
       "    </tr>\n",
       "    <tr>\n",
       "        <td>84</td>\n",
       "        <td>12.3445089064</td>\n",
       "        <td>15.5</td>\n",
       "    </tr>\n",
       "    <tr>\n",
       "        <td>1121</td>\n",
       "        <td>11.0038577104</td>\n",
       "        <td>10.5</td>\n",
       "    </tr>\n",
       "    <tr>\n",
       "        <td>1129</td>\n",
       "        <td>11.3303543014</td>\n",
       "        <td>9.5</td>\n",
       "    </tr>\n",
       "    <tr>\n",
       "        <td>2384</td>\n",
       "        <td>10.3001744313</td>\n",
       "        <td>12.5</td>\n",
       "    </tr>\n",
       "    <tr>\n",
       "        <td>1709</td>\n",
       "        <td>13.7373573387</td>\n",
       "        <td>10.5</td>\n",
       "    </tr>\n",
       "    <tr>\n",
       "        <td>3061</td>\n",
       "        <td>13.5259365913</td>\n",
       "        <td>11.5</td>\n",
       "    </tr>\n",
       "    <tr>\n",
       "        <td>2761</td>\n",
       "        <td>11.5343145387</td>\n",
       "        <td>11.5</td>\n",
       "    </tr>\n",
       "    <tr>\n",
       "        <td>1351</td>\n",
       "        <td>12.3149150345</td>\n",
       "        <td>13.5</td>\n",
       "    </tr>\n",
       "</table>"
      ],
      "text/plain": [
       "[(2979, 11.3946975400595, Decimal('9.5')),\n",
       " (1148, 11.6158230971101, Decimal('9.5')),\n",
       " (84, 12.3445089063653, Decimal('15.5')),\n",
       " (1121, 11.0038577104079, Decimal('10.5')),\n",
       " (1129, 11.330354301378, Decimal('9.5')),\n",
       " (2384, 10.3001744312792, Decimal('12.5')),\n",
       " (1709, 13.7373573387002, Decimal('10.5')),\n",
       " (3061, 13.5259365912704, Decimal('11.5')),\n",
       " (2761, 11.5343145387027, Decimal('11.5')),\n",
       " (1351, 12.3149150344784, Decimal('13.5'))]"
      ]
     },
     "execution_count": 51,
     "metadata": {},
     "output_type": "execute_result"
    }
   ],
   "source": [
    "%%sql\n",
    "SELECT * FROM abalone_elasticnet_test_predict LIMIT 10"
   ]
  },
  {
   "cell_type": "code",
   "execution_count": 53,
   "metadata": {},
   "outputs": [
    {
     "name": "stdout",
     "output_type": "stream",
     "text": [
      "Done.\n",
      "1 rows affected.\n",
      "1 rows affected.\n"
     ]
    },
    {
     "data": {
      "text/html": [
       "<table>\n",
       "    <tr>\n",
       "        <th>mean_squared_error</th>\n",
       "    </tr>\n",
       "    <tr>\n",
       "        <td>6.59702758346</td>\n",
       "    </tr>\n",
       "</table>"
      ],
      "text/plain": [
       "[(6.59702758345526,)]"
      ]
     },
     "execution_count": 53,
     "metadata": {},
     "output_type": "execute_result"
    }
   ],
   "source": [
    "%%sql\n",
    "DROP TABLE IF EXISTS abalone_elasticnet_test_predict_mse;\n",
    "SELECT madlib.mean_squared_error(\n",
    "    'abalone_elasticnet_test_predict',  -- table_in\n",
    "    'abalone_elasticnet_test_predict_mse',  -- table_out\n",
    "    'predicted_age',  -- prediction_col\n",
    "    'actual_age'  -- observed_col\n",
    ") \n",
    ";\n",
    "SELECT * FROM abalone_elasticnet_test_predict_mse\n",
    ";"
   ]
  }
 ],
 "metadata": {
  "kernelspec": {
   "display_name": "Python 2",
   "language": "python",
   "name": "python2"
  },
  "language_info": {
   "codemirror_mode": {
    "name": "ipython",
    "version": 2
   },
   "file_extension": ".py",
   "mimetype": "text/x-python",
   "name": "python",
   "nbconvert_exporter": "python",
   "pygments_lexer": "ipython2",
   "version": "2.7.16"
  },
  "toc": {
   "base_numbering": 1,
   "nav_menu": {
    "height": "235.994px",
    "width": "273.991px"
   },
   "number_sections": true,
   "sideBar": true,
   "skip_h1_title": false,
   "title_cell": "Table of Contents",
   "title_sidebar": "Contents",
   "toc_cell": false,
   "toc_position": {
    "height": "calc(100% - 180px)",
    "left": "10px",
    "top": "150px",
    "width": "208px"
   },
   "toc_section_display": true,
   "toc_window_display": true
  },
  "varInspector": {
   "cols": {
    "lenName": 16,
    "lenType": 16,
    "lenVar": 40
   },
   "kernels_config": {
    "python": {
     "delete_cmd_postfix": "",
     "delete_cmd_prefix": "del ",
     "library": "var_list.py",
     "varRefreshCmd": "print(var_dic_list())"
    },
    "r": {
     "delete_cmd_postfix": ") ",
     "delete_cmd_prefix": "rm(",
     "library": "var_list.r",
     "varRefreshCmd": "cat(var_dic_list()) "
    }
   },
   "types_to_exclude": [
    "module",
    "function",
    "builtin_function_or_method",
    "instance",
    "_Feature"
   ],
   "window_display": false
  }
 },
 "nbformat": 4,
 "nbformat_minor": 2
}
