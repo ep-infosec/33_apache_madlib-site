{
 "cells": [
  {
   "cell_type": "markdown",
   "metadata": {},
   "source": [
    "<img src=\"https://s3.amazonaws.com/greenplum.org/wp-content/uploads/2018/11/14180216/logo-gpdb-light.svg\" alt=\"drawing\" width=\"200\"/>"
   ]
  },
  {
   "cell_type": "markdown",
   "metadata": {},
   "source": [
    "# Data Science Workshop"
   ]
  },
  {
   "cell_type": "markdown",
   "metadata": {},
   "source": [
    "This notebook serves as an hands-on introduction to the data science pipeline.  Using a single dataset throughout, it begins with loading the data into Greenplum Database (GPDB), then proceeds to data exploration, feature engineering, model development, and model evaluation.\n",
    "\n",
    "We’ll be using the publicly available [Abalone dataset from the University of California, Irvine Machine Learning Repository](https://archive.ics.uci.edu/ml/datasets/abalone).  The dataset contains nine attributes (including our target prediction column).\n",
    "\n",
    "| Column Name | Data Type | Description|\n",
    "| ---|:---:| ---:|\n",
    "|Sex | text | M,F,I[infant]|\n",
    "| Length | float | Longest shell measurement|\n",
    "|Diameter | float | Perpendicular to length|\n",
    "| Height | float | With meat in shell |\n",
    "| Whole weight | float | Whole abalone |\n",
    "| Shucked weight | float | Weight of meat only |\n",
    "| Viscera weight | float | Gut weight (after bleeding) |\n",
    "| Shell weight | float | Post-drying |\n",
    "| Rings | integer | +1.5 gives the age in years|\n"
   ]
  },
  {
   "cell_type": "markdown",
   "metadata": {},
   "source": [
    "# Table of contents\n",
    "\n",
    "<a href=\"#setup\">1. Setup</a>\n",
    "\n",
    "<a href=\"#load_data\">2. Load data</a>\n",
    "\n",
    "<a href=\"#data_review\">3. Review raw data</a>\n",
    "\n",
    "<a href=\"#explore\">4. Explore data</a>\n",
    "\n",
    "<a href=\"#classification\">5. Classification models</a>\n",
    "\n",
    "* <a href=\"#logistic\">5a. Logistic regression</a>\n",
    "\n",
    "* <a href=\"#forest\">5b. Random forest</a>\n",
    "\n",
    "<a href=\"#regression\">6. Regression models</a>\n",
    "\n",
    "* <a href=\"#logistic\">6a. Linear regression</a>\n",
    "\n",
    "* <a href=\"#elastic\">6b. Elastic net</a>"
   ]
  },
  {
   "cell_type": "markdown",
   "metadata": {},
   "source": [
    "<a id=\"setup\"></a>\n",
    "# 1. Set Up Your Notebook Environment and Connect to the Database"
   ]
  },
  {
   "cell_type": "code",
   "execution_count": 1,
   "metadata": {},
   "outputs": [],
   "source": [
    "# this command allows for visualizations to appear in the notebook\n",
    "%matplotlib inline\n",
    "%load_ext sql\n",
    "import math\n",
    "import six\n",
    "import pandas as pd\n",
    "from sqlalchemy import create_engine\n",
    "import numpy as np \n",
    "import matplotlib.pyplot as plt\n",
    "import seaborn as sns\n",
    "pd.set_option('display.max_columns', 200)"
   ]
  },
  {
   "cell_type": "markdown",
   "metadata": {},
   "source": [
    "Connect to Database"
   ]
  },
  {
   "cell_type": "code",
   "execution_count": 2,
   "metadata": {},
   "outputs": [],
   "source": [
    "# Greenplum Database 5.x on GCP (PM demo machine) - via tunnel\n",
    "%sql postgresql://gpadmin@localhost:8000/madlib\n",
    "        \n",
    "# PostgreSQL local\n",
    "#%sql postgresql://fmcquillan@localhost:5432/madlib"
   ]
  },
  {
   "cell_type": "markdown",
   "metadata": {},
   "source": [
    "<a id=\"load_data\"></a>\n",
    "# 2. Load Abalone Data"
   ]
  },
  {
   "cell_type": "markdown",
   "metadata": {},
   "source": [
    "An [abalone](https://simple.wikipedia.org/wiki/Abalone) is a salt water univalve mollusc.\n",
    "We'll load the data from ```web external table``` then start looking at the data."
   ]
  },
  {
   "cell_type": "code",
   "execution_count": 3,
   "metadata": {},
   "outputs": [
    {
     "name": "stdout",
     "output_type": "stream",
     "text": [
      "Done.\n",
      "Done.\n",
      "10 rows affected.\n"
     ]
    },
    {
     "data": {
      "text/html": [
       "<table>\n",
       "    <tr>\n",
       "        <th>sex</th>\n",
       "        <th>length</th>\n",
       "        <th>diameter</th>\n",
       "        <th>height</th>\n",
       "        <th>whole_weight</th>\n",
       "        <th>shucked_weight</th>\n",
       "        <th>viscera_weight</th>\n",
       "        <th>shell_weight</th>\n",
       "        <th>rings</th>\n",
       "    </tr>\n",
       "    <tr>\n",
       "        <td>M</td>\n",
       "        <td>0.455</td>\n",
       "        <td>0.365</td>\n",
       "        <td>0.095</td>\n",
       "        <td>0.514</td>\n",
       "        <td>0.2245</td>\n",
       "        <td>0.101</td>\n",
       "        <td>0.15</td>\n",
       "        <td>15</td>\n",
       "    </tr>\n",
       "    <tr>\n",
       "        <td>M</td>\n",
       "        <td>0.35</td>\n",
       "        <td>0.265</td>\n",
       "        <td>0.09</td>\n",
       "        <td>0.2255</td>\n",
       "        <td>0.0995</td>\n",
       "        <td>0.0485</td>\n",
       "        <td>0.07</td>\n",
       "        <td>7</td>\n",
       "    </tr>\n",
       "    <tr>\n",
       "        <td>F</td>\n",
       "        <td>0.53</td>\n",
       "        <td>0.42</td>\n",
       "        <td>0.135</td>\n",
       "        <td>0.677</td>\n",
       "        <td>0.2565</td>\n",
       "        <td>0.1415</td>\n",
       "        <td>0.21</td>\n",
       "        <td>9</td>\n",
       "    </tr>\n",
       "    <tr>\n",
       "        <td>M</td>\n",
       "        <td>0.44</td>\n",
       "        <td>0.365</td>\n",
       "        <td>0.125</td>\n",
       "        <td>0.516</td>\n",
       "        <td>0.2155</td>\n",
       "        <td>0.114</td>\n",
       "        <td>0.155</td>\n",
       "        <td>10</td>\n",
       "    </tr>\n",
       "    <tr>\n",
       "        <td>I</td>\n",
       "        <td>0.33</td>\n",
       "        <td>0.255</td>\n",
       "        <td>0.08</td>\n",
       "        <td>0.205</td>\n",
       "        <td>0.0895</td>\n",
       "        <td>0.0395</td>\n",
       "        <td>0.055</td>\n",
       "        <td>7</td>\n",
       "    </tr>\n",
       "    <tr>\n",
       "        <td>I</td>\n",
       "        <td>0.425</td>\n",
       "        <td>0.3</td>\n",
       "        <td>0.095</td>\n",
       "        <td>0.3515</td>\n",
       "        <td>0.141</td>\n",
       "        <td>0.0775</td>\n",
       "        <td>0.12</td>\n",
       "        <td>8</td>\n",
       "    </tr>\n",
       "    <tr>\n",
       "        <td>F</td>\n",
       "        <td>0.53</td>\n",
       "        <td>0.415</td>\n",
       "        <td>0.15</td>\n",
       "        <td>0.7775</td>\n",
       "        <td>0.237</td>\n",
       "        <td>0.1415</td>\n",
       "        <td>0.33</td>\n",
       "        <td>20</td>\n",
       "    </tr>\n",
       "    <tr>\n",
       "        <td>F</td>\n",
       "        <td>0.545</td>\n",
       "        <td>0.425</td>\n",
       "        <td>0.125</td>\n",
       "        <td>0.768</td>\n",
       "        <td>0.294</td>\n",
       "        <td>0.1495</td>\n",
       "        <td>0.26</td>\n",
       "        <td>16</td>\n",
       "    </tr>\n",
       "    <tr>\n",
       "        <td>M</td>\n",
       "        <td>0.475</td>\n",
       "        <td>0.37</td>\n",
       "        <td>0.125</td>\n",
       "        <td>0.5095</td>\n",
       "        <td>0.2165</td>\n",
       "        <td>0.1125</td>\n",
       "        <td>0.165</td>\n",
       "        <td>9</td>\n",
       "    </tr>\n",
       "    <tr>\n",
       "        <td>F</td>\n",
       "        <td>0.55</td>\n",
       "        <td>0.44</td>\n",
       "        <td>0.15</td>\n",
       "        <td>0.8945</td>\n",
       "        <td>0.3145</td>\n",
       "        <td>0.151</td>\n",
       "        <td>0.32</td>\n",
       "        <td>19</td>\n",
       "    </tr>\n",
       "</table>"
      ],
      "text/plain": [
       "[(u'M', 0.455, 0.365, 0.095, 0.514, 0.2245, 0.101, 0.15, 15),\n",
       " (u'M', 0.35, 0.265, 0.09, 0.2255, 0.0995, 0.0485, 0.07, 7),\n",
       " (u'F', 0.53, 0.42, 0.135, 0.677, 0.2565, 0.1415, 0.21, 9),\n",
       " (u'M', 0.44, 0.365, 0.125, 0.516, 0.2155, 0.114, 0.155, 10),\n",
       " (u'I', 0.33, 0.255, 0.08, 0.205, 0.0895, 0.0395, 0.055, 7),\n",
       " (u'I', 0.425, 0.3, 0.095, 0.3515, 0.141, 0.0775, 0.12, 8),\n",
       " (u'F', 0.53, 0.415, 0.15, 0.7775, 0.237, 0.1415, 0.33, 20),\n",
       " (u'F', 0.545, 0.425, 0.125, 0.768, 0.294, 0.1495, 0.26, 16),\n",
       " (u'M', 0.475, 0.37, 0.125, 0.5095, 0.2165, 0.1125, 0.165, 9),\n",
       " (u'F', 0.55, 0.44, 0.15, 0.8945, 0.3145, 0.151, 0.32, 19)]"
      ]
     },
     "execution_count": 3,
     "metadata": {},
     "output_type": "execute_result"
    }
   ],
   "source": [
    "%%sql\n",
    "---\n",
    "--- The below code will create an external table that points at the data available at IMS/UCI.\n",
    "---\n",
    "drop external table if exists abalone_web;\n",
    "create external web table\n",
    "        abalone_web (\n",
    "        sex char(1),\n",
    "        length float,\n",
    "        diameter float,\n",
    "        height float,\n",
    "        whole_weight float,\n",
    "        shucked_weight float,\n",
    "        viscera_weight float,\n",
    "        shell_weight float,\n",
    "        rings integer\n",
    "    )\n",
    "    location ( 'http://archive.ics.uci.edu/ml/machine-learning-databases/abalone/abalone.data' )\n",
    "    format 'TEXT' ( delimiter ',' null '' )\n",
    "    log errors\n",
    "    segment reject limit 100\n",
    ";\n",
    "select * from abalone_web limit 10\n",
    ";"
   ]
  },
  {
   "cell_type": "markdown",
   "metadata": {},
   "source": [
    "Create heap table"
   ]
  },
  {
   "cell_type": "code",
   "execution_count": 4,
   "metadata": {},
   "outputs": [
    {
     "name": "stdout",
     "output_type": "stream",
     "text": [
      "Done.\n",
      "Done.\n",
      "Done.\n",
      "Done.\n",
      "4177 rows affected.\n",
      "10 rows affected.\n"
     ]
    },
    {
     "data": {
      "text/html": [
       "<table>\n",
       "    <tr>\n",
       "        <th>id</th>\n",
       "        <th>sex</th>\n",
       "        <th>length</th>\n",
       "        <th>diameter</th>\n",
       "        <th>height</th>\n",
       "        <th>whole_weight</th>\n",
       "        <th>shucked_weight</th>\n",
       "        <th>viscera_weight</th>\n",
       "        <th>shell_weight</th>\n",
       "        <th>rings</th>\n",
       "    </tr>\n",
       "    <tr>\n",
       "        <td>0</td>\n",
       "        <td>M</td>\n",
       "        <td>0.455</td>\n",
       "        <td>0.365</td>\n",
       "        <td>0.095</td>\n",
       "        <td>0.514</td>\n",
       "        <td>0.2245</td>\n",
       "        <td>0.101</td>\n",
       "        <td>0.15</td>\n",
       "        <td>15</td>\n",
       "    </tr>\n",
       "    <tr>\n",
       "        <td>1</td>\n",
       "        <td>M</td>\n",
       "        <td>0.35</td>\n",
       "        <td>0.265</td>\n",
       "        <td>0.09</td>\n",
       "        <td>0.2255</td>\n",
       "        <td>0.0995</td>\n",
       "        <td>0.0485</td>\n",
       "        <td>0.07</td>\n",
       "        <td>7</td>\n",
       "    </tr>\n",
       "    <tr>\n",
       "        <td>2</td>\n",
       "        <td>F</td>\n",
       "        <td>0.53</td>\n",
       "        <td>0.42</td>\n",
       "        <td>0.135</td>\n",
       "        <td>0.677</td>\n",
       "        <td>0.2565</td>\n",
       "        <td>0.1415</td>\n",
       "        <td>0.21</td>\n",
       "        <td>9</td>\n",
       "    </tr>\n",
       "    <tr>\n",
       "        <td>3</td>\n",
       "        <td>M</td>\n",
       "        <td>0.44</td>\n",
       "        <td>0.365</td>\n",
       "        <td>0.125</td>\n",
       "        <td>0.516</td>\n",
       "        <td>0.2155</td>\n",
       "        <td>0.114</td>\n",
       "        <td>0.155</td>\n",
       "        <td>10</td>\n",
       "    </tr>\n",
       "    <tr>\n",
       "        <td>4</td>\n",
       "        <td>I</td>\n",
       "        <td>0.33</td>\n",
       "        <td>0.255</td>\n",
       "        <td>0.08</td>\n",
       "        <td>0.205</td>\n",
       "        <td>0.0895</td>\n",
       "        <td>0.0395</td>\n",
       "        <td>0.055</td>\n",
       "        <td>7</td>\n",
       "    </tr>\n",
       "    <tr>\n",
       "        <td>5</td>\n",
       "        <td>I</td>\n",
       "        <td>0.425</td>\n",
       "        <td>0.3</td>\n",
       "        <td>0.095</td>\n",
       "        <td>0.3515</td>\n",
       "        <td>0.141</td>\n",
       "        <td>0.0775</td>\n",
       "        <td>0.12</td>\n",
       "        <td>8</td>\n",
       "    </tr>\n",
       "    <tr>\n",
       "        <td>6</td>\n",
       "        <td>F</td>\n",
       "        <td>0.53</td>\n",
       "        <td>0.415</td>\n",
       "        <td>0.15</td>\n",
       "        <td>0.7775</td>\n",
       "        <td>0.237</td>\n",
       "        <td>0.1415</td>\n",
       "        <td>0.33</td>\n",
       "        <td>20</td>\n",
       "    </tr>\n",
       "    <tr>\n",
       "        <td>7</td>\n",
       "        <td>F</td>\n",
       "        <td>0.545</td>\n",
       "        <td>0.425</td>\n",
       "        <td>0.125</td>\n",
       "        <td>0.768</td>\n",
       "        <td>0.294</td>\n",
       "        <td>0.1495</td>\n",
       "        <td>0.26</td>\n",
       "        <td>16</td>\n",
       "    </tr>\n",
       "    <tr>\n",
       "        <td>8</td>\n",
       "        <td>M</td>\n",
       "        <td>0.475</td>\n",
       "        <td>0.37</td>\n",
       "        <td>0.125</td>\n",
       "        <td>0.5095</td>\n",
       "        <td>0.2165</td>\n",
       "        <td>0.1125</td>\n",
       "        <td>0.165</td>\n",
       "        <td>9</td>\n",
       "    </tr>\n",
       "    <tr>\n",
       "        <td>9</td>\n",
       "        <td>F</td>\n",
       "        <td>0.55</td>\n",
       "        <td>0.44</td>\n",
       "        <td>0.15</td>\n",
       "        <td>0.8945</td>\n",
       "        <td>0.3145</td>\n",
       "        <td>0.151</td>\n",
       "        <td>0.32</td>\n",
       "        <td>19</td>\n",
       "    </tr>\n",
       "</table>"
      ],
      "text/plain": [
       "[(0, u'M', 0.455, 0.365, 0.095, 0.514, 0.2245, 0.101, 0.15, 15),\n",
       " (1, u'M', 0.35, 0.265, 0.09, 0.2255, 0.0995, 0.0485, 0.07, 7),\n",
       " (2, u'F', 0.53, 0.42, 0.135, 0.677, 0.2565, 0.1415, 0.21, 9),\n",
       " (3, u'M', 0.44, 0.365, 0.125, 0.516, 0.2155, 0.114, 0.155, 10),\n",
       " (4, u'I', 0.33, 0.255, 0.08, 0.205, 0.0895, 0.0395, 0.055, 7),\n",
       " (5, u'I', 0.425, 0.3, 0.095, 0.3515, 0.141, 0.0775, 0.12, 8),\n",
       " (6, u'F', 0.53, 0.415, 0.15, 0.7775, 0.237, 0.1415, 0.33, 20),\n",
       " (7, u'F', 0.545, 0.425, 0.125, 0.768, 0.294, 0.1495, 0.26, 16),\n",
       " (8, u'M', 0.475, 0.37, 0.125, 0.5095, 0.2165, 0.1125, 0.165, 9),\n",
       " (9, u'F', 0.55, 0.44, 0.15, 0.8945, 0.3145, 0.151, 0.32, 19)]"
      ]
     },
     "execution_count": 4,
     "metadata": {},
     "output_type": "execute_result"
    }
   ],
   "source": [
    "%%sql\n",
    "DROP TABLE IF EXISTS abalone;\n",
    "CREATE TABLE abalone (\n",
    "        id integer,\n",
    "        sex char(1),\n",
    "        length float,\n",
    "        diameter float,\n",
    "        height float,\n",
    "        whole_weight float,\n",
    "        shucked_weight float,\n",
    "        viscera_weight float,\n",
    "        shell_weight float,\n",
    "        rings integer\n",
    "    )\n",
    ";\n",
    "    \n",
    "DROP SEQUENCE IF EXISTS abalone_id ;\n",
    "CREATE TEMPORARY SEQUENCE abalone_id MINVALUE 0 START 0;\n",
    "\n",
    "insert into \n",
    "     abalone \n",
    "select \n",
    "      nextval('abalone_id') as id, *\n",
    "FROM \n",
    "      abalone_web\n",
    ";\n",
    "\n",
    "\n",
    "SELECT * FROM abalone ORDER BY id LIMIT 10;"
   ]
  },
  {
   "cell_type": "markdown",
   "metadata": {},
   "source": [
    "<a id=\"data_review\"></a>\n",
    "# 3. Review raw data\n",
    "\n",
    "Load some data into a local variable ```abalone```"
   ]
  },
  {
   "cell_type": "code",
   "execution_count": 5,
   "metadata": {},
   "outputs": [
    {
     "name": "stdout",
     "output_type": "stream",
     "text": [
      "4177 rows affected.\n"
     ]
    }
   ],
   "source": [
    "abalone = %sql select * from abalone where random() < 1.0 order by id limit 5000;\n",
    "abalone = abalone.DataFrame()"
   ]
  },
  {
   "cell_type": "code",
   "execution_count": 6,
   "metadata": {},
   "outputs": [
    {
     "name": "stdout",
     "output_type": "stream",
     "text": [
      "<class 'pandas.core.frame.DataFrame'>\n",
      "RangeIndex: 4177 entries, 0 to 4176\n",
      "Data columns (total 10 columns):\n",
      "id                4177 non-null int64\n",
      "sex               4177 non-null object\n",
      "length            4177 non-null float64\n",
      "diameter          4177 non-null float64\n",
      "height            4177 non-null float64\n",
      "whole_weight      4177 non-null float64\n",
      "shucked_weight    4177 non-null float64\n",
      "viscera_weight    4177 non-null float64\n",
      "shell_weight      4177 non-null float64\n",
      "rings             4177 non-null int64\n",
      "dtypes: float64(7), int64(2), object(1)\n",
      "memory usage: 326.4+ KB\n"
     ]
    }
   ],
   "source": [
    "abalone.info();"
   ]
  },
  {
   "cell_type": "markdown",
   "metadata": {},
   "source": [
    "We're interested in estimating the age of the abalone in the data.  To get age, add 1.5 to the number of rings.  A good place to begin is to create a histogram of the target variable."
   ]
  },
  {
   "cell_type": "code",
   "execution_count": 7,
   "metadata": {},
   "outputs": [
    {
     "data": {
      "image/png": "[encoded data removed]",
      "text/plain": [
       "<Figure size 432x288 with 1 Axes>"
      ]
     },
     "metadata": {
      "needs_background": "light"
     },
     "output_type": "display_data"
    }
   ],
   "source": [
    "(abalone.rings + 1.5 ).hist(bins=20);"
   ]
  },
  {
   "cell_type": "code",
   "execution_count": 8,
   "metadata": {},
   "outputs": [
    {
     "data": {
      "text/plain": [
       "True     2770\n",
       "False    1407\n",
       "Name: rings, dtype: int64"
      ]
     },
     "execution_count": 8,
     "metadata": {},
     "output_type": "execute_result"
    }
   ],
   "source": [
    "((abalone.rings + 1.5) >= 10).value_counts()"
   ]
  },
  {
   "cell_type": "markdown",
   "metadata": {},
   "source": [
    "### Look at the cumulative distribution"
   ]
  },
  {
   "cell_type": "code",
   "execution_count": 9,
   "metadata": {},
   "outputs": [
    {
     "data": {
      "image/png": "[encoded data removed]",
      "text/plain": [
       "<Figure size 432x288 with 1 Axes>"
      ]
     },
     "metadata": {
      "needs_background": "light"
     },
     "output_type": "display_data"
    }
   ],
   "source": [
    "n_cumsum_df = pd.DataFrame({'Cumulative Sum':((abalone.rings + 1.5).value_counts().sort_index().cumsum())/abalone.shape[0]})\n",
    "ax = n_cumsum_df.plot();\n",
    "ax.set_xlabel('Age');\n",
    "ax.set_ylabel('Normalized Cumulative Sum');"
   ]
  },
  {
   "cell_type": "markdown",
   "metadata": {},
   "source": [
    "<a id=\"explore\"></a>\n",
    "# 4. Process and explore data\n",
    "\n",
    "Create a column for maturity"
   ]
  },
  {
   "cell_type": "code",
   "execution_count": 10,
   "metadata": {},
   "outputs": [
    {
     "name": "stdout",
     "output_type": "stream",
     "text": [
      "Done.\n",
      "4177 rows affected.\n",
      "10 rows affected.\n"
     ]
    },
    {
     "data": {
      "text/html": [
       "<table>\n",
       "    <tr>\n",
       "        <th>id</th>\n",
       "        <th>sex</th>\n",
       "        <th>length</th>\n",
       "        <th>diameter</th>\n",
       "        <th>height</th>\n",
       "        <th>whole_weight</th>\n",
       "        <th>shucked_weight</th>\n",
       "        <th>viscera_weight</th>\n",
       "        <th>shell_weight</th>\n",
       "        <th>rings</th>\n",
       "        <th>age</th>\n",
       "        <th>mature</th>\n",
       "    </tr>\n",
       "    <tr>\n",
       "        <td>3</td>\n",
       "        <td>m</td>\n",
       "        <td>0.44</td>\n",
       "        <td>0.365</td>\n",
       "        <td>0.125</td>\n",
       "        <td>0.516</td>\n",
       "        <td>0.2155</td>\n",
       "        <td>0.114</td>\n",
       "        <td>0.155</td>\n",
       "        <td>10</td>\n",
       "        <td>11.5</td>\n",
       "        <td>1</td>\n",
       "    </tr>\n",
       "    <tr>\n",
       "        <td>7</td>\n",
       "        <td>f</td>\n",
       "        <td>0.545</td>\n",
       "        <td>0.425</td>\n",
       "        <td>0.125</td>\n",
       "        <td>0.768</td>\n",
       "        <td>0.294</td>\n",
       "        <td>0.1495</td>\n",
       "        <td>0.26</td>\n",
       "        <td>16</td>\n",
       "        <td>17.5</td>\n",
       "        <td>1</td>\n",
       "    </tr>\n",
       "    <tr>\n",
       "        <td>11</td>\n",
       "        <td>m</td>\n",
       "        <td>0.43</td>\n",
       "        <td>0.35</td>\n",
       "        <td>0.11</td>\n",
       "        <td>0.406</td>\n",
       "        <td>0.1675</td>\n",
       "        <td>0.081</td>\n",
       "        <td>0.135</td>\n",
       "        <td>10</td>\n",
       "        <td>11.5</td>\n",
       "        <td>1</td>\n",
       "    </tr>\n",
       "    <tr>\n",
       "        <td>15</td>\n",
       "        <td>m</td>\n",
       "        <td>0.5</td>\n",
       "        <td>0.4</td>\n",
       "        <td>0.13</td>\n",
       "        <td>0.6645</td>\n",
       "        <td>0.258</td>\n",
       "        <td>0.133</td>\n",
       "        <td>0.24</td>\n",
       "        <td>12</td>\n",
       "        <td>13.5</td>\n",
       "        <td>1</td>\n",
       "    </tr>\n",
       "    <tr>\n",
       "        <td>19</td>\n",
       "        <td>m</td>\n",
       "        <td>0.45</td>\n",
       "        <td>0.32</td>\n",
       "        <td>0.1</td>\n",
       "        <td>0.381</td>\n",
       "        <td>0.1705</td>\n",
       "        <td>0.075</td>\n",
       "        <td>0.115</td>\n",
       "        <td>9</td>\n",
       "        <td>10.5</td>\n",
       "        <td>1</td>\n",
       "    </tr>\n",
       "    <tr>\n",
       "        <td>23</td>\n",
       "        <td>f</td>\n",
       "        <td>0.55</td>\n",
       "        <td>0.415</td>\n",
       "        <td>0.135</td>\n",
       "        <td>0.7635</td>\n",
       "        <td>0.318</td>\n",
       "        <td>0.21</td>\n",
       "        <td>0.2</td>\n",
       "        <td>9</td>\n",
       "        <td>10.5</td>\n",
       "        <td>1</td>\n",
       "    </tr>\n",
       "    <tr>\n",
       "        <td>27</td>\n",
       "        <td>m</td>\n",
       "        <td>0.59</td>\n",
       "        <td>0.445</td>\n",
       "        <td>0.14</td>\n",
       "        <td>0.931</td>\n",
       "        <td>0.356</td>\n",
       "        <td>0.234</td>\n",
       "        <td>0.28</td>\n",
       "        <td>12</td>\n",
       "        <td>13.5</td>\n",
       "        <td>1</td>\n",
       "    </tr>\n",
       "    <tr>\n",
       "        <td>31</td>\n",
       "        <td>f</td>\n",
       "        <td>0.68</td>\n",
       "        <td>0.56</td>\n",
       "        <td>0.165</td>\n",
       "        <td>1.639</td>\n",
       "        <td>0.6055</td>\n",
       "        <td>0.2805</td>\n",
       "        <td>0.46</td>\n",
       "        <td>15</td>\n",
       "        <td>16.5</td>\n",
       "        <td>1</td>\n",
       "    </tr>\n",
       "    <tr>\n",
       "        <td>35</td>\n",
       "        <td>m</td>\n",
       "        <td>0.465</td>\n",
       "        <td>0.355</td>\n",
       "        <td>0.105</td>\n",
       "        <td>0.4795</td>\n",
       "        <td>0.227</td>\n",
       "        <td>0.124</td>\n",
       "        <td>0.125</td>\n",
       "        <td>8</td>\n",
       "        <td>9.5</td>\n",
       "        <td>0</td>\n",
       "    </tr>\n",
       "    <tr>\n",
       "        <td>39</td>\n",
       "        <td>m</td>\n",
       "        <td>0.355</td>\n",
       "        <td>0.29</td>\n",
       "        <td>0.09</td>\n",
       "        <td>0.3275</td>\n",
       "        <td>0.134</td>\n",
       "        <td>0.086</td>\n",
       "        <td>0.09</td>\n",
       "        <td>9</td>\n",
       "        <td>10.5</td>\n",
       "        <td>1</td>\n",
       "    </tr>\n",
       "</table>"
      ],
      "text/plain": [
       "[(3, u'm', 0.44, 0.365, 0.125, 0.516, 0.2155, 0.114, 0.155, 10, Decimal('11.5'), 1),\n",
       " (7, u'f', 0.545, 0.425, 0.125, 0.768, 0.294, 0.1495, 0.26, 16, Decimal('17.5'), 1),\n",
       " (11, u'm', 0.43, 0.35, 0.11, 0.406, 0.1675, 0.081, 0.135, 10, Decimal('11.5'), 1),\n",
       " (15, u'm', 0.5, 0.4, 0.13, 0.6645, 0.258, 0.133, 0.24, 12, Decimal('13.5'), 1),\n",
       " (19, u'm', 0.45, 0.32, 0.1, 0.381, 0.1705, 0.075, 0.115, 9, Decimal('10.5'), 1),\n",
       " (23, u'f', 0.55, 0.415, 0.135, 0.7635, 0.318, 0.21, 0.2, 9, Decimal('10.5'), 1),\n",
       " (27, u'm', 0.59, 0.445, 0.14, 0.931, 0.356, 0.234, 0.28, 12, Decimal('13.5'), 1),\n",
       " (31, u'f', 0.68, 0.56, 0.165, 1.639, 0.6055, 0.2805, 0.46, 15, Decimal('16.5'), 1),\n",
       " (35, u'm', 0.465, 0.355, 0.105, 0.4795, 0.227, 0.124, 0.125, 8, Decimal('9.5'), 0),\n",
       " (39, u'm', 0.355, 0.29, 0.09, 0.3275, 0.134, 0.086, 0.09, 9, Decimal('10.5'), 1)]"
      ]
     },
     "execution_count": 10,
     "metadata": {},
     "output_type": "execute_result"
    }
   ],
   "source": [
    "%%sql\n",
    "DROP TABLE IF EXISTS abalone_target;\n",
    "CREATE TABLE abalone_target\n",
    "AS\n",
    "SELECT \n",
    "    id,\n",
    "    lower(sex) as sex,                     --- ensure that sex is indicated in lower case  (m, f, i)\n",
    "    \"length\",\n",
    "    diameter,\n",
    "    height,\n",
    "    whole_weight,\n",
    "    shucked_weight,\n",
    "    viscera_weight,\n",
    "    shell_weight,\n",
    "    rings,\n",
    "    rings + 1.5 as age,                    --- Define the age\n",
    "    CASE WHEN                              --- Identifies whether the abalone is mature or not (1/0)\n",
    "            (rings + 1.5) >= 10.0\n",
    "        THEN 1\n",
    "        ELSE 0\n",
    "    END as mature\n",
    "FROM abalone\n",
    ";\n",
    "SELECT * FROM abalone_target LIMIT 10;  --- show a sample"
   ]
  },
  {
   "cell_type": "markdown",
   "metadata": {},
   "source": [
    "## Encode categorical variables\n",
    "\n",
    "Next use [MADlib to one-hot encode](http://madlib.apache.org/docs/latest/group__grp__encode__categorical.html) the “sex” column which is a categorical variable.  In order to create a predictive model, we need all our columns to be numerical values.  Making sure all our model inputs conform to this standard is an important part of the data science modeling pipeline and is considered part of the preprocessing/data cleaning step of the process."
   ]
  },
  {
   "cell_type": "code",
   "execution_count": 11,
   "metadata": {},
   "outputs": [
    {
     "name": "stdout",
     "output_type": "stream",
     "text": [
      "Done.\n",
      "1 rows affected.\n",
      "10 rows affected.\n"
     ]
    },
    {
     "data": {
      "text/html": [
       "<table>\n",
       "    <tr>\n",
       "        <th>id</th>\n",
       "        <th>length</th>\n",
       "        <th>diameter</th>\n",
       "        <th>height</th>\n",
       "        <th>whole_weight</th>\n",
       "        <th>shucked_weight</th>\n",
       "        <th>viscera_weight</th>\n",
       "        <th>shell_weight</th>\n",
       "        <th>rings</th>\n",
       "        <th>age</th>\n",
       "        <th>mature</th>\n",
       "        <th>sex_f</th>\n",
       "        <th>sex_i</th>\n",
       "        <th>sex_m</th>\n",
       "    </tr>\n",
       "    <tr>\n",
       "        <td>3</td>\n",
       "        <td>0.44</td>\n",
       "        <td>0.365</td>\n",
       "        <td>0.125</td>\n",
       "        <td>0.516</td>\n",
       "        <td>0.2155</td>\n",
       "        <td>0.114</td>\n",
       "        <td>0.155</td>\n",
       "        <td>10</td>\n",
       "        <td>11.5</td>\n",
       "        <td>1</td>\n",
       "        <td>0</td>\n",
       "        <td>0</td>\n",
       "        <td>1</td>\n",
       "    </tr>\n",
       "    <tr>\n",
       "        <td>11</td>\n",
       "        <td>0.43</td>\n",
       "        <td>0.35</td>\n",
       "        <td>0.11</td>\n",
       "        <td>0.406</td>\n",
       "        <td>0.1675</td>\n",
       "        <td>0.081</td>\n",
       "        <td>0.135</td>\n",
       "        <td>10</td>\n",
       "        <td>11.5</td>\n",
       "        <td>1</td>\n",
       "        <td>0</td>\n",
       "        <td>0</td>\n",
       "        <td>1</td>\n",
       "    </tr>\n",
       "    <tr>\n",
       "        <td>19</td>\n",
       "        <td>0.45</td>\n",
       "        <td>0.32</td>\n",
       "        <td>0.1</td>\n",
       "        <td>0.381</td>\n",
       "        <td>0.1705</td>\n",
       "        <td>0.075</td>\n",
       "        <td>0.115</td>\n",
       "        <td>9</td>\n",
       "        <td>10.5</td>\n",
       "        <td>1</td>\n",
       "        <td>0</td>\n",
       "        <td>0</td>\n",
       "        <td>1</td>\n",
       "    </tr>\n",
       "    <tr>\n",
       "        <td>27</td>\n",
       "        <td>0.59</td>\n",
       "        <td>0.445</td>\n",
       "        <td>0.14</td>\n",
       "        <td>0.931</td>\n",
       "        <td>0.356</td>\n",
       "        <td>0.234</td>\n",
       "        <td>0.28</td>\n",
       "        <td>12</td>\n",
       "        <td>13.5</td>\n",
       "        <td>1</td>\n",
       "        <td>0</td>\n",
       "        <td>0</td>\n",
       "        <td>1</td>\n",
       "    </tr>\n",
       "    <tr>\n",
       "        <td>35</td>\n",
       "        <td>0.465</td>\n",
       "        <td>0.355</td>\n",
       "        <td>0.105</td>\n",
       "        <td>0.4795</td>\n",
       "        <td>0.227</td>\n",
       "        <td>0.124</td>\n",
       "        <td>0.125</td>\n",
       "        <td>8</td>\n",
       "        <td>9.5</td>\n",
       "        <td>0</td>\n",
       "        <td>0</td>\n",
       "        <td>0</td>\n",
       "        <td>1</td>\n",
       "    </tr>\n",
       "    <tr>\n",
       "        <td>43</td>\n",
       "        <td>0.205</td>\n",
       "        <td>0.15</td>\n",
       "        <td>0.055</td>\n",
       "        <td>0.042</td>\n",
       "        <td>0.0255</td>\n",
       "        <td>0.015</td>\n",
       "        <td>0.012</td>\n",
       "        <td>5</td>\n",
       "        <td>6.5</td>\n",
       "        <td>0</td>\n",
       "        <td>0</td>\n",
       "        <td>1</td>\n",
       "        <td>0</td>\n",
       "    </tr>\n",
       "    <tr>\n",
       "        <td>51</td>\n",
       "        <td>0.4</td>\n",
       "        <td>0.32</td>\n",
       "        <td>0.095</td>\n",
       "        <td>0.303</td>\n",
       "        <td>0.1335</td>\n",
       "        <td>0.06</td>\n",
       "        <td>0.1</td>\n",
       "        <td>7</td>\n",
       "        <td>8.5</td>\n",
       "        <td>0</td>\n",
       "        <td>0</td>\n",
       "        <td>0</td>\n",
       "        <td>1</td>\n",
       "    </tr>\n",
       "    <tr>\n",
       "        <td>59</td>\n",
       "        <td>0.505</td>\n",
       "        <td>0.4</td>\n",
       "        <td>0.125</td>\n",
       "        <td>0.583</td>\n",
       "        <td>0.246</td>\n",
       "        <td>0.13</td>\n",
       "        <td>0.175</td>\n",
       "        <td>7</td>\n",
       "        <td>8.5</td>\n",
       "        <td>0</td>\n",
       "        <td>1</td>\n",
       "        <td>0</td>\n",
       "        <td>0</td>\n",
       "    </tr>\n",
       "    <tr>\n",
       "        <td>67</td>\n",
       "        <td>0.595</td>\n",
       "        <td>0.495</td>\n",
       "        <td>0.185</td>\n",
       "        <td>1.285</td>\n",
       "        <td>0.416</td>\n",
       "        <td>0.224</td>\n",
       "        <td>0.485</td>\n",
       "        <td>13</td>\n",
       "        <td>14.5</td>\n",
       "        <td>1</td>\n",
       "        <td>1</td>\n",
       "        <td>0</td>\n",
       "        <td>0</td>\n",
       "    </tr>\n",
       "    <tr>\n",
       "        <td>75</td>\n",
       "        <td>0.6</td>\n",
       "        <td>0.475</td>\n",
       "        <td>0.15</td>\n",
       "        <td>1.0075</td>\n",
       "        <td>0.4425</td>\n",
       "        <td>0.221</td>\n",
       "        <td>0.28</td>\n",
       "        <td>15</td>\n",
       "        <td>16.5</td>\n",
       "        <td>1</td>\n",
       "        <td>1</td>\n",
       "        <td>0</td>\n",
       "        <td>0</td>\n",
       "    </tr>\n",
       "</table>"
      ],
      "text/plain": [
       "[(3, 0.44, 0.365, 0.125, 0.516, 0.2155, 0.114, 0.155, 10, Decimal('11.5'), 1, 0, 0, 1),\n",
       " (11, 0.43, 0.35, 0.11, 0.406, 0.1675, 0.081, 0.135, 10, Decimal('11.5'), 1, 0, 0, 1),\n",
       " (19, 0.45, 0.32, 0.1, 0.381, 0.1705, 0.075, 0.115, 9, Decimal('10.5'), 1, 0, 0, 1),\n",
       " (27, 0.59, 0.445, 0.14, 0.931, 0.356, 0.234, 0.28, 12, Decimal('13.5'), 1, 0, 0, 1),\n",
       " (35, 0.465, 0.355, 0.105, 0.4795, 0.227, 0.124, 0.125, 8, Decimal('9.5'), 0, 0, 0, 1),\n",
       " (43, 0.205, 0.15, 0.055, 0.042, 0.0255, 0.015, 0.012, 5, Decimal('6.5'), 0, 0, 1, 0),\n",
       " (51, 0.4, 0.32, 0.095, 0.303, 0.1335, 0.06, 0.1, 7, Decimal('8.5'), 0, 0, 0, 1),\n",
       " (59, 0.505, 0.4, 0.125, 0.583, 0.246, 0.13, 0.175, 7, Decimal('8.5'), 0, 1, 0, 0),\n",
       " (67, 0.595, 0.495, 0.185, 1.285, 0.416, 0.224, 0.485, 13, Decimal('14.5'), 1, 1, 0, 0),\n",
       " (75, 0.6, 0.475, 0.15, 1.0075, 0.4425, 0.221, 0.28, 15, Decimal('16.5'), 1, 1, 0, 0)]"
      ]
     },
     "execution_count": 11,
     "metadata": {},
     "output_type": "execute_result"
    }
   ],
   "source": [
    "%%sql\n",
    "DROP TABLE IF EXISTS abalone_encoded;\n",
    "SELECT\n",
    "madlib.encode_categorical_variables (\n",
    "        'abalone_target',  -- input table\n",
    "        'abalone_encoded',  -- output table\n",
    "        'sex',   -- categorical_cols\n",
    "        NULL,  --categorical_cols_to_exclude    -- Optional\n",
    "        NULL,  --row_id,                         -- Optional\n",
    "        NULL,  --top,                            -- Optional\n",
    "        NULL,  --value_to_drop,                  -- Optional\n",
    "        NULL,  --encode_null,                    -- Optional\n",
    "        NULL,  --output_type,                    -- Optional\n",
    "        NULL,  --output_dictionary,              -- Optional\n",
    "        NULL  --distributed_by                  -- Optional\n",
    "    )\n",
    ";\n",
    "SELECT *\n",
    "FROM abalone_encoded\n",
    "LIMIT 10"
   ]
  },
  {
   "cell_type": "markdown",
   "metadata": {},
   "source": [
    "##  Statistics\n",
    "\n",
    "The next step through the modeling process is to explore our data.  We’ll again use some of MADLib’s built in functionality to generate [descriptive statistics](http://madlib.apache.org/docs/latest/group__grp__summary.html) of our data.  This will generate important information about the data including count, number of missing values, the mean, median, maximum, minimum, interquartile range, mode, and variance.\n",
    "\n",
    "Note that you only want to do this after converting categorical data to numeric data because otherwise the statistics will not be compute correctly."
   ]
  },
  {
   "cell_type": "code",
   "execution_count": 12,
   "metadata": {},
   "outputs": [
    {
     "name": "stdout",
     "output_type": "stream",
     "text": [
      "Done.\n",
      "1 rows affected.\n",
      "14 rows affected.\n"
     ]
    },
    {
     "data": {
      "text/html": [
       "<table>\n",
       "    <tr>\n",
       "        <th>group_by</th>\n",
       "        <th>group_by_value</th>\n",
       "        <th>target_column</th>\n",
       "        <th>column_number</th>\n",
       "        <th>data_type</th>\n",
       "        <th>row_count</th>\n",
       "        <th>distinct_values</th>\n",
       "        <th>missing_values</th>\n",
       "        <th>blank_values</th>\n",
       "        <th>fraction_missing</th>\n",
       "        <th>fraction_blank</th>\n",
       "        <th>positive_values</th>\n",
       "        <th>negative_values</th>\n",
       "        <th>zero_values</th>\n",
       "        <th>mean</th>\n",
       "        <th>variance</th>\n",
       "        <th>confidence_interval</th>\n",
       "        <th>min</th>\n",
       "        <th>max</th>\n",
       "        <th>first_quartile</th>\n",
       "        <th>median</th>\n",
       "        <th>third_quartile</th>\n",
       "        <th>most_frequent_values</th>\n",
       "        <th>mfv_frequencies</th>\n",
       "    </tr>\n",
       "    <tr>\n",
       "        <td>None</td>\n",
       "        <td>None</td>\n",
       "        <td>id</td>\n",
       "        <td>1</td>\n",
       "        <td>int4</td>\n",
       "        <td>4177</td>\n",
       "        <td>4177</td>\n",
       "        <td>0</td>\n",
       "        <td>None</td>\n",
       "        <td>0.0</td>\n",
       "        <td>None</td>\n",
       "        <td>4176</td>\n",
       "        <td>0</td>\n",
       "        <td>1</td>\n",
       "        <td>2088.0</td>\n",
       "        <td>1454292.16667</td>\n",
       "        <td>[2051.42791957426, 2124.57208042574]</td>\n",
       "        <td>0.0</td>\n",
       "        <td>4176.0</td>\n",
       "        <td>1044.0</td>\n",
       "        <td>2088.0</td>\n",
       "        <td>3132.0</td>\n",
       "        <td>[u'4021', u'3921', u'4076', u'4117', u'4114', u'3348', u'3114', u'3453', u'3593', u'3377']</td>\n",
       "        <td>[5L, 5L, 5L, 5L, 5L, 4L, 4L, 4L, 4L, 4L]</td>\n",
       "    </tr>\n",
       "    <tr>\n",
       "        <td>None</td>\n",
       "        <td>None</td>\n",
       "        <td>length</td>\n",
       "        <td>2</td>\n",
       "        <td>float8</td>\n",
       "        <td>4177</td>\n",
       "        <td>134</td>\n",
       "        <td>0</td>\n",
       "        <td>None</td>\n",
       "        <td>0.0</td>\n",
       "        <td>None</td>\n",
       "        <td>4177</td>\n",
       "        <td>0</td>\n",
       "        <td>0</td>\n",
       "        <td>0.523992099593</td>\n",
       "        <td>0.0144223076483</td>\n",
       "        <td>[0.520350088942874, 0.527634110243145]</td>\n",
       "        <td>0.075</td>\n",
       "        <td>0.815</td>\n",
       "        <td>0.45</td>\n",
       "        <td>0.545</td>\n",
       "        <td>0.615</td>\n",
       "        <td>[u'0.625', u'0.55', u'0.575', u'0.58', u'0.6', u'0.62', u'0.5', u'0.57', u'0.63', u'0.61']</td>\n",
       "        <td>[94L, 94L, 93L, 92L, 87L, 87L, 81L, 79L, 78L, 75L]</td>\n",
       "    </tr>\n",
       "    <tr>\n",
       "        <td>None</td>\n",
       "        <td>None</td>\n",
       "        <td>diameter</td>\n",
       "        <td>3</td>\n",
       "        <td>float8</td>\n",
       "        <td>4177</td>\n",
       "        <td>111</td>\n",
       "        <td>0</td>\n",
       "        <td>None</td>\n",
       "        <td>0.0</td>\n",
       "        <td>None</td>\n",
       "        <td>4177</td>\n",
       "        <td>0</td>\n",
       "        <td>0</td>\n",
       "        <td>0.407881254489</td>\n",
       "        <td>0.00984855103022</td>\n",
       "        <td>[0.404871645997762, 0.410890862979976]</td>\n",
       "        <td>0.055</td>\n",
       "        <td>0.65</td>\n",
       "        <td>0.35</td>\n",
       "        <td>0.425</td>\n",
       "        <td>0.48</td>\n",
       "        <td>[u'0.45', u'0.475', u'0.4', u'0.5', u'0.47', u'0.48', u'0.455', u'0.46', u'0.44', u'0.485']</td>\n",
       "        <td>[139L, 120L, 111L, 110L, 100L, 91L, 90L, 89L, 87L, 83L]</td>\n",
       "    </tr>\n",
       "    <tr>\n",
       "        <td>None</td>\n",
       "        <td>None</td>\n",
       "        <td>height</td>\n",
       "        <td>4</td>\n",
       "        <td>float8</td>\n",
       "        <td>4177</td>\n",
       "        <td>51</td>\n",
       "        <td>0</td>\n",
       "        <td>None</td>\n",
       "        <td>0.0</td>\n",
       "        <td>None</td>\n",
       "        <td>4175</td>\n",
       "        <td>0</td>\n",
       "        <td>2</td>\n",
       "        <td>0.13951639933</td>\n",
       "        <td>0.00174950266443</td>\n",
       "        <td>[0.138247926591562, 0.140784872067761]</td>\n",
       "        <td>0.0</td>\n",
       "        <td>1.13</td>\n",
       "        <td>0.115</td>\n",
       "        <td>0.14</td>\n",
       "        <td>0.165</td>\n",
       "        <td>[u'0.15', u'0.14', u'0.155', u'0.175', u'0.16', u'0.125', u'0.165', u'0.135', u'0.145', u'0.12']</td>\n",
       "        <td>[267L, 220L, 217L, 211L, 205L, 202L, 193L, 189L, 182L, 169L]</td>\n",
       "    </tr>\n",
       "    <tr>\n",
       "        <td>None</td>\n",
       "        <td>None</td>\n",
       "        <td>whole_weight</td>\n",
       "        <td>5</td>\n",
       "        <td>float8</td>\n",
       "        <td>4177</td>\n",
       "        <td>2429</td>\n",
       "        <td>0</td>\n",
       "        <td>None</td>\n",
       "        <td>0.0</td>\n",
       "        <td>None</td>\n",
       "        <td>4177</td>\n",
       "        <td>0</td>\n",
       "        <td>0</td>\n",
       "        <td>0.828742159445</td>\n",
       "        <td>0.240481389202</td>\n",
       "        <td>[0.813870324055102, 0.843613994834059]</td>\n",
       "        <td>0.002</td>\n",
       "        <td>2.8255</td>\n",
       "        <td>0.4415</td>\n",
       "        <td>0.7995</td>\n",
       "        <td>1.153</td>\n",
       "        <td>[u'1.1345', u'0.2225', u'0.196', u'0.4775', u'0.494', u'0.872', u'1.1155', u'0.97', u'0.4425', u'1.0835']</td>\n",
       "        <td>[10L, 8L, 8L, 7L, 7L, 7L, 7L, 7L, 7L, 7L]</td>\n",
       "    </tr>\n",
       "    <tr>\n",
       "        <td>None</td>\n",
       "        <td>None</td>\n",
       "        <td>shucked_weight</td>\n",
       "        <td>6</td>\n",
       "        <td>float8</td>\n",
       "        <td>4177</td>\n",
       "        <td>1515</td>\n",
       "        <td>0</td>\n",
       "        <td>None</td>\n",
       "        <td>0.0</td>\n",
       "        <td>None</td>\n",
       "        <td>4177</td>\n",
       "        <td>0</td>\n",
       "        <td>0</td>\n",
       "        <td>0.359367488628</td>\n",
       "        <td>0.0492675507435</td>\n",
       "        <td>[0.352636105342961, 0.36609887191344]</td>\n",
       "        <td>0.001</td>\n",
       "        <td>1.488</td>\n",
       "        <td>0.186</td>\n",
       "        <td>0.336</td>\n",
       "        <td>0.502</td>\n",
       "        <td>[u'0.175', u'0.2505', u'0.419', u'0.096', u'0.097', u'0.0745', u'0.2945', u'0.2025', u'0.21', u'0.2']</td>\n",
       "        <td>[11L, 10L, 9L, 9L, 9L, 9L, 9L, 9L, 9L, 9L]</td>\n",
       "    </tr>\n",
       "    <tr>\n",
       "        <td>None</td>\n",
       "        <td>None</td>\n",
       "        <td>viscera_weight</td>\n",
       "        <td>7</td>\n",
       "        <td>float8</td>\n",
       "        <td>4177</td>\n",
       "        <td>880</td>\n",
       "        <td>0</td>\n",
       "        <td>None</td>\n",
       "        <td>0.0</td>\n",
       "        <td>None</td>\n",
       "        <td>4177</td>\n",
       "        <td>0</td>\n",
       "        <td>0</td>\n",
       "        <td>0.180593607853</td>\n",
       "        <td>0.01201528386</td>\n",
       "        <td>[0.177269379483621, 0.183917836221432]</td>\n",
       "        <td>0.0005</td>\n",
       "        <td>0.76</td>\n",
       "        <td>0.0935</td>\n",
       "        <td>0.171</td>\n",
       "        <td>0.253</td>\n",
       "        <td>[u'0.1715', u'0.196', u'0.061', u'0.0575', u'0.2195', u'0.037', u'0.099', u'0.096', u'0.0265', u'0.1905']</td>\n",
       "        <td>[15L, 14L, 13L, 13L, 13L, 13L, 12L, 12L, 12L, 12L]</td>\n",
       "    </tr>\n",
       "    <tr>\n",
       "        <td>None</td>\n",
       "        <td>None</td>\n",
       "        <td>shell_weight</td>\n",
       "        <td>8</td>\n",
       "        <td>float8</td>\n",
       "        <td>4177</td>\n",
       "        <td>926</td>\n",
       "        <td>0</td>\n",
       "        <td>None</td>\n",
       "        <td>0.0</td>\n",
       "        <td>None</td>\n",
       "        <td>4177</td>\n",
       "        <td>0</td>\n",
       "        <td>0</td>\n",
       "        <td>0.238830859469</td>\n",
       "        <td>0.0193773832022</td>\n",
       "        <td>[0.234609314715373, 0.243052404221663]</td>\n",
       "        <td>0.0015</td>\n",
       "        <td>1.005</td>\n",
       "        <td>0.13</td>\n",
       "        <td>0.234</td>\n",
       "        <td>0.329</td>\n",
       "        <td>[u'0.275', u'0.25', u'0.315', u'0.265', u'0.185', u'0.285', u'0.17', u'0.3', u'0.22', u'0.175']</td>\n",
       "        <td>[43L, 42L, 40L, 40L, 40L, 37L, 37L, 37L, 36L, 36L]</td>\n",
       "    </tr>\n",
       "    <tr>\n",
       "        <td>None</td>\n",
       "        <td>None</td>\n",
       "        <td>rings</td>\n",
       "        <td>9</td>\n",
       "        <td>int4</td>\n",
       "        <td>4177</td>\n",
       "        <td>28</td>\n",
       "        <td>0</td>\n",
       "        <td>None</td>\n",
       "        <td>0.0</td>\n",
       "        <td>None</td>\n",
       "        <td>4177</td>\n",
       "        <td>0</td>\n",
       "        <td>0</td>\n",
       "        <td>9.93368446253</td>\n",
       "        <td>10.3952659473</td>\n",
       "        <td>[9.83590635305212, 10.0314625720137]</td>\n",
       "        <td>1.0</td>\n",
       "        <td>29.0</td>\n",
       "        <td>8.0</td>\n",
       "        <td>9.0</td>\n",
       "        <td>11.0</td>\n",
       "        <td>[u'9', u'10', u'8', u'11', u'7', u'12', u'6', u'13', u'14', u'5']</td>\n",
       "        <td>[689L, 634L, 568L, 487L, 391L, 267L, 259L, 203L, 126L, 115L]</td>\n",
       "    </tr>\n",
       "    <tr>\n",
       "        <td>None</td>\n",
       "        <td>None</td>\n",
       "        <td>age</td>\n",
       "        <td>10</td>\n",
       "        <td>numeric</td>\n",
       "        <td>4177</td>\n",
       "        <td>28</td>\n",
       "        <td>0</td>\n",
       "        <td>None</td>\n",
       "        <td>0.0</td>\n",
       "        <td>None</td>\n",
       "        <td>4177</td>\n",
       "        <td>0</td>\n",
       "        <td>0</td>\n",
       "        <td>11.4336844625</td>\n",
       "        <td>10.3952659473</td>\n",
       "        <td>[11.3359063530521, 11.5314625720137]</td>\n",
       "        <td>2.5</td>\n",
       "        <td>30.5</td>\n",
       "        <td>9.5</td>\n",
       "        <td>10.5</td>\n",
       "        <td>12.5</td>\n",
       "        <td>[u'10.5', u'11.5', u'9.5', u'12.5', u'8.5', u'13.5', u'7.5', u'14.5', u'15.5', u'6.5']</td>\n",
       "        <td>[689L, 634L, 568L, 487L, 391L, 267L, 259L, 203L, 126L, 115L]</td>\n",
       "    </tr>\n",
       "    <tr>\n",
       "        <td>None</td>\n",
       "        <td>None</td>\n",
       "        <td>mature</td>\n",
       "        <td>11</td>\n",
       "        <td>int4</td>\n",
       "        <td>4177</td>\n",
       "        <td>2</td>\n",
       "        <td>0</td>\n",
       "        <td>None</td>\n",
       "        <td>0.0</td>\n",
       "        <td>None</td>\n",
       "        <td>2770</td>\n",
       "        <td>0</td>\n",
       "        <td>1407</td>\n",
       "        <td>0.663155374671</td>\n",
       "        <td>0.223433815173</td>\n",
       "        <td>[0.648820355293342, 0.67749039404829]</td>\n",
       "        <td>0.0</td>\n",
       "        <td>1.0</td>\n",
       "        <td>0.0</td>\n",
       "        <td>1.0</td>\n",
       "        <td>1.0</td>\n",
       "        <td>[u'1', u'0']</td>\n",
       "        <td>[2770L, 1407L]</td>\n",
       "    </tr>\n",
       "    <tr>\n",
       "        <td>None</td>\n",
       "        <td>None</td>\n",
       "        <td>sex_f</td>\n",
       "        <td>12</td>\n",
       "        <td>int4</td>\n",
       "        <td>4177</td>\n",
       "        <td>2</td>\n",
       "        <td>0</td>\n",
       "        <td>None</td>\n",
       "        <td>0.0</td>\n",
       "        <td>None</td>\n",
       "        <td>1307</td>\n",
       "        <td>0</td>\n",
       "        <td>2870</td>\n",
       "        <td>0.312903998085</td>\n",
       "        <td>0.215046569565</td>\n",
       "        <td>[0.298840605732167, 0.326967390437333]</td>\n",
       "        <td>0.0</td>\n",
       "        <td>1.0</td>\n",
       "        <td>0.0</td>\n",
       "        <td>0.0</td>\n",
       "        <td>1.0</td>\n",
       "        <td>[u'0', u'1']</td>\n",
       "        <td>[2870L, 1307L]</td>\n",
       "    </tr>\n",
       "    <tr>\n",
       "        <td>None</td>\n",
       "        <td>None</td>\n",
       "        <td>sex_i</td>\n",
       "        <td>13</td>\n",
       "        <td>int4</td>\n",
       "        <td>4177</td>\n",
       "        <td>2</td>\n",
       "        <td>0</td>\n",
       "        <td>None</td>\n",
       "        <td>0.0</td>\n",
       "        <td>None</td>\n",
       "        <td>1342</td>\n",
       "        <td>0</td>\n",
       "        <td>2835</td>\n",
       "        <td>0.32128321762</td>\n",
       "        <td>0.218112529203</td>\n",
       "        <td>[0.30711992784858, 0.335446507392023]</td>\n",
       "        <td>0.0</td>\n",
       "        <td>1.0</td>\n",
       "        <td>0.0</td>\n",
       "        <td>0.0</td>\n",
       "        <td>1.0</td>\n",
       "        <td>[u'0', u'1']</td>\n",
       "        <td>[2835L, 1342L]</td>\n",
       "    </tr>\n",
       "    <tr>\n",
       "        <td>None</td>\n",
       "        <td>None</td>\n",
       "        <td>sex_m</td>\n",
       "        <td>14</td>\n",
       "        <td>int4</td>\n",
       "        <td>4177</td>\n",
       "        <td>2</td>\n",
       "        <td>0</td>\n",
       "        <td>None</td>\n",
       "        <td>0.0</td>\n",
       "        <td>None</td>\n",
       "        <td>1528</td>\n",
       "        <td>0</td>\n",
       "        <td>2649</td>\n",
       "        <td>0.365812784295</td>\n",
       "        <td>0.23204934521</td>\n",
       "        <td>[0.351204002328337, 0.380421566261561]</td>\n",
       "        <td>0.0</td>\n",
       "        <td>1.0</td>\n",
       "        <td>0.0</td>\n",
       "        <td>0.0</td>\n",
       "        <td>1.0</td>\n",
       "        <td>[u'0', u'1']</td>\n",
       "        <td>[2649L, 1528L]</td>\n",
       "    </tr>\n",
       "</table>"
      ],
      "text/plain": [
       "[(None, None, u'id', 1, u'int4', 4177L, 4177L, 0L, None, 0.0, None, 4176L, 0L, 1L, 2088.0, 1454292.16666667, [2051.42791957426, 2124.57208042574], 0.0, 4176.0, 1044.0, 2088.0, 3132.0, [u'4021', u'3921', u'4076', u'4117', u'4114', u'3348', u'3114', u'3453', u'3593', u'3377'], [5L, 5L, 5L, 5L, 5L, 4L, 4L, 4L, 4L, 4L]),\n",
       " (None, None, u'length', 2, u'float8', 4177L, 134L, 0L, None, 0.0, None, 4177L, 0L, 0L, 0.52399209959301, 0.0144223076482973, [0.520350088942874, 0.527634110243145], 0.075, 0.815, 0.45, 0.545, 0.615, [u'0.625', u'0.55', u'0.575', u'0.58', u'0.6', u'0.62', u'0.5', u'0.57', u'0.63', u'0.61'], [94L, 94L, 93L, 92L, 87L, 87L, 81L, 79L, 78L, 75L]),\n",
       " (None, None, u'diameter', 3, u'float8', 4177L, 111L, 0L, None, 0.0, None, 4177L, 0L, 0L, 0.407881254488869, 0.00984855103022463, [0.404871645997762, 0.410890862979976], 0.055, 0.65, 0.35, 0.425, 0.48, [u'0.45', u'0.475', u'0.4', u'0.5', u'0.47', u'0.48', u'0.455', u'0.46', u'0.44', u'0.485'], [139L, 120L, 111L, 110L, 100L, 91L, 90L, 89L, 87L, 83L]),\n",
       " (None, None, u'height', 4, u'float8', 4177L, 51L, 0L, None, 0.0, None, 4175L, 0L, 2L, 0.139516399329661, 0.00174950266442683, [0.138247926591562, 0.140784872067761], 0.0, 1.13, 0.115, 0.14, 0.165, [u'0.15', u'0.14', u'0.155', u'0.175', u'0.16', u'0.125', u'0.165', u'0.135', u'0.145', u'0.12'], [267L, 220L, 217L, 211L, 205L, 202L, 193L, 189L, 182L, 169L]),\n",
       " (None, None, u'whole_weight', 5, u'float8', 4177L, 2429L, 0L, None, 0.0, None, 4177L, 0L, 0L, 0.82874215944458, 0.240481389201556, [0.813870324055102, 0.843613994834059], 0.002, 2.8255, 0.4415, 0.7995, 1.153, [u'1.1345', u'0.2225', u'0.196', u'0.4775', u'0.494', u'0.872', u'1.1155', u'0.97', u'0.4425', u'1.0835'], [10L, 8L, 8L, 7L, 7L, 7L, 7L, 7L, 7L, 7L]),\n",
       " (None, None, u'shucked_weight', 6, u'float8', 4177L, 1515L, 0L, None, 0.0, None, 4177L, 0L, 0L, 0.359367488628201, 0.0492675507435245, [0.352636105342961, 0.36609887191344], 0.001, 1.488, 0.186, 0.336, 0.502, [u'0.175', u'0.2505', u'0.419', u'0.096', u'0.097', u'0.0745', u'0.2945', u'0.2025', u'0.21', u'0.2'], [11L, 10L, 9L, 9L, 9L, 9L, 9L, 9L, 9L, 9L]),\n",
       " (None, None, u'viscera_weight', 7, u'float8', 4177L, 880L, 0L, None, 0.0, None, 4177L, 0L, 0L, 0.180593607852526, 0.0120152838599928, [0.177269379483621, 0.183917836221432], 0.0005, 0.76, 0.0935, 0.171, 0.253, [u'0.1715', u'0.196', u'0.061', u'0.0575', u'0.2195', u'0.037', u'0.099', u'0.096', u'0.0265', u'0.1905'], [15L, 14L, 13L, 13L, 13L, 13L, 12L, 12L, 12L, 12L]),\n",
       " (None, None, u'shell_weight', 8, u'float8', 4177L, 926L, 0L, None, 0.0, None, 4177L, 0L, 0L, 0.238830859468518, 0.0193773832021587, [0.234609314715373, 0.243052404221663], 0.0015, 1.005, 0.13, 0.234, 0.329, [u'0.275', u'0.25', u'0.315', u'0.265', u'0.185', u'0.285', u'0.17', u'0.3', u'0.22', u'0.175'], [43L, 42L, 40L, 40L, 40L, 37L, 37L, 37L, 36L, 36L]),\n",
       " (None, None, u'rings', 9, u'int4', 4177L, 28L, 0L, None, 0.0, None, 4177L, 0L, 0L, 9.93368446253292, 10.3952659473471, [9.83590635305212, 10.0314625720137], 1.0, 29.0, 8.0, 9.0, 11.0, [u'9', u'10', u'8', u'11', u'7', u'12', u'6', u'13', u'14', u'5'], [689L, 634L, 568L, 487L, 391L, 267L, 259L, 203L, 126L, 115L]),\n",
       " (None, None, u'age', 10, u'numeric', 4177L, 28L, 0L, None, 0.0, None, 4177L, 0L, 0L, 11.4336844625329, 10.3952659473471, [11.3359063530521, 11.5314625720137], 2.5, 30.5, 9.5, 10.5, 12.5, [u'10.5', u'11.5', u'9.5', u'12.5', u'8.5', u'13.5', u'7.5', u'14.5', u'15.5', u'6.5'], [689L, 634L, 568L, 487L, 391L, 267L, 259L, 203L, 126L, 115L]),\n",
       " (None, None, u'mature', 11, u'int4', 4177L, 2L, 0L, None, 0.0, None, 2770L, 0L, 1407L, 0.663155374670816, 0.223433815172854, [0.648820355293342, 0.67749039404829], 0.0, 1.0, 0.0, 1.0, 1.0, [u'1', u'0'], [2770L, 1407L]),\n",
       " (None, None, u'sex_f', 12, u'int4', 4177L, 2L, 0L, None, 0.0, None, 1307L, 0L, 2870L, 0.31290399808475, 0.21504656956495, [0.298840605732167, 0.326967390437333], 0.0, 1.0, 0.0, 0.0, 1.0, [u'0', u'1'], [2870L, 1307L]),\n",
       " (None, None, u'sex_i', 13, u'int4', 4177L, 2L, 0L, None, 0.0, None, 1342L, 0L, 2835L, 0.321283217620302, 0.218112529203438, [0.30711992784858, 0.335446507392023], 0.0, 1.0, 0.0, 0.0, 1.0, [u'0', u'1'], [2835L, 1342L]),\n",
       " (None, None, u'sex_m', 14, u'int4', 4177L, 2L, 0L, None, 0.0, None, 1528L, 0L, 2649L, 0.365812784294949, 0.232049345210086, [0.351204002328337, 0.380421566261561], 0.0, 1.0, 0.0, 0.0, 1.0, [u'0', u'1'], [2649L, 1528L])]"
      ]
     },
     "execution_count": 12,
     "metadata": {},
     "output_type": "execute_result"
    }
   ],
   "source": [
    "%%sql\n",
    "DROP TABLE IF EXISTS abalone_summary ;\n",
    "SELECT madlib.summary (\n",
    "    'abalone_encoded',  -- source_table\n",
    "    'abalone_summary',  -- output_table\n",
    "    NULL,  -- target_cols\n",
    "    NULL,  -- grouping_cols\n",
    "    TRUE,  -- get_distinct\n",
    "    TRUE,  -- get_quartiles\n",
    "    NULL,  -- quantile_array\n",
    "    10,    -- how_many_mfv\n",
    "    FALSE  -- get_estimate\n",
    ")\n",
    ";\n",
    "\n",
    "SELECT * FROM abalone_summary LIMIT 15\n",
    ";"
   ]
  },
  {
   "cell_type": "markdown",
   "metadata": {},
   "source": [
    "## Correlation\n",
    "Another aspect of the data that we might want to know about is the correlation between different columns.  We turn again to MADlib to provide a ready made function: [correlation()](http://madlib.apache.org/docs/latest/group__grp__correlation.html)."
   ]
  },
  {
   "cell_type": "code",
   "execution_count": 13,
   "metadata": {},
   "outputs": [
    {
     "name": "stdout",
     "output_type": "stream",
     "text": [
      "Done.\n",
      "Done.\n",
      "1 rows affected.\n"
     ]
    },
    {
     "data": {
      "text/html": [
       "<table>\n",
       "    <tr>\n",
       "        <th>correlation</th>\n",
       "    </tr>\n",
       "    <tr>\n",
       "        <td>Summary for 'Correlation' function<br>Output table = abalone_correlations<br>Grouping columns: sex_f,sex_i,sex_m<br>Producing correlation for columns: length,diameter,height,whole_weight,shucked_weight,viscera_weight,shell_weight,rings<br>Total run time = ('abalone_correlations', 8, 0.2049999237060547)</td>\n",
       "    </tr>\n",
       "</table>"
      ],
      "text/plain": [
       "[(u\"Summary for 'Correlation' function\\nOutput table = abalone_correlations\\nGrouping columns: sex_f,sex_i,sex_m\\nProducing correlation for columns: length,diameter,height,whole_weight,shucked_weight,viscera_weight,shell_weight,rings\\nTotal run time = ('abalone_correlations', 8, 0.2049999237060547)\",)]"
      ]
     },
     "execution_count": 13,
     "metadata": {},
     "output_type": "execute_result"
    }
   ],
   "source": [
    "%%sql\n",
    "DROP TABLE IF EXISTS abalone_correlations;\n",
    "DROP TABLE IF EXISTS abalone_correlations_summary;\n",
    "\n",
    "SELECT\n",
    "madlib.correlation(\n",
    "    'abalone_encoded', -- source_table,\n",
    "    'abalone_correlations', -- output_table,\n",
    "    'length,diameter,height,whole_weight,shucked_weight,viscera_weight,shell_weight,rings', -- target_cols,\n",
    "    TRUE, -- verbose,\n",
    "    'sex_f,sex_i,sex_m'  -- grouping_columns\n",
    ");"
   ]
  },
  {
   "cell_type": "code",
   "execution_count": 14,
   "metadata": {},
   "outputs": [
    {
     "name": "stdout",
     "output_type": "stream",
     "text": [
      "8 rows affected.\n"
     ]
    }
   ],
   "source": [
    "Index = %sql SELECT variable FROM abalone_correlations WHERE sex_m = '1' ORDER BY column_position;\n",
    "Index = Index.DataFrame();"
   ]
  },
  {
   "cell_type": "code",
   "execution_count": 15,
   "metadata": {},
   "outputs": [
    {
     "name": "stdout",
     "output_type": "stream",
     "text": [
      "length,diameter,height,whole_weight,shucked_weight,viscera_weight,shell_weight,rings\n"
     ]
    }
   ],
   "source": [
    "columns =  ','.join(','.join('%s' %x for x in y) for y in Index.values)\n",
    "print(columns)"
   ]
  },
  {
   "cell_type": "code",
   "execution_count": 16,
   "metadata": {},
   "outputs": [
    {
     "name": "stdout",
     "output_type": "stream",
     "text": [
      "8 rows affected.\n"
     ]
    }
   ],
   "source": [
    "correlations_male = %sql select variable,{columns} from abalone_correlations where sex_m = '1' ORDER BY column_position;\n",
    "correlations_male = correlations_male.DataFrame()"
   ]
  },
  {
   "cell_type": "code",
   "execution_count": 17,
   "metadata": {},
   "outputs": [
    {
     "data": {
      "image/png": "[encoded data removed]",
      "text/plain": [
       "<Figure size 432x288 with 2 Axes>"
      ]
     },
     "metadata": {
      "needs_background": "light"
     },
     "output_type": "display_data"
    }
   ],
   "source": [
    "corm = correlations_male.set_index('variable')\n",
    "ax = sns.heatmap(corm)\n",
    "ax.set_title('Correlations for Male Abalone')\n",
    "plt.show();"
   ]
  },
  {
   "cell_type": "markdown",
   "metadata": {},
   "source": [
    "## Sampling for Training and Testing\n",
    "Ensuring predictive power in large part is the result of creating a hold-out data set that we don’t train our model with.  By creating this subset of the data, we can test any model we develop against “unseen” data to prevent overfitting by our model.  This has the benefit of generating a predictive model that will generalize better.\n",
    "\n",
    "There’s no right answer as to how much data to set aside in the test table; a 70&-30% split, weighted towards the training data, is a good rule of thumb.  This process is referred to as the [train-test split](http://madlib.apache.org/docs/latest/group__grp__train__test__split.html).\n"
   ]
  },
  {
   "cell_type": "code",
   "execution_count": 18,
   "metadata": {},
   "outputs": [
    {
     "name": "stdout",
     "output_type": "stream",
     "text": [
      "Done.\n",
      "Done.\n",
      "Done.\n",
      "1 rows affected.\n",
      "1 rows affected.\n"
     ]
    },
    {
     "data": {
      "text/html": [
       "<table>\n",
       "    <tr>\n",
       "        <th>Number of abalone in the Training Set</th>\n",
       "    </tr>\n",
       "    <tr>\n",
       "        <td>2924</td>\n",
       "    </tr>\n",
       "</table>"
      ],
      "text/plain": [
       "[(2924L,)]"
      ]
     },
     "execution_count": 18,
     "metadata": {},
     "output_type": "execute_result"
    }
   ],
   "source": [
    "%%sql\n",
    "DROP TABLE IF EXISTS abalone_classif CASCADE;\n",
    "DROP TABLE IF EXISTS abalone_classif_train CASCADE;\n",
    "DROP TABLE IF EXISTS abalone_classif_test CASCADE;\n",
    "SELECT madlib.train_test_split(\n",
    "    'abalone_encoded', -- source_table,\n",
    "    'abalone_classif', -- output_table,\n",
    "    0.7, -- train_proportion,\n",
    "    NULL, -- test_proportion,\n",
    "    NULL, -- grouping_cols,\n",
    "    'id,length,diameter,height,whole_weight,shucked_weight,viscera_weight,shell_weight,sex_f,sex_i,sex_m,rings,age,mature', -- target_cols,\n",
    "    FALSE, -- with_replacement,\n",
    "    TRUE -- separate_output_tables\n",
    ")\n",
    ";\n",
    "SELECT count(*) as \"Number of abalone in the Training Set\" FROM abalone_classif_train\n",
    ";"
   ]
  },
  {
   "cell_type": "markdown",
   "metadata": {},
   "source": [
    "<a id=\"classification\"></a>\n",
    "# 5. Classification models\n",
    "\n",
    "<a id=\"logistic\"></a>\n",
    "## 5a. Logistic Regression\n",
    "\n",
    "We’re now ready to create our first predictive model.  We’ll start with a classic [logistic regression](http://madlib.apache.org/docs/latest/group__grp__logreg.html).\n",
    "\n",
    "Note: we drop one of the 1-hot-encoded variables to remove perfect colinearity"
   ]
  },
  {
   "cell_type": "code",
   "execution_count": 19,
   "metadata": {},
   "outputs": [
    {
     "name": "stdout",
     "output_type": "stream",
     "text": [
      "Done.\n",
      "Done.\n",
      "1 rows affected.\n",
      "1 rows affected.\n"
     ]
    },
    {
     "data": {
      "text/html": [
       "<table>\n",
       "    <tr>\n",
       "        <th>method</th>\n",
       "        <th>source_table</th>\n",
       "        <th>out_table</th>\n",
       "        <th>dependent_varname</th>\n",
       "        <th>independent_varname</th>\n",
       "        <th>optimizer_params</th>\n",
       "        <th>num_all_groups</th>\n",
       "        <th>num_failed_groups</th>\n",
       "        <th>num_rows_processed</th>\n",
       "        <th>num_missing_rows_skipped</th>\n",
       "        <th>grouping_col</th>\n",
       "    </tr>\n",
       "    <tr>\n",
       "        <td>logregr</td>\n",
       "        <td>abalone_classif_train</td>\n",
       "        <td>abalone_logreg_model</td>\n",
       "        <td>mature</td>\n",
       "        <td>ARRAY[<br>            1,<br>            length,<br>            diameter,<br>            height,<br>            whole_weight,<br>            shucked_weight,<br>            viscera_weight,<br>            shell_weight,<br>            sex_f,<br>            sex_m<br>        ]</td>\n",
       "        <td>optimizer=irls, max_iter=20, tolerance=0.0001</td>\n",
       "        <td>1</td>\n",
       "        <td>0</td>\n",
       "        <td>2924</td>\n",
       "        <td>0</td>\n",
       "        <td>None</td>\n",
       "    </tr>\n",
       "</table>"
      ],
      "text/plain": [
       "[(u'logregr', u'abalone_classif_train', u'abalone_logreg_model', u'mature', u'ARRAY[\\n            1,\\n            length,\\n            diameter,\\n            height,\\n            whole_weight,\\n            shucked_weight,\\n            viscera_weight,\\n            shell_weight,\\n            sex_f,\\n            sex_m\\n        ]', u'optimizer=irls, max_iter=20, tolerance=0.0001', 1, 0, 2924, 0, None)]"
      ]
     },
     "execution_count": 19,
     "metadata": {},
     "output_type": "execute_result"
    }
   ],
   "source": [
    "%%sql\n",
    "DROP TABLE IF EXISTS abalone_logreg_model;\n",
    "DROP TABLE IF EXISTS abalone_logreg_model_summary;\n",
    "\n",
    "SELECT\n",
    "    madlib.logregr_train(                 --- Train the Logistic Regression Model\n",
    "        'abalone_classif_train', -- source_table,\n",
    "        'abalone_logreg_model',  -- out_table,\n",
    "        'mature',                         -- dependent_varname,\n",
    "        'ARRAY[\n",
    "            1,\n",
    "            length,\n",
    "            diameter,\n",
    "            height,\n",
    "            whole_weight,\n",
    "            shucked_weight,\n",
    "            viscera_weight,\n",
    "            shell_weight,\n",
    "            sex_f,\n",
    "            sex_m\n",
    "        ]'                               -- independent_varname,\n",
    "        --, -- grouping_cols,\n",
    "        --, -- max_iter,\n",
    "        --, -- optimizer,\n",
    "        --, -- tolerance,\n",
    "        -- verbose\n",
    "    )\n",
    ";\n",
    "SELECT * FROM abalone_logreg_model_summary ;           --- Get the summary table"
   ]
  },
  {
   "cell_type": "markdown",
   "metadata": {},
   "source": [
    "### Review model weights"
   ]
  },
  {
   "cell_type": "code",
   "execution_count": 20,
   "metadata": {
    "scrolled": true
   },
   "outputs": [
    {
     "name": "stdout",
     "output_type": "stream",
     "text": [
      "1 rows affected.\n"
     ]
    },
    {
     "data": {
      "text/html": [
       "<table>\n",
       "    <tr>\n",
       "        <th>coef</th>\n",
       "        <th>log_likelihood</th>\n",
       "        <th>std_err</th>\n",
       "        <th>z_stats</th>\n",
       "        <th>p_values</th>\n",
       "        <th>odds_ratios</th>\n",
       "        <th>condition_no</th>\n",
       "        <th>num_rows_processed</th>\n",
       "        <th>num_missing_rows_skipped</th>\n",
       "        <th>num_iterations</th>\n",
       "        <th>variance_covariance</th>\n",
       "    </tr>\n",
       "    <tr>\n",
       "        <td>[-4.04505269771369, -0.93301504036607, 5.00251129121366, 1.19180693972641, 5.75504372424075, -14.5300619747124, -2.61116421067156, 17.1305967152886, 0.978183314470999, 0.909416906435011]</td>\n",
       "        <td>-1049.90387006</td>\n",
       "        <td>[0.552100368863192, 2.83843999633685, 3.55584913643184, 1.78805895696604, 1.75162981107839, 1.96111012383532, 2.92049614584736, 2.63455814511125, 0.148723884821104, 0.136234173628881]</td>\n",
       "        <td>[-7.32666182788955, -0.328706980443544, 1.40684013839617, 0.666536712944106, 3.28553652594989, -7.40910048758312, -0.894082402534364, 6.50226556854571, 6.57717699915942, 6.67539488962864]</td>\n",
       "        <td>[2.35956228652833e-13, 0.742377177645187, 0.159474797442884, 0.505068105605233, 0.00101788344116673, 1.27158930714484e-13, 0.371277803934971, 7.91192629385751e-11, 4.7946390791206e-11, 2.46567332366593e-11]</td>\n",
       "        <td>[0.0175087819587038, 0.393365906546296, 148.786336147016, 3.29302613444559, 315.779354434872, 4.89411604411293e-07, 0.07344898387701, 27524765.3425458, 2.65962015698488, 2.48287436315265]</td>\n",
       "        <td>119.71415666</td>\n",
       "        <td>2924</td>\n",
       "        <td>0</td>\n",
       "        <td>7</td>\n",
       "        <td>[[0.304814817298873, -0.612756211579355, -0.322899467612372, -0.147591238471627, 0.125663887346171, -0.0048479179589035, 0.0776627080553855, 0.322603415487592, -0.0077292583552645, -0.0123480576513426], [-0.612756211579355, 8.05674161280473, -8.28234305040855, -0.0263654913913357, -0.273690396397007, 0.0317512305815633, -0.511536037818079, 0.069680434604085, 0.0378379558011754, 0.046090552123875], [-0.322899467612372, -8.28234305040855, 12.644063081063, -0.395264444293078, -0.202594930764249, 0.14282448232236, 0.483292272230091, -1.79482996620079, -0.0272096256822571, -0.0259215063160627], [-0.147591238471627, -0.0263654913913356, -0.395264444293078, 3.19715483358649, -0.0260478873940989, 0.00958388992700552, -0.143922153180243, -0.332250359243633, -0.0162211670317678, -0.00382514883970915], [0.125663887346171, -0.273690396397007, -0.202594930764248, -0.0260478873940989, 3.06820699505852, -3.04374811256467, -3.34010995221226, -2.88810187496703, -0.0219334766588017, -0.0120527398255886], [-0.00484791795890383, 0.0317512305815633, 0.14282448232236, 0.00958388992700551, -3.04374811256467, 3.84595291780937, 2.25515094407908, 2.47775925364025, 0.0255621487400615, 0.00556887173171279], [0.0776627080553855, -0.511536037818079, 0.483292272230091, -0.143922153180243, -3.34010995221226, 2.25515094407908, 8.5292977379093, 1.78838005097625, -0.0254304668997095, -0.0298043740284142], [0.322603415487592, 0.0696804346040849, -1.79482996620079, -0.332250359243633, -2.88810187496703, 2.47775925364025, 1.78838005097625, 6.94089661997205, 0.0168449791501823, 0.00911053037878481], [-0.00772925835526449, 0.0378379558011754, -0.0272096256822571, -0.0162211670317678, -0.0219334766588017, 0.0255621487400615, -0.0254304668997095, 0.0168449791501823, 0.022118793916281, 0.00971448120673761], [-0.0123480576513426, 0.046090552123875, -0.0259215063160627, -0.00382514883970915, -0.0120527398255886, 0.0055688717317128, -0.0298043740284142, 0.00911053037878481, 0.00971448120673761, 0.018559750064344]]</td>\n",
       "    </tr>\n",
       "</table>"
      ],
      "text/plain": [
       "[([-4.04505269771369, -0.93301504036607, 5.00251129121366, 1.19180693972641, 5.75504372424075, -14.5300619747124, -2.61116421067156, 17.1305967152886, 0.978183314470999, 0.909416906435011], -1049.90387005837, [0.552100368863192, 2.83843999633685, 3.55584913643184, 1.78805895696604, 1.75162981107839, 1.96111012383532, 2.92049614584736, 2.63455814511125, 0.148723884821104, 0.136234173628881], [-7.32666182788955, -0.328706980443544, 1.40684013839617, 0.666536712944106, 3.28553652594989, -7.40910048758312, -0.894082402534364, 6.50226556854571, 6.57717699915942, 6.67539488962864], [2.35956228652833e-13, 0.742377177645187, 0.159474797442884, 0.505068105605233, 0.00101788344116673, 1.27158930714484e-13, 0.371277803934971, 7.91192629385751e-11, 4.7946390791206e-11, 2.46567332366593e-11], [0.0175087819587038, 0.393365906546296, 148.786336147016, 3.29302613444559, 315.779354434872, 4.89411604411293e-07, 0.07344898387701, 27524765.3425458, 2.65962015698488, 2.48287436315265], 119.71415666016, 2924L, 0L, 7, [[0.304814817298873, -0.612756211579355, -0.322899467612372, -0.147591238471627, 0.125663887346171, -0.0048479179589035, 0.0776627080553855, 0.3226034 ... (1703 characters truncated) ... 627, -0.00382514883970915, -0.0120527398255886, 0.0055688717317128, -0.0298043740284142, 0.00911053037878481, 0.00971448120673761, 0.018559750064344]])]"
      ]
     },
     "execution_count": 20,
     "metadata": {},
     "output_type": "execute_result"
    }
   ],
   "source": [
    "%%sql\n",
    "SELECT * FROM abalone_logreg_model ;"
   ]
  },
  {
   "cell_type": "markdown",
   "metadata": {},
   "source": [
    "### Show coefficients from model"
   ]
  },
  {
   "cell_type": "code",
   "execution_count": 21,
   "metadata": {},
   "outputs": [
    {
     "name": "stdout",
     "output_type": "stream",
     "text": [
      "1 rows affected.\n"
     ]
    }
   ],
   "source": [
    "logreg_coefs = %sql SELECT coef FROM abalone_logreg_model ;\n",
    "logreg_coefs = logreg_coefs.DataFrame();"
   ]
  },
  {
   "cell_type": "code",
   "execution_count": 22,
   "metadata": {},
   "outputs": [
    {
     "data": {
      "text/plain": [
       "(('intercept', -4.04505269771369),\n",
       " ('length', -0.93301504036607),\n",
       " ('diameter', 5.00251129121366),\n",
       " ('height', 1.19180693972641),\n",
       " ('whole_weight', 5.75504372424075),\n",
       " ('shucked_weight', -14.5300619747124),\n",
       " ('viscera_weight', -2.61116421067156),\n",
       " ('shell_weight', 17.1305967152886),\n",
       " ('sex_f', 0.978183314470999),\n",
       " ('sex_m', 0.909416906435011))"
      ]
     },
     "execution_count": 22,
     "metadata": {},
     "output_type": "execute_result"
    }
   ],
   "source": [
    "logreg_coef_names = (\n",
    "    'intercept',\n",
    "    'length',\n",
    "    'diameter',\n",
    "    'height',\n",
    "    'whole_weight',\n",
    "    'shucked_weight',\n",
    "    'viscera_weight',\n",
    "    'shell_weight',\n",
    "    'sex_f',\n",
    "    'sex_m'\n",
    ")\n",
    "tuple(zip(logreg_coef_names, logreg_coefs.iloc[0, 0]))"
   ]
  },
  {
   "cell_type": "markdown",
   "metadata": {},
   "source": [
    "### Score the model against test data and join with the test data\n",
    "\n",
    "Now that we have a model with coefficients, we can make predictions on records previously unseen by the model. In the current version of MADlib (1.16), the way to predict probability using a logistic regression model is to `CROSS JOIN` the test set records with the single-row model table. A `CROSS JOIN` produces the cartesian product between all records in both tables, meaning it pairs every record from one table with every record in the other table. In Postgres/Greenplum this can be done be explicitly using the `CROSS JOIN` statement, or you can simply list the two tables in the `FROM` clause separated by a comma. "
   ]
  },
  {
   "cell_type": "code",
   "execution_count": 23,
   "metadata": {},
   "outputs": [
    {
     "name": "stdout",
     "output_type": "stream",
     "text": [
      "Done.\n",
      "1253 rows affected.\n",
      "10 rows affected.\n"
     ]
    },
    {
     "data": {
      "text/html": [
       "<table>\n",
       "    <tr>\n",
       "        <th>proba</th>\n",
       "        <th>mature</th>\n",
       "    </tr>\n",
       "    <tr>\n",
       "        <td>0.284078602587</td>\n",
       "        <td>0</td>\n",
       "    </tr>\n",
       "    <tr>\n",
       "        <td>0.44095785318</td>\n",
       "        <td>0</td>\n",
       "    </tr>\n",
       "    <tr>\n",
       "        <td>0.0934114377882</td>\n",
       "        <td>0</td>\n",
       "    </tr>\n",
       "    <tr>\n",
       "        <td>0.978536300931</td>\n",
       "        <td>1</td>\n",
       "    </tr>\n",
       "    <tr>\n",
       "        <td>0.0539202921607</td>\n",
       "        <td>0</td>\n",
       "    </tr>\n",
       "    <tr>\n",
       "        <td>0.0812143237698</td>\n",
       "        <td>0</td>\n",
       "    </tr>\n",
       "    <tr>\n",
       "        <td>0.859117921785</td>\n",
       "        <td>1</td>\n",
       "    </tr>\n",
       "    <tr>\n",
       "        <td>0.648252874218</td>\n",
       "        <td>0</td>\n",
       "    </tr>\n",
       "    <tr>\n",
       "        <td>0.195039357479</td>\n",
       "        <td>1</td>\n",
       "    </tr>\n",
       "    <tr>\n",
       "        <td>0.0503872504207</td>\n",
       "        <td>0</td>\n",
       "    </tr>\n",
       "</table>"
      ],
      "text/plain": [
       "[(0.284078602587383, 0),\n",
       " (0.440957853179563, 0),\n",
       " (0.0934114377882211, 0),\n",
       " (0.978536300931053, 1),\n",
       " (0.0539202921607297, 0),\n",
       " (0.0812143237697867, 0),\n",
       " (0.859117921784581, 1),\n",
       " (0.64825287421822, 0),\n",
       " (0.195039357478718, 1),\n",
       " (0.0503872504206839, 0)]"
      ]
     },
     "execution_count": 23,
     "metadata": {},
     "output_type": "execute_result"
    }
   ],
   "source": [
    "%%sql\n",
    "DROP TABLE IF EXISTS abalone_logreg_test_proba;\n",
    "CREATE TABLE abalone_logreg_test_proba\n",
    "AS\n",
    "SELECT madlib.logregr_predict_prob(   --- Use the logistic regression model to estimate probability of mature\n",
    "        coef, \n",
    "        ARRAY[\n",
    "            1,\n",
    "            length,\n",
    "            diameter,\n",
    "            height,\n",
    "            whole_weight,\n",
    "            shucked_weight,\n",
    "            viscera_weight,\n",
    "            shell_weight,\n",
    "            sex_f,\n",
    "            sex_m\n",
    "        ] \n",
    "    ) as proba,\n",
    "    test.mature\n",
    "FROM abalone_classif_test test, abalone_logreg_model model\n",
    ";\n",
    "\n",
    "SELECT *                                   --- take a look at a few of the values\n",
    "FROM abalone_logreg_test_proba\n",
    "LIMIT 10\n",
    ";"
   ]
  },
  {
   "cell_type": "markdown",
   "metadata": {},
   "source": [
    "### Look at the top model calculated probability vs the actual maturity"
   ]
  },
  {
   "cell_type": "code",
   "execution_count": 24,
   "metadata": {},
   "outputs": [
    {
     "name": "stdout",
     "output_type": "stream",
     "text": [
      "10 rows affected.\n"
     ]
    },
    {
     "data": {
      "text/html": [
       "<table>\n",
       "    <tr>\n",
       "        <th>probability</th>\n",
       "        <th>mature</th>\n",
       "    </tr>\n",
       "    <tr>\n",
       "        <td>0.9999999894</td>\n",
       "        <td>1</td>\n",
       "    </tr>\n",
       "    <tr>\n",
       "        <td>0.999999806125</td>\n",
       "        <td>1</td>\n",
       "    </tr>\n",
       "    <tr>\n",
       "        <td>0.999999481018</td>\n",
       "        <td>1</td>\n",
       "    </tr>\n",
       "    <tr>\n",
       "        <td>0.999995305009</td>\n",
       "        <td>1</td>\n",
       "    </tr>\n",
       "    <tr>\n",
       "        <td>0.999993758914</td>\n",
       "        <td>1</td>\n",
       "    </tr>\n",
       "    <tr>\n",
       "        <td>0.999993324885</td>\n",
       "        <td>1</td>\n",
       "    </tr>\n",
       "    <tr>\n",
       "        <td>0.999990680558</td>\n",
       "        <td>1</td>\n",
       "    </tr>\n",
       "    <tr>\n",
       "        <td>0.999990303525</td>\n",
       "        <td>1</td>\n",
       "    </tr>\n",
       "    <tr>\n",
       "        <td>0.999983333209</td>\n",
       "        <td>1</td>\n",
       "    </tr>\n",
       "    <tr>\n",
       "        <td>0.999977836626</td>\n",
       "        <td>1</td>\n",
       "    </tr>\n",
       "</table>"
      ],
      "text/plain": [
       "[(0.999999989399823, 1),\n",
       " (0.999999806125173, 1),\n",
       " (0.999999481018065, 1),\n",
       " (0.999995305008911, 1),\n",
       " (0.999993758913853, 1),\n",
       " (0.999993324885356, 1),\n",
       " (0.999990680557964, 1),\n",
       " (0.999990303524592, 1),\n",
       " (0.99998333320942, 1),\n",
       " (0.999977836626412, 1)]"
      ]
     },
     "execution_count": 24,
     "metadata": {},
     "output_type": "execute_result"
    }
   ],
   "source": [
    "%%sql\n",
    "SELECT proba as probability, mature\n",
    "    FROM abalone_logreg_test_proba\n",
    "    ORDER BY probability DESC\n",
    "    LIMIT 10;"
   ]
  },
  {
   "cell_type": "markdown",
   "metadata": {},
   "source": [
    "### Calculate the area under the ROC"
   ]
  },
  {
   "cell_type": "code",
   "execution_count": 25,
   "metadata": {},
   "outputs": [
    {
     "name": "stdout",
     "output_type": "stream",
     "text": [
      "Done.\n",
      "1 rows affected.\n",
      "1 rows affected.\n"
     ]
    },
    {
     "data": {
      "text/html": [
       "<table>\n",
       "    <tr>\n",
       "        <th>area_under_roc</th>\n",
       "    </tr>\n",
       "    <tr>\n",
       "        <td>0.91407991768135825758963716915337563596850</td>\n",
       "    </tr>\n",
       "</table>"
      ],
      "text/plain": [
       "[(Decimal('0.91407991768135825758963716915337563596850'),)]"
      ]
     },
     "execution_count": 25,
     "metadata": {},
     "output_type": "execute_result"
    }
   ],
   "source": [
    "%%sql\n",
    "drop table if exists abalone_logreg_test_auc;\n",
    "SELECT\n",
    "madlib.area_under_roc(\n",
    "    'abalone_logreg_test_proba', -- table_in, \n",
    "    'abalone_logreg_test_auc',  --table_out,\n",
    "    'proba',  -- prediction_col, \n",
    "    'mature'  --observed_col, \n",
    ") as result\n",
    ";\n",
    "SELECT *\n",
    "FROM abalone_logreg_test_auc\n",
    ";"
   ]
  },
  {
   "cell_type": "markdown",
   "metadata": {},
   "source": [
    "### Confusion matrix"
   ]
  },
  {
   "cell_type": "code",
   "execution_count": 26,
   "metadata": {},
   "outputs": [
    {
     "name": "stdout",
     "output_type": "stream",
     "text": [
      "Done.\n",
      "1253 rows affected.\n",
      "10 rows affected.\n"
     ]
    },
    {
     "data": {
      "text/html": [
       "<table>\n",
       "    <tr>\n",
       "        <th>predicted</th>\n",
       "        <th>mature</th>\n",
       "    </tr>\n",
       "    <tr>\n",
       "        <td>0</td>\n",
       "        <td>0</td>\n",
       "    </tr>\n",
       "    <tr>\n",
       "        <td>1</td>\n",
       "        <td>1</td>\n",
       "    </tr>\n",
       "    <tr>\n",
       "        <td>0</td>\n",
       "        <td>0</td>\n",
       "    </tr>\n",
       "    <tr>\n",
       "        <td>1</td>\n",
       "        <td>0</td>\n",
       "    </tr>\n",
       "    <tr>\n",
       "        <td>0</td>\n",
       "        <td>0</td>\n",
       "    </tr>\n",
       "    <tr>\n",
       "        <td>0</td>\n",
       "        <td>0</td>\n",
       "    </tr>\n",
       "    <tr>\n",
       "        <td>0</td>\n",
       "        <td>0</td>\n",
       "    </tr>\n",
       "    <tr>\n",
       "        <td>1</td>\n",
       "        <td>1</td>\n",
       "    </tr>\n",
       "    <tr>\n",
       "        <td>1</td>\n",
       "        <td>1</td>\n",
       "    </tr>\n",
       "    <tr>\n",
       "        <td>1</td>\n",
       "        <td>1</td>\n",
       "    </tr>\n",
       "</table>"
      ],
      "text/plain": [
       "[(0, 0),\n",
       " (1, 1),\n",
       " (0, 0),\n",
       " (1, 0),\n",
       " (0, 0),\n",
       " (0, 0),\n",
       " (0, 0),\n",
       " (1, 1),\n",
       " (1, 1),\n",
       " (1, 1)]"
      ]
     },
     "execution_count": 26,
     "metadata": {},
     "output_type": "execute_result"
    }
   ],
   "source": [
    "%%sql\n",
    "DROP TABLE IF EXISTS abalone_logreg_test_predict ;\n",
    "CREATE TABLE abalone_logreg_test_predict\n",
    "AS\n",
    "SELECT\n",
    "    (proba >= 0.5)::integer as predicted,\n",
    "    mature\n",
    "FROM abalone_logreg_test_proba\n",
    ";\n",
    "SELECT * \n",
    "    FROM abalone_logreg_test_predict\n",
    "    LIMIT 10\n",
    ";"
   ]
  },
  {
   "cell_type": "code",
   "execution_count": 27,
   "metadata": {},
   "outputs": [
    {
     "name": "stdout",
     "output_type": "stream",
     "text": [
      "Done.\n",
      "1 rows affected.\n",
      "2 rows affected.\n"
     ]
    },
    {
     "data": {
      "text/html": [
       "<table>\n",
       "    <tr>\n",
       "        <th>row_id</th>\n",
       "        <th>Mature</th>\n",
       "        <th>Predicted: Not Mature</th>\n",
       "        <th>Mature_1</th>\n",
       "    </tr>\n",
       "    <tr>\n",
       "        <td>1</td>\n",
       "        <td>0</td>\n",
       "        <td>317</td>\n",
       "        <td>103</td>\n",
       "    </tr>\n",
       "    <tr>\n",
       "        <td>2</td>\n",
       "        <td>1</td>\n",
       "        <td>91</td>\n",
       "        <td>742</td>\n",
       "    </tr>\n",
       "</table>"
      ],
      "text/plain": [
       "[(1L, 0, Decimal('317'), Decimal('103')),\n",
       " (2L, 1, Decimal('91'), Decimal('742'))]"
      ]
     },
     "execution_count": 27,
     "metadata": {},
     "output_type": "execute_result"
    }
   ],
   "source": [
    "%%sql\n",
    "DROP TABLE IF EXISTS abalone_logreg_test_conf_matrix;\n",
    "SELECT\n",
    "madlib.confusion_matrix(\n",
    "    'abalone_logreg_test_predict', -- table_in\n",
    "    'abalone_logreg_test_conf_matrix', -- table_out\n",
    "    'predicted',  --prediction_col\n",
    "    'mature' --observation_col\n",
    ")\n",
    ";\n",
    "SELECT                                 --- display the confusion matrix\n",
    "    row_id,\n",
    "    class as \"Mature\",\n",
    "    confusion_arr[1] as \"Predicted: Not Mature\",\n",
    "    confusion_arr[2] as \"Mature\"\n",
    "FROM abalone_logreg_test_conf_matrix\n",
    "ORDER BY row_id\n",
    ";"
   ]
  },
  {
   "cell_type": "markdown",
   "metadata": {},
   "source": [
    "### Get ROC values (thresholds, true-positives, false-positives)"
   ]
  },
  {
   "cell_type": "code",
   "execution_count": 28,
   "metadata": {},
   "outputs": [
    {
     "name": "stdout",
     "output_type": "stream",
     "text": [
      "Done.\n",
      "1 rows affected.\n",
      "1 rows affected.\n"
     ]
    },
    {
     "data": {
      "text/html": [
       "<table>\n",
       "    <tr>\n",
       "        <th>count</th>\n",
       "    </tr>\n",
       "    <tr>\n",
       "        <td>1253</td>\n",
       "    </tr>\n",
       "</table>"
      ],
      "text/plain": [
       "[(1253L,)]"
      ]
     },
     "execution_count": 28,
     "metadata": {},
     "output_type": "execute_result"
    }
   ],
   "source": [
    "%%sql\n",
    "DROP TABLE IF EXISTS abalone_logreg_test_binary_metrics ;\n",
    "SELECT\n",
    "madlib.binary_classifier(\n",
    "    'abalone_logreg_test_proba', -- table_in\n",
    "    'abalone_logreg_test_binary_metrics', -- table_out\n",
    "    'proba',  --prediction_col\n",
    "    'mature' --observation_col\n",
    ")\n",
    ";\n",
    "select count(*) from abalone_logreg_test_binary_metrics\n",
    ";"
   ]
  },
  {
   "cell_type": "code",
   "execution_count": 29,
   "metadata": {},
   "outputs": [
    {
     "name": "stdout",
     "output_type": "stream",
     "text": [
      "24 rows affected.\n"
     ]
    },
    {
     "data": {
      "text/html": [
       "<table>\n",
       "    <tr>\n",
       "        <th>threshold</th>\n",
       "        <th>tp</th>\n",
       "        <th>fp</th>\n",
       "        <th>fn</th>\n",
       "        <th>tn</th>\n",
       "        <th>tpr</th>\n",
       "        <th>tnr</th>\n",
       "        <th>ppv</th>\n",
       "        <th>npv</th>\n",
       "        <th>fpr</th>\n",
       "        <th>fdr</th>\n",
       "        <th>fnr</th>\n",
       "        <th>acc</th>\n",
       "        <th>f1</th>\n",
       "    </tr>\n",
       "    <tr>\n",
       "        <td>0.481927692578</td>\n",
       "        <td>749</td>\n",
       "        <td>107</td>\n",
       "        <td>84</td>\n",
       "        <td>313</td>\n",
       "        <td>0.899159663866</td>\n",
       "        <td>0.745238095238</td>\n",
       "        <td>0.875</td>\n",
       "        <td>0.788413098237</td>\n",
       "        <td>0.254761904762</td>\n",
       "        <td>0.125</td>\n",
       "        <td>0.100840336134</td>\n",
       "        <td>0.847565841979</td>\n",
       "        <td>0.88691533451746595619</td>\n",
       "    </tr>\n",
       "    <tr>\n",
       "        <td>0.485538086613</td>\n",
       "        <td>748</td>\n",
       "        <td>107</td>\n",
       "        <td>85</td>\n",
       "        <td>313</td>\n",
       "        <td>0.897959183673</td>\n",
       "        <td>0.745238095238</td>\n",
       "        <td>0.87485380117</td>\n",
       "        <td>0.786432160804</td>\n",
       "        <td>0.254761904762</td>\n",
       "        <td>0.12514619883</td>\n",
       "        <td>0.102040816327</td>\n",
       "        <td>0.846767757382</td>\n",
       "        <td>0.88625592417061611374</td>\n",
       "    </tr>\n",
       "    <tr>\n",
       "        <td>0.48564214096</td>\n",
       "        <td>747</td>\n",
       "        <td>107</td>\n",
       "        <td>86</td>\n",
       "        <td>313</td>\n",
       "        <td>0.896758703481</td>\n",
       "        <td>0.745238095238</td>\n",
       "        <td>0.874707259953</td>\n",
       "        <td>0.784461152882</td>\n",
       "        <td>0.254761904762</td>\n",
       "        <td>0.125292740047</td>\n",
       "        <td>0.103241296519</td>\n",
       "        <td>0.845969672785</td>\n",
       "        <td>0.88559573206876111440</td>\n",
       "    </tr>\n",
       "    <tr>\n",
       "        <td>0.490814069662</td>\n",
       "        <td>747</td>\n",
       "        <td>106</td>\n",
       "        <td>86</td>\n",
       "        <td>314</td>\n",
       "        <td>0.896758703481</td>\n",
       "        <td>0.747619047619</td>\n",
       "        <td>0.875732708089</td>\n",
       "        <td>0.785</td>\n",
       "        <td>0.252380952381</td>\n",
       "        <td>0.124267291911</td>\n",
       "        <td>0.103241296519</td>\n",
       "        <td>0.846767757382</td>\n",
       "        <td>0.88612099644128113879</td>\n",
       "    </tr>\n",
       "    <tr>\n",
       "        <td>0.491344324115</td>\n",
       "        <td>747</td>\n",
       "        <td>105</td>\n",
       "        <td>86</td>\n",
       "        <td>315</td>\n",
       "        <td>0.896758703481</td>\n",
       "        <td>0.75</td>\n",
       "        <td>0.87676056338</td>\n",
       "        <td>0.785536159601</td>\n",
       "        <td>0.25</td>\n",
       "        <td>0.12323943662</td>\n",
       "        <td>0.103241296519</td>\n",
       "        <td>0.847565841979</td>\n",
       "        <td>0.88664688427299703264</td>\n",
       "    </tr>\n",
       "    <tr>\n",
       "        <td>0.495256275371</td>\n",
       "        <td>746</td>\n",
       "        <td>105</td>\n",
       "        <td>87</td>\n",
       "        <td>315</td>\n",
       "        <td>0.895558223289</td>\n",
       "        <td>0.75</td>\n",
       "        <td>0.876615746181</td>\n",
       "        <td>0.783582089552</td>\n",
       "        <td>0.25</td>\n",
       "        <td>0.123384253819</td>\n",
       "        <td>0.104441776711</td>\n",
       "        <td>0.846767757382</td>\n",
       "        <td>0.88598574821852731591</td>\n",
       "    </tr>\n",
       "    <tr>\n",
       "        <td>0.495962416284</td>\n",
       "        <td>745</td>\n",
       "        <td>105</td>\n",
       "        <td>88</td>\n",
       "        <td>315</td>\n",
       "        <td>0.894357743097</td>\n",
       "        <td>0.75</td>\n",
       "        <td>0.876470588235</td>\n",
       "        <td>0.781637717122</td>\n",
       "        <td>0.25</td>\n",
       "        <td>0.123529411765</td>\n",
       "        <td>0.105642256903</td>\n",
       "        <td>0.845969672785</td>\n",
       "        <td>0.88532382650029708853</td>\n",
       "    </tr>\n",
       "    <tr>\n",
       "        <td>0.496080074653</td>\n",
       "        <td>744</td>\n",
       "        <td>105</td>\n",
       "        <td>89</td>\n",
       "        <td>315</td>\n",
       "        <td>0.893157262905</td>\n",
       "        <td>0.75</td>\n",
       "        <td>0.876325088339</td>\n",
       "        <td>0.779702970297</td>\n",
       "        <td>0.25</td>\n",
       "        <td>0.123674911661</td>\n",
       "        <td>0.106842737095</td>\n",
       "        <td>0.845171588188</td>\n",
       "        <td>0.88466111771700356718</td>\n",
       "    </tr>\n",
       "    <tr>\n",
       "        <td>0.497839840776</td>\n",
       "        <td>743</td>\n",
       "        <td>105</td>\n",
       "        <td>90</td>\n",
       "        <td>315</td>\n",
       "        <td>0.891956782713</td>\n",
       "        <td>0.75</td>\n",
       "        <td>0.876179245283</td>\n",
       "        <td>0.777777777778</td>\n",
       "        <td>0.25</td>\n",
       "        <td>0.123820754717</td>\n",
       "        <td>0.108043217287</td>\n",
       "        <td>0.844373503591</td>\n",
       "        <td>0.88399762046400951814</td>\n",
       "    </tr>\n",
       "    <tr>\n",
       "        <td>0.498060310462</td>\n",
       "        <td>743</td>\n",
       "        <td>104</td>\n",
       "        <td>90</td>\n",
       "        <td>316</td>\n",
       "        <td>0.891956782713</td>\n",
       "        <td>0.752380952381</td>\n",
       "        <td>0.877213695396</td>\n",
       "        <td>0.778325123153</td>\n",
       "        <td>0.247619047619</td>\n",
       "        <td>0.122786304604</td>\n",
       "        <td>0.108043217287</td>\n",
       "        <td>0.845171588188</td>\n",
       "        <td>0.88452380952380952381</td>\n",
       "    </tr>\n",
       "    <tr>\n",
       "        <td>0.499330339243</td>\n",
       "        <td>742</td>\n",
       "        <td>104</td>\n",
       "        <td>91</td>\n",
       "        <td>316</td>\n",
       "        <td>0.890756302521</td>\n",
       "        <td>0.752380952381</td>\n",
       "        <td>0.87706855792</td>\n",
       "        <td>0.776412776413</td>\n",
       "        <td>0.247619047619</td>\n",
       "        <td>0.12293144208</td>\n",
       "        <td>0.109243697479</td>\n",
       "        <td>0.844373503591</td>\n",
       "        <td>0.88385944014294222752</td>\n",
       "    </tr>\n",
       "    <tr>\n",
       "        <td>0.500495320848</td>\n",
       "        <td>742</td>\n",
       "        <td>103</td>\n",
       "        <td>91</td>\n",
       "        <td>317</td>\n",
       "        <td>0.890756302521</td>\n",
       "        <td>0.754761904762</td>\n",
       "        <td>0.878106508876</td>\n",
       "        <td>0.776960784314</td>\n",
       "        <td>0.245238095238</td>\n",
       "        <td>0.121893491124</td>\n",
       "        <td>0.109243697479</td>\n",
       "        <td>0.845171588188</td>\n",
       "        <td>0.88438617401668653159</td>\n",
       "    </tr>\n",
       "    <tr>\n",
       "        <td>0.502259457628</td>\n",
       "        <td>741</td>\n",
       "        <td>103</td>\n",
       "        <td>92</td>\n",
       "        <td>317</td>\n",
       "        <td>0.889555822329</td>\n",
       "        <td>0.754761904762</td>\n",
       "        <td>0.877962085308</td>\n",
       "        <td>0.775061124694</td>\n",
       "        <td>0.245238095238</td>\n",
       "        <td>0.122037914692</td>\n",
       "        <td>0.110444177671</td>\n",
       "        <td>0.844373503591</td>\n",
       "        <td>0.88372093023255813953</td>\n",
       "    </tr>\n",
       "    <tr>\n",
       "        <td>0.503782590551</td>\n",
       "        <td>741</td>\n",
       "        <td>102</td>\n",
       "        <td>92</td>\n",
       "        <td>318</td>\n",
       "        <td>0.889555822329</td>\n",
       "        <td>0.757142857143</td>\n",
       "        <td>0.879003558719</td>\n",
       "        <td>0.775609756098</td>\n",
       "        <td>0.242857142857</td>\n",
       "        <td>0.120996441281</td>\n",
       "        <td>0.110444177671</td>\n",
       "        <td>0.845171588188</td>\n",
       "        <td>0.88424821002386634845</td>\n",
       "    </tr>\n",
       "    <tr>\n",
       "        <td>0.505932157954</td>\n",
       "        <td>740</td>\n",
       "        <td>102</td>\n",
       "        <td>93</td>\n",
       "        <td>318</td>\n",
       "        <td>0.888355342137</td>\n",
       "        <td>0.757142857143</td>\n",
       "        <td>0.878859857482</td>\n",
       "        <td>0.773722627737</td>\n",
       "        <td>0.242857142857</td>\n",
       "        <td>0.121140142518</td>\n",
       "        <td>0.111644657863</td>\n",
       "        <td>0.844373503591</td>\n",
       "        <td>0.88358208955223880597</td>\n",
       "    </tr>\n",
       "    <tr>\n",
       "        <td>0.506715865927</td>\n",
       "        <td>740</td>\n",
       "        <td>101</td>\n",
       "        <td>93</td>\n",
       "        <td>319</td>\n",
       "        <td>0.888355342137</td>\n",
       "        <td>0.759523809524</td>\n",
       "        <td>0.879904875149</td>\n",
       "        <td>0.77427184466</td>\n",
       "        <td>0.240476190476</td>\n",
       "        <td>0.120095124851</td>\n",
       "        <td>0.111644657863</td>\n",
       "        <td>0.845171588188</td>\n",
       "        <td>0.88410991636798088411</td>\n",
       "    </tr>\n",
       "    <tr>\n",
       "        <td>0.508409657732</td>\n",
       "        <td>739</td>\n",
       "        <td>101</td>\n",
       "        <td>94</td>\n",
       "        <td>319</td>\n",
       "        <td>0.887154861945</td>\n",
       "        <td>0.759523809524</td>\n",
       "        <td>0.879761904762</td>\n",
       "        <td>0.772397094431</td>\n",
       "        <td>0.240476190476</td>\n",
       "        <td>0.120238095238</td>\n",
       "        <td>0.112845138055</td>\n",
       "        <td>0.844373503591</td>\n",
       "        <td>0.88344291691572026300</td>\n",
       "    </tr>\n",
       "    <tr>\n",
       "        <td>0.508518783112</td>\n",
       "        <td>738</td>\n",
       "        <td>101</td>\n",
       "        <td>95</td>\n",
       "        <td>319</td>\n",
       "        <td>0.885954381753</td>\n",
       "        <td>0.759523809524</td>\n",
       "        <td>0.879618593564</td>\n",
       "        <td>0.770531400966</td>\n",
       "        <td>0.240476190476</td>\n",
       "        <td>0.120381406436</td>\n",
       "        <td>0.114045618247</td>\n",
       "        <td>0.843575418994</td>\n",
       "        <td>0.88277511961722488038</td>\n",
       "    </tr>\n",
       "    <tr>\n",
       "        <td>0.509647746412</td>\n",
       "        <td>738</td>\n",
       "        <td>100</td>\n",
       "        <td>95</td>\n",
       "        <td>320</td>\n",
       "        <td>0.885954381753</td>\n",
       "        <td>0.761904761905</td>\n",
       "        <td>0.880668257757</td>\n",
       "        <td>0.771084337349</td>\n",
       "        <td>0.238095238095</td>\n",
       "        <td>0.119331742243</td>\n",
       "        <td>0.114045618247</td>\n",
       "        <td>0.844373503591</td>\n",
       "        <td>0.88330341113105924596</td>\n",
       "    </tr>\n",
       "    <tr>\n",
       "        <td>0.512735114342</td>\n",
       "        <td>737</td>\n",
       "        <td>100</td>\n",
       "        <td>96</td>\n",
       "        <td>320</td>\n",
       "        <td>0.884753901561</td>\n",
       "        <td>0.761904761905</td>\n",
       "        <td>0.880525686977</td>\n",
       "        <td>0.769230769231</td>\n",
       "        <td>0.238095238095</td>\n",
       "        <td>0.119474313023</td>\n",
       "        <td>0.115246098439</td>\n",
       "        <td>0.843575418994</td>\n",
       "        <td>0.88263473053892215569</td>\n",
       "    </tr>\n",
       "    <tr>\n",
       "        <td>0.514273058027</td>\n",
       "        <td>736</td>\n",
       "        <td>100</td>\n",
       "        <td>97</td>\n",
       "        <td>320</td>\n",
       "        <td>0.883553421369</td>\n",
       "        <td>0.761904761905</td>\n",
       "        <td>0.88038277512</td>\n",
       "        <td>0.767386091127</td>\n",
       "        <td>0.238095238095</td>\n",
       "        <td>0.11961722488</td>\n",
       "        <td>0.116446578631</td>\n",
       "        <td>0.842777334397</td>\n",
       "        <td>0.88196524865188735770</td>\n",
       "    </tr>\n",
       "    <tr>\n",
       "        <td>0.514949404628</td>\n",
       "        <td>735</td>\n",
       "        <td>100</td>\n",
       "        <td>98</td>\n",
       "        <td>320</td>\n",
       "        <td>0.882352941176</td>\n",
       "        <td>0.761904761905</td>\n",
       "        <td>0.880239520958</td>\n",
       "        <td>0.765550239234</td>\n",
       "        <td>0.238095238095</td>\n",
       "        <td>0.119760479042</td>\n",
       "        <td>0.117647058824</td>\n",
       "        <td>0.8419792498</td>\n",
       "        <td>0.88129496402877697842</td>\n",
       "    </tr>\n",
       "    <tr>\n",
       "        <td>0.516089442916</td>\n",
       "        <td>734</td>\n",
       "        <td>100</td>\n",
       "        <td>99</td>\n",
       "        <td>320</td>\n",
       "        <td>0.881152460984</td>\n",
       "        <td>0.761904761905</td>\n",
       "        <td>0.880095923261</td>\n",
       "        <td>0.763723150358</td>\n",
       "        <td>0.238095238095</td>\n",
       "        <td>0.119904076739</td>\n",
       "        <td>0.118847539016</td>\n",
       "        <td>0.841181165204</td>\n",
       "        <td>0.88062387522495500900</td>\n",
       "    </tr>\n",
       "    <tr>\n",
       "        <td>0.51881630238</td>\n",
       "        <td>733</td>\n",
       "        <td>100</td>\n",
       "        <td>100</td>\n",
       "        <td>320</td>\n",
       "        <td>0.879951980792</td>\n",
       "        <td>0.761904761905</td>\n",
       "        <td>0.879951980792</td>\n",
       "        <td>0.761904761905</td>\n",
       "        <td>0.238095238095</td>\n",
       "        <td>0.120048019208</td>\n",
       "        <td>0.120048019208</td>\n",
       "        <td>0.840383080607</td>\n",
       "        <td>0.87995198079231692677</td>\n",
       "    </tr>\n",
       "</table>"
      ],
      "text/plain": [
       "[(0.481927692578217, Decimal('749'), Decimal('107'), Decimal('84'), Decimal('313'), 0.899159663865546, 0.745238095238095, 0.875, 0.788413098236776, 0.254761904761905, 0.125, 0.100840336134454, 0.84756584197925, Decimal('0.88691533451746595619')),\n",
       " (0.485538086613156, Decimal('748'), Decimal('107'), Decimal('85'), Decimal('313'), 0.897959183673469, 0.745238095238095, 0.874853801169591, 0.78643216080402, 0.254761904761905, 0.125146198830409, 0.102040816326531, 0.846767757382282, Decimal('0.88625592417061611374')),\n",
       " (0.485642140960481, Decimal('747'), Decimal('107'), Decimal('86'), Decimal('313'), 0.896758703481393, 0.745238095238095, 0.874707259953162, 0.784461152882206, 0.254761904761905, 0.125292740046838, 0.103241296518607, 0.845969672785315, Decimal('0.88559573206876111440')),\n",
       " (0.490814069662354, Decimal('747'), Decimal('106'), Decimal('86'), Decimal('314'), 0.896758703481393, 0.747619047619048, 0.875732708089097, 0.785, 0.252380952380952, 0.124267291910903, 0.103241296518607, 0.846767757382282, Decimal('0.88612099644128113879')),\n",
       " (0.491344324114736, Decimal('747'), Decimal('105'), Decimal('86'), Decimal('315'), 0.896758703481393, 0.75, 0.876760563380282, 0.785536159600998, 0.25, 0.123239436619718, 0.103241296518607, 0.84756584197925, Decimal('0.88664688427299703264')),\n",
       " (0.495256275371232, Decimal('746'), Decimal('105'), Decimal('87'), Decimal('315'), 0.895558223289316, 0.75, 0.876615746180964, 0.783582089552239, 0.25, 0.123384253819036, 0.104441776710684, 0.846767757382282, Decimal('0.88598574821852731591')),\n",
       " (0.49596241628429, Decimal('745'), Decimal('105'), Decimal('88'), Decimal('315'), 0.894357743097239, 0.75, 0.876470588235294, 0.781637717121588, 0.25, 0.123529411764706, 0.105642256902761, 0.845969672785315, Decimal('0.88532382650029708853')),\n",
       " (0.496080074653278, Decimal('744'), Decimal('105'), Decimal('89'), Decimal('315'), 0.893157262905162, 0.75, 0.876325088339223, 0.77970297029703, 0.25, 0.123674911660777, 0.106842737094838, 0.845171588188348, Decimal('0.88466111771700356718')),\n",
       " (0.497839840776044, Decimal('743'), Decimal('105'), Decimal('90'), Decimal('315'), 0.891956782713085, 0.75, 0.876179245283019, 0.777777777777778, 0.25, 0.123820754716981, 0.108043217286915, 0.844373503591381, Decimal('0.88399762046400951814')),\n",
       " (0.49806031046179, Decimal('743'), Decimal('104'), Decimal('90'), Decimal('316'), 0.891956782713085, 0.752380952380952, 0.877213695395514, 0.778325123152709, 0.247619047619048, 0.122786304604486, 0.108043217286915, 0.845171588188348, Decimal('0.88452380952380952381')),\n",
       " (0.499330339242869, Decimal('742'), Decimal('104'), Decimal('91'), Decimal('316'), 0.890756302521008, 0.752380952380952, 0.877068557919622, 0.776412776412776, 0.247619047619048, 0.122931442080378, 0.109243697478992, 0.844373503591381, Decimal('0.88385944014294222752')),\n",
       " (0.500495320847512, Decimal('742'), Decimal('103'), Decimal('91'), Decimal('317'), 0.890756302521008, 0.754761904761905, 0.87810650887574, 0.776960784313726, 0.245238095238095, 0.12189349112426, 0.109243697478992, 0.845171588188348, Decimal('0.88438617401668653159')),\n",
       " (0.50225945762781, Decimal('741'), Decimal('103'), Decimal('92'), Decimal('317'), 0.889555822328932, 0.754761904761905, 0.877962085308057, 0.775061124694376, 0.245238095238095, 0.122037914691943, 0.110444177671068, 0.844373503591381, Decimal('0.88372093023255813953')),\n",
       " (0.503782590551432, Decimal('741'), Decimal('102'), Decimal('92'), Decimal('318'), 0.889555822328932, 0.757142857142857, 0.879003558718861, 0.775609756097561, 0.242857142857143, 0.120996441281139, 0.110444177671068, 0.845171588188348, Decimal('0.88424821002386634845')),\n",
       " (0.505932157954045, Decimal('740'), Decimal('102'), Decimal('93'), Decimal('318'), 0.888355342136855, 0.757142857142857, 0.878859857482185, 0.773722627737226, 0.242857142857143, 0.121140142517815, 0.111644657863145, 0.844373503591381, Decimal('0.88358208955223880597')),\n",
       " (0.506715865926785, Decimal('740'), Decimal('101'), Decimal('93'), Decimal('319'), 0.888355342136855, 0.759523809523809, 0.879904875148633, 0.774271844660194, 0.24047619047619, 0.120095124851367, 0.111644657863145, 0.845171588188348, Decimal('0.88410991636798088411')),\n",
       " (0.508409657732102, Decimal('739'), Decimal('101'), Decimal('94'), Decimal('319'), 0.887154861944778, 0.759523809523809, 0.879761904761905, 0.772397094430993, 0.24047619047619, 0.120238095238095, 0.112845138055222, 0.844373503591381, Decimal('0.88344291691572026300')),\n",
       " (0.508518783111516, Decimal('738'), Decimal('101'), Decimal('95'), Decimal('319'), 0.885954381752701, 0.759523809523809, 0.879618593563766, 0.770531400966184, 0.24047619047619, 0.120381406436234, 0.114045618247299, 0.843575418994413, Decimal('0.88277511961722488038')),\n",
       " (0.509647746411508, Decimal('738'), Decimal('100'), Decimal('95'), Decimal('320'), 0.885954381752701, 0.761904761904762, 0.880668257756563, 0.771084337349398, 0.238095238095238, 0.119331742243437, 0.114045618247299, 0.844373503591381, Decimal('0.88330341113105924596')),\n",
       " (0.512735114341583, Decimal('737'), Decimal('100'), Decimal('96'), Decimal('320'), 0.884753901560624, 0.761904761904762, 0.8805256869773, 0.769230769230769, 0.238095238095238, 0.1194743130227, 0.115246098439376, 0.843575418994413, Decimal('0.88263473053892215569')),\n",
       " (0.514273058027073, Decimal('736'), Decimal('100'), Decimal('97'), Decimal('320'), 0.883553421368547, 0.761904761904762, 0.880382775119617, 0.767386091127098, 0.238095238095238, 0.119617224880383, 0.116446578631453, 0.842777334397446, Decimal('0.88196524865188735770')),\n",
       " (0.514949404628307, Decimal('735'), Decimal('100'), Decimal('98'), Decimal('320'), 0.882352941176471, 0.761904761904762, 0.880239520958084, 0.76555023923445, 0.238095238095238, 0.119760479041916, 0.117647058823529, 0.841979249800479, Decimal('0.88129496402877697842')),\n",
       " (0.516089442916304, Decimal('734'), Decimal('100'), Decimal('99'), Decimal('320'), 0.881152460984394, 0.761904761904762, 0.880095923261391, 0.763723150357995, 0.238095238095238, 0.119904076738609, 0.118847539015606, 0.841181165203512, Decimal('0.88062387522495500900')),\n",
       " (0.518816302379743, Decimal('733'), Decimal('100'), Decimal('100'), Decimal('320'), 0.879951980792317, 0.761904761904762, 0.879951980792317, 0.761904761904762, 0.238095238095238, 0.120048019207683, 0.120048019207683, 0.840383080606544, Decimal('0.87995198079231692677'))]"
      ]
     },
     "execution_count": 29,
     "metadata": {},
     "output_type": "execute_result"
    }
   ],
   "source": [
    "%%sql\n",
    "SELECT *\n",
    "FROM abalone_logreg_test_binary_metrics\n",
    "WHERE \n",
    "    --round(threshold::numeric, 1) = 0.5\n",
    "    threshold >= 0.48 AND\n",
    "    threshold <= 0.52\n",
    "ORDER BY threshold;"
   ]
  },
  {
   "cell_type": "code",
   "execution_count": 30,
   "metadata": {},
   "outputs": [
    {
     "name": "stdout",
     "output_type": "stream",
     "text": [
      "1253 rows affected.\n"
     ]
    }
   ],
   "source": [
    "logreg_metrics = %sql SELECT * FROM abalone_logreg_test_binary_metrics ORDER BY threshold;\n",
    "logreg_metrics = logreg_metrics.DataFrame();"
   ]
  },
  {
   "cell_type": "code",
   "execution_count": 31,
   "metadata": {},
   "outputs": [
    {
     "data": {
      "image/png": "[encoded data removed]",
      "text/plain": [
       "<Figure size 432x288 with 1 Axes>"
      ]
     },
     "metadata": {
      "needs_background": "light"
     },
     "output_type": "display_data"
    }
   ],
   "source": [
    "logreg_metrics.plot('fpr', 'tpr',xlim=(0.,1.),ylim=(0.,1.));"
   ]
  },
  {
   "cell_type": "markdown",
   "metadata": {},
   "source": [
    "<a id=\"forest\"></a>\n",
    "## 5b. Random Forest "
   ]
  },
  {
   "cell_type": "code",
   "execution_count": 32,
   "metadata": {},
   "outputs": [
    {
     "name": "stdout",
     "output_type": "stream",
     "text": [
      "Done.\n",
      "Done.\n",
      "Done.\n",
      "1 rows affected.\n"
     ]
    },
    {
     "data": {
      "text/html": [
       "<table>\n",
       "    <tr>\n",
       "        <th>forest_train</th>\n",
       "    </tr>\n",
       "    <tr>\n",
       "        <td></td>\n",
       "    </tr>\n",
       "</table>"
      ],
      "text/plain": [
       "[('',)]"
      ]
     },
     "execution_count": 32,
     "metadata": {},
     "output_type": "execute_result"
    }
   ],
   "source": [
    "%%sql\n",
    "DROP TABLE IF EXISTS abalone_rf_model;\n",
    "DROP TABLE IF EXISTS abalone_rf_model_group;\n",
    "DROP TABLE IF EXISTS abalone_rf_model_summary;\n",
    "SELECT\n",
    "madlib.forest_train(\n",
    "    'abalone_classif_train',  -- training_table_name\n",
    "    'abalone_rf_model',  -- output_table_name\n",
    "    'id',  -- id_col_name\n",
    "    'mature',  -- dependent_variable\n",
    "    'length,diameter,height,whole_weight,shucked_weight,viscera_weight,shell_weight,sex_f,sex_m',  -- list_of_features\n",
    "    NULL,  -- list_of_features_to_exclude\n",
    "    NULL,  -- grouping_columns\n",
    "    10  -- number of trees\n",
    ");"
   ]
  },
  {
   "cell_type": "markdown",
   "metadata": {},
   "source": [
    "View one of the trees in the forest.  You could also view the tree in dot format, though for random forest tree visualization is less relevant."
   ]
  },
  {
   "cell_type": "code",
   "execution_count": 33,
   "metadata": {},
   "outputs": [
    {
     "name": "stdout",
     "output_type": "stream",
     "text": [
      "1 rows affected.\n"
     ]
    },
    {
     "data": {
      "text/html": [
       "<table>\n",
       "    <tr>\n",
       "        <th>get_tree</th>\n",
       "    </tr>\n",
       "    <tr>\n",
       "        <td>digraph \"Classification tree for abalone_classif_train\" {<br>\"0\" [label=\"whole_weight &lt;= 0.6435\\n impurity = 0.451097\\n samples = 2881\\n value = [ 990 1891]\\n class = 1\", shape=ellipse];<br>\"0\" -&gt; \"1\"[label=\"yes\"];<br>\"0\" -&gt; \"2\"[label=\"no\"];<br>\"1\" [label=\"shell_weight &lt;= 0.11\\n impurity = 0.438178\\n samples = 1166\\n value = [788 378]\\n class = 0\", shape=ellipse];<br>\"1\" -&gt; \"3\"[label=\"yes\"];<br>\"1\" -&gt; \"4\"[label=\"no\"];<br>\"2\" [label=\"diameter &lt;= 0.46\\n impurity = 0.207822\\n samples = 1715\\n value = [ 202 1513]\\n class = 1\", shape=ellipse];<br>\"2\" -&gt; \"5\"[label=\"yes\"];<br>\"2\" -&gt; \"6\"[label=\"no\"];<br>\"3\" [label=\"shell_weight &lt;= 0.055\\n impurity = 0.242119\\n samples = 589\\n value = [506  83]\\n class = 0\", shape=ellipse];<br>\"3\" -&gt; \"7\"[label=\"yes\"];<br>\"3\" -&gt; \"8\"[label=\"no\"];<br>\"4\" [label=\"length &lt;= 0.38\\n impurity = 0.499746\\n samples = 577\\n value = [282 295]\\n class = 1\", shape=ellipse];<br>\"4\" -&gt; \"9\"[label=\"yes\"];<br>\"9\" [label=\"0\\n impurity = 0\\n samples = 7\\n value = [7 0]\",shape=box];<br>\"4\" -&gt; \"10\"[label=\"no\"];<br>\"5\" [label=\"shucked_weight &lt;= 0.2985\\n impurity = 0.35261\\n samples = 722\\n value = [165 557]\\n class = 1\", shape=ellipse];<br>\"5\" -&gt; \"11\"[label=\"yes\"];<br>\"5\" -&gt; \"12\"[label=\"no\"];<br>\"6\" [label=\"shucked_weight &lt;= 0.783\\n impurity = 0.0717449\\n samples = 993\\n value = [ 37 956]\\n class = 1\", shape=ellipse];<br>\"6\" -&gt; \"13\"[label=\"yes\"];<br>\"13\" [label=\"1\\n impurity = 0.0799472\\n samples = 887\\n value = [ 37 850]\",shape=box];<br>\"6\" -&gt; \"14\"[label=\"no\"];<br>\"14\" [label=\"1\\n impurity = 0\\n samples = 106\\n value = [  0 106]\",shape=box];<br>\"7\" [label=\"sex_m &lt;= 0\\n impurity = 0.062435\\n samples = 248\\n value = [240   8]\\n class = 0\", shape=ellipse];<br>\"7\" -&gt; \"15\"[label=\"yes\"];<br>\"7\" -&gt; \"16\"[label=\"no\"];<br>\"8\" [label=\"sex_f &lt;= 0\\n impurity = 0.343134\\n samples = 341\\n value = [266  75]\\n class = 0\", shape=ellipse];<br>\"8\" -&gt; \"17\"[label=\"yes\"];<br>\"8\" -&gt; \"18\"[label=\"no\"];<br>\"10\" [label=\"shucked_weight &lt;= 0.27\\n impurity = 0.499384\\n samples = 570\\n value = [275 295]\\n class = 1\", shape=ellipse];<br>\"10\" -&gt; \"21\"[label=\"yes\"];<br>\"10\" -&gt; \"22\"[label=\"no\"];<br>\"11\" [label=\"shell_weight &lt;= 0.345\\n impurity = 0.0772938\\n samples = 149\\n value = [  6 143]\\n class = 1\", shape=ellipse];<br>\"11\" -&gt; \"23\"[label=\"yes\"];<br>\"11\" -&gt; \"24\"[label=\"no\"];<br>\"24\" [label=\"1\\n impurity = 0.260355\\n samples = 13\\n value = [ 2 11]\",shape=box];<br>\"12\" [label=\"shell_weight &lt;= 0.215\\n impurity = 0.400976\\n samples = 573\\n value = [159 414]\\n class = 1\", shape=ellipse];<br>\"12\" -&gt; \"25\"[label=\"yes\"];<br>\"25\" [label=\"0\\n impurity = 0.491241\\n samples = 136\\n value = [77 59]\",shape=box];<br>\"12\" -&gt; \"26\"[label=\"no\"];<br>\"26\" [label=\"1\\n impurity = 0.304866\\n samples = 437\\n value = [ 82 355]\",shape=box];<br>\"15\" [label=\"shell_weight &lt;= 0.036\\n impurity = 0.027022\\n samples = 219\\n value = [216   3]\\n class = 0\", shape=ellipse];<br>\"15\" -&gt; \"31\"[label=\"yes\"];<br>\"31\" [label=\"0\\n impurity = 0\\n samples = 132\\n value = [132   0]\",shape=box];<br>\"15\" -&gt; \"32\"[label=\"no\"];<br>\"16\" [label=\"diameter &lt;= 0.23\\n impurity = 0.285375\\n samples = 29\\n value = [24  5]\\n class = 0\", shape=ellipse];<br>\"16\" -&gt; \"33\"[label=\"yes\"];<br>\"33\" [label=\"0\\n impurity = 0.0907029\\n samples = 21\\n value = [20  1]\",shape=box];<br>\"16\" -&gt; \"34\"[label=\"no\"];<br>\"34\" [label=\"0\\n impurity = 0.5\\n samples = 8\\n value = [4 4]\",shape=box];<br>\"17\" [label=\"sex_m &lt;= 0\\n impurity = 0.281382\\n samples = 307\\n value = [255  52]\\n class = 0\", shape=ellipse];<br>\"17\" -&gt; \"35\"[label=\"yes\"];<br>\"17\" -&gt; \"36\"[label=\"no\"];<br>\"18\" [label=\"shucked_weight &lt;= 0.1405\\n impurity = 0.437716\\n samples = 34\\n value = [11 23]\\n class = 1\", shape=ellipse];<br>\"18\" -&gt; \"37\"[label=\"yes\"];<br>\"18\" -&gt; \"38\"[label=\"no\"];<br>\"38\" [label=\"1\\n impurity = 0\\n samples = 10\\n value = [ 0 10]\",shape=box];<br>\"21\" [label=\"sex_f &lt;= 0\\n impurity = 0.490765\\n samples = 493\\n value = [213 280]\\n class = 1\", shape=ellipse];<br>\"21\" -&gt; \"43\"[label=\"yes\"];<br>\"21\" -&gt; \"44\"[label=\"no\"];<br>\"22\" [label=\"shucked_weight &lt;= 0.3115\\n impurity = 0.313712\\n samples = 77\\n value = [62 15]\\n class = 0\", shape=ellipse];<br>\"22\" -&gt; \"45\"[label=\"yes\"];<br>\"22\" -&gt; \"46\"[label=\"no\"];<br>\"46\" [label=\"0\\n impurity = 0\\n samples = 16\\n value = [16  0]\",shape=box];<br>\"23\" [label=\"diameter &lt;= 0.42\\n impurity = 0.0570934\\n samples = 136\\n value = [  4 132]\\n class = 1\", shape=ellipse];<br>\"23\" -&gt; \"47\"[label=\"yes\"];<br>\"47\" [label=\"1\\n impurity = 0\\n samples = 95\\n value = [ 0 95]\",shape=box];<br>\"23\" -&gt; \"48\"[label=\"no\"];<br>\"32\" [label=\"whole_weight &lt;= 0.1575\\n impurity = 0.0665874\\n samples = 87\\n value = [84  3]\\n class = 0\", shape=ellipse];<br>\"32\" -&gt; \"65\"[label=\"yes\"];<br>\"65\" [label=\"0\\n impurity = 0.142012\\n samples = 39\\n value = [36  3]\",shape=box];<br>\"32\" -&gt; \"66\"[label=\"no\"];<br>\"66\" [label=\"0\\n impurity = 0\\n samples = 48\\n value = [48  0]\",shape=box];<br>\"35\" [label=\"shell_weight &lt;= 0.0715\\n impurity = 0.142541\\n samples = 246\\n value = [227  19]\\n class = 0\", shape=ellipse];<br>\"35\" -&gt; \"71\"[label=\"yes\"];<br>\"71\" [label=\"0\\n impurity = 0.0266618\\n samples = 74\\n value = [73  1]\",shape=box];<br>\"35\" -&gt; \"72\"[label=\"no\"];<br>\"36\" [label=\"shucked_weight &lt;= 0.104\\n impurity = 0.496641\\n samples = 61\\n value = [28 33]\\n class = 1\", shape=ellipse];<br>\"36\" -&gt; \"73\"[label=\"yes\"];<br>\"36\" -&gt; \"74\"[label=\"no\"];<br>\"37\" [label=\"whole_weight &lt;= 0.262\\n impurity = 0.496528\\n samples = 24\\n value = [11 13]\\n class = 1\", shape=ellipse];<br>\"37\" -&gt; \"75\"[label=\"yes\"];<br>\"75\" [label=\"1\\n impurity = 0.277778\\n samples = 12\\n value = [ 2 10]\",shape=box];<br>\"37\" -&gt; \"76\"[label=\"no\"];<br>\"76\" [label=\"0\\n impurity = 0.375\\n samples = 12\\n value = [9 3]\",shape=box];<br>\"43\" [label=\"sex_m &lt;= 0\\n impurity = 0.499967\\n samples = 367\\n value = [185 182]\\n class = 0\", shape=ellipse];<br>\"43\" -&gt; \"87\"[label=\"yes\"];<br>\"43\" -&gt; \"88\"[label=\"no\"];<br>\"44\" [label=\"shell_weight &lt;= 0.142\\n impurity = 0.345679\\n samples = 126\\n value = [28 98]\\n class = 1\", shape=ellipse];<br>\"44\" -&gt; \"89\"[label=\"yes\"];<br>\"44\" -&gt; \"90\"[label=\"no\"];<br>\"45\" [label=\"viscera_weight &lt;= 0.148\\n impurity = 0.370868\\n samples = 61\\n value = [46 15]\\n class = 0\", shape=ellipse];<br>\"45\" -&gt; \"91\"[label=\"yes\"];<br>\"45\" -&gt; \"92\"[label=\"no\"];<br>\"92\" [label=\"1\\n impurity = 0.444444\\n samples = 6\\n value = [2 4]\",shape=box];<br>\"48\" [label=\"shell_weight &lt;= 0.23\\n impurity = 0.176086\\n samples = 41\\n value = [ 4 37]\\n class = 1\", shape=ellipse];<br>\"48\" -&gt; \"97\"[label=\"yes\"];<br>\"97\" [label=\"1\\n impurity = 0.444444\\n samples = 9\\n value = [3 6]\",shape=box];<br>\"48\" -&gt; \"98\"[label=\"no\"];<br>\"72\" [label=\"whole_weight &lt;= 0.262\\n impurity = 0.187399\\n samples = 172\\n value = [154  18]\\n class = 0\", shape=ellipse];<br>\"72\" -&gt; \"145\"[label=\"yes\"];<br>\"72\" -&gt; \"146\"[label=\"no\"];<br>\"146\" [label=\"0\\n impurity = 0.111495\\n samples = 135\\n value = [127   8]\",shape=box];<br>\"73\" [label=\"whole_weight &lt;= 0.2445\\n impurity = 0.43102\\n samples = 35\\n value = [11 24]\\n class = 1\", shape=ellipse];<br>\"73\" -&gt; \"147\"[label=\"yes\"];<br>\"73\" -&gt; \"148\"[label=\"no\"];<br>\"148\" [label=\"1\\n impurity = 0\\n samples = 7\\n value = [0 7]\",shape=box];<br>\"74\" [label=\"viscera_weight &lt;= 0.07\\n impurity = 0.452663\\n samples = 26\\n value = [17  9]\\n class = 0\", shape=ellipse];<br>\"74\" -&gt; \"149\"[label=\"yes\"];<br>\"149\" [label=\"0\\n impurity = 0\\n samples = 11\\n value = [11  0]\",shape=box];<br>\"74\" -&gt; \"150\"[label=\"no\"];<br>\"150\" [label=\"1\\n impurity = 0.48\\n samples = 15\\n value = [6 9]\",shape=box];<br>\"87\" [label=\"length &lt;= 0.42\\n impurity = 0.471655\\n samples = 231\\n value = [143  88]\\n class = 0\", shape=ellipse];<br>\"87\" -&gt; \"175\"[label=\"yes\"];<br>\"175\" [label=\"1\\n impurity = 0.244898\\n samples = 7\\n value = [1 6]\",shape=box];<br>\"87\" -&gt; \"176\"[label=\"no\"];<br>\"88\" [label=\"shucked_weight &lt;= 0.25\\n impurity = 0.426903\\n samples = 136\\n value = [42 94]\\n class = 1\", shape=ellipse];<br>\"88\" -&gt; \"177\"[label=\"yes\"];<br>\"88\" -&gt; \"178\"[label=\"no\"];<br>\"178\" [label=\"0\\n impurity = 0.35503\\n samples = 13\\n value = [10  3]\",shape=box];<br>\"89\" [label=\"height &lt;= 0.11\\n impurity = 0.490581\\n samples = 51\\n value = [22 29]\\n class = 1\", shape=ellipse];<br>\"89\" -&gt; \"179\"[label=\"yes\"];<br>\"179\" [label=\"1\\n impurity = 0.277778\\n samples = 18\\n value = [ 3 15]\",shape=box];<br>\"89\" -&gt; \"180\"[label=\"no\"];<br>\"90\" [label=\"shell_weight &lt;= 0.156\\n impurity = 0.1472\\n samples = 75\\n value = [ 6 69]\\n class = 1\", shape=ellipse];<br>\"90\" -&gt; \"181\"[label=\"yes\"];<br>\"181\" [label=\"1\\n impurity = 0\\n samples = 28\\n value = [ 0 28]\",shape=box];<br>\"90\" -&gt; \"182\"[label=\"no\"];<br>\"91\" [label=\"whole_weight &lt;= 0.632\\n impurity = 0.32\\n samples = 55\\n value = [44 11]\\n class = 0\", shape=ellipse];<br>\"91\" -&gt; \"183\"[label=\"yes\"];<br>\"91\" -&gt; \"184\"[label=\"no\"];<br>\"184\" [label=\"0\\n impurity = 0.48\\n samples = 10\\n value = [6 4]\",shape=box];<br>\"98\" [label=\"viscera_weight &lt;= 0.17\\n impurity = 0.0605469\\n samples = 32\\n value = [ 1 31]\\n class = 1\", shape=ellipse];<br>\"98\" -&gt; \"197\"[label=\"yes\"];<br>\"197\" [label=\"1\\n impurity = 0\\n samples = 22\\n value = [ 0 22]\",shape=box];<br>\"98\" -&gt; \"198\"[label=\"no\"];<br>\"198\" [label=\"1\\n impurity = 0.18\\n samples = 10\\n value = [1 9]\",shape=box];<br>\"145\" [label=\"shucked_weight &lt;= 0.085\\n impurity = 0.394449\\n samples = 37\\n value = [27 10]\\n class = 0\", shape=ellipse];<br>\"145\" -&gt; \"291\"[label=\"yes\"];<br>\"291\" [label=\"1\\n impurity = 0.489796\\n samples = 7\\n value = [3 4]\",shape=box];<br>\"145\" -&gt; \"292\"[label=\"no\"];<br>\"147\" [label=\"whole_weight &lt;= 0.2155\\n impurity = 0.477041\\n samples = 28\\n value = [11 17]\\n class = 1\", shape=ellipse];<br>\"147\" -&gt; \"295\"[label=\"yes\"];<br>\"295\" [label=\"1\\n impurity = 0.391111\\n samples = 15\\n value = [ 4 11]\",shape=box];<br>\"147\" -&gt; \"296\"[label=\"no\"];<br>\"296\" [label=\"0\\n impurity = 0.497041\\n samples = 13\\n value = [7 6]\",shape=box];<br>\"176\" [label=\"shell_weight &lt;= 0.1375\\n impurity = 0.464126\\n samples = 224\\n value = [142  82]\\n class = 0\", shape=ellipse];<br>\"176\" -&gt; \"353\"[label=\"yes\"];<br>\"176\" -&gt; \"354\"[label=\"no\"];<br>\"177\" [label=\"shucked_weight &lt;= 0.1675\\n impurity = 0.384956\\n samples = 123\\n value = [32 91]\\n class = 1\", shape=ellipse];<br>\"177\" -&gt; \"355\"[label=\"yes\"];<br>\"355\" [label=\"1\\n impurity = 0.0798611\\n samples = 24\\n value = [ 1 23]\",shape=box];<br>\"177\" -&gt; \"356\"[label=\"no\"];<br>\"180\" [label=\"height &lt;= 0.12\\n impurity = 0.488522\\n samples = 33\\n value = [19 14]\\n class = 0\", shape=ellipse];<br>\"180\" -&gt; \"361\"[label=\"yes\"];<br>\"180\" -&gt; \"362\"[label=\"no\"];<br>\"362\" [label=\"1\\n impurity = 0.35503\\n samples = 13\\n value = [ 3 10]\",shape=box];<br>\"182\" [label=\"shell_weight &lt;= 0.185\\n impurity = 0.222725\\n samples = 47\\n value = [ 6 41]\\n class = 1\", shape=ellipse];<br>\"182\" -&gt; \"365\"[label=\"yes\"];<br>\"182\" -&gt; \"366\"[label=\"no\"];<br>\"366\" [label=\"1\\n impurity = 0\\n samples = 16\\n value = [ 0 16]\",shape=box];<br>\"183\" [label=\"diameter &lt;= 0.39\\n impurity = 0.262716\\n samples = 45\\n value = [38  7]\\n class = 0\", shape=ellipse];<br>\"183\" -&gt; \"367\"[label=\"yes\"];<br>\"367\" [label=\"0\\n impurity = 0.357778\\n samples = 30\\n value = [23  7]\",shape=box];<br>\"183\" -&gt; \"368\"[label=\"no\"];<br>\"368\" [label=\"0\\n impurity = 0\\n samples = 15\\n value = [15  0]\",shape=box];<br>\"292\" [label=\"viscera_weight &lt;= 0.05\\n impurity = 0.32\\n samples = 30\\n value = [24  6]\\n class = 0\", shape=ellipse];<br>\"292\" -&gt; \"585\"[label=\"yes\"];<br>\"585\" [label=\"0\\n impurity = 0\\n samples = 8\\n value = [8 0]\",shape=box];<br>\"292\" -&gt; \"586\"[label=\"no\"];<br>\"353\" [label=\"diameter &lt;= 0.355\\n impurity = 0.285932\\n samples = 81\\n value = [67 14]\\n class = 0\", shape=ellipse];<br>\"353\" -&gt; \"707\"[label=\"yes\"];<br>\"707\" [label=\"0\\n impurity = 0.349636\\n samples = 62\\n value = [48 14]\",shape=box];<br>\"353\" -&gt; \"708\"[label=\"no\"];<br>\"708\" [label=\"0\\n impurity = 0\\n samples = 19\\n value = [19  0]\",shape=box];<br>\"354\" [label=\"diameter &lt;= 0.37\\n impurity = 0.498802\\n samples = 143\\n value = [75 68]\\n class = 0\", shape=ellipse];<br>\"354\" -&gt; \"709\"[label=\"yes\"];<br>\"709\" [label=\"1\\n impurity = 0.447971\\n samples = 62\\n value = [21 41]\",shape=box];<br>\"354\" -&gt; \"710\"[label=\"no\"];<br>\"356\" [label=\"shell_weight &lt;= 0.15\\n impurity = 0.43016\\n samples = 99\\n value = [31 68]\\n class = 1\", shape=ellipse];<br>\"356\" -&gt; \"713\"[label=\"yes\"];<br>\"713\" [label=\"0\\n impurity = 0.43102\\n samples = 35\\n value = [24 11]\",shape=box];<br>\"356\" -&gt; \"714\"[label=\"no\"];<br>\"714\" [label=\"1\\n impurity = 0.194824\\n samples = 64\\n value = [ 7 57]\",shape=box];<br>\"361\" [label=\"shell_weight &lt;= 0.13\\n impurity = 0.32\\n samples = 20\\n value = [16  4]\\n class = 0\", shape=ellipse];<br>\"361\" -&gt; \"723\"[label=\"yes\"];<br>\"723\" [label=\"0\\n impurity = 0\\n samples = 10\\n value = [10  0]\",shape=box];<br>\"361\" -&gt; \"724\"[label=\"no\"];<br>\"724\" [label=\"0\\n impurity = 0.48\\n samples = 10\\n value = [6 4]\",shape=box];<br>\"365\" [label=\"diameter &lt;= 0.38\\n impurity = 0.312175\\n samples = 31\\n value = [ 6 25]\\n class = 1\", shape=ellipse];<br>\"365\" -&gt; \"731\"[label=\"yes\"];<br>\"365\" -&gt; \"732\"[label=\"no\"];<br>\"732\" [label=\"1\\n impurity = 0\\n samples = 10\\n value = [ 0 10]\",shape=box];<br>\"586\" [label=\"diameter &lt;= 0.275\\n impurity = 0.396694\\n samples = 22\\n value = [16  6]\\n class = 0\", shape=ellipse];<br>\"586\" -&gt; \"1173\"[label=\"yes\"];<br>\"1173\" [label=\"0\\n impurity = 0.18\\n samples = 10\\n value = [9 1]\",shape=box];<br>\"586\" -&gt; \"1174\"[label=\"no\"];<br>\"1174\" [label=\"0\\n impurity = 0.486111\\n samples = 12\\n value = [7 5]\",shape=box];<br>\"710\" [label=\"diameter &lt;= 0.385\\n impurity = 0.444444\\n samples = 81\\n value = [54 27]\\n class = 0\", shape=ellipse];<br>\"710\" -&gt; \"1421\"[label=\"yes\"];<br>\"1421\" [label=\"0\\n impurity = 0.205516\\n samples = 43\\n value = [38  5]\",shape=box];<br>\"710\" -&gt; \"1422\"[label=\"no\"];<br>\"1422\" [label=\"1\\n impurity = 0.487535\\n samples = 38\\n value = [16 22]\",shape=box];<br>\"731\" [label=\"viscera_weight &lt;= 0.106\\n impurity = 0.408163\\n samples = 21\\n value = [ 6 15]\\n class = 1\", shape=ellipse];<br>\"731\" -&gt; \"1463\"[label=\"yes\"];<br>\"1463\" [label=\"0\\n impurity = 0.277778\\n samples = 6\\n value = [5 1]\",shape=box];<br>\"731\" -&gt; \"1464\"[label=\"no\"];<br>\"1464\" [label=\"1\\n impurity = 0.124444\\n samples = 15\\n value = [ 1 14]\",shape=box];<br><br>} //---end of digraph--------- </td>\n",
       "    </tr>\n",
       "</table>"
      ],
      "text/plain": [
       "[(u'digraph \"Classification tree for abalone_classif_train\" {\\n\"0\" [label=\"whole_weight <= 0.6435\\\\n impurity = 0.451097\\\\n samples = 2881\\\\n value = [  ... (13666 characters truncated) ... 1\" -> \"1464\"[label=\"no\"];\\n\"1464\" [label=\"1\\\\n impurity = 0.124444\\\\n samples = 15\\\\n value = [ 1 14]\",shape=box];\\n\\n} //---end of digraph--------- ',)]"
      ]
     },
     "execution_count": 33,
     "metadata": {},
     "output_type": "execute_result"
    }
   ],
   "source": [
    "%%sql \n",
    "SELECT madlib.get_tree('abalone_rf_model', 1, 1, TRUE, TRUE);        "
   ]
  },
  {
   "cell_type": "markdown",
   "metadata": {},
   "source": [
    "Get variable importance:"
   ]
  },
  {
   "cell_type": "code",
   "execution_count": 34,
   "metadata": {},
   "outputs": [
    {
     "name": "stdout",
     "output_type": "stream",
     "text": [
      "Done.\n",
      "1 rows affected.\n",
      "9 rows affected.\n"
     ]
    },
    {
     "data": {
      "text/html": [
       "<table>\n",
       "    <tr>\n",
       "        <th>feature</th>\n",
       "        <th>oob_var_importance</th>\n",
       "        <th>impurity_var_importance</th>\n",
       "    </tr>\n",
       "    <tr>\n",
       "        <td>shell_weight</td>\n",
       "        <td>32.7676813777</td>\n",
       "        <td>16.2975980324</td>\n",
       "    </tr>\n",
       "    <tr>\n",
       "        <td>shucked_weight</td>\n",
       "        <td>9.76350183678</td>\n",
       "        <td>15.1433761066</td>\n",
       "    </tr>\n",
       "    <tr>\n",
       "        <td>length</td>\n",
       "        <td>17.677299166</td>\n",
       "        <td>14.8687082951</td>\n",
       "    </tr>\n",
       "    <tr>\n",
       "        <td>whole_weight</td>\n",
       "        <td>26.1254866471</td>\n",
       "        <td>13.7003036329</td>\n",
       "    </tr>\n",
       "    <tr>\n",
       "        <td>viscera_weight</td>\n",
       "        <td>4.56396736588</td>\n",
       "        <td>13.5159320041</td>\n",
       "    </tr>\n",
       "    <tr>\n",
       "        <td>diameter</td>\n",
       "        <td>4.29568815161</td>\n",
       "        <td>11.8332477634</td>\n",
       "    </tr>\n",
       "    <tr>\n",
       "        <td>height</td>\n",
       "        <td>0.0</td>\n",
       "        <td>9.76581701204</td>\n",
       "    </tr>\n",
       "    <tr>\n",
       "        <td>sex_f</td>\n",
       "        <td>2.45848759458</td>\n",
       "        <td>2.57864936637</td>\n",
       "    </tr>\n",
       "    <tr>\n",
       "        <td>sex_m</td>\n",
       "        <td>2.34788786045</td>\n",
       "        <td>2.29636778719</td>\n",
       "    </tr>\n",
       "</table>"
      ],
      "text/plain": [
       "[(u'shell_weight', 32.7676813776765, 16.2975980323719),\n",
       " (u'shucked_weight', 9.76350183677565, 15.1433761065689),\n",
       " (u'length', 17.6772991659616, 14.868708295108),\n",
       " (u'whole_weight', 26.1254866470659, 13.7003036328656),\n",
       " (u'viscera_weight', 4.56396736588362, 13.515932004052),\n",
       " (u'diameter', 4.29568815161125, 11.8332477634273),\n",
       " (u'height', 0.0, 9.76581701204471),\n",
       " (u'sex_f', 2.45848759457667, 2.57864936636817),\n",
       " (u'sex_m', 2.34788786044874, 2.29636778719341)]"
      ]
     },
     "execution_count": 34,
     "metadata": {},
     "output_type": "execute_result"
    }
   ],
   "source": [
    "%%sql\n",
    "DROP TABLE IF EXISTS abalone_rf_importances;\n",
    "SELECT madlib.get_var_importance(\n",
    "    'abalone_rf_model',  -- model_table\n",
    "    'abalone_rf_importances'  -- output_table\n",
    ")\n",
    ";\n",
    "SELECT *\n",
    "FROM abalone_rf_importances\n",
    "ORDER BY impurity_var_importance DESC\n",
    ";"
   ]
  },
  {
   "cell_type": "markdown",
   "metadata": {},
   "source": [
    "## Look at some of the predictions"
   ]
  },
  {
   "cell_type": "code",
   "execution_count": 35,
   "metadata": {},
   "outputs": [
    {
     "name": "stdout",
     "output_type": "stream",
     "text": [
      "Done.\n",
      "1 rows affected.\n"
     ]
    },
    {
     "data": {
      "text/html": [
       "<table>\n",
       "    <tr>\n",
       "        <th>forest_predict</th>\n",
       "    </tr>\n",
       "    <tr>\n",
       "        <td></td>\n",
       "    </tr>\n",
       "</table>"
      ],
      "text/plain": [
       "[('',)]"
      ]
     },
     "execution_count": 35,
     "metadata": {},
     "output_type": "execute_result"
    }
   ],
   "source": [
    "%%sql\n",
    "DROP TABLE IF EXISTS abalone_rf_test_proba;\n",
    "SELECT\n",
    "madlib.forest_predict(\n",
    "    'abalone_rf_model',  -- random_forest_model\n",
    "    'abalone_classif_test',  -- new_data_table\n",
    "    'abalone_rf_test_proba',  -- output_table\n",
    "    'prob'  -- type\n",
    ")\n",
    ";"
   ]
  },
  {
   "cell_type": "code",
   "execution_count": 36,
   "metadata": {},
   "outputs": [
    {
     "name": "stdout",
     "output_type": "stream",
     "text": [
      "5 rows affected.\n"
     ]
    },
    {
     "data": {
      "text/html": [
       "<table>\n",
       "    <tr>\n",
       "        <th>id</th>\n",
       "        <th>estimated_prob_0</th>\n",
       "        <th>estimated_prob_1</th>\n",
       "    </tr>\n",
       "    <tr>\n",
       "        <td>23</td>\n",
       "        <td>0.1</td>\n",
       "        <td>0.9</td>\n",
       "    </tr>\n",
       "    <tr>\n",
       "        <td>29</td>\n",
       "        <td>0.2</td>\n",
       "        <td>0.8</td>\n",
       "    </tr>\n",
       "    <tr>\n",
       "        <td>31</td>\n",
       "        <td>0.0</td>\n",
       "        <td>1.0</td>\n",
       "    </tr>\n",
       "    <tr>\n",
       "        <td>41</td>\n",
       "        <td>0.0</td>\n",
       "        <td>1.0</td>\n",
       "    </tr>\n",
       "    <tr>\n",
       "        <td>43</td>\n",
       "        <td>1.0</td>\n",
       "        <td>0.0</td>\n",
       "    </tr>\n",
       "</table>"
      ],
      "text/plain": [
       "[(23, 0.1, 0.9),\n",
       " (29, 0.2, 0.8),\n",
       " (31, 0.0, 1.0),\n",
       " (41, 0.0, 1.0),\n",
       " (43, 1.0, 0.0)]"
      ]
     },
     "execution_count": 36,
     "metadata": {},
     "output_type": "execute_result"
    }
   ],
   "source": [
    "%%sql\n",
    "SELECT * \n",
    "FROM abalone_rf_test_proba\n",
    "LIMIT 5"
   ]
  },
  {
   "cell_type": "code",
   "execution_count": 37,
   "metadata": {},
   "outputs": [
    {
     "name": "stdout",
     "output_type": "stream",
     "text": [
      "Done.\n",
      "1253 rows affected.\n"
     ]
    },
    {
     "data": {
      "text/plain": [
       "[]"
      ]
     },
     "execution_count": 37,
     "metadata": {},
     "output_type": "execute_result"
    }
   ],
   "source": [
    "%%sql\n",
    "DROP TABLE IF EXISTS abalone_rf_test_predict_actual;\n",
    "CREATE TABLE abalone_rf_test_predict_actual\n",
    "AS\n",
    "SELECT \n",
    "    test.id,\n",
    "    prob.estimated_prob_1,\n",
    "    prob.estimated_prob_1 >= 0.5 as predicted_class,\n",
    "    test.mature as actual_class\n",
    "FROM \n",
    "    abalone_rf_test_proba prob\n",
    "INNER JOIN\n",
    "    abalone_classif_test test\n",
    "ON\n",
    "    prob.id = test.id"
   ]
  },
  {
   "cell_type": "code",
   "execution_count": 38,
   "metadata": {},
   "outputs": [
    {
     "name": "stdout",
     "output_type": "stream",
     "text": [
      "Done.\n",
      "1 rows affected.\n",
      "11 rows affected.\n"
     ]
    },
    {
     "data": {
      "text/html": [
       "<table>\n",
       "    <tr>\n",
       "        <th>threshold</th>\n",
       "        <th>tp</th>\n",
       "        <th>fp</th>\n",
       "        <th>fn</th>\n",
       "        <th>tn</th>\n",
       "        <th>tpr</th>\n",
       "        <th>tnr</th>\n",
       "        <th>ppv</th>\n",
       "        <th>npv</th>\n",
       "        <th>fpr</th>\n",
       "        <th>fdr</th>\n",
       "        <th>fnr</th>\n",
       "        <th>acc</th>\n",
       "        <th>f1</th>\n",
       "    </tr>\n",
       "    <tr>\n",
       "        <td>0.0</td>\n",
       "        <td>833</td>\n",
       "        <td>420</td>\n",
       "        <td>0</td>\n",
       "        <td>0</td>\n",
       "        <td>1.0</td>\n",
       "        <td>0.0</td>\n",
       "        <td>0.664804469274</td>\n",
       "        <td>None</td>\n",
       "        <td>1.0</td>\n",
       "        <td>0.335195530726</td>\n",
       "        <td>0.0</td>\n",
       "        <td>0.664804469274</td>\n",
       "        <td>0.79865771812080536913</td>\n",
       "    </tr>\n",
       "    <tr>\n",
       "        <td>0.1</td>\n",
       "        <td>824</td>\n",
       "        <td>232</td>\n",
       "        <td>9</td>\n",
       "        <td>188</td>\n",
       "        <td>0.989195678271</td>\n",
       "        <td>0.447619047619</td>\n",
       "        <td>0.780303030303</td>\n",
       "        <td>0.954314720812</td>\n",
       "        <td>0.552380952381</td>\n",
       "        <td>0.219696969697</td>\n",
       "        <td>0.0108043217287</td>\n",
       "        <td>0.807661612131</td>\n",
       "        <td>0.87241926945473795659</td>\n",
       "    </tr>\n",
       "    <tr>\n",
       "        <td>0.2</td>\n",
       "        <td>815</td>\n",
       "        <td>187</td>\n",
       "        <td>18</td>\n",
       "        <td>233</td>\n",
       "        <td>0.978391356543</td>\n",
       "        <td>0.554761904762</td>\n",
       "        <td>0.813373253493</td>\n",
       "        <td>0.92828685259</td>\n",
       "        <td>0.445238095238</td>\n",
       "        <td>0.186626746507</td>\n",
       "        <td>0.0216086434574</td>\n",
       "        <td>0.836392657622</td>\n",
       "        <td>0.88828337874659400545</td>\n",
       "    </tr>\n",
       "    <tr>\n",
       "        <td>0.3</td>\n",
       "        <td>803</td>\n",
       "        <td>167</td>\n",
       "        <td>30</td>\n",
       "        <td>253</td>\n",
       "        <td>0.963985594238</td>\n",
       "        <td>0.602380952381</td>\n",
       "        <td>0.827835051546</td>\n",
       "        <td>0.893992932862</td>\n",
       "        <td>0.397619047619</td>\n",
       "        <td>0.172164948454</td>\n",
       "        <td>0.0360144057623</td>\n",
       "        <td>0.842777334397</td>\n",
       "        <td>0.89073765945646145313</td>\n",
       "    </tr>\n",
       "    <tr>\n",
       "        <td>0.4</td>\n",
       "        <td>788</td>\n",
       "        <td>148</td>\n",
       "        <td>45</td>\n",
       "        <td>272</td>\n",
       "        <td>0.945978391357</td>\n",
       "        <td>0.647619047619</td>\n",
       "        <td>0.84188034188</td>\n",
       "        <td>0.858044164038</td>\n",
       "        <td>0.352380952381</td>\n",
       "        <td>0.15811965812</td>\n",
       "        <td>0.0540216086435</td>\n",
       "        <td>0.845969672785</td>\n",
       "        <td>0.89089881288863764839</td>\n",
       "    </tr>\n",
       "    <tr>\n",
       "        <td>0.5</td>\n",
       "        <td>774</td>\n",
       "        <td>126</td>\n",
       "        <td>59</td>\n",
       "        <td>294</td>\n",
       "        <td>0.929171668667</td>\n",
       "        <td>0.7</td>\n",
       "        <td>0.86</td>\n",
       "        <td>0.832861189802</td>\n",
       "        <td>0.3</td>\n",
       "        <td>0.14</td>\n",
       "        <td>0.0708283313325</td>\n",
       "        <td>0.852354349561</td>\n",
       "        <td>0.89324870167339873053</td>\n",
       "    </tr>\n",
       "    <tr>\n",
       "        <td>0.6</td>\n",
       "        <td>743</td>\n",
       "        <td>103</td>\n",
       "        <td>90</td>\n",
       "        <td>317</td>\n",
       "        <td>0.891956782713</td>\n",
       "        <td>0.754761904762</td>\n",
       "        <td>0.878250591017</td>\n",
       "        <td>0.77886977887</td>\n",
       "        <td>0.245238095238</td>\n",
       "        <td>0.121749408983</td>\n",
       "        <td>0.108043217287</td>\n",
       "        <td>0.845969672785</td>\n",
       "        <td>0.88505062537224538416</td>\n",
       "    </tr>\n",
       "    <tr>\n",
       "        <td>0.7</td>\n",
       "        <td>708</td>\n",
       "        <td>86</td>\n",
       "        <td>125</td>\n",
       "        <td>334</td>\n",
       "        <td>0.84993997599</td>\n",
       "        <td>0.795238095238</td>\n",
       "        <td>0.891687657431</td>\n",
       "        <td>0.727668845316</td>\n",
       "        <td>0.204761904762</td>\n",
       "        <td>0.108312342569</td>\n",
       "        <td>0.15006002401</td>\n",
       "        <td>0.83160415004</td>\n",
       "        <td>0.87031346035648432698</td>\n",
       "    </tr>\n",
       "    <tr>\n",
       "        <td>0.8</td>\n",
       "        <td>671</td>\n",
       "        <td>73</td>\n",
       "        <td>162</td>\n",
       "        <td>347</td>\n",
       "        <td>0.805522208884</td>\n",
       "        <td>0.82619047619</td>\n",
       "        <td>0.90188172043</td>\n",
       "        <td>0.681728880157</td>\n",
       "        <td>0.17380952381</td>\n",
       "        <td>0.0981182795699</td>\n",
       "        <td>0.194477791116</td>\n",
       "        <td>0.812450119713</td>\n",
       "        <td>0.85098287888395688015</td>\n",
       "    </tr>\n",
       "    <tr>\n",
       "        <td>0.9</td>\n",
       "        <td>620</td>\n",
       "        <td>62</td>\n",
       "        <td>213</td>\n",
       "        <td>358</td>\n",
       "        <td>0.744297719088</td>\n",
       "        <td>0.852380952381</td>\n",
       "        <td>0.909090909091</td>\n",
       "        <td>0.626970227671</td>\n",
       "        <td>0.147619047619</td>\n",
       "        <td>0.0909090909091</td>\n",
       "        <td>0.255702280912</td>\n",
       "        <td>0.780526735834</td>\n",
       "        <td>0.81848184818481848185</td>\n",
       "    </tr>\n",
       "    <tr>\n",
       "        <td>1.0</td>\n",
       "        <td>522</td>\n",
       "        <td>38</td>\n",
       "        <td>311</td>\n",
       "        <td>382</td>\n",
       "        <td>0.626650660264</td>\n",
       "        <td>0.909523809524</td>\n",
       "        <td>0.932142857143</td>\n",
       "        <td>0.551226551227</td>\n",
       "        <td>0.0904761904762</td>\n",
       "        <td>0.0678571428571</td>\n",
       "        <td>0.373349339736</td>\n",
       "        <td>0.721468475658</td>\n",
       "        <td>0.74946159368269921034</td>\n",
       "    </tr>\n",
       "</table>"
      ],
      "text/plain": [
       "[(0.0, Decimal('833'), Decimal('420'), Decimal('0'), Decimal('0'), 1.0, 0.0, 0.664804469273743, None, 1.0, 0.335195530726257, 0.0, 0.664804469273743, Decimal('0.79865771812080536913')),\n",
       " (0.1, Decimal('824'), Decimal('232'), Decimal('9'), Decimal('188'), 0.989195678271308, 0.447619047619048, 0.78030303030303, 0.954314720812183, 0.552380952380952, 0.21969696969697, 0.0108043217286915, 0.807661612130886, Decimal('0.87241926945473795659')),\n",
       " (0.2, Decimal('815'), Decimal('187'), Decimal('18'), Decimal('233'), 0.978391356542617, 0.554761904761905, 0.813373253493014, 0.928286852589641, 0.445238095238095, 0.186626746506986, 0.021608643457383, 0.836392657621708, Decimal('0.88828337874659400545')),\n",
       " (0.3, Decimal('803'), Decimal('167'), Decimal('30'), Decimal('253'), 0.963985594237695, 0.602380952380952, 0.827835051546392, 0.893992932862191, 0.397619047619048, 0.172164948453608, 0.0360144057623049, 0.842777334397446, Decimal('0.89073765945646145313')),\n",
       " (0.4, Decimal('788'), Decimal('148'), Decimal('45'), Decimal('272'), 0.945978391356543, 0.647619047619048, 0.841880341880342, 0.858044164037855, 0.352380952380952, 0.158119658119658, 0.0540216086434574, 0.845969672785315, Decimal('0.89089881288863764839')),\n",
       " (0.5, Decimal('774'), Decimal('126'), Decimal('59'), Decimal('294'), 0.929171668667467, 0.7, 0.86, 0.8328611898017, 0.3, 0.14, 0.070828331332533, 0.852354349561053, Decimal('0.89324870167339873053')),\n",
       " (0.6, Decimal('743'), Decimal('103'), Decimal('90'), Decimal('317'), 0.891956782713085, 0.754761904761905, 0.878250591016548, 0.778869778869779, 0.245238095238095, 0.121749408983452, 0.108043217286915, 0.845969672785315, Decimal('0.88505062537224538416')),\n",
       " (0.7, Decimal('708'), Decimal('86'), Decimal('125'), Decimal('334'), 0.849939975990396, 0.795238095238095, 0.891687657430731, 0.727668845315904, 0.204761904761905, 0.10831234256927, 0.150060024009604, 0.831604150039904, Decimal('0.87031346035648432698')),\n",
       " (0.8, Decimal('671'), Decimal('73'), Decimal('162'), Decimal('347'), 0.805522208883553, 0.826190476190476, 0.901881720430108, 0.681728880157171, 0.173809523809524, 0.0981182795698925, 0.194477791116447, 0.81245011971269, Decimal('0.85098287888395688015')),\n",
       " (0.9, Decimal('620'), Decimal('62'), Decimal('213'), Decimal('358'), 0.744297719087635, 0.852380952380952, 0.909090909090909, 0.626970227670753, 0.147619047619048, 0.0909090909090909, 0.255702280912365, 0.780526735833998, Decimal('0.81848184818481848185')),\n",
       " (1.0, Decimal('522'), Decimal('38'), Decimal('311'), Decimal('382'), 0.626650660264106, 0.90952380952381, 0.932142857142857, 0.551226551226551, 0.0904761904761905, 0.0678571428571429, 0.373349339735894, 0.72146847565842, Decimal('0.74946159368269921034'))]"
      ]
     },
     "execution_count": 38,
     "metadata": {},
     "output_type": "execute_result"
    }
   ],
   "source": [
    "%%sql\n",
    "DROP TABLE IF EXISTS abalone_rf_test_binary_metrics;\n",
    "SELECT\n",
    "madlib.binary_classifier(\n",
    "    'abalone_rf_test_predict_actual', -- table_in\n",
    "    'abalone_rf_test_binary_metrics', -- table_out\n",
    "    'estimated_prob_1',  --prediction_col\n",
    "    'actual_class' --observation_col\n",
    ")\n",
    ";\n",
    "SELECT * \n",
    "FROM abalone_rf_test_binary_metrics\n",
    "ORDER BY threshold\n",
    "LIMIT 15\n",
    ";"
   ]
  },
  {
   "cell_type": "code",
   "execution_count": 39,
   "metadata": {},
   "outputs": [
    {
     "name": "stdout",
     "output_type": "stream",
     "text": [
      "11 rows affected.\n"
     ]
    }
   ],
   "source": [
    "#collect the false positive and true positive rates\n",
    "rf_metrics = %sql SELECT fpr, tpr FROM abalone_rf_test_binary_metrics ORDER BY threshold;\n",
    "rf_metrics = rf_metrics.DataFrame();"
   ]
  },
  {
   "cell_type": "code",
   "execution_count": 40,
   "metadata": {},
   "outputs": [
    {
     "data": {
      "text/plain": [
       "<matplotlib.axes._subplots.AxesSubplot at 0x1301fa2d0>"
      ]
     },
     "execution_count": 40,
     "metadata": {},
     "output_type": "execute_result"
    },
    {
     "data": {
      "image/png": "[encoded data removed]",
      "text/plain": [
       "<Figure size 432x288 with 1 Axes>"
      ]
     },
     "metadata": {
      "needs_background": "light"
     },
     "output_type": "display_data"
    }
   ],
   "source": [
    "rf_metrics.plot('fpr', 'tpr',xlim=(0.,1.), ylim=(0.,1.))"
   ]
  },
  {
   "cell_type": "code",
   "execution_count": 41,
   "metadata": {},
   "outputs": [
    {
     "name": "stdout",
     "output_type": "stream",
     "text": [
      "Done.\n",
      "1 rows affected.\n",
      "1 rows affected.\n"
     ]
    },
    {
     "data": {
      "text/html": [
       "<table>\n",
       "    <tr>\n",
       "        <th>area_under_roc</th>\n",
       "    </tr>\n",
       "    <tr>\n",
       "        <td>0.88771794432058537700812739381466872463270</td>\n",
       "    </tr>\n",
       "</table>"
      ],
      "text/plain": [
       "[(Decimal('0.88771794432058537700812739381466872463270'),)]"
      ]
     },
     "execution_count": 41,
     "metadata": {},
     "output_type": "execute_result"
    }
   ],
   "source": [
    "%%sql\n",
    "DROP TABLE IF EXISTS abalone_rf_test_auc CASCADE;\n",
    "SELECT\n",
    "madlib.area_under_roc(\n",
    "    'abalone_rf_test_predict_actual', -- table_in\n",
    "    'abalone_rf_test_auc', -- table_out\n",
    "    'estimated_prob_1',  --prediction_col\n",
    "    'actual_class' --observation_col\n",
    ") as result\n",
    ";\n",
    "\n",
    "SELECT * FROM abalone_rf_test_auc ;   -- look at the AUC for the random forest model"
   ]
  },
  {
   "cell_type": "markdown",
   "metadata": {},
   "source": [
    "<a id=\"regression\"></a>\n",
    "# 6. Regression\n",
    "\n",
    "Before our target variable was a binary one that we constructed to represent maturity. An abalone was either mature or not mature. Now let's predict its age instead of the binary target. "
   ]
  },
  {
   "cell_type": "markdown",
   "metadata": {},
   "source": [
    "<a id=\"linear\"></a>\n",
    "## 6a. Linear Regression"
   ]
  },
  {
   "cell_type": "code",
   "execution_count": 42,
   "metadata": {},
   "outputs": [
    {
     "name": "stdout",
     "output_type": "stream",
     "text": [
      "2 rows affected.\n"
     ]
    },
    {
     "data": {
      "text/html": [
       "<table>\n",
       "    <tr>\n",
       "        <th>id</th>\n",
       "        <th>length</th>\n",
       "        <th>diameter</th>\n",
       "        <th>height</th>\n",
       "        <th>whole_weight</th>\n",
       "        <th>shucked_weight</th>\n",
       "        <th>viscera_weight</th>\n",
       "        <th>shell_weight</th>\n",
       "        <th>sex_f</th>\n",
       "        <th>sex_i</th>\n",
       "        <th>sex_m</th>\n",
       "        <th>rings</th>\n",
       "        <th>age</th>\n",
       "        <th>mature</th>\n",
       "    </tr>\n",
       "    <tr>\n",
       "        <td>1</td>\n",
       "        <td>0.35</td>\n",
       "        <td>0.265</td>\n",
       "        <td>0.09</td>\n",
       "        <td>0.2255</td>\n",
       "        <td>0.0995</td>\n",
       "        <td>0.0485</td>\n",
       "        <td>0.07</td>\n",
       "        <td>0</td>\n",
       "        <td>0</td>\n",
       "        <td>1</td>\n",
       "        <td>7</td>\n",
       "        <td>8.5</td>\n",
       "        <td>0</td>\n",
       "    </tr>\n",
       "    <tr>\n",
       "        <td>9</td>\n",
       "        <td>0.55</td>\n",
       "        <td>0.44</td>\n",
       "        <td>0.15</td>\n",
       "        <td>0.8945</td>\n",
       "        <td>0.3145</td>\n",
       "        <td>0.151</td>\n",
       "        <td>0.32</td>\n",
       "        <td>1</td>\n",
       "        <td>0</td>\n",
       "        <td>0</td>\n",
       "        <td>19</td>\n",
       "        <td>20.5</td>\n",
       "        <td>1</td>\n",
       "    </tr>\n",
       "</table>"
      ],
      "text/plain": [
       "[(1, 0.35, 0.265, 0.09, 0.2255, 0.0995, 0.0485, 0.07, 0, 0, 1, 7, Decimal('8.5'), 0),\n",
       " (9, 0.55, 0.44, 0.15, 0.8945, 0.3145, 0.151, 0.32, 1, 0, 0, 19, Decimal('20.5'), 1)]"
      ]
     },
     "execution_count": 42,
     "metadata": {},
     "output_type": "execute_result"
    }
   ],
   "source": [
    "%%sql\n",
    "SELECT * \n",
    "FROM abalone_classif_train\n",
    "LIMIT 2"
   ]
  },
  {
   "cell_type": "code",
   "execution_count": 43,
   "metadata": {},
   "outputs": [
    {
     "name": "stdout",
     "output_type": "stream",
     "text": [
      "Done.\n",
      "Done.\n",
      "1 rows affected.\n",
      "1 rows affected.\n"
     ]
    },
    {
     "data": {
      "text/html": [
       "<table>\n",
       "    <tr>\n",
       "        <th>coef</th>\n",
       "        <th>r2</th>\n",
       "        <th>std_err</th>\n",
       "        <th>t_stats</th>\n",
       "        <th>p_values</th>\n",
       "        <th>condition_no</th>\n",
       "        <th>bp_stats</th>\n",
       "        <th>bp_p_value</th>\n",
       "        <th>num_rows_processed</th>\n",
       "        <th>num_missing_rows_skipped</th>\n",
       "        <th>variance_covariance</th>\n",
       "    </tr>\n",
       "    <tr>\n",
       "        <td>[4.78001107425899, 0.502632530640166, 9.56623945680273, 8.6867172656961, 8.08222429650611, -18.9709573237621, -9.89323484623683, 11.0483178044498, 0.702207392576985, 0.881504638068685]</td>\n",
       "        <td>0.52838071503</td>\n",
       "        <td>[0.319489142858121, 2.13034189218557, 2.64118371150276, 1.67823690571578, 0.949127060937993, 1.03907317256595, 1.63145270576232, 1.46554583125568, 0.124707524928533, 0.116273712202733]</td>\n",
       "        <td>[14.9614194444839, 0.235939842559498, 3.62195155722803, 5.17609715059339, 8.515429207675, -18.25757590961, -6.06406475118386, 7.53870508094826, 5.63083416962532, 7.58128919571872]</td>\n",
       "        <td>[8.13792388121229e-49, 0.813495930678147, 0.000297376513645629, 2.41966221228076e-07, 2.61861499396411e-17, 1.34367019711807e-70, 1.49832531273165e-09, 6.3001309468846e-14, 1.96419916780278e-08, 4.56987046969572e-14]</td>\n",
       "        <td>135.34256997</td>\n",
       "        <td>303.554381117</td>\n",
       "        <td>4.59881731622e-60</td>\n",
       "        <td>2924</td>\n",
       "        <td>0</td>\n",
       "        <td>[[0.102073312404217, -0.254730353802372, -0.0186476294969064, -0.0819636818867876, 0.0120157502893092, 0.0338669967167632, 0.0623674948371105, 0.0750965822754797, 0.00223404449793067, 0.000330308284521224], [-0.254730353802373, 4.53835657760078, -5.02825271838706, -0.079448851509241, 0.00741432715872269, -0.147499069162447, -0.312337198169321, 0.125612098690156, 0.0168992822119339, 0.0177281051627722], [-0.0186476294969065, -5.02825271838706, 6.97585139790748, -0.455907685666052, -0.0229582192883493, 0.011408098837371, 0.160646521301065, -0.493908387428007, -0.037880986916865, -0.0331870272127295], [-0.0819636818867876, -0.079448851509241, -0.455907685666053, 2.81647911170647, -0.0149138494467104, 0.0307622200437893, -0.10765293227885, -0.230514480469046, -0.0129073941043423, -0.0106022989163269], [0.0120157502893092, 0.00741432715872263, -0.0229582192883491, -0.0149138494467104, 0.900842177804793, -0.836211844768758, -0.980950477837948, -1.12984082296553, -0.00558559656148617, -0.00338524575819189], [0.0338669967167632, -0.147499069162447, 0.011408098837371, 0.0307622200437893, -0.836211844768758, 1.07967305794627, 0.521910268424701, 1.00300319893508, 0.0115548283053944, 0.0039107766342446], [0.0623674948371105, -0.312337198169321, 0.160646521301065, -0.10765293227885, -0.980950477837948, 0.521910268424701, 2.6616379311392, 0.848427658525154, -0.0128400314168786, -0.00922058879101367], [0.0750965822754798, 0.125612098690156, -0.493908387428007, -0.230514480469046, -1.12984082296553, 1.00300319893508, 0.848427658525154, 2.14782458351091, 0.00258205547807481, 0.00220542671246704], [0.00223404449793067, 0.0168992822119339, -0.0378809869168649, -0.0129073941043423, -0.00558559656148617, 0.0115548283053944, -0.0128400314168786, 0.0025820554780748, 0.0155519667738007, 0.00943940624896891], [0.000330308284521222, 0.0177281051627722, -0.0331870272127295, -0.0106022989163269, -0.00338524575819189, 0.0039107766342446, -0.00922058879101367, 0.00220542671246703, 0.00943940624896891, 0.0135195761494039]]</td>\n",
       "    </tr>\n",
       "</table>"
      ],
      "text/plain": [
       "[([4.78001107425899, 0.502632530640166, 9.56623945680273, 8.6867172656961, 8.08222429650611, -18.9709573237621, -9.89323484623683, 11.0483178044498, 0.702207392576985, 0.881504638068685], 0.528380715029567, [0.319489142858121, 2.13034189218557, 2.64118371150276, 1.67823690571578, 0.949127060937993, 1.03907317256595, 1.63145270576232, 1.46554583125568, 0.124707524928533, 0.116273712202733], [14.9614194444839, 0.235939842559498, 3.62195155722803, 5.17609715059339, 8.515429207675, -18.25757590961, -6.06406475118386, 7.53870508094826, 5.63083416962532, 7.58128919571872], [8.13792388121229e-49, 0.813495930678147, 0.000297376513645629, 2.41966221228076e-07, 2.61861499396411e-17, 1.34367019711807e-70, 1.49832531273165e-09, 6.3001309468846e-14, 1.96419916780278e-08, 4.56987046969572e-14], 135.342569969603, 303.554381117138, 4.59881731621886e-60, 2924L, 0L, [[0.102073312404217, -0.254730353802372, -0.0186476294969064, -0.0819636818867876, 0.0120157502893092, 0.0338669967167632, 0.0623674948371105, 0.07509 ... (1727 characters truncated) ... 5, -0.0106022989163269, -0.00338524575819189, 0.0039107766342446, -0.00922058879101367, 0.00220542671246703, 0.00943940624896891, 0.0135195761494039]])]"
      ]
     },
     "execution_count": 43,
     "metadata": {},
     "output_type": "execute_result"
    }
   ],
   "source": [
    "%%sql\n",
    "DROP TABLE IF EXISTS abalone_linreg_model;\n",
    "DROP TABLE IF EXISTS abalone_linreg_model_summary;\n",
    "SELECT madlib.linregr_train(\n",
    "    'abalone_classif_train',  -- source_table\n",
    "    'abalone_linreg_model',  -- out_table\n",
    "    'age',  -- dependent_varname\n",
    "    'ARRAY[\n",
    "        1,\n",
    "        length,\n",
    "        diameter,\n",
    "        height,\n",
    "        whole_weight,\n",
    "        shucked_weight,\n",
    "        viscera_weight,\n",
    "        shell_weight,\n",
    "        sex_f,\n",
    "        sex_m\n",
    "    ]',  -- independent_varname\n",
    "    NULL,  -- grouping_cols\n",
    "    TRUE  -- heteroskedasticity_option\n",
    ")\n",
    ";\n",
    "SELECT * FROM abalone_linreg_model\n",
    "LIMIT 10\n",
    ";"
   ]
  },
  {
   "cell_type": "markdown",
   "metadata": {},
   "source": [
    "### Look at the predictions from the Linear Regression Model"
   ]
  },
  {
   "cell_type": "code",
   "execution_count": 44,
   "metadata": {},
   "outputs": [
    {
     "name": "stdout",
     "output_type": "stream",
     "text": [
      "Done.\n",
      "1253 rows affected.\n",
      "5 rows affected.\n"
     ]
    },
    {
     "data": {
      "text/html": [
       "<table>\n",
       "    <tr>\n",
       "        <th>id</th>\n",
       "        <th>predicted_age</th>\n",
       "        <th>actual_age</th>\n",
       "    </tr>\n",
       "    <tr>\n",
       "        <td>1085</td>\n",
       "        <td>9.87455567544</td>\n",
       "        <td>8.5</td>\n",
       "    </tr>\n",
       "    <tr>\n",
       "        <td>3750</td>\n",
       "        <td>10.5247566041</td>\n",
       "        <td>9.5</td>\n",
       "    </tr>\n",
       "    <tr>\n",
       "        <td>1068</td>\n",
       "        <td>8.52865638354</td>\n",
       "        <td>7.5</td>\n",
       "    </tr>\n",
       "    <tr>\n",
       "        <td>1814</td>\n",
       "        <td>13.2506317337</td>\n",
       "        <td>11.5</td>\n",
       "    </tr>\n",
       "    <tr>\n",
       "        <td>2814</td>\n",
       "        <td>7.41546006143</td>\n",
       "        <td>5.5</td>\n",
       "    </tr>\n",
       "</table>"
      ],
      "text/plain": [
       "[(1085, 9.87455567543869, Decimal('8.5')),\n",
       " (3750, 10.524756604105, Decimal('9.5')),\n",
       " (1068, 8.52865638353708, Decimal('7.5')),\n",
       " (1814, 13.2506317337153, Decimal('11.5')),\n",
       " (2814, 7.41546006142744, Decimal('5.5'))]"
      ]
     },
     "execution_count": 44,
     "metadata": {},
     "output_type": "execute_result"
    }
   ],
   "source": [
    "%%sql\n",
    "DROP TABLE IF EXISTS abalone_linreg_test_predict;\n",
    "CREATE TABLE abalone_linreg_test_predict\n",
    "AS\n",
    "SELECT \n",
    "    test.id,\n",
    "    madlib.linregr_predict(\n",
    "        coef, \n",
    "        ARRAY[\n",
    "            1,\n",
    "            length,\n",
    "            diameter,\n",
    "            height,\n",
    "            whole_weight,\n",
    "            shucked_weight,\n",
    "            viscera_weight,\n",
    "            shell_weight,\n",
    "            sex_f,\n",
    "            sex_m\n",
    "        ] \n",
    "    ) as predicted_age,\n",
    "    test.age as actual_age\n",
    "FROM abalone_classif_test test, abalone_linreg_model model\n",
    ";\n",
    "SELECT * FROM abalone_linreg_test_predict\n",
    "LIMIT 5\n",
    ";"
   ]
  },
  {
   "cell_type": "code",
   "execution_count": 45,
   "metadata": {},
   "outputs": [
    {
     "name": "stdout",
     "output_type": "stream",
     "text": [
      "Done.\n",
      "1 rows affected.\n",
      "1 rows affected.\n"
     ]
    },
    {
     "data": {
      "text/html": [
       "<table>\n",
       "    <tr>\n",
       "        <th>mean_squared_error</th>\n",
       "    </tr>\n",
       "    <tr>\n",
       "        <td>4.51377283588</td>\n",
       "    </tr>\n",
       "</table>"
      ],
      "text/plain": [
       "[(4.51377283588158,)]"
      ]
     },
     "execution_count": 45,
     "metadata": {},
     "output_type": "execute_result"
    }
   ],
   "source": [
    "%%sql\n",
    "drop table if exists abalone_linreg_test_predict_mse;\n",
    "SELECT madlib.mean_squared_error(\n",
    "    'abalone_linreg_test_predict',  -- table_in\n",
    "    'abalone_linreg_test_predict_mse',  -- table_out\n",
    "    'predicted_age',  -- prediction_col\n",
    "    'actual_age'  -- observed_col\n",
    ") as result\n",
    ";\n",
    "SELECT * FROM abalone_linreg_test_predict_mse;"
   ]
  },
  {
   "cell_type": "markdown",
   "metadata": {},
   "source": [
    "<a id=\"elastic\"></a>\n",
    "## 6b. Elastic Net Regression\n",
    "\n",
    "Elastic Net Regression is linear regression with penalties assigned to the size of the coefficients. Note that   \n",
    "\n",
    "MADlib's elastic net automatically fits an intercept, so you shouldn't include an explicit intercept column of 1's in your independent variable array."
   ]
  },
  {
   "cell_type": "code",
   "execution_count": 46,
   "metadata": {},
   "outputs": [
    {
     "name": "stdout",
     "output_type": "stream",
     "text": [
      "Done.\n",
      "Done.\n",
      "1 rows affected.\n"
     ]
    },
    {
     "data": {
      "text/html": [
       "<table>\n",
       "    <tr>\n",
       "        <th>elastic_net_train</th>\n",
       "    </tr>\n",
       "    <tr>\n",
       "        <td></td>\n",
       "    </tr>\n",
       "</table>"
      ],
      "text/plain": [
       "[('',)]"
      ]
     },
     "execution_count": 46,
     "metadata": {},
     "output_type": "execute_result"
    }
   ],
   "source": [
    "%%sql\n",
    "DROP TABLE IF EXISTS abalone_elasticnet_model CASCADE;\n",
    "DROP TABLE IF EXISTS abalone_elasticnet_model_summary CASCADE;\n",
    "SELECT madlib.elastic_net_train( \n",
    "    'abalone_classif_train',  -- tbl_source\n",
    "    'abalone_elasticnet_model',  -- tbl_result\n",
    "    'age',  -- col_dep_var\n",
    "    'ARRAY[\n",
    "        length,\n",
    "        diameter,\n",
    "        height,\n",
    "        whole_weight,\n",
    "        shucked_weight,\n",
    "        viscera_weight,\n",
    "        shell_weight,\n",
    "        sex_f,\n",
    "        sex_m\n",
    "    ]',  -- col_ind_var\n",
    "    'gaussian',  -- regress_family\n",
    "    0.5,  -- alpha\n",
    "    0.5,  -- lambda_value\n",
    "    TRUE  -- standardize\n",
    "    --,  -- grouping_col\n",
    "    --,  -- optimizer\n",
    "    --,  -- optimizer_params\n",
    "    --,  -- excluded\n",
    "    --,  -- max_iter\n",
    "      -- tolerance\n",
    ")"
   ]
  },
  {
   "cell_type": "code",
   "execution_count": 47,
   "metadata": {},
   "outputs": [
    {
     "name": "stdout",
     "output_type": "stream",
     "text": [
      "1 rows affected.\n"
     ]
    },
    {
     "data": {
      "text/html": [
       "<table>\n",
       "    <tr>\n",
       "        <th>family</th>\n",
       "        <th>features</th>\n",
       "        <th>features_selected</th>\n",
       "        <th>coef_nonzero</th>\n",
       "        <th>coef_all</th>\n",
       "        <th>intercept</th>\n",
       "        <th>log_likelihood</th>\n",
       "        <th>standardize</th>\n",
       "        <th>iteration_run</th>\n",
       "    </tr>\n",
       "    <tr>\n",
       "        <td>gaussian</td>\n",
       "        <td>[u'[1]', u'[2]', u'[3]', u'[4]', u'[5]', u'[6]', u'[7]', u'[8]', u'[9]']</td>\n",
       "        <td>[u'[1]', u'[2]', u'[3]', u'[7]', u'[8]']</td>\n",
       "        <td>[1.06657240098, 3.15968096137, 7.81270695117, 6.34665852982, 0.0211153247079]</td>\n",
       "        <td>[1.06657240098, 3.15968096137, 7.81270695117, 0.0, 0.0, 0.0, 6.34665852982, 0.0211153247079, 0.0]</td>\n",
       "        <td>6.96851992069</td>\n",
       "        <td>-3.85678966284</td>\n",
       "        <td>True</td>\n",
       "        <td>193</td>\n",
       "    </tr>\n",
       "</table>"
      ],
      "text/plain": [
       "[(u'gaussian', [u'[1]', u'[2]', u'[3]', u'[4]', u'[5]', u'[6]', u'[7]', u'[8]', u'[9]'], [u'[1]', u'[2]', u'[3]', u'[7]', u'[8]'], [1.06657240098, 3.15968096137, 7.81270695117, 6.34665852982, 0.0211153247079], [1.06657240098, 3.15968096137, 7.81270695117, 0.0, 0.0, 0.0, 6.34665852982, 0.0211153247079, 0.0], 6.96851992069, -3.85678966284, True, 193)]"
      ]
     },
     "execution_count": 47,
     "metadata": {},
     "output_type": "execute_result"
    }
   ],
   "source": [
    "%%sql\n",
    "SELECT * FROM abalone_elasticnet_model"
   ]
  },
  {
   "cell_type": "code",
   "execution_count": 48,
   "metadata": {},
   "outputs": [
    {
     "name": "stdout",
     "output_type": "stream",
     "text": [
      "1 rows affected.\n"
     ]
    },
    {
     "data": {
      "text/html": [
       "<table>\n",
       "    <tr>\n",
       "        <th>method</th>\n",
       "        <th>source_table</th>\n",
       "        <th>out_table</th>\n",
       "        <th>dependent_varname</th>\n",
       "        <th>independent_varname</th>\n",
       "        <th>family</th>\n",
       "        <th>alpha</th>\n",
       "        <th>lambda_value</th>\n",
       "        <th>grouping_col</th>\n",
       "        <th>num_all_groups</th>\n",
       "        <th>num_failed_groups</th>\n",
       "    </tr>\n",
       "    <tr>\n",
       "        <td>elastic_net</td>\n",
       "        <td>abalone_classif_train</td>\n",
       "        <td>abalone_elasticnet_model</td>\n",
       "        <td>age</td>\n",
       "        <td>ARRAY[<br>        length,<br>        diameter,<br>        height,<br>        whole_weight,<br>        shucked_weight,<br>        viscera_weight,<br>        shell_weight,<br>        sex_f,<br>        sex_m<br>    ]</td>\n",
       "        <td>gaussian</td>\n",
       "        <td>0.5</td>\n",
       "        <td>0.5</td>\n",
       "        <td>NULL</td>\n",
       "        <td>1</td>\n",
       "        <td>0</td>\n",
       "    </tr>\n",
       "</table>"
      ],
      "text/plain": [
       "[(u'elastic_net', u'abalone_classif_train', u'abalone_elasticnet_model', u'age', u'ARRAY[\\n        length,\\n        diameter,\\n        height,\\n        whole_weight,\\n        shucked_weight,\\n        viscera_weight,\\n        shell_weight,\\n        sex_f,\\n        sex_m\\n    ]', u'gaussian', 0.5, 0.5, u'NULL', 1, 0)]"
      ]
     },
     "execution_count": 48,
     "metadata": {},
     "output_type": "execute_result"
    }
   ],
   "source": [
    "%%sql\n",
    "SELECT * FROM abalone_elasticnet_model_summary"
   ]
  },
  {
   "cell_type": "code",
   "execution_count": 49,
   "metadata": {},
   "outputs": [
    {
     "name": "stdout",
     "output_type": "stream",
     "text": [
      "Done.\n",
      "1253 rows affected.\n"
     ]
    },
    {
     "data": {
      "text/plain": [
       "[]"
      ]
     },
     "execution_count": 49,
     "metadata": {},
     "output_type": "execute_result"
    }
   ],
   "source": [
    "%%sql\n",
    "DROP TABLE IF EXISTS abalone_elasticnet_test_predict;\n",
    "CREATE TABLE abalone_elasticnet_test_predict\n",
    "AS\n",
    "SELECT \n",
    "    test.id,\n",
    "    madlib.elastic_net_gaussian_predict(\n",
    "        model.coef_all, \n",
    "        model.intercept,\n",
    "        ARRAY[\n",
    "            length,\n",
    "            diameter,\n",
    "            height,\n",
    "            whole_weight,\n",
    "            shucked_weight,\n",
    "            viscera_weight,\n",
    "            shell_weight,\n",
    "            sex_f,\n",
    "            sex_m\n",
    "        ] \n",
    "    ) as predicted_age,\n",
    "    test.age as actual_age\n",
    "FROM abalone_classif_test test, abalone_elasticnet_model model\n",
    ";"
   ]
  },
  {
   "cell_type": "code",
   "execution_count": 50,
   "metadata": {},
   "outputs": [
    {
     "name": "stdout",
     "output_type": "stream",
     "text": [
      "10 rows affected.\n"
     ]
    },
    {
     "data": {
      "text/html": [
       "<table>\n",
       "    <tr>\n",
       "        <th>id</th>\n",
       "        <th>predicted_age</th>\n",
       "        <th>actual_age</th>\n",
       "    </tr>\n",
       "    <tr>\n",
       "        <td>2289</td>\n",
       "        <td>12.128862953</td>\n",
       "        <td>11.5</td>\n",
       "    </tr>\n",
       "    <tr>\n",
       "        <td>2232</td>\n",
       "        <td>12.2715253353</td>\n",
       "        <td>10.5</td>\n",
       "    </tr>\n",
       "    <tr>\n",
       "        <td>3800</td>\n",
       "        <td>14.2891727426</td>\n",
       "        <td>13.5</td>\n",
       "    </tr>\n",
       "    <tr>\n",
       "        <td>18</td>\n",
       "        <td>9.54960713973</td>\n",
       "        <td>8.5</td>\n",
       "    </tr>\n",
       "    <tr>\n",
       "        <td>1376</td>\n",
       "        <td>13.0836526427</td>\n",
       "        <td>11.5</td>\n",
       "    </tr>\n",
       "    <tr>\n",
       "        <td>3910</td>\n",
       "        <td>10.6964511758</td>\n",
       "        <td>14.5</td>\n",
       "    </tr>\n",
       "    <tr>\n",
       "        <td>1602</td>\n",
       "        <td>11.5677770314</td>\n",
       "        <td>10.5</td>\n",
       "    </tr>\n",
       "    <tr>\n",
       "        <td>943</td>\n",
       "        <td>10.175562807</td>\n",
       "        <td>8.5</td>\n",
       "    </tr>\n",
       "    <tr>\n",
       "        <td>3931</td>\n",
       "        <td>12.1384885701</td>\n",
       "        <td>18.5</td>\n",
       "    </tr>\n",
       "    <tr>\n",
       "        <td>1106</td>\n",
       "        <td>10.7207980244</td>\n",
       "        <td>10.5</td>\n",
       "    </tr>\n",
       "</table>"
      ],
      "text/plain": [
       "[(2289, 12.1288629530471, Decimal('11.5')),\n",
       " (2232, 12.2715253352639, Decimal('10.5')),\n",
       " (3800, 14.2891727425518, Decimal('13.5')),\n",
       " (18, 9.54960713972745, Decimal('8.5')),\n",
       " (1376, 13.0836526426808, Decimal('11.5')),\n",
       " (3910, 10.69645117584, Decimal('14.5')),\n",
       " (1602, 11.5677770314203, Decimal('10.5')),\n",
       " (943, 10.1755628070255, Decimal('8.5')),\n",
       " (3931, 12.1384885701209, Decimal('18.5')),\n",
       " (1106, 10.7207980244316, Decimal('10.5'))]"
      ]
     },
     "execution_count": 50,
     "metadata": {},
     "output_type": "execute_result"
    }
   ],
   "source": [
    "%%sql\n",
    "SELECT * FROM abalone_elasticnet_test_predict LIMIT 10"
   ]
  },
  {
   "cell_type": "code",
   "execution_count": 51,
   "metadata": {},
   "outputs": [
    {
     "name": "stdout",
     "output_type": "stream",
     "text": [
      "Done.\n",
      "1 rows affected.\n",
      "1 rows affected.\n"
     ]
    },
    {
     "data": {
      "text/html": [
       "<table>\n",
       "    <tr>\n",
       "        <th>mean_squared_error</th>\n",
       "    </tr>\n",
       "    <tr>\n",
       "        <td>6.25024890586</td>\n",
       "    </tr>\n",
       "</table>"
      ],
      "text/plain": [
       "[(6.25024890585973,)]"
      ]
     },
     "execution_count": 51,
     "metadata": {},
     "output_type": "execute_result"
    }
   ],
   "source": [
    "%%sql\n",
    "DROP TABLE IF EXISTS abalone_elasticnet_test_predict_mse;\n",
    "SELECT madlib.mean_squared_error(\n",
    "    'abalone_elasticnet_test_predict',  -- table_in\n",
    "    'abalone_elasticnet_test_predict_mse',  -- table_out\n",
    "    'predicted_age',  -- prediction_col\n",
    "    'actual_age'  -- observed_col\n",
    ") \n",
    ";\n",
    "SELECT * FROM abalone_elasticnet_test_predict_mse\n",
    ";"
   ]
  }
 ],
 "metadata": {
  "kernelspec": {
   "display_name": "Python 2",
   "language": "python",
   "name": "python2"
  },
  "language_info": {
   "codemirror_mode": {
    "name": "ipython",
    "version": 2
   },
   "file_extension": ".py",
   "mimetype": "text/x-python",
   "name": "python",
   "nbconvert_exporter": "python",
   "pygments_lexer": "ipython2",
   "version": "2.7.16"
  },
  "toc": {
   "base_numbering": 1,
   "nav_menu": {
    "height": "235.994px",
    "width": "273.991px"
   },
   "number_sections": true,
   "sideBar": true,
   "skip_h1_title": false,
   "title_cell": "Table of Contents",
   "title_sidebar": "Contents",
   "toc_cell": false,
   "toc_position": {
    "height": "calc(100% - 180px)",
    "left": "10px",
    "top": "150px",
    "width": "208px"
   },
   "toc_section_display": true,
   "toc_window_display": true
  },
  "varInspector": {
   "cols": {
    "lenName": 16,
    "lenType": 16,
    "lenVar": 40
   },
   "kernels_config": {
    "python": {
     "delete_cmd_postfix": "",
     "delete_cmd_prefix": "del ",
     "library": "var_list.py",
     "varRefreshCmd": "print(var_dic_list())"
    },
    "r": {
     "delete_cmd_postfix": ") ",
     "delete_cmd_prefix": "rm(",
     "library": "var_list.r",
     "varRefreshCmd": "cat(var_dic_list()) "
    }
   },
   "types_to_exclude": [
    "module",
    "function",
    "builtin_function_or_method",
    "instance",
    "_Feature"
   ],
   "window_display": false
  }
 },
 "nbformat": 4,
 "nbformat_minor": 2
}
